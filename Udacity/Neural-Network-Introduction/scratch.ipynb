{
 "cells": [
  {
   "cell_type": "code",
   "execution_count": 1,
   "metadata": {},
   "outputs": [],
   "source": [
    "import numpy as np"
   ]
  },
  {
   "cell_type": "code",
   "execution_count": 2,
   "metadata": {},
   "outputs": [],
   "source": [
    "def sigmoid(x):\n",
    "    return 1 / (1 + np.exp(-x))"
   ]
  },
  {
   "cell_type": "code",
   "execution_count": 3,
   "metadata": {},
   "outputs": [],
   "source": [
    "x = np.array([.4, .6, 1])\n",
    "w1 = np.array([2, 6, -2])\n",
    "w2 = np.array([3, 5, -2.2])\n",
    "w3 = np.array([5, 4, -3])"
   ]
  },
  {
   "cell_type": "code",
   "execution_count": 4,
   "metadata": {},
   "outputs": [
    {
     "name": "stdout",
     "output_type": "stream",
     "text": [
      "0.9168273035060777\n",
      "0.8807970779778823\n",
      "0.8021838885585818\n"
     ]
    }
   ],
   "source": [
    "print(sigmoid(np.dot(w1, x)))\n",
    "print(sigmoid(np.dot(w2, x)))\n",
    "print(sigmoid(np.dot(w3, x)))"
   ]
  }
 ],
 "metadata": {
  "kernelspec": {
   "display_name": "ds-learning",
   "language": "python",
   "name": "python3"
  },
  "language_info": {
   "codemirror_mode": {
    "name": "ipython",
    "version": 3
   },
   "file_extension": ".py",
   "mimetype": "text/x-python",
   "name": "python",
   "nbconvert_exporter": "python",
   "pygments_lexer": "ipython3",
   "version": "3.11.7"
  }
 },
 "nbformat": 4,
 "nbformat_minor": 2
}
