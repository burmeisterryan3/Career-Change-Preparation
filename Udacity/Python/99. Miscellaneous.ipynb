{
 "cells": [
  {
   "cell_type": "markdown",
   "metadata": {},
   "source": [
    "# Miscellaneous Python\n",
    "\n",
    "The below topics are organized in alphabetical order."
   ]
  },
  {
   "cell_type": "markdown",
   "metadata": {},
   "source": [
    "## Arguments - `*args` and `**kwargs`\n",
    "\n",
    "In many scenarios, it is useful to pass a variable number of positional ***arg***ument***s*** (`args`) or a variable number of ***k***ey***w***ord (or named) ***arg***ument***s*** (i.e., `kwargs`).\n",
    "\n",
    "* `*` - operator that unpacks lists\n",
    "    * Example 1:\n",
    "        * `print([1, 2, 3])` -> `[1, 2, 3]`\n",
    "        * `print(*[1, 2, 3])` -> `1 2 3`\n",
    "    * Example 2:\n",
    "        * `list_one = [1, 2, 3]`\n",
    "        * `list_two = [4, 5, 6]`\n",
    "        * `merged_list = [*list_one, *list_two]`\n",
    "        * `print(merged_list)` -> `[1, 2, 3, 4, 5, 6]`\n",
    "* `**` - operator that unpacks dictionaries\n",
    "    * Example 1:\n",
    "        * `dict_one = {\"A\": 1, \"B\": 2}`\n",
    "        * `dict_two = {\"C\": 3, \"D\": 4}`\n",
    "        * `merged_dict = {**dict_one, **dict_two}`\n",
    "        * `print(merged_dict)` -> `{'A': 1, 'B': 2, 'C': 3, 'D': 4}`\n",
    "\n",
    "For an in depth introduction, see [this Real Python article](https://realpython.com/python-kwargs-and-args/)."
   ]
  },
  {
   "cell_type": "markdown",
   "metadata": {},
   "source": [
    "## Decorators\n",
    "\n",
    "Review [this Real Python article](https://realpython.com/primer-on-python-decorators/) and [corresponding code](https://github.com/realpython/materials/tree/master/primer-on-python-decorators).\n",
    "\n",
    "A few useful decorators include:\n",
    "* `@timer`\n",
    "* `@debug`\n",
    "* `@register`\n",
    "* `@count_calls`\n",
    "* `@cache`\n",
    "    * `@lru_cache`"
   ]
  },
  {
   "cell_type": "markdown",
   "metadata": {},
   "source": [
    "## Documenting Code"
   ]
  },
  {
   "cell_type": "markdown",
   "metadata": {},
   "source": [
    "### Annotations\n",
    "\n",
    "See this [Python Type Checking Guide](https://realpython.com/python-type-checking/#static-type-checking) for how to best apply Python type hinting (i.e., without enforcement)."
   ]
  },
  {
   "cell_type": "markdown",
   "metadata": {},
   "source": [
    "### Docstrings\n",
    "\n",
    "A *docstring* is a type of comment that describes how a Python module, function, class or method works.\n",
    "\n",
    "Remember, [PEP 257](https://peps.python.org/pep-0257/) defines the docstring conventions.\n",
    "\n",
    "Note the following.\n",
    "\n",
    "* Docstrings must be indented correctly, one indentation underneath the class or method being described, for the code to run.\n",
    "* You don't need to define `self` in your method docstrings as all methods require `self.`"
   ]
  },
  {
   "cell_type": "markdown",
   "metadata": {},
   "source": [
    "## Mixins"
   ]
  },
  {
   "cell_type": "markdown",
   "metadata": {},
   "source": [
    "## Notebooks\n",
    "\n",
    "### [Magic Commands](https://ipython.readthedocs.io/en/stable/interactive/magics.html)"
   ]
  },
  {
   "cell_type": "markdown",
   "metadata": {},
   "source": [
    "## PEP 8 - Style Guide for Python\n",
    "\n",
    "[PEP 8](https://peps.python.org/pep-0008/) defines the style conventions to be used in Python."
   ]
  },
  {
   "cell_type": "markdown",
   "metadata": {},
   "source": [
    "## PEP 257 - Docstring Conventions\n",
    "\n",
    "[PEP 257](https://peps.python.org/pep-0257/) defines the style conventions to be used for any Python docstring."
   ]
  },
  {
   "cell_type": "markdown",
   "metadata": {},
   "source": [
    "## Package Management"
   ]
  },
  {
   "cell_type": "markdown",
   "metadata": {},
   "source": [
    "### [Conda](https://docs.conda.io/projects/conda/en/latest/user-guide/tasks/manage-pkgs.html)\n",
    "\n",
    "As a package manager, conda makes it easy to install Python packages, especially for data science, e.g., `conda install numpy`.\n",
    "\n",
    "Useful sections from the documentation include:\n",
    "* [Preventing packages from updating (pinning)](https://docs.conda.io/projects/conda/en/latest/user-guide/tasks/manage-pkgs.html#preventing-packages-from-updating-pinning)\n",
    "* [Adding default packages to new environments automatically](https://docs.conda.io/projects/conda/en/latest/user-guide/tasks/manage-pkgs.html#adding-default-packages-to-new-environments-automatically)\n",
    "* [Removing packages](https://docs.conda.io/projects/conda/en/latest/user-guide/tasks/manage-pkgs.html#removing-packages)"
   ]
  },
  {
   "cell_type": "markdown",
   "metadata": {},
   "source": [
    "### [Pip](https://pip.pypa.io/en/stable/)\n",
    "\n",
    "Pip is a Python package manager that helps with installing and uninstalling Python packages. When you execute a command like `pip install numpy`, pip will download the package from a Python package repository called [PyPi](https://pypi.org/).\n",
    "\n",
    "To create your own package, you will need to:\n",
    "\n",
    "1. Move all the files and into your desired folder\n",
    "1. Add a setup.py, which is required in order to use `pip intall`\n",
    "1. Add \\_\\_init\\_\\_.py into each of the subdirectories \n",
    "1. To install locally, run `pip install .`\n",
    "    * This eases importing classes, e.g., `from gaussian import Gaussian` vs `from classes.gaussian import Gaussian`\n",
    "\n",
    "You can also [publish your package to PyPI](https://realpython.com/pypi-publish-python-package/). To understand how to package your files, you can use [this guide](https://packaging.python.org/en/latest/tutorials/packaging-projects/).\n",
    "\n",
    "Prior to installing packages, it is generally recommended that you use virtual environments to ensure you don't modify the global installation of Python packages while minimizing the amount of packages installed globally."
   ]
  },
  {
   "cell_type": "markdown",
   "metadata": {},
   "source": [
    "## Virtual Environments\n",
    "\n",
    "A virtual environment is a siloed Python installation apart from your main Python installation. Creating a new environment can be useful for several reasons, such as:\n",
    "\n",
    "* To avoid dependency conflicts between different projects that require different versions of the same package.\n",
    "* To ensure reproducibility and portability of your code by specifying the exact versions of the packages you used.\n",
    "* To experiment with new packages or features without affecting your main environment.\n",
    "\n",
    "Here are some guidelines as to when to create a new environment.\n",
    "\n",
    "* Create a new environment for each project or task that has different requirements or dependencies.\n",
    "* Create a new environment when you want to try a new version of Python or a package that may not be compatible with your existing environment.\n",
    "* Create a new environment when you want to share your code with others or deploy it to a different platform, and include an environment file that lists the packages and versions you used."
   ]
  },
  {
   "cell_type": "markdown",
   "metadata": {},
   "source": [
    "### [Conda](https://docs.conda.io/projects/conda/en/latest/user-guide/tasks/manage-environments.html)\n",
    "\n",
    "With conda, you can create, export, list, remove, and update environments that have different versions of Python and/or packages installed in them. Switching or moving between environments is called activating the environment. You can also share an environment file.\n",
    "\n",
    "Useful sections from the documentation include:\n",
    "\n",
    "* [Creating an environment with commands](https://docs.conda.io/projects/conda/en/latest/user-guide/tasks/manage-environments.html#creating-an-environment-with-commands)\n",
    "* [Activating an environment](https://docs.conda.io/projects/conda/en/latest/user-guide/tasks/manage-environments.html#creating-an-environment-with-commands)\n",
    "* [Deactivating an environment](https://docs.conda.io/projects/conda/en/latest/user-guide/tasks/manage-environments.html#creating-an-environment-with-commands)\n",
    "* [Viewing a list of the packages in an environment](https://docs.conda.io/projects/conda/en/latest/user-guide/tasks/manage-environments.html#creating-an-environment-with-commands)\n",
    "* [Sharing/Exporting an environment](https://docs.conda.io/projects/conda/en/latest/user-guide/tasks/manage-environments.html#creating-an-environment-with-commands)\n",
    "* [Removing an environment](https://docs.conda.io/projects/conda/en/latest/user-guide/tasks/manage-environments.html#removing-an-environment)\n",
    "\n",
    "Note, once a virtual environment is created and activated, you can use `pip` to install packages inside a conda environment. See [this article](https://www.anaconda.com/blog/understanding-conda-and-pip) for more details. One additional useful thing this allows is for the publishing of your own packages to your local device for ease of importing."
   ]
  },
  {
   "cell_type": "markdown",
   "metadata": {},
   "source": [
    "### Venv\n",
    "\n",
    "Pip can only manage Python packages whereas conda is a language agnostic package manager. To use `venv` and `pip`, you can do something like the following:\n",
    "\n",
    "1. Create the virtual environment - `python3 -m venv environmentname`\n",
    "1. Activate the virtual environment - `source environmentname/bin/activate`\n",
    "1. Install packages within the environment - `pip install numpy`"
   ]
  },
  {
   "cell_type": "markdown",
   "metadata": {},
   "source": [
    "## Performance\n",
    "\n",
    "### Timing\n",
    "\n",
    "To measure the performance of small bits of Python code, you can use the [`timeit`](https://docs.python.org/3/library/timeit.html) function.\n",
    "\n",
    "Alternatively, the decorator `@timer` can be applied to your function. This method is preferred if just looking for a general idea of the speed of your function. For more precise measurements, use `timeit`."
   ]
  }
 ],
 "metadata": {
  "language_info": {
   "name": "python"
  }
 },
 "nbformat": 4,
 "nbformat_minor": 2
}
