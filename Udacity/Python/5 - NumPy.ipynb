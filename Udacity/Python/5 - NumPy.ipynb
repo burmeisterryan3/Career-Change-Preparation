{
 "cells": [
  {
   "cell_type": "markdown",
   "metadata": {},
   "source": [
    "# Udacity - Python\n",
    "\n",
    "## NumPy\n",
    "\n",
    "[Python Docs](https://docs.python.org/3/library/index.html)\n",
    "\n",
    "[Python Reserved Words](https://docs.python.org/3/reference/lexical_analysis.html#keywords)\n",
    "\n",
    "[PEP 8 - Style Guide for Python Code](https://peps.python.org/pep-0008/)\n",
    "\n",
    "[PEP 257 - Docstring Conventions](https://peps.python.org/pep-0257/)\n",
    "\n",
    "[Conda - Managing Environments](https://conda.io/projects/conda/en/latest/user-guide/tasks/manage-environments.html)\n",
    "\n",
    "[NumPy Documentation](https://docs.scipy.org/doc/numpy-1.13.0/contents.html)\n",
    "\n",
    "[NumPy for Beginners](https://numpy.org/devdocs/user/absolute_beginners.html#numpy-the-absolute-basics-for-beginners)"
   ]
  },
  {
   "cell_type": "code",
   "execution_count": 14,
   "metadata": {},
   "outputs": [
    {
     "name": "stdout",
     "output_type": "stream",
     "text": [
      "18.57183313369751\n",
      "0.23827815055847168\n"
     ]
    }
   ],
   "source": [
    "import time\n",
    "import numpy as np\n",
    "\n",
    "x = np.random.random(100000000)\n",
    "\n",
    "# Case 1 - Average of a list of numbers without NumPy\n",
    "start = time.time()\n",
    "sum(x) / len(x)\n",
    "print(time.time() - start)\n",
    "\n",
    "# Case 2 - Average of a list of numbers with NumPy\n",
    "start = time.time()\n",
    "np.mean(x)\n",
    "print(time.time() - start)"
   ]
  },
  {
   "cell_type": "markdown",
   "metadata": {},
   "source": [
    "### Why NumPy\n",
    "\n",
    "* Speed\n",
    "    * When performing operations on large arrays, NumPy can often perform several orders of magnitude faster than Python `list`s.\n",
    "* Multidimensional Array Data Structures\n",
    "    * Can represent vectors and matrices\n",
    "    * NumPy is optimized for matrix operations and allows for efficient linear algebra operations necessary for machine learning\n",
    "* Optimized Built-in Mathematical Functions\n",
    "    * Allows for a variety of complex mathematical computations that are very fast and require little code (avoids looping)\n",
    "\n",
    "[NumPy Array - Structure for Efficient Numerical Computation](https://inria.hal.science/inria-00564007/document)"
   ]
  },
  {
   "cell_type": "markdown",
   "metadata": {},
   "source": [
    "### Creating `ndarray`s\n",
    "\n",
    "`ndarray` - n-dimensional array\n",
    "\n",
    "An `ndarray` is a multidimensional array of elements all of the same type.\n",
    "\n",
    "`np.array()` is a function that returns an `ndarray`."
   ]
  },
  {
   "cell_type": "code",
   "execution_count": 15,
   "metadata": {},
   "outputs": [
    {
     "name": "stdout",
     "output_type": "stream",
     "text": [
      "x = [1 2 3 4 5]\n",
      "ndim = 1\n",
      "shape = (5,)\n",
      "size = 5\n",
      "type(x) = <class 'numpy.ndarray'>\n",
      "type(x[0]) = int32\n"
     ]
    }
   ],
   "source": [
    "x = np.array([1, 2, 3, 4, 5])\n",
    "print(f'x = {x}')\n",
    "print(f'ndim = {x.ndim}')\n",
    "print(f'shape = {x.shape}')\n",
    "print(f'size = {x.size}')\n",
    "print(f'type(x) = {type(x)}')\n",
    "print(f'x\\'s element type = {x.dtype}')"
   ]
  },
  {
   "cell_type": "code",
   "execution_count": 16,
   "metadata": {},
   "outputs": [
    {
     "name": "stdout",
     "output_type": "stream",
     "text": [
      "Y = [[ 1  2  3]\n",
      " [ 4  5  6]\n",
      " [ 7  8  9]\n",
      " [10 11 12]]\n",
      "ndim = 2\n",
      "shape = (4, 3)\n",
      "size = 12\n",
      "type(Y) = <class 'numpy.ndarray'>\n",
      "type(Y[0]) = int32\n"
     ]
    }
   ],
   "source": [
    "Y = np.array([[1,2,3],[4,5,6],[7,8,9],[10,11,12]])\n",
    "print(f'Y = {Y}')\n",
    "print(f'ndim = {Y.ndim}')\n",
    "print(f'shape = {Y.shape}')\n",
    "print(f'size = {Y.size}')\n",
    "print(f'type(Y) = {type(Y)}')\n",
    "print(f'Y\\'s element type = {Y.dtype}')"
   ]
  },
  {
   "cell_type": "code",
   "execution_count": 21,
   "metadata": {},
   "outputs": [
    {
     "name": "stdout",
     "output_type": "stream",
     "text": [
      "z = [[[0. 0. 0. 0.]\n",
      "  [0. 0. 0. 0.]\n",
      "  [0. 0. 0. 0.]]\n",
      "\n",
      " [[0. 0. 0. 0.]\n",
      "  [0. 0. 0. 0.]\n",
      "  [0. 0. 0. 0.]]]\n",
      "ndim = 3\n",
      "shape = (2, 3, 4)\n",
      "size = 24\n",
      "type(Y) = <class 'numpy.ndarray'>\n",
      "z's element type = float64\n"
     ]
    }
   ],
   "source": [
    "z = np.zeros((2,3,4))\n",
    "print(f'z = {z}')\n",
    "print(f'ndim = {z.ndim}')\n",
    "print(f'shape = {z.shape}')\n",
    "print(f'size = {z.size}')\n",
    "print(f'type(Y) = {type(z)}')\n",
    "print(f'z\\'s element type = {z.dtype}')"
   ]
  },
  {
   "cell_type": "markdown",
   "metadata": {},
   "source": [
    "##### Upcasting\n",
    "\n",
    "All the elements of an ndarray must be of the same type, so when given a `list` of `int`s and `float`s, NumPy will *upcast* all the values to `float`s."
   ]
  },
  {
   "cell_type": "code",
   "execution_count": 18,
   "metadata": {},
   "outputs": [
    {
     "name": "stdout",
     "output_type": "stream",
     "text": [
      "x = [1.  2.5 4. ]\n",
      "x's element type = float64\n"
     ]
    }
   ],
   "source": [
    "x = np.array([1, 2.5, 4])\n",
    "print(f'x = {x}')\n",
    "print(f'x\\'s element type = {x.dtype}')"
   ]
  },
  {
   "cell_type": "code",
   "execution_count": 19,
   "metadata": {},
   "outputs": [
    {
     "name": "stdout",
     "output_type": "stream",
     "text": [
      "x = [1 2 3 4 5]\n",
      "x's element type = int64\n"
     ]
    }
   ],
   "source": [
    "x = np.array([1.5, 2.2, 3.7, 4.0, 5.9], dtype=np.int64)\n",
    "print(f'x = {x}')\n",
    "print(f'x\\'s element type = {x.dtype}')"
   ]
  },
  {
   "cell_type": "markdown",
   "metadata": {},
   "source": [
    "### NumPy Arrays to File"
   ]
  },
  {
   "cell_type": "code",
   "execution_count": 20,
   "metadata": {},
   "outputs": [
    {
     "name": "stdout",
     "output_type": "stream",
     "text": [
      "y = [1 2 3 4 5]\n",
      "type(y) = <class 'numpy.ndarray'>)\n",
      "y's element type = int32\n"
     ]
    }
   ],
   "source": [
    "x = np.array([1, 2, 3, 4, 5])\n",
    "np.save('data/my_array', x)\n",
    "\n",
    "y = np.load('data/my_array.npy')\n",
    "print(f'y = {y}')\n",
    "print(f'type(y) = {type(y)})')\n",
    "print(f'y\\'s element type = {y.dtype}')"
   ]
  },
  {
   "cell_type": "markdown",
   "metadata": {},
   "source": [
    "### Built-in Functions\n",
    "\n",
    "##### `np.zeros`"
   ]
  },
  {
   "cell_type": "code",
   "execution_count": 22,
   "metadata": {},
   "outputs": [
    {
     "name": "stdout",
     "output_type": "stream",
     "text": [
      "\n",
      "X = [[0. 0. 0. 0.]\n",
      " [0. 0. 0. 0.]\n",
      " [0. 0. 0. 0.]]\n",
      "\n",
      "X has dimensions: (3, 4)\n",
      "X is an object of type: <class 'numpy.ndarray'>\n",
      "The elements in X are of type: float64\n"
     ]
    }
   ],
   "source": [
    "X = np.zeros((3,4))\n",
    "\n",
    "print()\n",
    "print(f'X = {X}')\n",
    "print()\n",
    "\n",
    "print('X has dimensions:', X.shape)\n",
    "print('X is an object of type:', type(X))\n",
    "print('The elements in X are of type:', X.dtype)"
   ]
  },
  {
   "cell_type": "markdown",
   "metadata": {},
   "source": [
    "##### `np.ones`"
   ]
  },
  {
   "cell_type": "code",
   "execution_count": 23,
   "metadata": {},
   "outputs": [
    {
     "name": "stdout",
     "output_type": "stream",
     "text": [
      "\n",
      "X = [[1. 1.]\n",
      " [1. 1.]\n",
      " [1. 1.]]\n",
      "\n",
      "X has dimensions: (3, 2)\n",
      "X is an object of type: <class 'numpy.ndarray'>\n",
      "The elements in X are of type: float64\n"
     ]
    }
   ],
   "source": [
    "X = np.ones((3,2))\n",
    "\n",
    "print()\n",
    "print('X = \\n', X)\n",
    "print()\n",
    "\n",
    "print('X has dimensions:', X.shape)\n",
    "print('X is an object of type:', type(X))\n",
    "print('The elements in X are of type:', X.dtype)"
   ]
  },
  {
   "cell_type": "markdown",
   "metadata": {},
   "source": [
    "##### `np.full`"
   ]
  },
  {
   "cell_type": "code",
   "execution_count": 24,
   "metadata": {},
   "outputs": [
    {
     "name": "stdout",
     "output_type": "stream",
     "text": [
      "\n",
      "X = \n",
      " [[5 5 5]\n",
      " [5 5 5]]\n",
      "\n",
      "X has dimensions: (2, 3)\n",
      "X is an object of type: <class 'numpy.ndarray'>\n",
      "The elements in X are of type: int32\n"
     ]
    }
   ],
   "source": [
    "X = np.full((2,3), 5)\n",
    "\n",
    "print()\n",
    "print('X = \\n', X)\n",
    "print()\n",
    "\n",
    "print('X has dimensions:', X.shape)\n",
    "print('X is an object of type:', type(X))\n",
    "print('The elements in X are of type:', X.dtype)"
   ]
  },
  {
   "cell_type": "markdown",
   "metadata": {},
   "source": [
    "##### `np.eye`\n",
    "\n",
    "Identiy matrix is a square matrix that has only 1s on its main diagonal and zeros everywhere else."
   ]
  },
  {
   "cell_type": "code",
   "execution_count": 25,
   "metadata": {},
   "outputs": [
    {
     "name": "stdout",
     "output_type": "stream",
     "text": [
      "\n",
      "X = \n",
      " [[1. 0. 0. 0. 0.]\n",
      " [0. 1. 0. 0. 0.]\n",
      " [0. 0. 1. 0. 0.]\n",
      " [0. 0. 0. 1. 0.]\n",
      " [0. 0. 0. 0. 1.]]\n",
      "\n",
      "X has dimensions: (5, 5)\n",
      "X is an object of type: <class 'numpy.ndarray'>\n",
      "The elements in X are of type: float64\n"
     ]
    }
   ],
   "source": [
    "X = np.eye(5)\n",
    "\n",
    "print()\n",
    "print('X = \\n', X)\n",
    "print()\n",
    "\n",
    "print('X has dimensions:', X.shape)\n",
    "print('X is an object of type:', type(X))\n",
    "print('The elements in X are of type:', X.dtype)"
   ]
  },
  {
   "cell_type": "markdown",
   "metadata": {},
   "source": [
    "`np.diag`"
   ]
  },
  {
   "cell_type": "code",
   "execution_count": 26,
   "metadata": {},
   "outputs": [
    {
     "name": "stdout",
     "output_type": "stream",
     "text": [
      "\n",
      "X = \n",
      " [[10  0  0  0]\n",
      " [ 0 20  0  0]\n",
      " [ 0  0 30  0]\n",
      " [ 0  0  0 50]]\n",
      "\n",
      "X has dimensions: (4, 4)\n",
      "X is an object of type: <class 'numpy.ndarray'>\n",
      "The elements in X are of type: int32\n"
     ]
    }
   ],
   "source": [
    "X = np.diag([10,20,30,50])\n",
    "\n",
    "print()\n",
    "print('X = \\n', X)\n",
    "print()\n",
    "\n",
    "print('X has dimensions:', X.shape)\n",
    "print('X is an object of type:', type(X))\n",
    "print('The elements in X are of type:', X.dtype)"
   ]
  },
  {
   "cell_type": "markdown",
   "metadata": {},
   "source": [
    "##### `np.arange`\n",
    "\n",
    "    np.arange([start, ]stop, [step, ]dtype=None)\n",
    "\n",
    "Will create a rank 1 ndarray with consecutive integers between `start` and `stop` by `step`."
   ]
  },
  {
   "cell_type": "code",
   "execution_count": 27,
   "metadata": {},
   "outputs": [
    {
     "name": "stdout",
     "output_type": "stream",
     "text": [
      "\n",
      "x =  [0 1 2 3 4 5 6 7 8 9]\n",
      "\n",
      "x has dimensions: (10,)\n",
      "x is an object of type: <class 'numpy.ndarray'>\n",
      "The elements in x are of type: int32\n"
     ]
    }
   ],
   "source": [
    "x = np.arange(10)\n",
    "\n",
    "print()\n",
    "print('x = ', x)\n",
    "print()\n",
    "\n",
    "print('x has dimensions:', x.shape)\n",
    "print('x is an object of type:', type(x))\n",
    "print('The elements in x are of type:', x.dtype)"
   ]
  },
  {
   "cell_type": "code",
   "execution_count": 28,
   "metadata": {},
   "outputs": [
    {
     "name": "stdout",
     "output_type": "stream",
     "text": [
      "\n",
      "x =  [4 5 6 7 8 9]\n",
      "\n",
      "x has dimensions: (6,)\n",
      "x is an object of type: <class 'numpy.ndarray'>\n",
      "The elements in x are of type: int32\n"
     ]
    }
   ],
   "source": [
    "x = np.arange(4,10)\n",
    "\n",
    "print()\n",
    "print('x = ', x)\n",
    "print()\n",
    "\n",
    "print('x has dimensions:', x.shape)\n",
    "print('x is an object of type:', type(x))\n",
    "print('The elements in x are of type:', x.dtype)\n"
   ]
  },
  {
   "cell_type": "code",
   "execution_count": 29,
   "metadata": {},
   "outputs": [
    {
     "name": "stdout",
     "output_type": "stream",
     "text": [
      "\n",
      "x =  [ 1  4  7 10 13]\n",
      "\n",
      "x has dimensions: (5,)\n",
      "x is an object of type: <class 'numpy.ndarray'>\n",
      "The elements in x are of type: int32\n"
     ]
    }
   ],
   "source": [
    "x = np.arange(1,14,3)\n",
    "\n",
    "print()\n",
    "print('x = ', x)\n",
    "print()\n",
    "\n",
    "print('x has dimensions:', x.shape)\n",
    "print('x is an object of type:', type(x))\n",
    "print('The elements in x are of type:', x.dtype)"
   ]
  },
  {
   "cell_type": "markdown",
   "metadata": {},
   "source": [
    "##### `np.linspace`\n",
    "\n",
    "`np.linspace(start, stop, N)` returns `N` evenly spaced numbers over the *closed* interval `[start, stop]`."
   ]
  },
  {
   "cell_type": "code",
   "execution_count": 31,
   "metadata": {},
   "outputs": [
    {
     "name": "stdout",
     "output_type": "stream",
     "text": [
      "\n",
      "x =  [ 0.          2.77777778  5.55555556  8.33333333 11.11111111 13.88888889\n",
      " 16.66666667 19.44444444 22.22222222 25.        ]\n",
      "\n",
      "x has dimensions: (10,)\n",
      "x is an object of type: <class 'numpy.ndarray'>\n",
      "The elements in x are of type: float64\n"
     ]
    }
   ],
   "source": [
    "x = np.linspace(0,25,10)\n",
    "\n",
    "print()\n",
    "print('x = ', x)\n",
    "print()\n",
    "\n",
    "print('x has dimensions:', x.shape)\n",
    "print('x is an object of type:', type(x))\n",
    "print('The elements in x are of type:', x.dtype)"
   ]
  },
  {
   "cell_type": "code",
   "execution_count": 32,
   "metadata": {},
   "outputs": [
    {
     "name": "stdout",
     "output_type": "stream",
     "text": [
      "\n",
      "x =  [ 0.   2.5  5.   7.5 10.  12.5 15.  17.5 20.  22.5]\n",
      "\n",
      "x has dimensions: (10,)\n",
      "x is an object of type: <class 'numpy.ndarray'>\n",
      "The elements in x are of type: float64\n"
     ]
    }
   ],
   "source": [
    "x = np.linspace(0,25,10, endpoint=False)\n",
    "\n",
    "print()\n",
    "print('x = ', x)\n",
    "print()\n",
    "\n",
    "print('x has dimensions:', x.shape)\n",
    "print('x is an object of type:', type(x))\n",
    "print('The elements in x are of type:', x.dtype)"
   ]
  },
  {
   "cell_type": "markdown",
   "metadata": {},
   "source": [
    "##### `np.ndarray.reshape`\n",
    "\n",
    "Returns an array containing the same data with a new shape. Can also call `np.reshape()` with the np.ndarray as the first argument."
   ]
  },
  {
   "cell_type": "code",
   "execution_count": 33,
   "metadata": {},
   "outputs": [
    {
     "name": "stdout",
     "output_type": "stream",
     "text": [
      "\n",
      "Y = \n",
      " [[ 0  1  2  3  4]\n",
      " [ 5  6  7  8  9]\n",
      " [10 11 12 13 14]\n",
      " [15 16 17 18 19]]\n",
      "\n",
      "Y has dimensions: (4, 5)\n",
      "Y is an object of type: <class 'numpy.ndarray'>\n",
      "The elements in Y are of type: int32\n"
     ]
    }
   ],
   "source": [
    "Y = np.arange(20).reshape(4,5)\n",
    "\n",
    "print()\n",
    "print('Y = \\n', Y)\n",
    "print()\n",
    "\n",
    "print('Y has dimensions:', Y.shape)\n",
    "print('Y is an object of type:', type(Y))\n",
    "print('The elements in Y are of type:', Y.dtype)"
   ]
  },
  {
   "cell_type": "code",
   "execution_count": 34,
   "metadata": {},
   "outputs": [
    {
     "name": "stdout",
     "output_type": "stream",
     "text": [
      "\n",
      "X = \n",
      " [[ 0.  5.]\n",
      " [10. 15.]\n",
      " [20. 25.]\n",
      " [30. 35.]\n",
      " [40. 45.]]\n",
      "\n",
      "X has dimensions: (5, 2)\n",
      "X is an object of type: <class 'numpy.ndarray'>\n",
      "The elements in X are of type: float64\n"
     ]
    }
   ],
   "source": [
    "X = np.linspace(0,50,10, endpoint=False).reshape(5,2)\n",
    "\n",
    "print()\n",
    "print('X = \\n', X)\n",
    "print()\n",
    "\n",
    "print('X has dimensions:', X.shape)\n",
    "print('X is an object of type:', type(X))\n",
    "print('The elements in X are of type:', X.dtype)"
   ]
  },
  {
   "cell_type": "markdown",
   "metadata": {},
   "source": [
    "### `np.random`\n",
    "\n",
    "##### `np.random.random`\n",
    "\n",
    "`np.random.random(shape)` creates an ndarray of the given `shape` with random floats in the half-open interal `[0.0, 1.0)`"
   ]
  },
  {
   "cell_type": "code",
   "execution_count": 35,
   "metadata": {},
   "outputs": [
    {
     "name": "stdout",
     "output_type": "stream",
     "text": [
      "\n",
      "X = \n",
      " [[0.20104374 0.96151435 0.80519558]\n",
      " [0.04340231 0.99648927 0.12379692]\n",
      " [0.6171086  0.5900612  0.33744975]]\n",
      "\n",
      "X has dimensions: (3, 3)\n",
      "X is an object of type: <class 'numpy.ndarray'>\n",
      "The elements in X are of type: float64\n"
     ]
    }
   ],
   "source": [
    "X = np.random.random((3,3))\n",
    "\n",
    "print()\n",
    "print('X = \\n', X)\n",
    "print()\n",
    "\n",
    "print('X has dimensions:', X.shape)\n",
    "print('X is an object of type:', type(X))\n",
    "print('The elements in X are of type:', X.dtype)"
   ]
  },
  {
   "cell_type": "markdown",
   "metadata": {},
   "source": [
    "##### `np.random.randint`\n",
    "\n",
    "`np.random.randint(start, stop, size=shape)` creates an ndarray of the given `shape` with random integers in the half-open interval `[start, stop)`."
   ]
  },
  {
   "cell_type": "code",
   "execution_count": null,
   "metadata": {},
   "outputs": [],
   "source": [
    "X = np.random.randint(4,15,size=(3,2))\n",
    "\n",
    "print()\n",
    "print('X = \\n', X)\n",
    "print()\n",
    "\n",
    "print('X has dimensions:', X.shape)\n",
    "print('X is an object of type:', type(X))\n",
    "print('The elements in X are of type:', X.dtype)"
   ]
  },
  {
   "cell_type": "markdown",
   "metadata": {},
   "source": [
    "##### `np.random.normal`\n",
    "\n",
    "`np.random.normal(mean, standard deviation, size=shape)` creates an ndarray with the given `shape` that contains random numbers picked from a `normal` (Gaussian) distribution with the given `mean` and `standard deviation`."
   ]
  },
  {
   "cell_type": "code",
   "execution_count": 36,
   "metadata": {},
   "outputs": [
    {
     "name": "stdout",
     "output_type": "stream",
     "text": [
      "\n",
      "X = \n",
      " [[-0.05334265  0.02205798 -0.12887254 ... -0.04953581 -0.21228292\n",
      "  -0.01082648]\n",
      " [ 0.35209977 -0.16774816 -0.12465103 ... -0.00519539  0.30868377\n",
      "  -0.0040576 ]\n",
      " [-0.09245747 -0.0138341   0.02394857 ...  0.00949447  0.1276114\n",
      "  -0.2191831 ]\n",
      " ...\n",
      " [ 0.20837074  0.04526887 -0.12970314 ... -0.08945375  0.12151995\n",
      "   0.0299151 ]\n",
      " [-0.13221795  0.12119374  0.09417482 ... -0.03633842  0.02344585\n",
      "  -0.14041203]\n",
      " [ 0.21824775  0.06105098 -0.02104241 ...  0.01807756 -0.00904989\n",
      "   0.03210559]]\n",
      "\n",
      "X has dimensions: (1000, 1000)\n",
      "X is an object of type: <class 'numpy.ndarray'>\n",
      "The elements in X are of type: float64\n",
      "The elements in X have a mean of: 6.486283489750752e-05\n",
      "The maximum value in X is: 0.4868397929385731\n",
      "The minimum value in X is: -0.47962412308479624\n",
      "X has 499859 negative numbers\n",
      "X has 500141 positive numbers\n"
     ]
    }
   ],
   "source": [
    "X = np.random.normal(0, 0.1, size=(1000,1000))\n",
    "\n",
    "print()\n",
    "print('X = \\n', X)\n",
    "print()\n",
    "\n",
    "print('X has dimensions:', X.shape)\n",
    "print('X is an object of type:', type(X))\n",
    "print('The elements in X are of type:', X.dtype)\n",
    "print('The elements in X have a mean of:', X.mean())\n",
    "print('The maximum value in X is:', X.max())\n",
    "print('The minimum value in X is:', X.min())\n",
    "print('X has', (X < 0).sum(), 'negative numbers')\n",
    "print('X has', (X > 0).sum(), 'positive numbers')"
   ]
  },
  {
   "cell_type": "markdown",
   "metadata": {},
   "source": [
    "### Accessing and Modifying Elements of `ndarray`s\n",
    "\n",
    "##### 1-D array"
   ]
  },
  {
   "cell_type": "code",
   "execution_count": 37,
   "metadata": {},
   "outputs": [
    {
     "name": "stdout",
     "output_type": "stream",
     "text": [
      "\n",
      "x =  [1 2 3 4 5]\n",
      "\n",
      "This is the First Element in x 1\n",
      "This is the Second Element in x 2\n",
      "This is the Last Element in x 5\n",
      "\n",
      "This is the First Element in x 1\n",
      "This is the Second Element in x 2\n",
      "This is the Last Element in x 5\n"
     ]
    }
   ],
   "source": [
    "x = np.arange(1,6)\n",
    "\n",
    "print()\n",
    "print('x = ', x)\n",
    "print()\n",
    "\n",
    "print('This is the First Element in x', x[0])\n",
    "print('This is the Second Element in x', x[1])\n",
    "print('This is the Last Element in x', x[4])\n",
    "print()\n",
    "\n",
    "print('This is the First Element in x', x[-5])\n",
    "print('This is the Second Element in x', x[-4])\n",
    "print('This is the Last Element in x', x[-1])"
   ]
  },
  {
   "cell_type": "code",
   "execution_count": 38,
   "metadata": {},
   "outputs": [
    {
     "name": "stdout",
     "output_type": "stream",
     "text": [
      "\n",
      "Original:\n",
      " x =  [1 2 3 4 5]\n",
      "\n",
      "Modified:\n",
      " x =  [ 1  2  3 20  5]\n"
     ]
    }
   ],
   "source": [
    "x = np.arange(1,6)\n",
    "\n",
    "print()\n",
    "print('Original:\\n x = ', x)\n",
    "print()\n",
    "\n",
    "x[3] = 20\n",
    "\n",
    "print('Modified:\\n x = ', x)"
   ]
  },
  {
   "cell_type": "markdown",
   "metadata": {},
   "source": [
    "##### 2-D array\n",
    "\n",
    "Elements in rank 2 ndarrays can be accessed with 2 indices in the form `[row, column]`."
   ]
  },
  {
   "cell_type": "code",
   "execution_count": 39,
   "metadata": {},
   "outputs": [
    {
     "name": "stdout",
     "output_type": "stream",
     "text": [
      "\n",
      "X = \n",
      " [[1 2 3]\n",
      " [4 5 6]\n",
      " [7 8 9]]\n",
      "\n",
      "This is (0,0) Element in X: 1\n",
      "This is (0,1) Element in X: 2\n",
      "This is (2,2) Element in X: 9\n"
     ]
    }
   ],
   "source": [
    "X = np.array([[1,2,3],[4,5,6],[7,8,9]])\n",
    "\n",
    "print()\n",
    "print('X = \\n', X)\n",
    "print()\n",
    "\n",
    "print('This is (0,0) Element in X:', X[0,0])\n",
    "print('This is (0,1) Element in X:', X[0,1])\n",
    "print('This is (2,2) Element in X:', X[2,2])"
   ]
  },
  {
   "cell_type": "code",
   "execution_count": 41,
   "metadata": {},
   "outputs": [
    {
     "name": "stdout",
     "output_type": "stream",
     "text": [
      "\n",
      "Original:\n",
      " X = \n",
      " [[1 2 3]\n",
      " [4 5 6]\n",
      " [7 8 9]]\n",
      "\n",
      "Modified (0,0) Element:\n",
      " X = \n",
      " [[20  2  3]\n",
      " [ 4  5  6]\n",
      " [ 7  8  9]]\n"
     ]
    }
   ],
   "source": [
    "X = np.array([[1,2,3],[4,5,6],[7,8,9]])\n",
    "\n",
    "print()\n",
    "print('Original:\\n X = \\n', X)\n",
    "print()\n",
    "\n",
    "X[0,0] = 20\n",
    "\n",
    "print('Modified (0,0) Element:\\n X = \\n', X)"
   ]
  },
  {
   "cell_type": "markdown",
   "metadata": {},
   "source": [
    "### Deleting Elements of `ndarray`s\n",
    "\n",
    "`np.delete(ndarray, elements, axis)` deletes the given list of of `elements` from the given `ndarray` along the specified `axis`.\n",
    "\n",
    "For rank 1 ndarrays, the `axis` keyword is not required. For rank 2 ndarrays, `axis=0` is used to select *rows*, and `axis=1` is used to select *columns*.\n",
    "\n",
    "##### 1-D array"
   ]
  },
  {
   "cell_type": "code",
   "execution_count": 42,
   "metadata": {},
   "outputs": [
    {
     "name": "stdout",
     "output_type": "stream",
     "text": [
      "\n",
      "Original x =  [1 2 3 4 5]\n",
      "\n",
      "Modified x =  [2 3 4]\n"
     ]
    }
   ],
   "source": [
    "x = np.arange(1,6)\n",
    "\n",
    "print()\n",
    "print('Original x = ', x)\n",
    "\n",
    "x = np.delete(x, [0,4])\n",
    "\n",
    "print()\n",
    "print('Modified x = ', x)"
   ]
  },
  {
   "cell_type": "markdown",
   "metadata": {},
   "source": [
    "##### 2-D Array"
   ]
  },
  {
   "cell_type": "code",
   "execution_count": 43,
   "metadata": {},
   "outputs": [
    {
     "name": "stdout",
     "output_type": "stream",
     "text": [
      "\n",
      "Original:\n",
      " Y = \n",
      " [[1 2 3]\n",
      " [4 5 6]\n",
      " [7 8 9]]\n",
      "\n",
      "w = \n",
      " [[4 5 6]\n",
      " [7 8 9]]\n",
      "\n",
      "v = \n",
      " [[2]\n",
      " [5]\n",
      " [8]]\n"
     ]
    }
   ],
   "source": [
    "Y = np.array([[1,2,3],[4,5,6],[7,8,9]])\n",
    "\n",
    "print()\n",
    "print('Original:\\n Y = \\n', Y)\n",
    "\n",
    "# Delete first row of Y\n",
    "w = np.delete(Y, 0, axis=0)\n",
    "\n",
    "# Delete first and last column of Y\n",
    "v = np.delete(Y, [0,2], axis=1)\n",
    "\n",
    "print()\n",
    "print('w = \\n', w)\n",
    "\n",
    "print()\n",
    "print('v = \\n', v)"
   ]
  },
  {
   "cell_type": "markdown",
   "metadata": {},
   "source": [
    "### Appending and Inserting into `ndarray`s\n",
    "\n",
    "##### `np.append`\n",
    "\n",
    "`np.append(ndarray, values, axis)` appends `values` to `ndarray` along the specified `axis`.\n",
    "\n",
    "##### 1-D Array"
   ]
  },
  {
   "cell_type": "code",
   "execution_count": 44,
   "metadata": {},
   "outputs": [
    {
     "name": "stdout",
     "output_type": "stream",
     "text": [
      "\n",
      "Original x =  [1 2 3 4 5]\n",
      "\n",
      "x =  [1 2 3 4 5 6]\n",
      "\n",
      "x =  [1 2 3 4 5 6 7 8]\n"
     ]
    }
   ],
   "source": [
    "x = np.array([1,2,3,4,5])\n",
    "\n",
    "print()\n",
    "print('Original x = ', x)\n",
    "\n",
    "x = np.append(x, 6)\n",
    "\n",
    "print()\n",
    "print('x = ', x)\n",
    "\n",
    "x = np.append(x, [7,8])\n",
    "\n",
    "print()\n",
    "print('x = ', x)"
   ]
  },
  {
   "cell_type": "markdown",
   "metadata": {},
   "source": [
    "##### 2-D Array"
   ]
  },
  {
   "cell_type": "code",
   "execution_count": 50,
   "metadata": {},
   "outputs": [
    {
     "name": "stdout",
     "output_type": "stream",
     "text": [
      "\n",
      "Original:\n",
      " Y = \n",
      " [[1 2 3]\n",
      " [4 5 6]]\n",
      "\n",
      " V = \n",
      " [[1 2 3]\n",
      " [4 5 6]\n",
      " [7 8 9]]\n",
      "\n",
      " W = \n",
      " [[ 1  2  3  9]\n",
      " [ 4  5  6 10]]\n"
     ]
    }
   ],
   "source": [
    "Y = np.array([[1,2,3],[4,5,6]])\n",
    "\n",
    "print()\n",
    "print('Original:\\n Y = \\n', Y)\n",
    "\n",
    "V = np.append(Y, [[7,8,9]], axis=0)\n",
    "\n",
    "print()\n",
    "print(' V = \\n', V)\n",
    "\n",
    "W = np.append(Y, [[9],[10]], axis=1)\n",
    "\n",
    "print()\n",
    "print(' W = \\n', W)"
   ]
  },
  {
   "cell_type": "markdown",
   "metadata": {},
   "source": [
    "##### `np.insert`\n",
    "\n",
    "`np.insert(ndarray, index, elements, axis)` inserts the list of `elements` to `ndarray` right before the given `index` along the specified `axis`.\n",
    "\n",
    "##### 1-D Array"
   ]
  },
  {
   "cell_type": "code",
   "execution_count": 53,
   "metadata": {},
   "outputs": [
    {
     "name": "stdout",
     "output_type": "stream",
     "text": [
      "\n",
      "Original:\n",
      "x = [1 2 5 6 7]\n",
      "\n",
      "x = [1 2 3 4 5 6 7]\n"
     ]
    }
   ],
   "source": [
    "x = np.array([1, 2, 5, 6, 7])\n",
    "\n",
    "print()\n",
    "print('Original:\\nx =', x)\n",
    "\n",
    "x = np.insert(x,2,[3,4])\n",
    "\n",
    "print()\n",
    "print('x =', x)"
   ]
  },
  {
   "cell_type": "markdown",
   "metadata": {},
   "source": [
    "##### 2-D Array"
   ]
  },
  {
   "cell_type": "code",
   "execution_count": 54,
   "metadata": {},
   "outputs": [
    {
     "name": "stdout",
     "output_type": "stream",
     "text": [
      "\n",
      "Original:\n",
      " Y = \n",
      " [[1 2 3]\n",
      " [7 8 9]]\n",
      "\n",
      "W = \n",
      " [[1 2 3]\n",
      " [4 5 6]\n",
      " [7 8 9]]\n",
      "\n",
      "V = \n",
      " [[1 5 2 3]\n",
      " [7 5 8 9]]\n"
     ]
    }
   ],
   "source": [
    "Y = np.array([[1,2,3],[7,8,9]])\n",
    "\n",
    "print()\n",
    "print('Original:\\n Y = \\n', Y)\n",
    "\n",
    "W = np.insert(Y,1,[4,5,6],axis=0)\n",
    "print()\n",
    "print('W = \\n', W)\n",
    "\n",
    "V = np.insert(Y,1,5,axis=1)\n",
    "print()\n",
    "print('V = \\n', V)"
   ]
  },
  {
   "cell_type": "markdown",
   "metadata": {},
   "source": [
    "### Stacking\n",
    "\n",
    "In order to stack, the shape of the corresponding axis must match.\n",
    "\n",
    "##### `np.hstack`\n",
    "\n",
    "Returns a stacked array formed by stacking the given arrays in sequence horizontally (column-wise).\n",
    "\n",
    "##### `np.vstack`\n",
    "\n",
    "Returns a stacked array formed by stacking the given arrays in sequence vertically (row-wise)."
   ]
  },
  {
   "cell_type": "markdown",
   "metadata": {},
   "source": [
    "##### 1-D Array"
   ]
  },
  {
   "cell_type": "code",
   "execution_count": 56,
   "metadata": {},
   "outputs": [
    {
     "name": "stdout",
     "output_type": "stream",
     "text": [
      "\n",
      "x =  [1 2]\n",
      "x has dimensions: (2,)\n",
      "\n",
      "y = \n",
      " [[3 4]\n",
      " [5 6]]\n",
      "y has dimensions: (2, 2)\n",
      "\n",
      "vstack:\n",
      " z = \n",
      " [[1 2]\n",
      " [3 4]\n",
      " [5 6]]\n",
      "\n",
      "hstack:\n",
      " w = \n",
      " [[3 4 1]\n",
      " [5 6 2]]\n"
     ]
    }
   ],
   "source": [
    "x = np.array([1,2])\n",
    "\n",
    "y = np.array([[3,4],[5,6]])\n",
    "\n",
    "print()\n",
    "print('x = ', x)\n",
    "print('x has dimensions:', x.shape)\n",
    "\n",
    "print()\n",
    "print('y = \\n', y)\n",
    "print('y has dimensions:', y.shape)\n",
    "\n",
    "z = np.vstack((x,y))\n",
    "\n",
    "w = np.hstack((y,x.reshape(2,1)))\n",
    "\n",
    "print()\n",
    "print('vstack:\\n z = \\n', z)\n",
    "\n",
    "print()\n",
    "print('hstack:\\n w = \\n', w)"
   ]
  },
  {
   "cell_type": "markdown",
   "metadata": {},
   "source": [
    "### Slicing `ndarray`s\n",
    "\n",
    "Slicing is a way to access subsets of ndarrays.\n",
    "\n",
    "* ndarray[**start**:**stop**]\n",
    "* ndarray[**start**:]\n",
    "* ndarray[:**stop**]\n",
    "\n",
    "Note that the **stop** index is *excluded*.\n",
    "\n",
    "For multidimensional ndarrays, you usually have to specify the slice for each dimension of the array.\n",
    "\n",
    "[NumPy - Indexing Routines](https://numpy.org/devdocs/reference/arrays.indexing.html#basic-slicing-and-indexing)"
   ]
  },
  {
   "cell_type": "code",
   "execution_count": 66,
   "metadata": {},
   "outputs": [
    {
     "name": "stdout",
     "output_type": "stream",
     "text": [
      "\n",
      "X =\n",
      " [[ 0  1  2  3  4]\n",
      " [ 5  6  7  8  9]\n",
      " [10 11 12 13 14]\n",
      " [15 16 17 18 19]]\n",
      "\n",
      "X[1:4,2:5]\n",
      "Z =\n",
      " [[ 7  8  9]\n",
      " [12 13 14]\n",
      " [17 18 19]]\n",
      "\n",
      "X[1:,2:]\n",
      "W =\n",
      " [[ 7  8  9]\n",
      " [12 13 14]\n",
      " [17 18 19]]\n",
      "\n",
      "X[:3,2:]\n",
      "Y =\n",
      " [[ 2  3  4]\n",
      " [ 7  8  9]\n",
      " [12 13 14]]\n",
      "\n",
      "X[2,:]\n",
      "v = [10 11 12 13 14]\n",
      "\n",
      "X[:,2] -> returns rank 1 ndarray\n",
      "q = [ 2  7 12 17]\n",
      "\n",
      "X[:,2:3] -> returns rank 2 ndarray\n",
      "R =\n",
      " [[ 2]\n",
      " [ 7]\n",
      " [12]\n",
      " [17]]\n"
     ]
    }
   ],
   "source": [
    "X = np.arange(20).reshape(4,5)\n",
    "\n",
    "print()\n",
    "print('X =\\n', X)\n",
    "print()\n",
    "\n",
    "print('X[1:4,2:5]')\n",
    "print('Z =\\n', X[1:4,2:5])\n",
    "\n",
    "print()\n",
    "print('X[1:,2:]')\n",
    "print('W =\\n', X[1:,2:])\n",
    "\n",
    "print()\n",
    "print('X[:3,2:]')\n",
    "print('Y =\\n', X[:3,2:])\n",
    "\n",
    "print()\n",
    "print('X[2,:]')\n",
    "print('v =', X[2,:])\n",
    "\n",
    "print()\n",
    "print('X[:,2] -> returns rank 1 ndarray')\n",
    "print('q =', X[:,2])\n",
    "\n",
    "print()\n",
    "print('X[:,2:3] -> returns rank 2 ndarray')\n",
    "print('R =\\n', X[:,2:3])"
   ]
  },
  {
   "cell_type": "markdown",
   "metadata": {},
   "source": [
    "##### Slicing with `ndarray`s\n",
    "\n",
    "We can also use one `ndarray` to make slices, select, or change elements in another `ndarray`."
   ]
  },
  {
   "cell_type": "code",
   "execution_count": 73,
   "metadata": {},
   "outputs": [
    {
     "name": "stdout",
     "output_type": "stream",
     "text": [
      "\n",
      "X = \n",
      " [[ 0  1  2  3  4]\n",
      " [ 5  6  7  8  9]\n",
      " [10 11 12 13 14]\n",
      " [15 16 17 18 19]]\n",
      "\n",
      "indices =  [1 3]\n",
      "\n",
      "X[indices,:]\n",
      "Y = \n",
      " [[ 5  6  7  8  9]\n",
      " [15 16 17 18 19]]\n",
      "\n",
      "X[:,indices]\n",
      "Z = \n",
      " [[ 1  3]\n",
      " [ 6  8]\n",
      " [11 13]\n",
      " [16 18]]\n"
     ]
    }
   ],
   "source": [
    "X = np.arange(20).reshape(4,5)\n",
    "\n",
    "indices = np.array([1,3])\n",
    "\n",
    "print()\n",
    "print('X = \\n', X)\n",
    "print()\n",
    "\n",
    "print('indices = ', indices)\n",
    "print()\n",
    "\n",
    "Y = X[indices,:]\n",
    "\n",
    "print('X[indices,:]')\n",
    "print('Y = \\n', Y)\n",
    "print()\n",
    "\n",
    "Z = X[:,indices]\n",
    "\n",
    "print('X[:,indices]')\n",
    "print('Z = \\n', Z)"
   ]
  },
  {
   "cell_type": "code",
   "execution_count": 77,
   "metadata": {},
   "outputs": [
    {
     "name": "stdout",
     "output_type": "stream",
     "text": [
      "Shape of X is:  (50, 5)\n",
      "Random 10 indices are:  [26 21 42 30 20 27 43 41 44 39]\n",
      "\n",
      "X_subset: \n",
      " [[ 1 14 17 14  5]\n",
      " [11 15  8 18  7]\n",
      " [ 1 18 19 14 17]\n",
      " [ 5 19  1  7  9]\n",
      " [ 6 13 12 12 18]\n",
      " [12 11  9 18 18]\n",
      " [19  8 15  3 14]\n",
      " [12 13 14  5 13]\n",
      " [ 9  3 18 14 19]\n",
      " [12  3 18 18  8]]\n",
      "\n",
      "X_subset: \n",
      " [[ 6 13 12 12 18]\n",
      " [12 11  9 18 18]\n",
      " [19  8 15  3 14]\n",
      " [12 13 14  5 13]]\n"
     ]
    }
   ],
   "source": [
    "X = np.random.randint(1,20, size=(50,5))\n",
    "print('Shape of X is: ', X.shape)\n",
    "\n",
    "row_indices = np.random.randint(0, 50, size=10)\n",
    "print(\"Random 10 indices are: \", row_indices)\n",
    "\n",
    "X_subset = X[row_indices,:]\n",
    "print()\n",
    "print('X_subset: \\n', X_subset)\n",
    "\n",
    "X_subset = X[row_indices[4:8],:]\n",
    "print()\n",
    "print('X_subset: \\n', X_subset)\n"
   ]
  },
  {
   "cell_type": "markdown",
   "metadata": {},
   "source": [
    "##### Boolean Indexing\n",
    "\n",
    "Boolean indexing allows us to select elements using logical arguments instead of explicit indices."
   ]
  },
  {
   "cell_type": "code",
   "execution_count": 81,
   "metadata": {},
   "outputs": [
    {
     "name": "stdout",
     "output_type": "stream",
     "text": [
      "\n",
      "X = \n",
      " [[ 0  1  2  3  4]\n",
      " [ 5  6  7  8  9]\n",
      " [10 11 12 13 14]\n",
      " [15 16 17 18 19]\n",
      " [20 21 22 23 24]]\n",
      "\n",
      "The elements in X that are greater than 10: [11 12 13 14 15 16 17 18 19 20 21 22 23 24]\n",
      "The elements in X that are less than or equal to 7: [0 1 2 3 4 5 6 7]\n",
      "The elements in X that are between 10 and 17: [11 12 13 14 15 16]\n",
      "\n",
      "X = \n",
      " [[ 0  1  2  3  4]\n",
      " [ 5  6  7  8  9]\n",
      " [10 -1 -1 -1 -1]\n",
      " [-1 -1 17 18 19]\n",
      " [20 21 22 23 24]]\n",
      "\n"
     ]
    }
   ],
   "source": [
    "X = np.arange(25).reshape(5,5)\n",
    "\n",
    "print()\n",
    "print('X = \\n', X)\n",
    "print()\n",
    "\n",
    "print('The elements in X that are greater than 10:', X[X > 10])\n",
    "print('The elements in X that are less than or equal to 7:', X[X <= 7])\n",
    "print('The elements in X that are between 10 and 17:', X[(X > 10) & (X < 17)])\n",
    "\n",
    "X[(X > 10) & (X < 17)] = -1\n",
    "\n",
    "print()\n",
    "print('X = \\n', X)\n",
    "print()"
   ]
  },
  {
   "cell_type": "markdown",
   "metadata": {},
   "source": [
    "##### `np.diag`\n",
    "\n",
    "`np.diag(ndarray, k=N)` extracts the elements along the diagonal defined by `N`. `k=0` is the default and refers to the main diagonal. `k>0` are used to select elements in diagonals above the diagonal. `k<0` are used to select elements below the main diagonal."
   ]
  },
  {
   "cell_type": "code",
   "execution_count": 79,
   "metadata": {},
   "outputs": [
    {
     "name": "stdout",
     "output_type": "stream",
     "text": [
      "\n",
      "X = \n",
      " [[ 0  1  2  3  4]\n",
      " [ 5  6  7  8  9]\n",
      " [10 11 12 13 14]\n",
      " [15 16 17 18 19]\n",
      " [20 21 22 23 24]]\n",
      "\n",
      "k=0\n",
      "z = [ 0  6 12 18 24]\n",
      "\n",
      "k=1\n",
      "y = [ 1  7 13 19]\n",
      "\n",
      "k=-1\n",
      "w = [ 5 11 17 23]\n"
     ]
    }
   ],
   "source": [
    "X = np.arange(25).reshape(5,5)\n",
    "\n",
    "print()\n",
    "print('X = \\n', X)\n",
    "print()\n",
    "\n",
    "print('k=0')\n",
    "print('z =', np.diag(X))\n",
    "print()\n",
    "\n",
    "print('k=1')\n",
    "print('y =', np.diag(X, k=1))\n",
    "print()\n",
    "\n",
    "print('k=-1')\n",
    "print('w =', np.diag(X, k=-1))"
   ]
  },
  {
   "cell_type": "markdown",
   "metadata": {},
   "source": [
    "##### `np.unique`\n",
    "\n",
    "`np.unique(ndarray)` returns the sorted unique elements of an array."
   ]
  },
  {
   "cell_type": "code",
   "execution_count": 80,
   "metadata": {},
   "outputs": [
    {
     "name": "stdout",
     "output_type": "stream",
     "text": [
      "\n",
      "X = \n",
      " [[1 2 3]\n",
      " [5 2 8]\n",
      " [1 2 3]]\n",
      "\n",
      "The unique elements in X are: [1 2 3 5 8]\n"
     ]
    }
   ],
   "source": [
    "X = np.array([[1,2,3],[5,2,8],[1,2,3]])\n",
    "\n",
    "print()\n",
    "print('X = \\n', X)\n",
    "print()\n",
    "\n",
    "print('The unique elements in X are:',np.unique(X))"
   ]
  },
  {
   "cell_type": "markdown",
   "metadata": {},
   "source": [
    "##### `ndarray.sort`\n",
    "\n",
    "`np.sort(ndarray)` (function) sorts the `ndarray` out of place, meaning that it doesn't change the orginal `ndarray` being sorted.\n",
    "\n",
    "`np.ndarray.sort()` (method) sorts the `ndarray` in place meaning that the orginal array will be changed to the sorted one.\n",
    "\n",
    "##### 1-D Array"
   ]
  },
  {
   "cell_type": "code",
   "execution_count": 87,
   "metadata": {},
   "outputs": [
    {
     "name": "stdout",
     "output_type": "stream",
     "text": [
      "\n",
      "Original:\n",
      "x =  [ 4  3  8  2  6  7  3  1 10 10]\n",
      "\n",
      "Sorted x (out of place): [ 1  2  3  3  4  6  7  8 10 10]\n",
      "\n",
      "x after sorting: [ 4  3  8  2  6  7  3  1 10 10]\n",
      "\n",
      "Sorted x (in place): [ 1  2  3  3  4  6  7  8 10 10]\n"
     ]
    }
   ],
   "source": [
    "x = np.random.randint(1,11,size=(10,))\n",
    "\n",
    "print()\n",
    "print('Original:\\nx = ', x)\n",
    "\n",
    "print()\n",
    "print('Sorted x (out of place):', np.sort(x))\n",
    "\n",
    "print()\n",
    "print('x after sorting:', x)\n",
    "\n",
    "x.sort()\n",
    "print()\n",
    "print('Sorted x (in place):', x)"
   ]
  },
  {
   "cell_type": "markdown",
   "metadata": {},
   "source": [
    "##### 2-D Array\n",
    "\n",
    "`np.sort(ndarray, axis=-1, kind=None, order=None)` returns a sorted copy of an array. The `axis` denotes the axis along which to short. It can take values in the range `-1` to `(ndim-1)`.\n",
    "\n",
    "* `axis = -1`: Sorts along the **last** axis. In the case of a 2-D `ndarray`, the last axis value is `1`.\n",
    "* `axis = None`: Flattens the array before sorting and returning a 1-D array.\n",
    "* `axis = 0`: If specified for a 2-D array, will sort all of the rows within a column. Read `axis=0` as **\"down\"** and `axis=1` as **\"across\"**.\n",
    "* `axis = 1` If specified for a 2-D array, sort all of the columns with a row."
   ]
  },
  {
   "cell_type": "code",
   "execution_count": 88,
   "metadata": {},
   "outputs": [
    {
     "name": "stdout",
     "output_type": "stream",
     "text": [
      "\n",
      "Original:\n",
      "X = \n",
      " [[ 6  9  2  8  3]\n",
      " [ 4  4  4  9  8]\n",
      " [ 1  1  9  7  6]\n",
      " [ 1 10  7  3  4]\n",
      " [ 3  8 10  6  6]]\n",
      "\n",
      "\n",
      "Sorted by columns:\n",
      " [[ 1  1  2  3  3]\n",
      " [ 1  4  4  6  4]\n",
      " [ 3  8  7  7  6]\n",
      " [ 4  9  9  8  6]\n",
      " [ 6 10 10  9  8]]\n",
      "\n",
      "Sorted by rows:\n",
      " [[ 2  3  6  8  9]\n",
      " [ 4  4  4  8  9]\n",
      " [ 1  1  6  7  9]\n",
      " [ 1  3  4  7 10]\n",
      " [ 3  6  6  8 10]]\n"
     ]
    }
   ],
   "source": [
    "X = np.random.randint(1,11,size=(5,5))\n",
    "\n",
    "print()\n",
    "print('Original:\\nX = \\n', X)\n",
    "print()\n",
    "\n",
    "print()\n",
    "print('Sorted columns:\\n', np.sort(X, axis=0))\n",
    "\n",
    "print()\n",
    "print('Sorted rows:\\n', np.sort(X, axis=1))"
   ]
  },
  {
   "cell_type": "markdown",
   "metadata": {},
   "source": [
    "### Set Operations"
   ]
  },
  {
   "cell_type": "code",
   "execution_count": 83,
   "metadata": {},
   "outputs": [
    {
     "name": "stdout",
     "output_type": "stream",
     "text": [
      "\n",
      "x =  [1 2 3 4 5]\n",
      "\n",
      "y =  [6 7 2 8 4]\n",
      "\n",
      "The elements that are both in x and y: [2 4]\n",
      "The elements that are in x that are not in y: [1 3 5]\n",
      "All the elements of x and y: [1 2 3 4 5 6 7 8]\n"
     ]
    }
   ],
   "source": [
    "x = np.array([1,2,3,4,5])\n",
    "y = np.array([6,7,2,8,4])\n",
    "\n",
    "print()\n",
    "print('x = ', x)\n",
    "\n",
    "print()\n",
    "print('y = ', y)\n",
    "\n",
    "print()\n",
    "print('The elements that are both in x and y:', np.intersect1d(x,y))\n",
    "print('The elements that are in x that are not in y:', np.setdiff1d(x,y))\n",
    "print('All the elements of x and y:', np.union1d(x,y))"
   ]
  },
  {
   "cell_type": "markdown",
   "metadata": {},
   "source": [
    "### Memory Management\n",
    "\n",
    "##### Slice Views\n",
    "\n",
    "When we perform slices on ndarrays and save them into new variables, the data is not copied into the new variable. For example,\n",
    "\n",
    "    Z = X[1:4, 2:5]\n",
    "\n",
    "the slice of the orginal array `X` is not copied into the variable `Z`. Rather `X` and `Z` are now just two different names for the *same* ndarray. We say that slicing only creates a *view* of the original array. That means if we make changes to `Z` you will be in effect changing the elements in `X` as well."
   ]
  },
  {
   "cell_type": "code",
   "execution_count": 69,
   "metadata": {},
   "outputs": [
    {
     "name": "stdout",
     "output_type": "stream",
     "text": [
      "\n",
      "X =\n",
      " [[ 0  1  2  3  4]\n",
      " [ 5  6  7  8  9]\n",
      " [10 11 12 13 14]\n",
      " [15 16 17 18 19]]\n",
      "\n",
      "\n",
      "Z =\n",
      " [[ 7  8  9]\n",
      " [12 13 14]\n",
      " [17 18 19]]\n",
      "\n",
      "\n",
      "X =\n",
      " [[  0   1   2   3   4]\n",
      " [  5   6   7   8   9]\n",
      " [ 10  11  12  13  14]\n",
      " [ 15  16  17  18 555]]\n",
      "\n"
     ]
    }
   ],
   "source": [
    "X = np.arange(20).reshape(4,5)\n",
    "\n",
    "print()\n",
    "print('X =\\n', X)\n",
    "print()\n",
    "\n",
    "Z = X[1:4,2:5]\n",
    "\n",
    "print()\n",
    "print('Z =\\n', Z)\n",
    "print()\n",
    "\n",
    "Z[2,2] = 555\n",
    "\n",
    "print()\n",
    "print('X =\\n', X)\n",
    "print()"
   ]
  },
  {
   "cell_type": "markdown",
   "metadata": {},
   "source": [
    "##### `copy`\n",
    "\n",
    "In order to create new ndarray, `nndarray.copy` can be used to return a copy of the ndarray.\n",
    "\n",
    "If we want to create a new ndarray that contains a copy of the values in a slice, we can use `np.copy(ndarray)`."
   ]
  },
  {
   "cell_type": "code",
   "execution_count": 71,
   "metadata": {},
   "outputs": [
    {
     "name": "stdout",
     "output_type": "stream",
     "text": [
      "\n",
      "X =\n",
      " [[ 0  1  2  3  4]\n",
      " [ 5  6  7  8  9]\n",
      " [10 11 12 13 14]\n",
      " [15 16 17 18 19]]\n",
      "\n",
      "\n",
      "X =\n",
      " [[ 0  1  2  3  4]\n",
      " [ 5  6  7  8  9]\n",
      " [10 11 12 13 14]\n",
      " [15 16 17 18 19]]\n",
      "\n",
      "Z =\n",
      " [[  7   8   9]\n",
      " [ 12  13  14]\n",
      " [ 17  18 555]]\n",
      "\n",
      "W =\n",
      " [[  7   8   9]\n",
      " [ 12  13  14]\n",
      " [ 17  18 444]]\n"
     ]
    }
   ],
   "source": [
    "X = np.arange(20).reshape(4,5)\n",
    "\n",
    "print()\n",
    "print('X =\\n', X)\n",
    "print()\n",
    "\n",
    "Z = np.copy(X[1:4,2:5])\n",
    "\n",
    "W = X[1:4,2:5].copy()\n",
    "\n",
    "Z[2,2] = 555\n",
    "\n",
    "W[2,2] = 444\n",
    "\n",
    "print()\n",
    "print('X =\\n', X)\n",
    "\n",
    "print()\n",
    "print('Z =\\n', Z)\n",
    "\n",
    "print()\n",
    "print('W =\\n', W)"
   ]
  }
 ],
 "metadata": {
  "kernelspec": {
   "display_name": "base",
   "language": "python",
   "name": "python3"
  },
  "language_info": {
   "codemirror_mode": {
    "name": "ipython",
    "version": 3
   },
   "file_extension": ".py",
   "mimetype": "text/x-python",
   "name": "python",
   "nbconvert_exporter": "python",
   "pygments_lexer": "ipython3",
   "version": "3.9.18"
  }
 },
 "nbformat": 4,
 "nbformat_minor": 2
}
