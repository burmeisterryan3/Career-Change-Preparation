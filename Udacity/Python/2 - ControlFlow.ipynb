{
 "cells": [
  {
   "cell_type": "markdown",
   "metadata": {},
   "source": [
    "# Udacity - Python\n",
    "\n",
    "## Control Flow\n",
    "\n",
    "[Python Docs](https://docs.python.org/3/library/index.html)\n",
    "\n",
    "[Python Reserved Words](https://docs.python.org/3/reference/lexical_analysis.html#keywords)\n",
    "\n",
    "[PEP 8 - Style Guide for Python Code](https://peps.python.org/pep-0008/)"
   ]
  },
  {
   "cell_type": "markdown",
   "metadata": {},
   "source": [
    "### `if` Statement\n",
    "\n",
    "Conditional statement that runs or skips code based on whether a condistion is `True` or `False`.\n",
    "\n",
    "Includes optional clauses `elif` or `else` if the previous statements evaluate to `False`.\n",
    "\n",
    "```\n",
    "if season == 'spring':\n",
    "    print('plant the garden!')\n",
    "elif season == 'summer':\n",
    "    print('water the garden!')\n",
    "elif season == 'fall':\n",
    "    print('harvest the garden!')\n",
    "elif season == 'winter':\n",
    "    print('stay indoors!')\n",
    "else:\n",
    "    print('unrecognized season')\n",
    "```"
   ]
  },
  {
   "cell_type": "code",
   "execution_count": 1,
   "metadata": {},
   "outputs": [
    {
     "name": "stdout",
     "output_type": "stream",
     "text": [
      "Since you're from CA, your total cost is 1.075.\n"
     ]
    }
   ],
   "source": [
    "state = 'CA'\n",
    "purchase_amount = 1\n",
    "\n",
    "if state == 'CA':\n",
    "    tax_amount = .075\n",
    "    total_cost = purchase_amount*(1+tax_amount)\n",
    "    result = \"Since you're from {}, your total cost is {}.\".format(state, total_cost)\n",
    "elif state == 'MN':\n",
    "    tax_amount = .095\n",
    "    total_cost = purchase_amount*(1+tax_amount)\n",
    "    result = \"Since you're from {}, your total cost is {}.\".format(state, total_cost)\n",
    "elif state == 'NY':\n",
    "    tax_amount = .089\n",
    "    total_cost = purchase_amount*(1+tax_amount)\n",
    "    result = \"Since you're from {}, your total cost is {}.\".format(state, total_cost)\n",
    "\n",
    "print(result)"
   ]
  },
  {
   "cell_type": "markdown",
   "metadata": {},
   "source": [
    "##### Remember...\n",
    "\n",
    "1. Don't use `True` or `False` as conditions.\n",
    "\n",
    "        if True:\n",
    "            print(\"This will always be run\")\n",
    "\n",
    "2. Be careful writing expressionst hat use logical operators.\n",
    "\n",
    "        if weather == \"snow\" or \"rain\":\n",
    "            print(\"Wear boots!\")\n",
    "\n",
    "3. Don't compare a boolean variable with `== True` or `== False`.\n",
    "\n",
    "        if is_cold:\n",
    "            print(\"The weather is cold!\")\n",
    "\n",
    "4. These built in objects evaluate to `False`.\n",
    "\n",
    "        * Constants: `None`, `False`\n",
    "        * Numberic Types: `0`, `0.0`, `0j`, `Decimal(0)`, `Fraction(0, 1)`\n",
    "        * Empty Sequences: `\"\"`, `()`, `[]`, `{}`, `set()`, `range(0)` "
   ]
  },
  {
   "cell_type": "markdown",
   "metadata": {},
   "source": [
    "### `for` Loops\n",
    "\n",
    "Used to \"iterate\", do something repeatedly, over an **iterable**. An **iterable** is an object that can return one of its elements at a time."
   ]
  },
  {
   "cell_type": "code",
   "execution_count": 2,
   "metadata": {},
   "outputs": [
    {
     "name": "stdout",
     "output_type": "stream",
     "text": [
      "new york city\n",
      "mountain view\n",
      "chicago\n",
      "los angeles\n",
      "Done!\n"
     ]
    }
   ],
   "source": [
    "cities = ['new york city', 'mountain view', 'chicago', 'los angeles']\n",
    "for city in cities:\n",
    "    print(city)\n",
    "print(\"Done!\")"
   ]
  },
  {
   "cell_type": "markdown",
   "metadata": {},
   "source": [
    "##### `range()` with `for` Loops\n",
    "\n",
    "`range()` is a built-in function used to create an iterable sequence of numbers."
   ]
  },
  {
   "cell_type": "code",
   "execution_count": 3,
   "metadata": {},
   "outputs": [
    {
     "name": "stdout",
     "output_type": "stream",
     "text": [
      "Hello!\n",
      "Hello!\n",
      "Hello!\n"
     ]
    }
   ],
   "source": [
    "for i in range(3):\n",
    "    print(\"Hello!\")"
   ]
  },
  {
   "cell_type": "markdown",
   "metadata": {},
   "source": [
    "`range(start=0, stop, step=1)`\n",
    "\n",
    "The `range()` function takes three integer arguments. The `start` and `end` arguments are optional.\n",
    "\n",
    "* `start` argument is the first number in the sequence. Defaults to `0`.\n",
    "* `stop` argument is the last number in the sequence. Mandatory argument.\n",
    "* `step` argument is the difference between each number in the sequence. Dfaults to `1`."
   ]
  },
  {
   "cell_type": "code",
   "execution_count": 7,
   "metadata": {},
   "outputs": [
    {
     "name": "stdout",
     "output_type": "stream",
     "text": [
      "range(4): [0, 1, 2, 3]\n",
      "range(2, 6): [2, 3, 4, 5]\n",
      "range(1, 10, 2): [1, 3, 5, 7, 9]\n"
     ]
    }
   ],
   "source": [
    "print(f'range(4): {[i for i in range(4)]}')\n",
    "print(f'range(2, 6): {[i for i in range(2, 6)]}')\n",
    "print(f'range(1, 10, 2): {[i for i in range(1, 10, 2)]}')"
   ]
  },
  {
   "cell_type": "markdown",
   "metadata": {},
   "source": [
    "**Modifying** a list requires use of the `range()` function."
   ]
  },
  {
   "cell_type": "code",
   "execution_count": 9,
   "metadata": {},
   "outputs": [
    {
     "name": "stdout",
     "output_type": "stream",
     "text": [
      "cities = ['New York City', 'Mountain View', 'Los Angeles', 'Chicago']\n"
     ]
    }
   ],
   "source": [
    "cities = ['new york city', 'mountain view', 'los angeles', 'chicago']\n",
    "\n",
    "'''\n",
    "capitalized_cities = []\n",
    "for city in cities:\n",
    "    capitalized_cities.append(city.tile())\n",
    "'''\n",
    "\n",
    "for index in range(len(cities)):\n",
    "    cities[index] = cities[index].title()\n",
    "\n",
    "print(f'cities = {cities}')"
   ]
  },
  {
   "cell_type": "code",
   "execution_count": 10,
   "metadata": {},
   "outputs": [
    {
     "name": "stdout",
     "output_type": "stream",
     "text": [
      "usernames = ['joey_tribbiani', 'monica_geller', 'chandler_bing', 'phoebe_buffay']\n"
     ]
    }
   ],
   "source": [
    "usernames = [\"Joey Tribbiani\", \"Monica Geller\", \"Chandler Bing\", \"Phoebe Buffay\"]\n",
    "\n",
    "# write your for loop here\n",
    "for i in range(len(usernames)):\n",
    "    usernames[i] = usernames[i].lower().replace(' ', '_')\n",
    "\n",
    "print(f'usernames = {usernames}')"
   ]
  },
  {
   "cell_type": "markdown",
   "metadata": {},
   "source": [
    "##### Building Dictionaries - `for` Loop"
   ]
  },
  {
   "cell_type": "code",
   "execution_count": 13,
   "metadata": {},
   "outputs": [
    {
     "name": "stdout",
     "output_type": "stream",
     "text": [
      "word_count = {'great': 2, 'expectations': 1, 'the': 2, 'adventures': 2, 'of': 2, 'sherlock': 1, 'holmes': 1, 'gasby': 1, 'hamlet': 1, 'huckleberry': 1, 'fin': 1}\n"
     ]
    }
   ],
   "source": [
    "book_title =  ['great', 'expectations','the', 'adventures', 'of', 'sherlock','holmes','the','great','gasby','hamlet','adventures','of','huckleberry','fin']\n",
    "\n",
    "word_counter = {}\n",
    "\n",
    "for word in book_title:\n",
    "    if word in word_counter:\n",
    "        word_counter[word] += 1\n",
    "    else:\n",
    "        word_counter[word] = 1\n",
    "\n",
    "print(f'word_count = {word_counter}')"
   ]
  },
  {
   "cell_type": "markdown",
   "metadata": {},
   "source": [
    "##### Building Dictionaries - `for` Loop and `get()`"
   ]
  },
  {
   "cell_type": "code",
   "execution_count": 14,
   "metadata": {},
   "outputs": [
    {
     "name": "stdout",
     "output_type": "stream",
     "text": [
      "word_count = {'great': 2, 'expectations': 1, 'the': 2, 'adventures': 2, 'of': 2, 'sherlock': 1, 'holmes': 1, 'gasby': 1, 'hamlet': 1, 'huckleberry': 1, 'fin': 1}\n"
     ]
    }
   ],
   "source": [
    "word_counter = {}\n",
    "\n",
    "for word in book_title:\n",
    "    word_counter[word] = word_counter.get(word, 0) + 1\n",
    "\n",
    "print(f'word_count = {word_counter}')"
   ]
  },
  {
   "cell_type": "markdown",
   "metadata": {},
   "source": [
    "##### Iterating through Dictionaries"
   ]
  },
  {
   "cell_type": "code",
   "execution_count": 15,
   "metadata": {},
   "outputs": [
    {
     "name": "stdout",
     "output_type": "stream",
     "text": [
      "Jerry Seinfeld\n",
      "Julia Louis-Dreyfus\n",
      "Jason Alexander\n",
      "Michael Richards\n"
     ]
    }
   ],
   "source": [
    "cast = {\n",
    "           \"Jerry Seinfeld\": \"Jerry Seinfeld\",\n",
    "           \"Julia Louis-Dreyfus\": \"Elaine Benes\",\n",
    "           \"Jason Alexander\": \"George Costanza\",\n",
    "           \"Michael Richards\": \"Cosmo Kramer\"\n",
    "       }\n",
    "\n",
    "for key in cast:\n",
    "    print(key)"
   ]
  },
  {
   "cell_type": "code",
   "execution_count": 18,
   "metadata": {},
   "outputs": [
    {
     "name": "stdout",
     "output_type": "stream",
     "text": [
      "Actor: Jerry Seinfeld\tRole: Jerry Seinfeld\n",
      "Actor: Julia Louis-Dreyfus\tRole: Elaine Benes\n",
      "Actor: Jason Alexander\tRole: George Costanza\n",
      "Actor: Michael Richards\tRole: Cosmo Kramer\n"
     ]
    }
   ],
   "source": [
    "for key, value in cast.items():\n",
    "    print('Actor: {}\\tRole: {}'.format(key, value))"
   ]
  },
  {
   "cell_type": "markdown",
   "metadata": {},
   "source": [
    "### `while` Loops\n",
    "\n",
    "`for` loops are an example of \"definite iteration\", meaning that the loop runs for a predefined number of times. `while` loops offer \"indefinite iteration\" allowing for unknown amount of repitition."
   ]
  },
  {
   "cell_type": "code",
   "execution_count": 20,
   "metadata": {},
   "outputs": [
    {
     "name": "stdout",
     "output_type": "stream",
     "text": [
      "hand: [10, 8]\n"
     ]
    }
   ],
   "source": [
    "card_deck = [4, 11, 8, 5, 13, 2, 8, 10]\n",
    "hand = []\n",
    "\n",
    "## adds the last element of the card_deck list to the hand list\n",
    "## until the values in hand add up to 17 or more\n",
    "while sum(hand)  < 17:\n",
    "    hand.append(card_deck.pop())\n",
    "\n",
    "print(f'hand: {hand}')"
   ]
  },
  {
   "cell_type": "markdown",
   "metadata": {},
   "source": [
    "##### `break` and `continue`\n",
    "\n",
    "`break` terminates a loop while `continue` skips one iteration of a loop."
   ]
  },
  {
   "cell_type": "code",
   "execution_count": 21,
   "metadata": {},
   "outputs": [
    {
     "name": "stdout",
     "output_type": "stream",
     "text": [
      "METHOD 1\n",
      "current weight: 0\n",
      "  adding bananas (15)\n",
      "current weight: 15\n",
      "  adding mattresses (24)\n",
      "current weight: 39\n",
      "  adding dog kennels (42)\n",
      "current weight: 81\n",
      "  adding machine (120)\n",
      "current weight: 201\n",
      "  breaking loop now!\n",
      "\n",
      "Final Weight: 201\n",
      "Final Items: ['bananas', 'mattresses', 'dog kennels', 'machine']\n",
      "\n",
      "METHOD 2\n",
      "current weight: 0\n",
      "  adding bananas (15)\n",
      "current weight: 15\n",
      "  adding mattresses (24)\n",
      "current weight: 39\n",
      "  adding dog kennels (42)\n",
      "current weight: 81\n",
      "  skipping machine (120)\n",
      "current weight: 81\n",
      "  adding cheeses (5)\n",
      "\n",
      "Final Weight: 86\n",
      "Final Items: ['bananas', 'mattresses', 'dog kennels', 'cheeses']\n"
     ]
    }
   ],
   "source": [
    "manifest = [(\"bananas\", 15), (\"mattresses\", 24), (\"dog kennels\", 42), (\"machine\", 120), (\"cheeses\", 5)]\n",
    "\n",
    "# the code breaks the loop when weight exceeds or reaches the limit\n",
    "print(\"METHOD 1\")\n",
    "weight = 0\n",
    "items = []\n",
    "for cargo_name, cargo_weight in manifest:\n",
    "    print(\"current weight: {}\".format(weight))\n",
    "    if weight >= 100:\n",
    "        print(\"  breaking loop now!\")\n",
    "        break\n",
    "    else:\n",
    "        print(\"  adding {} ({})\".format(cargo_name, cargo_weight))\n",
    "        items.append(cargo_name)\n",
    "        weight += cargo_weight\n",
    "\n",
    "print(\"\\nFinal Weight: {}\".format(weight))\n",
    "print(\"Final Items: {}\".format(items))\n",
    "\n",
    "# skips an iteration when adding an item would exceed the limit\n",
    "# breaks the loop if weight is exactly the value of the limit\n",
    "print(\"\\nMETHOD 2\")\n",
    "weight = 0\n",
    "items = []\n",
    "for cargo_name, cargo_weight in manifest:\n",
    "    print(\"current weight: {}\".format(weight))\n",
    "    if weight >= 100:\n",
    "        print(\"  breaking from the loop now!\")\n",
    "        break\n",
    "    elif weight + cargo_weight > 100:\n",
    "        print(\"  skipping {} ({})\".format(cargo_name, cargo_weight))\n",
    "        continue\n",
    "    else:\n",
    "        print(\"  adding {} ({})\".format(cargo_name, cargo_weight))\n",
    "        items.append(cargo_name)\n",
    "        weight += cargo_weight\n",
    "\n",
    "print(\"\\nFinal Weight: {}\".format(weight))\n",
    "print(\"Final Items: {}\".format(items))"
   ]
  },
  {
   "cell_type": "code",
   "execution_count": 29,
   "metadata": {},
   "outputs": [
    {
     "name": "stdout",
     "output_type": "stream",
     "text": [
      "news_ticker: Local Bear Eaten by Man Legislature Announces New Laws Peasant Discovers Violence Inherent in System Cat Rescues Fireman Stuck in Tree Brave\n"
     ]
    }
   ],
   "source": [
    "headlines = [\"Local Bear Eaten by Man\",\n",
    "             \"Legislature Announces New Laws\",\n",
    "             \"Peasant Discovers Violence Inherent in System\",\n",
    "             \"Cat Rescues Fireman Stuck in Tree\",\n",
    "             \"Brave Knight Runs Away\",\n",
    "             \"Papperbok Review: Totally Triffic\"]\n",
    "\n",
    "news_ticker = \"\"\n",
    "for headline in headlines:\n",
    "    news_ticker += headline + \" \"\n",
    "    if len(news_ticker) >= 140:\n",
    "        news_ticker = news_ticker[:140]\n",
    "        break\n",
    "\n",
    "print(f'news_ticker: {news_ticker}')"
   ]
  },
  {
   "cell_type": "markdown",
   "metadata": {},
   "source": [
    "##### `zip`\n",
    "\n",
    "Returns an iterator that combines multiple iterables into one sequence of tuples."
   ]
  },
  {
   "cell_type": "code",
   "execution_count": 1,
   "metadata": {},
   "outputs": [
    {
     "name": "stdout",
     "output_type": "stream",
     "text": [
      "list(zip(['a', 'b', 'c'],[1, 2, 3])): [('a', 1), ('b', 2), ('c', 3)]\n"
     ]
    }
   ],
   "source": [
    "letters = ['a', 'b', 'c']\n",
    "numbers = [1, 2, 3]\n",
    "print(f\"list(zip(['a', 'b', 'c'],[1, 2, 3])): {list(zip(letters, numbers))}\")"
   ]
  },
  {
   "cell_type": "code",
   "execution_count": 2,
   "metadata": {},
   "outputs": [
    {
     "name": "stdout",
     "output_type": "stream",
     "text": [
      "a 1\n",
      "b 2\n",
      "c 3\n"
     ]
    }
   ],
   "source": [
    "for letter, num in zip(letters, numbers):\n",
    "    print(\"{} {}\".format(letter, num))"
   ]
  },
  {
   "cell_type": "code",
   "execution_count": 3,
   "metadata": {},
   "outputs": [
    {
     "name": "stdout",
     "output_type": "stream",
     "text": [
      "Unzip list into tuples: ('a', 'b', 'c') (1, 2, 3)\n"
     ]
    }
   ],
   "source": [
    "some_list = [('a', 1), ('b', 2), ('c', 3)]\n",
    "letters, nums = zip(*some_list)\n",
    "print(\"Unzip list into tuples: {} {}\".format(letters, nums))"
   ]
  },
  {
   "cell_type": "markdown",
   "metadata": {},
   "source": [
    "##### `enumerate`\n",
    "\n",
    "Built in function that returns an iterator of tuples containing indices and values of a list."
   ]
  },
  {
   "cell_type": "code",
   "execution_count": 45,
   "metadata": {},
   "outputs": [
    {
     "name": "stdout",
     "output_type": "stream",
     "text": [
      "0 a\n",
      "1 b\n",
      "2 c\n",
      "3 d\n",
      "4 e\n"
     ]
    }
   ],
   "source": [
    "letters = ['a', 'b', 'c', 'd', 'e']\n",
    "\n",
    "for i, letter in enumerate(letters):\n",
    "    print(i, letter)"
   ]
  },
  {
   "cell_type": "code",
   "execution_count": 51,
   "metadata": {},
   "outputs": [
    {
     "name": "stdout",
     "output_type": "stream",
     "text": [
      "F: 23, 677, 4\n",
      "J: 53, 233, 16\n",
      "A: 2, 405, -6\n",
      "Q: -12, 433, -42\n",
      "Y: 95, 905, 3\n",
      "B: 103, 376, -6\n",
      "W: 14, 432, 23\n",
      "X: -5, 445, -1\n",
      "[('F', 'J', 'A', 'Q', 'Y', 'B', 'W', 'X'), (':', ':', ':', ':', ':', ':', ':', ':'), (' ', ' ', ' ', ' ', ' ', ' ', ' ', ' '), ('2', '5', '2', '-', '9', '1', '1', '-'), ('3', '3', ',', '1', '5', '0', '4', '5'), (',', ',', ' ', '2', ',', '3', ',', ','), (' ', ' ', '4', ',', ' ', ',', ' ', ' '), ('6', '2', '0', ' ', '9', ' ', '4', '4'), ('7', '3', '5', '4', '0', '3', '3', '4'), ('7', '3', ',', '3', '5', '7', '2', '5'), (',', ',', ' ', '3', ',', '6', ',', ','), (' ', ' ', '-', ',', ' ', ',', ' ', ' '), ('4', '1', '6', ' ', '3', ' ', '2', '-')]\n"
     ]
    }
   ],
   "source": [
    "x_coord = [23, 53, 2, -12, 95, 103, 14, -5]\n",
    "y_coord = [677, 233, 405, 433, 905, 376, 432, 445]\n",
    "z_coord = [4, 16, -6, -42, 3, -6, 23, -1]\n",
    "labels = [\"F\", \"J\", \"A\", \"Q\", \"Y\", \"B\", \"W\", \"X\"]\n",
    "\n",
    "points = []\n",
    "for x, y, z, label in zip(x_coord, y_coord, z_coord, labels):\n",
    "    points.append(\"{}: {}, {}, {}\".format(label, x, y, z))\n",
    "\n",
    "for point in points:\n",
    "    print(point)\n",
    "\n",
    "# print(list(zip(*points)))"
   ]
  },
  {
   "cell_type": "code",
   "execution_count": 8,
   "metadata": {},
   "outputs": [
    {
     "name": "stdout",
     "output_type": "stream",
     "text": [
      "{'Barney': 72, 'Robin': 68, 'Ted': 72, 'Lily': 66, 'Marshall': 76}\n"
     ]
    }
   ],
   "source": [
    "cast_names = [\"Barney\", \"Robin\", \"Ted\", \"Lily\", \"Marshall\"]\n",
    "cast_heights = [72, 68, 72, 66, 76]\n",
    "\n",
    "cast = dict(zip(cast_names, cast_heights))\n",
    "print(cast)"
   ]
  },
  {
   "cell_type": "code",
   "execution_count": 11,
   "metadata": {},
   "outputs": [
    {
     "name": "stdout",
     "output_type": "stream",
     "text": [
      "names: ('Barney', 'Robin', 'Ted', 'Lily', 'Marshall')\n",
      "heights: (72, 68, 72, 66, 76)\n"
     ]
    }
   ],
   "source": [
    "names, heights = zip(*cast.items())\n",
    "print(\"names: {}\\nheights: {}\".format(names, heights))"
   ]
  },
  {
   "cell_type": "markdown",
   "metadata": {},
   "source": [
    "##### Transpose with `zip`\n",
    "\n",
    "Turn a 4x3 matrix into a 3x4 matrix."
   ]
  },
  {
   "cell_type": "code",
   "execution_count": 12,
   "metadata": {},
   "outputs": [
    {
     "name": "stdout",
     "output_type": "stream",
     "text": [
      "((0, 3, 6, 9), (1, 4, 7, 10), (2, 5, 8, 11))\n"
     ]
    }
   ],
   "source": [
    "data = ((0, 1, 2), (3, 4, 5), (6, 7, 8), (9, 10, 11))\n",
    "\n",
    "data_transpose = tuple(zip(*data))\n",
    "print(data_transpose)"
   ]
  },
  {
   "cell_type": "markdown",
   "metadata": {},
   "source": [
    "### `list` Comprehensions\n",
    "\n",
    "`for` Loop\n",
    "\n",
    "    capitalized_cities = []\n",
    "    for city in cities:\n",
    "        capitalized_cities.append(city.title())\n",
    "\n",
    "`list` Comprehension\n",
    "\n",
    "    capitalized_cities = [city.title() for city in cities]"
   ]
  },
  {
   "cell_type": "code",
   "execution_count": 16,
   "metadata": {},
   "outputs": [
    {
     "name": "stdout",
     "output_type": "stream",
     "text": [
      "first_names: ['rick', 'morty', 'summer', 'jerry', 'beth']\n"
     ]
    }
   ],
   "source": [
    "names = [\"Rick Sanchez\", \"Morty Smith\", \"Summer Smith\", \"Jerry Smith\", \"Beth Smith\"]\n",
    "\n",
    "first_names = [name.split()[0].lower() for name in names]\n",
    "print(f'first_names: {first_names}')"
   ]
  },
  {
   "cell_type": "code",
   "execution_count": 18,
   "metadata": {},
   "outputs": [
    {
     "name": "stdout",
     "output_type": "stream",
     "text": [
      "multiples_3: [3, 6, 9, 12, 15, 18, 21, 24, 27, 30, 33, 36, 39, 42, 45, 48, 51, 54, 57, 60]\n"
     ]
    }
   ],
   "source": [
    "multiples_3 = [x*3 for x in range(1, 21)]\n",
    "print(f'multiples_3: {multiples_3}')"
   ]
  },
  {
   "cell_type": "code",
   "execution_count": 17,
   "metadata": {},
   "outputs": [
    {
     "name": "stdout",
     "output_type": "stream",
     "text": [
      "passed: ['Rick Sanchez', 'Summer Smith', 'Beth Smith']\n"
     ]
    }
   ],
   "source": [
    "scores = {\n",
    "             \"Rick Sanchez\": 70,\n",
    "             \"Morty Smith\": 35,\n",
    "             \"Summer Smith\": 82,\n",
    "             \"Jerry Smith\": 23,\n",
    "             \"Beth Smith\": 98\n",
    "         }\n",
    "passed = [name for name, score in scores.items() if score >= 65]\n",
    "print(f'passed: {passed}')"
   ]
  }
 ],
 "metadata": {
  "kernelspec": {
   "display_name": "Python 3",
   "language": "python",
   "name": "python3"
  },
  "language_info": {
   "codemirror_mode": {
    "name": "ipython",
    "version": 3
   },
   "file_extension": ".py",
   "mimetype": "text/x-python",
   "name": "python",
   "nbconvert_exporter": "python",
   "pygments_lexer": "ipython3",
   "version": "3.11.0"
  }
 },
 "nbformat": 4,
 "nbformat_minor": 2
}
