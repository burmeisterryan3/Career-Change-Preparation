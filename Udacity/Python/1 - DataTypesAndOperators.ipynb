{
 "cells": [
  {
   "cell_type": "markdown",
   "metadata": {},
   "source": [
    "# Udacity - Python\n",
    "\n",
    "## Data Types and Operators\n",
    "\n",
    "[Python Docs](https://docs.python.org/3/library/index.html)\n",
    "\n",
    "[Python Reserved Words](https://docs.python.org/3/reference/lexical_analysis.html#keywords)\n",
    "\n",
    "[PEP 8 - Style Guide for Python Code](https://peps.python.org/pep-0008/)"
   ]
  },
  {
   "cell_type": "markdown",
   "metadata": {},
   "source": [
    "### Arithmetic Operators"
   ]
  },
  {
   "cell_type": "code",
   "execution_count": 9,
   "metadata": {},
   "outputs": [
    {
     "name": "stdout",
     "output_type": "stream",
     "text": [
      "a+b = 9\n",
      "a-b = 3\n",
      "a*b = 18\n",
      "a/b = 2.0\n",
      "a%b = 0\n",
      "a**b = 216\n",
      "a//b = 2, NOTE: divides down to the nearest integer\n"
     ]
    }
   ],
   "source": [
    "a = 6\n",
    "b = 3\n",
    "\n",
    "print(f'a+b = {a+b}')\n",
    "print(f'a-b = {a-b}')\n",
    "print(f'a*b = {a*b}')\n",
    "print(f'a/b = {a/b}')\n",
    "print(f'a%b = {a%b}')\n",
    "print(f'a**b = {a**b}')\n",
    "print(f'a//b = {a//b}, NOTE: divides down to the nearest integer')"
   ]
  },
  {
   "cell_type": "markdown",
   "metadata": {},
   "source": [
    "### Integers and Floats"
   ]
  },
  {
   "cell_type": "code",
   "execution_count": 18,
   "metadata": {},
   "outputs": [
    {
     "name": "stdout",
     "output_type": "stream",
     "text": [
      "x is type int\n",
      "y is type float\n"
     ]
    }
   ],
   "source": [
    "x = int(4.7)\n",
    "y = float(4)\n",
    "print(f'x is type {type(x).__name__}')\n",
    "print(f'y is type {type(y).__name__}')"
   ]
  },
  {
   "cell_type": "markdown",
   "metadata": {},
   "source": [
    "### Booleans, Comparison Operators, and Logical Operators\n",
    "\n",
    "##### Comparison Operators"
   ]
  },
  {
   "cell_type": "code",
   "execution_count": 20,
   "metadata": {},
   "outputs": [
    {
     "name": "stdout",
     "output_type": "stream",
     "text": [
      "5 < 3 is False\n",
      "5 > 3 is True\n",
      "3 >= 5 is False\n",
      "3 <= 3 is True\n",
      "3 == 5 is False\n",
      "3 != 5 is True\n"
     ]
    }
   ],
   "source": [
    "print(f'5 < 3 is {5 < 3}')\n",
    "print(f'5 > 3 is {5 > 3}')\n",
    "print(f'3 >= 5 is {3 >= 5}')\n",
    "print(f'3 <= 3 is {3 <= 3}')\n",
    "print(f'3 == 5 is {3 == 5}')\n",
    "print(f'3 != 5 is {3 != 5}')"
   ]
  },
  {
   "cell_type": "markdown",
   "metadata": {},
   "source": [
    "##### Logical Operators"
   ]
  },
  {
   "cell_type": "code",
   "execution_count": 21,
   "metadata": {},
   "outputs": [
    {
     "name": "stdout",
     "output_type": "stream",
     "text": [
      "5 < 3 and 5 == 5 is False\n",
      "5 < 3 or 5 == 5 is True\n",
      "not 5 < 3 True\n"
     ]
    }
   ],
   "source": [
    "print(f'5 < 3 and 5 == 5 is {5 < 3 and 5 == 5}')\n",
    "print(f'5 < 3 or 5 == 5 is {5 < 3 or 5 == 5}')\n",
    "print(f'not 5 < 3 is {not 5 < 3}')"
   ]
  },
  {
   "cell_type": "markdown",
   "metadata": {},
   "source": [
    "### Strings\n",
    "\n",
    "##### Constructor\n",
    "\n",
    "`' '`, `\" \"`, or `str()`\n",
    "\n",
    "##### Single and Double Quotes with Concatenation"
   ]
  },
  {
   "cell_type": "code",
   "execution_count": 24,
   "metadata": {},
   "outputs": [
    {
     "name": "stdout",
     "output_type": "stream",
     "text": [
      "single quoted string:\n",
      "\tthis is a string!\n",
      "single quoted string with escape:\n",
      "\tSimon's skateboard is in the garage.\n"
     ]
    }
   ],
   "source": [
    "string1 = 'this is a string!'\n",
    "string2 = 'Simon\\'s skateboard is in the garage.'\n",
    "print('single quoted string:\\n\\t' + string1)\n",
    "print('single quoted string with escape:\\n\\t' + string2)"
   ]
  },
  {
   "cell_type": "markdown",
   "metadata": {},
   "source": [
    "### Type Conversion"
   ]
  },
  {
   "cell_type": "code",
   "execution_count": 33,
   "metadata": {},
   "outputs": [
    {
     "name": "stdout",
     "output_type": "stream",
     "text": [
      "\"0\" + \"5\" is \"05\"\n",
      "0 + 5 is 5\n"
     ]
    }
   ],
   "source": [
    "print(f'\"0\" + \"5\" is \"{\"0\" + \"5\"}\"')\n",
    "print(f'0 + 5 is {0 + 5}')"
   ]
  },
  {
   "cell_type": "code",
   "execution_count": 34,
   "metadata": {},
   "outputs": [
    {
     "ename": "TypeError",
     "evalue": "can only concatenate str (not \"int\") to str",
     "output_type": "error",
     "traceback": [
      "\u001b[1;31m---------------------------------------------------------------------------\u001b[0m",
      "\u001b[1;31mTypeError\u001b[0m                                 Traceback (most recent call last)",
      "\u001b[1;32mc:\\Users\\burme\\Source\\Career-Change-Preparation\\Udacity\\Python\\DataTypesAndOperators.ipynb Cell 16\u001b[0m line \u001b[0;36m1\n\u001b[1;32m----> <a href='vscode-notebook-cell:/c%3A/Users/burme/Source/Career-Change-Preparation/Udacity/Python/DataTypesAndOperators.ipynb#X30sZmlsZQ%3D%3D?line=0'>1</a>\u001b[0m \u001b[39mprint\u001b[39m(\u001b[39mf\u001b[39m\u001b[39m'\u001b[39m\u001b[39m\"\u001b[39m\u001b[39m0\u001b[39m\u001b[39m\"\u001b[39m\u001b[39m + 5 is \u001b[39m\u001b[39m{\u001b[39;00m\u001b[39m\"\u001b[39;49m\u001b[39m0\u001b[39;49m\u001b[39m\"\u001b[39;49m\u001b[39m \u001b[39;49m\u001b[39m+\u001b[39;49m\u001b[39m \u001b[39;49m\u001b[39m5\u001b[39;49m\u001b[39m}\u001b[39;00m\u001b[39m'\u001b[39m)\n",
      "\u001b[1;31mTypeError\u001b[0m: can only concatenate str (not \"int\") to str"
     ]
    }
   ],
   "source": [
    "print(f'\"0\" + 5 is {\"0\" + 5}')"
   ]
  },
  {
   "cell_type": "markdown",
   "metadata": {},
   "source": [
    "##### String Methods"
   ]
  },
  {
   "cell_type": "code",
   "execution_count": 43,
   "metadata": {},
   "outputs": [
    {
     "name": "stdout",
     "output_type": "stream",
     "text": [
      "hello my name is ryan\n",
      "2\n",
      "Location of the first 'a' is at position 10.\n"
     ]
    }
   ],
   "source": [
    "sentence = \"Hello My Name Is Ryan\"\n",
    "print(sentence.lower())\n",
    "print(sentence.count('a'))\n",
    "print(f\"Location of the first 'a' is at position {sentence.find('a')}.\")"
   ]
  },
  {
   "cell_type": "markdown",
   "metadata": {},
   "source": [
    "`len()` and `str` math"
   ]
  },
  {
   "cell_type": "code",
   "execution_count": 32,
   "metadata": {},
   "outputs": [
    {
     "name": "stdout",
     "output_type": "stream",
     "text": [
      "string1 length is 17 characters\n",
      "string2 length is 36 characters\n",
      "hippohippohippohippohippohippohippohippohippohippohippohippo\n"
     ]
    }
   ],
   "source": [
    "print(f'string1 length is {len(string1)} characters')\n",
    "print(f'string2 length is {len(string2)} characters')\n",
    "print(f'{\"hippo\" * 12}')"
   ]
  },
  {
   "cell_type": "markdown",
   "metadata": {},
   "source": [
    "`split()`"
   ]
  },
  {
   "cell_type": "code",
   "execution_count": 49,
   "metadata": {},
   "outputs": [
    {
     "name": "stdout",
     "output_type": "stream",
     "text": [
      "['The', 'cow', 'jumped', 'over', 'the', 'moon.']\n",
      "['The', 'cow', 'jumped', 'over the moon.']\n",
      "['The cow jumped over the moon', '']\n",
      "['The', 'cow', 'jumped', 'over the moon.']\n"
     ]
    }
   ],
   "source": [
    "sentence = \"The cow jumped over the moon.\"\n",
    "print(sentence.split())\n",
    "print(sentence.split(' ', 3))\n",
    "print(sentence.split('.'))\n",
    "print(sentence.split(None, 3))"
   ]
  },
  {
   "cell_type": "markdown",
   "metadata": {},
   "source": [
    "### Lists\n",
    "\n",
    "Ordered, mutable data type.\n",
    "\n",
    "##### Constructor\n",
    "\n",
    "`[ ]` or `list()`\n",
    "\n",
    "##### Indexing"
   ]
  },
  {
   "cell_type": "code",
   "execution_count": 51,
   "metadata": {},
   "outputs": [
    {
     "name": "stdout",
     "output_type": "stream",
     "text": [
      "First item in list: 1\n"
     ]
    },
    {
     "ename": "IndexError",
     "evalue": "list index out of range",
     "output_type": "error",
     "traceback": [
      "\u001b[1;31m---------------------------------------------------------------------------\u001b[0m",
      "\u001b[1;31mIndexError\u001b[0m                                Traceback (most recent call last)",
      "\u001b[1;32mc:\\Users\\burme\\Source\\Career-Change-Preparation\\Udacity\\Python\\DataTypesAndOperators.ipynb Cell 21\u001b[0m line \u001b[0;36m3\n\u001b[0;32m      <a href='vscode-notebook-cell:/c%3A/Users/burme/Source/Career-Change-Preparation/Udacity/Python/DataTypesAndOperators.ipynb#X35sZmlsZQ%3D%3D?line=0'>1</a>\u001b[0m list_of_random_things \u001b[39m=\u001b[39m [\u001b[39m1\u001b[39m, \u001b[39m3.4\u001b[39m, \u001b[39m'\u001b[39m\u001b[39ma string\u001b[39m\u001b[39m'\u001b[39m, \u001b[39mTrue\u001b[39;00m]\n\u001b[0;32m      <a href='vscode-notebook-cell:/c%3A/Users/burme/Source/Career-Change-Preparation/Udacity/Python/DataTypesAndOperators.ipynb#X35sZmlsZQ%3D%3D?line=1'>2</a>\u001b[0m \u001b[39mprint\u001b[39m(\u001b[39mf\u001b[39m\u001b[39m'\u001b[39m\u001b[39mFirst item in list: \u001b[39m\u001b[39m{\u001b[39;00mlist_of_random_things[\u001b[39m0\u001b[39m]\u001b[39m}\u001b[39;00m\u001b[39m'\u001b[39m)\n\u001b[1;32m----> <a href='vscode-notebook-cell:/c%3A/Users/burme/Source/Career-Change-Preparation/Udacity/Python/DataTypesAndOperators.ipynb#X35sZmlsZQ%3D%3D?line=2'>3</a>\u001b[0m list_of_random_things[\u001b[39mlen\u001b[39;49m(list_of_random_things)]\n",
      "\u001b[1;31mIndexError\u001b[0m: list index out of range"
     ]
    }
   ],
   "source": [
    "list_of_random_things = [1, 3.4, 'a string', True]\n",
    "print(f'First item in list: {list_of_random_things[0]}')\n",
    "list_of_random_things[len(list_of_random_things)]"
   ]
  },
  {
   "cell_type": "code",
   "execution_count": 55,
   "metadata": {},
   "outputs": [
    {
     "name": "stdout",
     "output_type": "stream",
     "text": [
      "Last item of the list: True\n",
      "Last item of the list: True\n",
      "Second to last item of the list: a string\n"
     ]
    }
   ],
   "source": [
    "print(f'Last item of the list: {list_of_random_things[len(list_of_random_things)-1]}')\n",
    "print(f'Last item of the list: {list_of_random_things[-1]}')\n",
    "print(f'Second to last item of the list: {list_of_random_things[-2]}')"
   ]
  },
  {
   "cell_type": "markdown",
   "metadata": {},
   "source": [
    "##### Slicing"
   ]
  },
  {
   "cell_type": "code",
   "execution_count": 59,
   "metadata": {},
   "outputs": [
    {
     "name": "stdout",
     "output_type": "stream",
     "text": [
      "Element at index 1: [3.4]\n",
      "Elements including and following index 1: [3.4, 'a string', True]\n"
     ]
    }
   ],
   "source": [
    "print(f'Element at index 1: {list_of_random_things[1:2]}')\n",
    "print(f'Elements including and following index 1: {list_of_random_things[1:]}')"
   ]
  },
  {
   "cell_type": "markdown",
   "metadata": {},
   "source": [
    "##### `in` and `not in`"
   ]
  },
  {
   "cell_type": "code",
   "execution_count": 67,
   "metadata": {},
   "outputs": [
    {
     "name": "stdout",
     "output_type": "stream",
     "text": [
      "\"this\" in \"this is a string\": True\n",
      "\"in\" in \"this is a string\": True\n",
      "\"isa\" in \"this is a string\": False\n",
      "5 not in [1, 2, 3, 4, 6]: True\n",
      "5 in [1, 2, 3, 4, 6]: False\n"
     ]
    }
   ],
   "source": [
    "print(f'\"this\" in \"this is a string\": {\"this\" in \"this is a string\"}')\n",
    "print(f'\"in\" in \"this is a string\": {\"in\" in \"this is a string\"}')\n",
    "print(f'\"isa\" in \"this is a string\": {\"isa\" in \"this is a string\"}')\n",
    "print(f'5 not in [1, 2, 3, 4, 6]: {5 not in [1, 2, 3, 4, 6]}')\n",
    "print(f'5 in [1, 2, 3, 4, 6]: {5 in [1, 2, 3, 4, 6]}')"
   ]
  },
  {
   "cell_type": "markdown",
   "metadata": {},
   "source": [
    "#### Useful `list` functions\n",
    "\n",
    "* `len()`\n",
    "    * Returns the number of elements\n",
    "* `max()`\n",
    "    * Returns the greatest element of the list.\n",
    "    * NOTE: Depends on the type. For example, a `int` list would return the largest `int` while a `str` would return the last element if sorted alphabetically.\n",
    "* `min()`\n",
    "    * Returns the smallest element of a list\n",
    "    * NOTE: Opposite of `max()` note above.\n",
    "* `sorted()`\n",
    "    * Returns a copy of a list in sorted order.\n",
    "    * NOTE: The original `list` is unchanged.\n",
    "* `join()`\n",
    "    * Takes a list of strings as an argument and returns a string of the list elements joined by a separator string.\n",
    "    * Example: `\"-\".join([\"Garcia\", \"O'Kelly\"])` returns `\"Garcia-O'Kelly\"`\n",
    "* `append()`\n",
    "    * Adds an element to the end of a list"
   ]
  },
  {
   "cell_type": "code",
   "execution_count": 72,
   "metadata": {},
   "outputs": [
    {
     "name": "stdout",
     "output_type": "stream",
     "text": [
      "4\n",
      "2\n"
     ]
    }
   ],
   "source": [
    "a = [1, 5, 8]\n",
    "b = [2, 6, 9, 10]\n",
    "c = [100, 200]\n",
    "\n",
    "print(max([len(a), len(b), len(c)]))\n",
    "print(min([len(a), len(b), len(c)]))"
   ]
  },
  {
   "cell_type": "code",
   "execution_count": 73,
   "metadata": {},
   "outputs": [
    {
     "name": "stdout",
     "output_type": "stream",
     "text": [
      "Albert & Ben & Carol & Donna\n"
     ]
    }
   ],
   "source": [
    "names = [\"Carol\", \"Albert\", \"Ben\", \"Donna\"]\n",
    "print(\" & \".join(sorted(names)))"
   ]
  },
  {
   "cell_type": "code",
   "execution_count": 74,
   "metadata": {},
   "outputs": [
    {
     "name": "stdout",
     "output_type": "stream",
     "text": [
      "['Albert', 'Ben', 'Carol', 'Donna', 'Eugenia']\n"
     ]
    }
   ],
   "source": [
    "names = [\"Carol\", \"Albert\", \"Ben\", \"Donna\"]\n",
    "names.append(\"Eugenia\")\n",
    "print(sorted(names))"
   ]
  },
  {
   "cell_type": "markdown",
   "metadata": {},
   "source": [
    "### Mutability and Order\n",
    "\n",
    "**Mutability** is about whether or not we can change an object once it has been created.\n",
    "\n",
    "Example:  `list`s are **mutable** while `str`ings are **immutable**."
   ]
  },
  {
   "cell_type": "code",
   "execution_count": 71,
   "metadata": {},
   "outputs": [
    {
     "name": "stdout",
     "output_type": "stream",
     "text": [
      "Mello there\n"
     ]
    },
    {
     "ename": "TypeError",
     "evalue": "'str' object does not support item assignment",
     "output_type": "error",
     "traceback": [
      "\u001b[1;31m---------------------------------------------------------------------------\u001b[0m",
      "\u001b[1;31mTypeError\u001b[0m                                 Traceback (most recent call last)",
      "\u001b[1;32mc:\\Users\\burme\\Source\\Career-Change-Preparation\\Udacity\\Python\\DataTypesAndOperators.ipynb Cell 28\u001b[0m line \u001b[0;36m6\n\u001b[0;32m      <a href='vscode-notebook-cell:/c%3A/Users/burme/Source/Career-Change-Preparation/Udacity/Python/DataTypesAndOperators.ipynb#X45sZmlsZQ%3D%3D?line=2'>3</a>\u001b[0m \u001b[39mprint\u001b[39m(\u001b[39m'\u001b[39m\u001b[39m'\u001b[39m\u001b[39m.\u001b[39mjoin(greeting))\n\u001b[0;32m      <a href='vscode-notebook-cell:/c%3A/Users/burme/Source/Career-Change-Preparation/Udacity/Python/DataTypesAndOperators.ipynb#X45sZmlsZQ%3D%3D?line=4'>5</a>\u001b[0m greeting \u001b[39m=\u001b[39m \u001b[39m\"\u001b[39m\u001b[39mHello there\u001b[39m\u001b[39m\"\u001b[39m\n\u001b[1;32m----> <a href='vscode-notebook-cell:/c%3A/Users/burme/Source/Career-Change-Preparation/Udacity/Python/DataTypesAndOperators.ipynb#X45sZmlsZQ%3D%3D?line=5'>6</a>\u001b[0m greeting[\u001b[39m0\u001b[39;49m] \u001b[39m=\u001b[39m \u001b[39m'\u001b[39m\u001b[39mM\u001b[39m\u001b[39m'\u001b[39m\n",
      "\u001b[1;31mTypeError\u001b[0m: 'str' object does not support item assignment"
     ]
    }
   ],
   "source": [
    "greeting = ['H', 'e', 'l', 'l', 'o', ' ', 't', 'h', 'e', 'r', 'e']\n",
    "greeting[0] = 'M'\n",
    "print(''.join(greeting))\n",
    "\n",
    "greeting = \"Hello there\"\n",
    "greeting[0] = 'M'"
   ]
  },
  {
   "cell_type": "markdown",
   "metadata": {},
   "source": [
    "**Order** is about whether the position of an element in the oject can be used to access the element. Both `str`ings and `list`s are ordered.\n",
    "\n",
    "### Tuples\n",
    "\n",
    "Immutable, ordered sequences of elements. Cannot add, remove, change, or sort them in place.\n",
    "\n",
    "##### Constuctor\n",
    "\n",
    "`( )` or `tuple()`"
   ]
  },
  {
   "cell_type": "code",
   "execution_count": 75,
   "metadata": {},
   "outputs": [
    {
     "name": "stdout",
     "output_type": "stream",
     "text": [
      "Latitude: 13.4125\n",
      "Longitude: 103.866667\n"
     ]
    }
   ],
   "source": [
    "location = (13.4125, 103.866667)\n",
    "# location = 13.4125, 103.866667\n",
    "print(\"Latitude:\", location[0])\n",
    "print(\"Longitude:\", location[1])"
   ]
  },
  {
   "cell_type": "code",
   "execution_count": 76,
   "metadata": {},
   "outputs": [
    {
     "name": "stdout",
     "output_type": "stream",
     "text": [
      "The dimensions are 52 x 40 x 100\n"
     ]
    }
   ],
   "source": [
    "dimensions = 52, 40, 100\n",
    "length, width, height = dimensions # Tuple unpacking, can make one line of code by assigning to all three\n",
    "print(\"The dimensions are {} x {} x {}\".format(length, width, height))"
   ]
  },
  {
   "cell_type": "markdown",
   "metadata": {},
   "source": [
    "### Sets\n",
    "\n",
    "Mutable, unordered collections of unique elements.\n",
    "\n",
    "##### Constructor\n",
    "\n",
    "`{ }` or `set()`"
   ]
  },
  {
   "cell_type": "code",
   "execution_count": 94,
   "metadata": {},
   "outputs": [
    {
     "name": "stdout",
     "output_type": "stream",
     "text": [
      "Unique numbers: {1, 2, 3, 6}\n"
     ]
    }
   ],
   "source": [
    "numbers = [6, 1, 3, 2, 1, 1, 6]\n",
    "unique_nums = set(numbers)\n",
    "print(f'Unique numbers: {unique_nums}')"
   ]
  },
  {
   "cell_type": "code",
   "execution_count": 95,
   "metadata": {},
   "outputs": [
    {
     "name": "stdout",
     "output_type": "stream",
     "text": [
      "False\n",
      "{'grapefruit', 'apple', 'banana', 'watermelon', 'orange'}\n",
      "grapefruit\n",
      "{'apple', 'banana', 'watermelon', 'orange'}\n"
     ]
    }
   ],
   "source": [
    "fruit = {\"apple\", \"banana\", \"orange\", \"grapefruit\"}  # define a set\n",
    "\n",
    "print(\"watermelon\" in fruit)  # check for element\n",
    "\n",
    "fruit.add(\"watermelon\")  # add an element\n",
    "print(fruit)\n",
    "\n",
    "print(fruit.pop())  # remove a random element\n",
    "print(fruit)"
   ]
  },
  {
   "cell_type": "code",
   "execution_count": 96,
   "metadata": {},
   "outputs": [
    {
     "name": "stdout",
     "output_type": "stream",
     "text": [
      "Union: {'apple', 'strawberry', 'banana', 'watermelon', 'orange', 'kiwi'}\n",
      "Intersection: {'banana', 'orange'}\n",
      "Difference: {'apple', 'watermelon'}\n"
     ]
    }
   ],
   "source": [
    "fruit2 = {\"banana\", \"orange\", \"kiwi\", \"strawberry\"}\n",
    "\n",
    "print(f'Union: {fruit.union(fruit2)}')\n",
    "print(f'Intersection: {fruit.intersection(fruit2)}')\n",
    "print(f'Difference: {fruit.difference(fruit2)}')"
   ]
  },
  {
   "cell_type": "markdown",
   "metadata": {},
   "source": [
    "### Dictionaries\n",
    "\n",
    "Mutable type that stores mappings of unique keys to values. The keys can be any immutable type, e.g., strings, integers, or tuples.\n",
    "\n",
    "##### Constructor\n",
    "\n",
    "`{ }` or `dict()`"
   ]
  },
  {
   "cell_type": "code",
   "execution_count": 97,
   "metadata": {},
   "outputs": [
    {
     "name": "stdout",
     "output_type": "stream",
     "text": [
      "elements['helium'] = 2\n"
     ]
    }
   ],
   "source": [
    "elements = {\"hydrogen\": 1, \"helium\": 2, \"carbon\": 6}\n",
    "print(f\"elements['helium'] = {elements['helium']}\")"
   ]
  },
  {
   "cell_type": "markdown",
   "metadata": {},
   "source": [
    "##### `get`\n",
    "\n",
    "Performs a lookup, but unlike the square brackets, `get` returns `None` (or a default value) if the key isn't found."
   ]
  },
  {
   "cell_type": "code",
   "execution_count": 98,
   "metadata": {},
   "outputs": [
    {
     "name": "stdout",
     "output_type": "stream",
     "text": [
      "\"carbon\" in elements: True\n",
      "elements.get(\"dilithium\"): None\n"
     ]
    }
   ],
   "source": [
    "elements[\"lithium\"] = 3  # insert \"lithium\" with a value of 3 into the dictionary\n",
    "print(f'\"carbon\" in elements: {\"carbon\" in elements}')\n",
    "print(f'elements.get(\"dilithium\"): {elements.get(\"dilithium\")}')"
   ]
  },
  {
   "cell_type": "code",
   "execution_count": 101,
   "metadata": {},
   "outputs": [
    {
     "name": "stdout",
     "output_type": "stream",
     "text": [
      "animals['dogs'] = [20, 10, 15, 8, 32, 15]\n",
      "animals[\"dogs\"][3] = 8\n"
     ]
    }
   ],
   "source": [
    "animals = {\n",
    "    'dogs': [20, 10, 15, 8, 32, 15],\n",
    "    'cats': [3,4,2,8,2,4],\n",
    "    'rabbits': [2, 3, 3],\n",
    "    'fish': [0.3, 0.5, 0.8, 0.3, 1]\n",
    "}\n",
    "\n",
    "print(f'animals[\\'dogs\\'] = {animals[\"dogs\"]}')\n",
    "print(f'animals[\"dogs\"][3] = {animals[\"dogs\"][3]}')"
   ]
  },
  {
   "cell_type": "markdown",
   "metadata": {},
   "source": [
    "### Identity Operators\n",
    "\n",
    "##### `is`\n",
    "\n",
    "Evaluates if both sides have the same identity\n",
    "\n",
    "##### `is not`\n",
    "\n",
    "Evaluates if both sides have different identities"
   ]
  },
  {
   "cell_type": "code",
   "execution_count": 99,
   "metadata": {},
   "outputs": [
    {
     "name": "stdout",
     "output_type": "stream",
     "text": [
      "n is none: True\n",
      "n is not none: False\n"
     ]
    }
   ],
   "source": [
    "n = elements.get(\"dilithium\")\n",
    "print(f'n is none: {n is None}')\n",
    "print(f'n is not none: {n is not None}')"
   ]
  },
  {
   "cell_type": "code",
   "execution_count": 100,
   "metadata": {},
   "outputs": [
    {
     "name": "stdout",
     "output_type": "stream",
     "text": [
      "a == b: True\n",
      "a is b: True\n",
      "a == c: True\n",
      "a is c: False\n"
     ]
    }
   ],
   "source": [
    "a = [1, 2, 3]\n",
    "b = a\n",
    "c = [1, 2, 3]\n",
    "print(f'a == b: {a == b}')\n",
    "print(f'a is b: {a is b}')\n",
    "print(f'a == c: {a == c}')\n",
    "print(f'a is c: {a is c}')"
   ]
  },
  {
   "cell_type": "markdown",
   "metadata": {},
   "source": [
    "### Compound Data Structures"
   ]
  },
  {
   "cell_type": "code",
   "execution_count": 102,
   "metadata": {},
   "outputs": [
    {
     "name": "stdout",
     "output_type": "stream",
     "text": [
      "helium: {'number': 2, 'weight': 4.002602, 'symbol': 'He'}\n",
      "hydrogen weight: 4.002602\n"
     ]
    }
   ],
   "source": [
    "elements = {\"hydrogen\": {\"number\": 1,\n",
    "                         \"weight\": 1.00794,\n",
    "                         \"symbol\": \"H\"},\n",
    "              \"helium\": {\"number\": 2,\n",
    "                         \"weight\": 4.002602,\n",
    "                         \"symbol\": \"He\"}\n",
    "}\n",
    "print(f'helium: {elements[\"helium\"]}')\n",
    "print(f'hydrogen weight: {elements[\"helium\"][\"weight\"]}')     "
   ]
  },
  {
   "cell_type": "code",
   "execution_count": 103,
   "metadata": {},
   "outputs": [
    {
     "name": "stdout",
     "output_type": "stream",
     "text": [
      "elements =  {'hydrogen': {'number': 1, 'weight': 1.00794, 'symbol': 'H'}, 'helium': {'number': 2, 'weight': 4.002602, 'symbol': 'He'}, 'oxygen': {'number': 8, 'weight': 15.999, 'symbol': 'O'}}\n"
     ]
    }
   ],
   "source": [
    "oxygen = {\"number\":8, \"weight\":15.999, \"symbol\":\"O\"}  # create a new oxygen dictionary \n",
    "elements[\"oxygen\"] = oxygen  # assign 'oxygen' as a key to the elements dictionary\n",
    "print('elements = ', elements)"
   ]
  },
  {
   "cell_type": "code",
   "execution_count": 104,
   "metadata": {},
   "outputs": [
    {
     "name": "stdout",
     "output_type": "stream",
     "text": [
      "elements = {'hydrogen': {'number': 1, 'weight': 1.00794, 'symbol': 'H', 'is_noble_gas': False}, 'helium': {'number': 2, 'weight': 4.002602, 'symbol': 'He', 'is_noble_gas': True}, 'oxygen': {'number': 8, 'weight': 15.999, 'symbol': 'O', 'is_noble_gas': False}}\n"
     ]
    }
   ],
   "source": [
    "elements['hydrogen']['is_noble_gas'] = False\n",
    "elements['helium']['is_noble_gas'] = True\n",
    "elements['oxygen']['is_noble_gas'] = False\n",
    "print(f'elements = {elements}')"
   ]
  }
 ],
 "metadata": {
  "kernelspec": {
   "display_name": "Python 3",
   "language": "python",
   "name": "python3"
  },
  "language_info": {
   "codemirror_mode": {
    "name": "ipython",
    "version": 3
   },
   "file_extension": ".py",
   "mimetype": "text/x-python",
   "name": "python",
   "nbconvert_exporter": "python",
   "pygments_lexer": "ipython3",
   "version": "3.11.0"
  }
 },
 "nbformat": 4,
 "nbformat_minor": 2
}
