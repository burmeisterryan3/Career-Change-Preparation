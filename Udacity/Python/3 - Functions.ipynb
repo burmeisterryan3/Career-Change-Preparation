{
 "cells": [
  {
   "cell_type": "markdown",
   "metadata": {},
   "source": [
    "# Udacity - Python\n",
    "\n",
    "## Functions\n",
    "\n",
    "[Python Docs](https://docs.python.org/3/library/index.html)\n",
    "\n",
    "[Python Reserved Words](https://docs.python.org/3/reference/lexical_analysis.html#keywords)\n",
    "\n",
    "[PEP 8 - Style Guide for Python Code](https://peps.python.org/pep-0008/)\n",
    "\n",
    "[PEP 257 - Docstring Conventions](https://peps.python.org/pep-0257/)"
   ]
  },
  {
   "cell_type": "markdown",
   "metadata": {},
   "source": [
    "##### Function Definition Example\n",
    "\n",
    "    def cylinder_volume(height, radius):\n",
    "        pi = 3.14159\n",
    "        return height * pi * radius**2\n",
    "\n",
    "##### Function Call Example\n",
    "\n",
    "    cylinder_volume(10, 3)\n",
    "\n",
    "### Function Header\n",
    "\n",
    "1. `def` - Function header always starts with `def` and indicates that this section of code is a **function definition**\n",
    "1. `cylinder_volume` - The **function name** follows `def` and follows the same naming convention as variables\n",
    "1. `(height, radius)` - The **parameters** are values defined in a function definition. **arguments** are passed as inputs when the function is called\n",
    "1. `:` - The header always ends with a colon\n",
    "\n",
    "##### Naming Conventions for Functions\n",
    "\n",
    "* Only use letters, numbers, and underscores. Spaces are not permitted. Names must start with a letter or underscore.\n",
    "* Reserved words or keywords are not permitted.\n",
    "* Use a descriptive name that helps readers understand what the function does.\n",
    "\n",
    "### Default Arguments\n",
    "\n",
    "    def cylinder_volumne(height, radius=2):\n",
    "        pi = 3.14159\n",
    "        return height*pi*radius**2\n",
    "\n",
    "We can now call this function with, for example, `cylinder_volume(10)` or `cylinder_volume(10, 7)`.\n",
    "\n",
    "Note that we are passing our arguments by **position**. However, we can also pass our values by **name**, e.g., `cylinder_volumen(height=10, radius=7)`."
   ]
  },
  {
   "cell_type": "code",
   "execution_count": 2,
   "metadata": {},
   "outputs": [
    {
     "name": "stdout",
     "output_type": "stream",
     "text": [
      "expected result: 10, actual result: 10.0\n",
      "expected result: 7123.6902801, actual result: 7123.690280065897\n"
     ]
    }
   ],
   "source": [
    "def population_density(population, land_area):\n",
    "    return population / land_area\n",
    "\n",
    "test1 = population_density(10, 1)\n",
    "expected_result1 = 10\n",
    "print(\"expected result: {}, actual result: {}\".format(expected_result1, test1))\n",
    "\n",
    "test2 = population_density(864816, 121.4)\n",
    "expected_result2 = 7123.6902801\n",
    "print(\"expected result: {}, actual result: {}\".format(expected_result2, test2))"
   ]
  },
  {
   "cell_type": "markdown",
   "metadata": {},
   "source": [
    "### Documentation\n",
    "\n",
    "Docstrings are a type of comment used to explain the purpose of a function, and how it should be used.\n",
    "\n",
    "Docstrings are surrounded by triple quotes. The first line of the docstring is a brief explanation of the function's purpose."
   ]
  },
  {
   "cell_type": "code",
   "execution_count": 5,
   "metadata": {},
   "outputs": [],
   "source": [
    "def complex(real=0.0, imag=0.0):\n",
    "    \"\"\"\n",
    "    Form a complex number.\n",
    "\n",
    "    Args:\n",
    "        real -- the real part (default 0.0)\n",
    "        imag -- the imaginary part (default 0.0)\n",
    "\n",
    "    Returns:\n",
    "        complex number with the value real + imag*1j\n",
    "\n",
    "    Raises:\n",
    "        TypeError if either argument is invalid\n",
    "    \"\"\"\n",
    "    if imag == 0.0 and real == 0.0:\n",
    "        return complex_zero"
   ]
  },
  {
   "cell_type": "code",
   "execution_count": 6,
   "metadata": {},
   "outputs": [
    {
     "name": "stdout",
     "output_type": "stream",
     "text": [
      "\n",
      "    Form a complex number.\n",
      "\n",
      "    Args:\n",
      "        real -- the real part (default 0.0)\n",
      "        imag -- the imaginary part (default 0.0)\n",
      "\n",
      "    Returns:\n",
      "        complex number with the value real + imag*1j\n",
      "\n",
      "    Raises:\n",
      "        TypeError if either argument is invalid\n",
      "    \n"
     ]
    }
   ],
   "source": [
    "print(complex.__doc__)"
   ]
  },
  {
   "cell_type": "markdown",
   "metadata": {},
   "source": [
    "### Lambda Expressions\n",
    "\n",
    "Lambda expressions can be used to create anonymous functions. They are useful for functions that aren't needed later in your code.\n",
    "\n",
    "You can turn\n",
    "\n",
    "    def multiply(x, y)\n",
    "        return x*y\n",
    "\n",
    "into\n",
    "\n",
    "    multiply = lambda x, y: x*y\n",
    "\n",
    "`multiply(4, 7)` returns `28`.\n",
    "\n",
    "##### Components of a Lambda Expression\n",
    "\n",
    "* `lambda` keyword is used to indicate the lambda expression.\n",
    "* Following `lambda` are one or more arguments for the anonymous function separated by commas, followed by a colon.\n",
    "* Last is an expression that is evaluated and returned in this function."
   ]
  },
  {
   "cell_type": "markdown",
   "metadata": {},
   "source": [
    "### High-order Built-in Functions\n",
    "\n",
    "##### Map\n",
    "\n",
    "`map()` is a higher-order built-in function taht takes a function and iterable as inputs, and returns an iterator that appliest he function to each element of the iterable."
   ]
  },
  {
   "cell_type": "code",
   "execution_count": 17,
   "metadata": {},
   "outputs": [
    {
     "name": "stdout",
     "output_type": "stream",
     "text": [
      "averages: [57.0, 58.2, 50.6, 27.2]\n"
     ]
    }
   ],
   "source": [
    "numbers = [\n",
    "    [34, 63, 88, 71, 29],\n",
    "    [90, 78, 51, 27, 45],\n",
    "    [63, 37, 85, 46, 22],\n",
    "    [51, 22, 34, 11, 18]\n",
    "]\n",
    "\n",
    "# def mean(num_list):\n",
    "#     return sum(num_list) / len(num_list)\n",
    "\n",
    "# mean = lambda num_list: sum(num_list) / len(num_list)\n",
    "\n",
    "# averages = list(map(mean, numbers))\n",
    "average = list(map(lambda num_list: sum(num_list) / len(num_list), numbers))\n",
    "\n",
    "print(f'averages: {averages}')"
   ]
  },
  {
   "cell_type": "markdown",
   "metadata": {},
   "source": [
    "##### Filter\n",
    "\n",
    "`filter()` is a higher-order built-in function that takes a function and iterable as inputs and returns an iterator with the elements from the iterable for which the function returns `True`."
   ]
  },
  {
   "cell_type": "code",
   "execution_count": 14,
   "metadata": {},
   "outputs": [
    {
     "name": "stdout",
     "output_type": "stream",
     "text": [
      "short_cities: ['Chicago', 'Denver', 'Boston']\n"
     ]
    }
   ],
   "source": [
    "cities = [\"New York City\", \"Los Angeles\", \"Chicago\", \"Mountain View\", \"Denver\", \"Boston\"]\n",
    "\n",
    "# def is_short(name):\n",
    "#    return len(name) < 10\n",
    "\n",
    "# is_short = lambda city: len(city) < 10\n",
    "\n",
    "# short_cities = list(filter(is_short, cities))\n",
    "\n",
    "short_cities = list(filter(lambda city: len(city) < 10, cities))\n",
    "\n",
    "print(f'short_cities: {short_cities}')"
   ]
  },
  {
   "cell_type": "markdown",
   "metadata": {},
   "source": [
    "### Iterators and Generators\n",
    "\n",
    "**Iterables** are objects that can return one of their elements at a time. Many built-in functions we've used so far, like `enumerate`, return an iterator.\n",
    "\n",
    "An [**iterator**]([Iterators](https://docs.python.org/3/tutorial/classes.html#iterators)) is an object that represents a stream of data. This is different from, for example, a `list`, which is also an iterable, but is not an iterator because it is not a stream of data.\n",
    "\n",
    "[**Generators**](https://docs.python.org/3/tutorial/classes.html#generators) are a simple way to create iterators using functions. You can also define iterators using **classes**."
   ]
  },
  {
   "cell_type": "code",
   "execution_count": 18,
   "metadata": {},
   "outputs": [
    {
     "name": "stdout",
     "output_type": "stream",
     "text": [
      "0\n",
      "1\n",
      "2\n",
      "3\n",
      "4\n"
     ]
    }
   ],
   "source": [
    "def my_range(x):\n",
    "    i = 0\n",
    "    while i < x:\n",
    "        yield i\n",
    "        i += 1\n",
    "\n",
    "for x in my_range(5):\n",
    "    print(x)"
   ]
  },
  {
   "cell_type": "code",
   "execution_count": null,
   "metadata": {},
   "outputs": [
    {
     "name": "stdout",
     "output_type": "stream",
     "text": [
      "Lesson 1: Why Python Programming\n",
      "Lesson 2: Data Types and Operators\n",
      "Lesson 3: Control Flow\n",
      "Lesson 4: Functions\n",
      "Lesson 5: Scripting\n"
     ]
    }
   ],
   "source": [
    "def my_enumerate(iterable, start=0):\n",
    "    count = start\n",
    "    for element in iterable:\n",
    "        yield count, element\n",
    "        count += 1\n",
    "\n",
    "lessons = [\"Why Python Programming\", \"Data Types and Operators\", \"Control Flow\", \"Functions\", \"Scripting\"]\n",
    "\n",
    "for i, lesson in my_enumerate(lessons, 1):\n",
    "    print(\"Lesson {}: {}\".format(i, lesson))"
   ]
  },
  {
   "cell_type": "code",
   "execution_count": null,
   "metadata": {},
   "outputs": [
    {
     "name": "stdout",
     "output_type": "stream",
     "text": [
      "[0, 1, 2, 3]\n",
      "[4, 5, 6, 7]\n",
      "[8, 9, 10, 11]\n",
      "[12, 13, 14, 15]\n",
      "[16, 17, 18, 19]\n",
      "[20, 21, 22, 23]\n",
      "[24]\n"
     ]
    }
   ],
   "source": [
    "def chunker(iterable, size):\n",
    "    for i in range(0, len(iterable), size):\n",
    "        yield iterable[i:i + size]\n",
    "\n",
    "for chunk in chunker(range(25), 4):\n",
    "    print(list(chunk))"
   ]
  },
  {
   "cell_type": "markdown",
   "metadata": {},
   "source": [
    "[**Generators**](https://docs.python.org/3/tutorial/classes.html#generators) are a lazy way to build iterables. They are useful when the fully realized list would not fit in memory, or when the cost to calculate each list element is high and you want to do it as las possible. However, they can only be iterated over once."
   ]
  },
  {
   "cell_type": "code",
   "execution_count": 19,
   "metadata": {},
   "outputs": [],
   "source": [
    "class MyRangeIterator:\n",
    "    \"\"\"MyRangeIterator class\"\"\"\n",
    "    def __init__(self, x):\n",
    "        self.x = x\n",
    "        self.i = 0\n",
    "\n",
    "    def __iter__(self):\n",
    "        return self\n",
    "\n",
    "    def __next__(self):\n",
    "        if self.i < self.x:\n",
    "            i = self.i\n",
    "            self.i += 1\n",
    "            return i\n",
    "        else:\n",
    "            raise StopIteration()"
   ]
  },
  {
   "cell_type": "code",
   "execution_count": 20,
   "metadata": {},
   "outputs": [
    {
     "name": "stdout",
     "output_type": "stream",
     "text": [
      "0\n",
      "1\n",
      "2\n",
      "3\n",
      "4\n"
     ]
    }
   ],
   "source": [
    "for i in MyRangeIterator(5):\n",
    "    print(i)"
   ]
  },
  {
   "cell_type": "markdown",
   "metadata": {},
   "source": [
    "##### Generator Expressions\n",
    "\n",
    "You can create a generator in the same way you'd normally write a list expression, except with parentheses instead of square brackets."
   ]
  },
  {
   "cell_type": "code",
   "execution_count": 25,
   "metadata": {},
   "outputs": [
    {
     "name": "stdout",
     "output_type": "stream",
     "text": [
      "sq_list: [0, 1, 4, 9, 16, 25, 36, 49, 64, 81]\n",
      "sq_iterator: <generator object <genexpr> at 0x0000025987B42C20>\n",
      "sq_iterator: 0\n"
     ]
    }
   ],
   "source": [
    "sq_list = [x**2 for x in range(10)]\n",
    "print(f'sq_list: {sq_list}')\n",
    "\n",
    "sq_iterator = (x**2 for x in range(10))\n",
    "print(f'sq_iterator: {sq_iterator}')\n",
    "print(f'sq_iterator: {next(sq_iterator)}')"
   ]
  }
 ],
 "metadata": {
  "kernelspec": {
   "display_name": "Python 3",
   "language": "python",
   "name": "python3"
  },
  "language_info": {
   "codemirror_mode": {
    "name": "ipython",
    "version": 3
   },
   "file_extension": ".py",
   "mimetype": "text/x-python",
   "name": "python",
   "nbconvert_exporter": "python",
   "pygments_lexer": "ipython3",
   "version": "3.11.0"
  }
 },
 "nbformat": 4,
 "nbformat_minor": 2
}
