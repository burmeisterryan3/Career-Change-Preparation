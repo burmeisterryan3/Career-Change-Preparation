{
 "cells": [
  {
   "cell_type": "markdown",
   "metadata": {},
   "source": [
    "# Why Object-Oriented Programming?\n",
    "\n",
    "Object-oriented programming (OOP) has a few benefits over procedural programming, i.e., iterative or sequential programming with top-down flow.\n",
    "\n",
    "* OOP allows you to create large, modular programs that can easily expand over time.\n",
    "* OOP hides the implementation from the end-user."
   ]
  },
  {
   "cell_type": "markdown",
   "metadata": {},
   "source": [
    "## Definitions\n",
    "\n",
    "* **class** - a blueprint consisting of methods and attributes\n",
    "* **object** - an *instance* of a class. It can help to think of objects as something in the real world like a yellow pencil, a small dog, a blue shirt, etc.\n",
    "* **attribute** - a descriptor or characteristic. Examples would be color, length, size, etc. These attributes can take on specific values like blue, 3 inches, large, etc.\n",
    "* **method** - an action that a class or object could take\n",
    "* **encapsulation** - the ability to combine functions and data all into a single entity. In object-oriented programming, this single entity is called a class. Encapsulation allows you to hide implementation details much like how the scikit-learn package hides the implementation of machine learning algorithms."
   ]
  },
  {
   "cell_type": "markdown",
   "metadata": {},
   "source": [
    "## Class\n",
    "\n",
    "### Example"
   ]
  },
  {
   "cell_type": "code",
   "execution_count": 1,
   "metadata": {},
   "outputs": [],
   "source": [
    "class Shirt:\n",
    "    def __init__(self, shirt_color, shirt_size, shirt_style, shirt_price):\n",
    "        self.color = shirt_color\n",
    "        self.size = shirt_size\n",
    "        self.style = shirt_style\n",
    "        self.price = shirt_price\n",
    "\n",
    "    def change_price(self, new_price):\n",
    "        self.price = new_price\n",
    "\n",
    "    def discount(self, discount):\n",
    "        return self.price * (1 - discount)"
   ]
  },
  {
   "cell_type": "code",
   "execution_count": 3,
   "metadata": {},
   "outputs": [
    {
     "name": "stdout",
     "output_type": "stream",
     "text": [
      "red\n",
      "S\n",
      "short sleeve\n",
      "15\n",
      "--------------------\n",
      "10\n",
      "--------------------\n",
      "8.0\n",
      "--------------------\n"
     ]
    }
   ],
   "source": [
    "new_shirt = Shirt('red', 'S', 'short sleeve', 15)\n",
    "print(new_shirt.color)\n",
    "print(new_shirt.size)\n",
    "print(new_shirt.style)\n",
    "print(new_shirt.price)\n",
    "print('-'*20)\n",
    "\n",
    "new_shirt.change_price(10)\n",
    "print(new_shirt.price)\n",
    "print('-'*20)\n",
    "\n",
    "print(new_shirt.discount(0.2))\n",
    "print('-'*20)"
   ]
  },
  {
   "cell_type": "markdown",
   "metadata": {},
   "source": [
    "### Function vs Method\n",
    "\n",
    "A function and a method look very similar. They both use the def keyword. They also have inputs and return outputs. The difference is that a method is inside, or a part, of a class whereas a function is outside of a class."
   ]
  },
  {
   "cell_type": "markdown",
   "metadata": {},
   "source": [
    "### What is `self`?\n",
    "\n",
    "`self` tells Python where to look in the computer's memory for an instance of an object. For instance, consider the two instance of the `Shirt` class below\n",
    "\n",
    "    shirt_one = Shirt('red', 'S', 'short-sleeve', 15)\n",
    "    shirt_two = Shirt('yellow', 'M', 'long-sleeve', 20)\n",
    "\n",
    "If we call `shirt_one.change_price(12)`, `self`, the memory location of our `Shirt` object, is implicitly passed to the method as the first argument.\n",
    "\n"
   ]
  },
  {
   "cell_type": "markdown",
   "metadata": {},
   "source": [
    "### [Inheritance](https://www.w3schools.com/python/python_inheritance.asp)\n",
    "\n",
    "Inheritance allows us to define a class that inherits all the methods and properties from another class.\n",
    "\n",
    "**Parent**, or **base**, class is the class being inherited from.  \n",
    "**Child**, or **derived**, class is the class that inherits from another class.\n",
    "\n",
    "Generally, inheritance\n",
    "\n",
    "* helps organize code with a more general version of a class than specific children,\n",
    "* makes object-oriented programs more efficient to write, and\n",
    "* ensures updates to parents are automatically applied to children."
   ]
  },
  {
   "cell_type": "markdown",
   "metadata": {},
   "source": [
    "#### Creating a child class\n",
    "\n",
    "    class Child(Parent):\n",
    "        pass\n",
    "\n",
    "Use the `pass` keyword when you do not want to add any other properties or methods."
   ]
  },
  {
   "cell_type": "markdown",
   "metadata": {},
   "source": [
    "#### Add the `__init__()` function\n",
    "\n",
    "Remember, that the `__init__()` function is called every time the class is being used to create a new object. When you add the `__init__()` function to a child class, the child class no longer inherits the parent's `__init__()` function. Thus, the parent's `__init__()` function must be called explicitly if desired.\n",
    "\n",
    "    class Child(Parent):\n",
    "        def __init__(self, property):\n",
    "            Parent.__init__(self, property)"
   ]
  },
  {
   "cell_type": "markdown",
   "metadata": {},
   "source": [
    "#### `super()` function\n",
    "\n",
    "To inherit all the methods and properties from the parent class, you can call `super()`.\n",
    "\n",
    "    class Child(Parent):\n",
    "        def __init__(self, property):\n",
    "            super().__init__(property)\n",
    "\n",
    "Note that you do not need to use the parent's class name when calling the `super()` function."
   ]
  },
  {
   "cell_type": "markdown",
   "metadata": {},
   "source": [
    "### Accessing Attributes\n",
    "\n",
    "In many other OOP languages, accessing attributes is limited through *access modifiers*, e.g., public, private, or protected ([C# access modifiers](https://learn.microsoft.com/en-us/dotnet/csharp/programming-guide/classes-and-structs/access-modifiers)). In Python, this is not the case. Convention is used, but there are not strict syntax limitations regarding attribute access.\n",
    "\n",
    "If you're wondering why we need getters or setters, one reason is to hide implementation details from a user. For instance, let's say we have a method that takes three arguments - `price`, `from_currency`, and `to_currency`. As a user of this method, you don't want to be bogged down by conversion rates and how and when to apply them. The method, and those implementing the method, should take care of that work for you."
   ]
  },
  {
   "cell_type": "markdown",
   "metadata": {},
   "source": [
    "#### Getters and Setters\n",
    "\n",
    "A *get* method is for obtaining an attribute value while a *set* method is for changing an attribute value. Using our `Shirt` class above, we might have something like the following."
   ]
  },
  {
   "cell_type": "code",
   "execution_count": null,
   "metadata": {},
   "outputs": [],
   "source": [
    "class Shirt:\n",
    "\n",
    "    def __init__(self, shirt_color, shirt_size, shirt_style, shirt_price):\n",
    "        self._price = shirt_price\n",
    "\n",
    "    def get_price(self):\n",
    "        return self._price\n",
    "    \n",
    "    def set_price(self, new_price):\n",
    "        self._price = new_price"
   ]
  },
  {
   "cell_type": "markdown",
   "metadata": {},
   "source": [
    "#### Python's Private Convention\n",
    "\n",
    "In the above class definition, the price attribute is defined as `_price`. The leading underscore is somewhat controversial in Python as it is used by programmers to signal to other programmers that the attribute should be accessed using getters and setters, as able. However, there is nothing to prevent another from accessing the value directly."
   ]
  },
  {
   "cell_type": "markdown",
   "metadata": {},
   "source": [
    "### Magic Methods\n",
    "\n",
    "Python has many [magic methods](https://www.tutorialsteacher.com/python/magic-methods-in-python) that have predefined defaults for many types. For instance, `__add__(self, other)` is a magic method defined for `int` types."
   ]
  },
  {
   "cell_type": "markdown",
   "metadata": {},
   "source": [
    "### Static vs Class vs Instance Methods\n",
    "\n",
    "Review [this Real Python article](https://realpython.com/instance-class-and-static-methods-demystified/) or [this Medium article](https://medium.com/dev-genius/a-look-at-instance-static-class-and-abstract-methods-in-python-c82bd06c0430)."
   ]
  }
 ],
 "metadata": {
  "kernelspec": {
   "display_name": "base",
   "language": "python",
   "name": "python3"
  },
  "language_info": {
   "codemirror_mode": {
    "name": "ipython",
    "version": 3
   },
   "file_extension": ".py",
   "mimetype": "text/x-python",
   "name": "python",
   "nbconvert_exporter": "python",
   "pygments_lexer": "ipython3",
   "version": "3.11.5"
  }
 },
 "nbformat": 4,
 "nbformat_minor": 2
}
