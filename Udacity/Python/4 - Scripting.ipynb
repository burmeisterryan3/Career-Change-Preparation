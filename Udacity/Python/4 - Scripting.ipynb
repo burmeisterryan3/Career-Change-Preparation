{
 "cells": [
  {
   "cell_type": "markdown",
   "metadata": {},
   "source": [
    "# Udacity - Python\n",
    "\n",
    "## Scripting\n",
    "\n",
    "[Python Docs](https://docs.python.org/3/library/index.html)\n",
    "\n",
    "[Python Reserved Words](https://docs.python.org/3/reference/lexical_analysis.html#keywords)\n",
    "\n",
    "[PEP 8 - Style Guide for Python Code](https://peps.python.org/pep-0008/)\n",
    "\n",
    "[PEP 257 - Docstring Conventions](https://peps.python.org/pep-0257/)\n",
    "\n",
    "[Conda - Managing Environments](https://conda.io/projects/conda/en/latest/user-guide/tasks/manage-environments.html)"
   ]
  },
  {
   "cell_type": "markdown",
   "metadata": {},
   "source": [
    "### Errors and Exceptions\n",
    "\n",
    "**Syntax errors** occur wthn Python can't interpret our code, since we didn't follow the correct syntax for Python.\n",
    "\n",
    "**Exceptions** occur when unexpected things happen during execution of a program, even if the code is syntactically correct. Python has several built-in exception types, and you can see which exception is thrown in the error message.\n",
    "\n",
    "* `ValueError`\n",
    "    * An object of the correct type but inappropriate value is passed as input to a built-in operation or function.\n",
    "* `AssertionError`\n",
    "    * An assert statement fails.\n",
    "* `IndexError`\n",
    "    * A sequence subscript is out of range.\n",
    "* `KeyError`\n",
    "    * A key can't be found in a dictionary.\n",
    "* `TypeError`\n",
    "    * An object of an unsupported type is passed as input to an operation or function.\n",
    "\n",
    "##### `try` Statement\n",
    "\n",
    "We can use `try` to handle exceptions. There are four clauses you can use.\n",
    "\n",
    "* `try`\n",
    "    * The only mandatory clause. The code in this block si the first thing that Python runs in a `try` statement.\n",
    "* `except`\n",
    "    * If Python runs into an exception while running the `try` block, it will jump to the `except` block that handles the exception.\n",
    "* `else`\n",
    "    * If Python runs into no exceptions whil running the `try` block, it will run the code in this block after running the `try` block.\n",
    "    * [Stack Overflow - `else`](https://stackoverflow.com/questions/855759/what-is-the-intended-use-of-the-optional-else-clause-of-the-try-statement-in)\n",
    "* `finally`\n",
    "    * Before Python leaves a `try` statement, it will run the code in the `finally` block under any conditions, even if it's ending the program. E.g., if Python ran into an error while running code in the `except` or `else` block, the `finally` block will still be executed before stopping the program.\n",
    "    * [Stack Overflow - `finally`](https://stackoverflow.com/questions/11551996/why-do-we-need-the-finally-clause-in-python)"
   ]
  },
  {
   "cell_type": "markdown",
   "metadata": {},
   "source": [
    "### Reading and Writing Files\n",
    "\n",
    "##### Reading\n",
    "\n",
    "    f = open('my_path/my_file.text', 'r')\n",
    "    file_data = f.read()\n",
    "    f.close()\n",
    "\n",
    "* `open`\n",
    "    * Built-in function to open the file\n",
    "    * Requires a string that shows the path to the file\n",
    "    * Accepts a default argument for how we open file. 'r' means read only\n",
    "* `read`\n",
    "    * Method to access the contents from the `file` object\n",
    "* `close`\n",
    "    * Method to free up any system resources taken up by the file\n",
    "\n",
    "##### Writing\n",
    "\n",
    "    f = open('my_path/my_file.txt', 'w')\n",
    "    f.write(\"Hello there!\")\n",
    "    f.close()\n",
    "\n",
    "* `open`\n",
    "    * `w` - Opens the file in writing mode. Any existing file with the filename provided will be deleted and overwritten. If wanting to add to an existing file, without deleting its conent, you should use the append ('a') mode instead of write\n",
    "* `write`\n",
    "    * Add text to the file\n",
    "* `close`\n",
    "    * Close the file\n",
    "\n",
    "##### With\n",
    "\n",
    "Too many open files error. Try running.\n",
    "\n",
    "    files = []\n",
    "    for i in range(10000):\n",
    "        files.append(open('some_file.txt', 'r'))\n",
    "        print(i)\n",
    "\n",
    "Python provides a special syntax that auto-closes a file once you're finished using it. This `with` keyword allows you to open a file, do operations on it, and automatically close it after the indented code is executed.\n",
    "\n",
    "    with open('my_path/my_file.txt', 'r') as f:\n",
    "        file_data = f.read()"
   ]
  },
  {
   "cell_type": "code",
   "execution_count": 1,
   "metadata": {},
   "outputs": [
    {
     "name": "stdout",
     "output_type": "stream",
     "text": [
      "We\n",
      "'re the \n",
      "knights of the round table\n",
      "We dance whenever we're able\n"
     ]
    }
   ],
   "source": [
    "with open(\"data/camelot.txt\") as song:\n",
    "    print(song.read(2))\n",
    "    print(song.read(8))\n",
    "    print(song.read())"
   ]
  },
  {
   "cell_type": "code",
   "execution_count": 5,
   "metadata": {},
   "outputs": [
    {
     "name": "stdout",
     "output_type": "stream",
     "text": [
      "A\n",
      "A's\n",
      "AA's\n",
      "AB's\n",
      "ABM's\n"
     ]
    }
   ],
   "source": [
    "with open(\"data/dictionary.txt\") as f:\n",
    "    for _ in range(5):\n",
    "        print(f.readline(), end=\"\")"
   ]
  },
  {
   "cell_type": "code",
   "execution_count": 6,
   "metadata": {},
   "outputs": [
    {
     "name": "stdout",
     "output_type": "stream",
     "text": [
      "[\"We're the knights of the round table\", \"We dance whenever we're able\"]\n"
     ]
    }
   ],
   "source": [
    "camelot_lines = []\n",
    "with open(\"data/camelot.txt\") as f:\n",
    "    for line in f:\n",
    "        camelot_lines.append(line.strip())\n",
    "\n",
    "print(camelot_lines)"
   ]
  },
  {
   "cell_type": "code",
   "execution_count": 12,
   "metadata": {},
   "outputs": [
    {
     "name": "stdout",
     "output_type": "stream",
     "text": [
      "Graham Chapman\n",
      "Eric Idle\n",
      "Terry Jones\n",
      "Michael Palin\n",
      "Terry Gilliam\n",
      "John Cleese\n",
      "Carol Cleveland\n",
      "Ian Davidson\n",
      "John Hughman\n",
      "The Fred Tomlinson Singers\n",
      "Connie Booth\n",
      "Bob Raymond\n",
      "Lyn Ashley\n",
      "Rita Davies\n",
      "Stanley Mason\n",
      "David Ballantyne\n",
      "Donna Reading\n",
      "Peter Brett\n",
      "Maureen Flanagan\n",
      "Katya Wyeth\n",
      "Frank Lester\n",
      "Neil Innes\n",
      "Dick Vosburgh\n",
      "Sandra Richards\n",
      "Julia Breck\n",
      "Nicki Howorth\n",
      "Jimmy Hill\n",
      "Barry Cryer\n",
      "Jeannette Wild\n",
      "Marjorie Wilde\n",
      "Marie Anderson\n",
      "Caron Gardner\n",
      "Nosher Powell\n",
      "Carolae Donoghue\n",
      "Vincent Wong\n",
      "Helena Clayton\n",
      "Nigel Jones\n",
      "Roy Gunson\n",
      "Daphne Davey\n",
      "Stenson Falke\n",
      "Alexander Curry\n",
      "Frank Williams\n",
      "Ralph Wood\n",
      "Rosalind Bailey\n",
      "Marion Mould\n",
      "Sheila Sands\n",
      "Richard Baker\n",
      "Douglas Adams\n",
      "Ewa Aulin\n",
      "Reginald Bosanquet\n",
      "Barbara Lindley\n",
      "Roy Brent\n",
      "Jonas Card\n",
      "Tony Christopher\n",
      "Beulah Hughes\n",
      "Peter Kodak\n",
      "Lulu\n",
      "Jay Neill\n",
      "Graham Skidmore\n",
      "Ringo Starr\n",
      "Fred Tomlinson\n",
      "David Hamilton\n",
      "Suzy Mandel\n",
      "Peter Woods\n"
     ]
    }
   ],
   "source": [
    "with open(\"data/flying_circus_cast.txt\") as f:\n",
    "    cast_list = [line.split(',')[0] for line in f.read().splitlines()]\n",
    "\n",
    "for actor in cast_list:\n",
    "    print(actor)"
   ]
  },
  {
   "cell_type": "code",
   "execution_count": 21,
   "metadata": {},
   "outputs": [
    {
     "data": {
      "text/plain": [
       "int"
      ]
     },
     "execution_count": 21,
     "metadata": {},
     "output_type": "execute_result"
    }
   ],
   "source": [
    "from classes.functions import MathFunctions\n",
    "mf = MathFunctions()\n",
    "type(mf.add(1, 2))"
   ]
  },
  {
   "cell_type": "markdown",
   "metadata": {},
   "source": [
    "### Standard Library"
   ]
  },
  {
   "cell_type": "code",
   "execution_count": 6,
   "metadata": {},
   "outputs": [
    {
     "name": "stdout",
     "output_type": "stream",
     "text": [
      "password: hadinpeeped\n"
     ]
    }
   ],
   "source": [
    "import random\n",
    "\n",
    "password = \"\"\n",
    "with open(\"data/words.txt\", 'r') as f:\n",
    "    password = ''.join(random.choices(f.read().splitlines(), k=3))\n",
    "    random.sample(password, len(password))\n",
    "    \n",
    "print(f'password: {password}')"
   ]
  },
  {
   "cell_type": "code",
   "execution_count": 11,
   "metadata": {},
   "outputs": [
    {
     "name": "stdout",
     "output_type": "stream",
     "text": [
      "The time now is 2023-11-24 00:36:35.928566\n",
      "The time now is 2023-11-24 00:36:35\n",
      "The date today is 2023-11-24\n",
      "The month today is 11\n",
      "The year today is 2023\n"
     ]
    }
   ],
   "source": [
    "import datetime\n",
    "\n",
    "print(f'The time now is {datetime.datetime.now()}')\n",
    "print(f'The time now is {datetime.datetime.now():%Y-%m-%d %H:%M:%S}')\n",
    "print(f'The date today is {datetime.datetime.now():%Y-%m-%d}')\n",
    "print(f'The month today is {datetime.datetime.now():%m}')\n",
    "print(f'The year today is {datetime.datetime.now():%Y}')"
   ]
  },
  {
   "cell_type": "code",
   "execution_count": 15,
   "metadata": {},
   "outputs": [
    {
     "name": "stdout",
     "output_type": "stream",
     "text": [
      "The current working directory is c:\\Users\\burme\\Source\\Career-Change-Preparation\\Udacity\\Python\n",
      "\"files/words.txt\" is a file: True\n"
     ]
    }
   ],
   "source": [
    "import os\n",
    "\n",
    "print(f'The current working directory is {os.getcwd()}')\n",
    "print(f'\"data/words.txt\" is a file: {os.path.isfile(\"data/words.txt\")}')"
   ]
  },
  {
   "cell_type": "markdown",
   "metadata": {},
   "source": [
    "##### Popular modules\n",
    "\n",
    "* `csv`: very convenient for reading and writing csv files\n",
    "* `collections`: useful extensions of the usual data types including OrderedDict, defaultdict and namedtuple\n",
    "* `random`: generates pseudo-random numbers, shuffles sequences randomly and chooses random items\n",
    "* `string`: more functions on strings. This module also contains useful collections of letters like string.digits (a string containing all characters which are valid digits).\n",
    "* `re`: pattern-matching in strings via regular expressions\n",
    "* `math`: some standard mathematical functions\n",
    "* `os`: interacting with operating systems\n",
    "* `os.path`: submodule of os for manipulating path names\n",
    "* `sys`: work directly with the Python interpreter\n",
    "* `json`: good for reading and writing json files (good for web work)\n",
    "\n",
    "##### `requirements.txt` File\n",
    "Larger Python programs might depend on dozens of third party packages. To make it easier to share these programs, programmers often list a project's dependencies in a file called requirements.txt. This is an example of a `requirements.txt` file.\n",
    "\n",
    "Each line of the file includes the name of a package and its version number. The version number is optional, but it usually should be included. Libraries can change subtly, or dramatically, between versions, so it's important to use the same library versions that the program's author used when they wrote the program.\n",
    "\n",
    "You can use pip to install all of a project's dependencies at once by typing `pip install -r requirements.txt` in your command line."
   ]
  }
 ],
 "metadata": {
  "kernelspec": {
   "display_name": "Python 3",
   "language": "python",
   "name": "python3"
  },
  "language_info": {
   "codemirror_mode": {
    "name": "ipython",
    "version": 3
   },
   "file_extension": ".py",
   "mimetype": "text/x-python",
   "name": "python",
   "nbconvert_exporter": "python",
   "pygments_lexer": "ipython3",
   "version": "3.11.0"
  }
 },
 "nbformat": 4,
 "nbformat_minor": 2
}
