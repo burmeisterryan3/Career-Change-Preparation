{
 "cells": [
  {
   "cell_type": "markdown",
   "metadata": {},
   "source": [
    "# Udacity - Python\n",
    "\n",
    "## Pandas\n",
    "\n",
    "[Python Docs](https://docs.python.org/3/library/index.html)\n",
    "\n",
    "[Python Reserved Words](https://docs.python.org/3/reference/lexical_analysis.html#keywords)\n",
    "\n",
    "[PEP 8 - Style Guide for Python Code](https://peps.python.org/pep-0008/)\n",
    "\n",
    "[PEP 257 - Docstring Conventions](https://peps.python.org/pep-0257/)\n",
    "\n",
    "[Conda - Managing Environments](https://conda.io/projects/conda/en/latest/user-guide/tasks/manage-environments.html)\n",
    "\n",
    "[NumPy Documentation](https://docs.scipy.org/doc/numpy-1.13.0/contents.html)"
   ]
  }
 ],
 "metadata": {
  "language_info": {
   "name": "python"
  }
 },
 "nbformat": 4,
 "nbformat_minor": 2
}
