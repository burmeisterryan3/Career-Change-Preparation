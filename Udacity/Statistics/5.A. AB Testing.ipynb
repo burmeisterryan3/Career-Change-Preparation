{
 "cells": [
  {
   "cell_type": "markdown",
   "metadata": {},
   "source": [
    "# A/B Testing\n",
    "\n",
    "### Experimental Statistics\n",
    "\n",
    "Say we have two versions of a product, say a website or a new feature, and we want to determine which is better. One way in which we can test changes on a web page is by running an experiment in which a *control group* see the old version while the *experiment group* sees the new version. Predefined *metrics* are then measured to determine which is more effective.\n",
    "\n",
    "A/B testing is very much like hypothesis testing where $$\\begin{align}H_0:&\\quad\\text{the new version is no better, or even worse, than the old version}\\\\ H_A:&\\quad\\text{the new version is better than the old version}\\end{align}$$\n",
    "\n",
    "##### Confounding Factors\n",
    "\n",
    "**Change aversion** occurs when existing users may give an unfair advantage to the **old** version simply because they are unhappy with the change.\n",
    "\n",
    "**Novelty effect** occurs when existing users may give an unfair advantage to the **new** version because they are drawn or excited to change."
   ]
  },
  {
   "cell_type": "markdown",
   "metadata": {},
   "source": [
    "### Example\n",
    "\n",
    "Often times, companies use a UX funnel to drive their users to desired locations on their websites. In this example, the company is trying to build a more engaging design that will increase the number of users that explore there courses. We can take measurements using what is known as the *click through rate (CTR)*, which is the number of clicks divided by the number of views. To give us an even better statistic, we will use cookies to measure unique users so that we don't count the same user multiple times.\n",
    "\n",
    "$$\\text{CTR} = \\frac{\\text{\\# clicks by unique users}}{\\text{\\# views by unique users}}$$\n",
    "\n",
    "Our hypotheses can then be written as:\n",
    "\n",
    "$$\\begin{align}H_0:&\\quad\\text{CTR}_{\\text{new}}\\leq\\text{CTR}_{\\text{old}}\\\\ H_A:&\\quad\\text{CTR}_{\\text{new}}\\gt\\text{CTR}_{\\text{old}}\\end{align}$$\n",
    "\n",
    "or as is commonly written\n",
    "\n",
    "$$\\begin{align}H_0:&\\quad\\text{CTR}_{\\text{new}}-\\text{CTR}_{\\text{old}}\\leq 0\\\\ H_A:&\\quad\\text{CTR}_{\\text{new}}-\\text{CTR}_{\\text{old}}\\gt 0\\end{align}$$\n",
    "\n",
    "##### A/B Test - Home Page Actions"
   ]
  },
  {
   "cell_type": "code",
   "execution_count": null,
   "metadata": {},
   "outputs": [],
   "source": [
    "import numpy as np\n",
    "import pandas as pd\n",
    "import matplotlib.pyplot as plt\n",
    "%matplotlib inline\n",
    "\n",
    "np.random.seed(42)"
   ]
  },
  {
   "cell_type": "code",
   "execution_count": null,
   "metadata": {},
   "outputs": [
    {
     "data": {
      "text/html": [
       "<div>\n",
       "<style scoped>\n",
       "    .dataframe tbody tr th:only-of-type {\n",
       "        vertical-align: middle;\n",
       "    }\n",
       "\n",
       "    .dataframe tbody tr th {\n",
       "        vertical-align: top;\n",
       "    }\n",
       "\n",
       "    .dataframe thead th {\n",
       "        text-align: right;\n",
       "    }\n",
       "</style>\n",
       "<table border=\"1\" class=\"dataframe\">\n",
       "  <thead>\n",
       "    <tr style=\"text-align: right;\">\n",
       "      <th></th>\n",
       "      <th>timestamp</th>\n",
       "      <th>id</th>\n",
       "      <th>group</th>\n",
       "      <th>action</th>\n",
       "    </tr>\n",
       "  </thead>\n",
       "  <tbody>\n",
       "    <tr>\n",
       "      <th>0</th>\n",
       "      <td>2016-09-24 17:42:27.839496</td>\n",
       "      <td>804196</td>\n",
       "      <td>experiment</td>\n",
       "      <td>view</td>\n",
       "    </tr>\n",
       "    <tr>\n",
       "      <th>1</th>\n",
       "      <td>2016-09-24 19:19:03.542569</td>\n",
       "      <td>434745</td>\n",
       "      <td>experiment</td>\n",
       "      <td>view</td>\n",
       "    </tr>\n",
       "    <tr>\n",
       "      <th>2</th>\n",
       "      <td>2016-09-24 19:36:00.944135</td>\n",
       "      <td>507599</td>\n",
       "      <td>experiment</td>\n",
       "      <td>view</td>\n",
       "    </tr>\n",
       "    <tr>\n",
       "      <th>3</th>\n",
       "      <td>2016-09-24 19:59:02.646620</td>\n",
       "      <td>671993</td>\n",
       "      <td>control</td>\n",
       "      <td>view</td>\n",
       "    </tr>\n",
       "    <tr>\n",
       "      <th>4</th>\n",
       "      <td>2016-09-24 20:26:14.466886</td>\n",
       "      <td>536734</td>\n",
       "      <td>experiment</td>\n",
       "      <td>view</td>\n",
       "    </tr>\n",
       "  </tbody>\n",
       "</table>\n",
       "</div>"
      ],
      "text/plain": [
       "                    timestamp      id       group action\n",
       "0  2016-09-24 17:42:27.839496  804196  experiment   view\n",
       "1  2016-09-24 19:19:03.542569  434745  experiment   view\n",
       "2  2016-09-24 19:36:00.944135  507599  experiment   view\n",
       "3  2016-09-24 19:59:02.646620  671993     control   view\n",
       "4  2016-09-24 20:26:14.466886  536734  experiment   view"
      ]
     },
     "metadata": {},
     "output_type": "display_data"
    }
   ],
   "source": [
    "df = pd.read_csv('../../Data/homepage_actions.csv')\n",
    "df.head()"
   ]
  },
  {
   "cell_type": "markdown",
   "metadata": {},
   "source": [
    "### 1. Match the following characteristics of this dataset: \n",
    "- total number of actions\n",
    "- number of unique users\n",
    "- sizes of the control and experiment groups (i.e., the number of unique users in each group)"
   ]
  },
  {
   "cell_type": "code",
   "execution_count": null,
   "metadata": {},
   "outputs": [
    {
     "name": "stdout",
     "output_type": "stream",
     "text": [
      "Total number of actions:  8188\n",
      "Number of unique users:  6328\n",
      "Control group size: 3332\n",
      "Experiment group size: 2996\n"
     ]
    }
   ],
   "source": [
    "print('Total number of actions: ', len(df))\n",
    "print('Number of unique users: ', df['id'].nunique())\n",
    "print('Control group size:', df.query('group == \"control\"')['id'].nunique())\n",
    "print('Experiment group size:', df.query('group == \"experiment\"')['id'].nunique())"
   ]
  },
  {
   "cell_type": "markdown",
   "metadata": {},
   "source": [
    "### 2. How long was the experiment run for? \n",
    "Hint: the records in this dataset are ordered by timestamp in increasing order"
   ]
  },
  {
   "cell_type": "code",
   "execution_count": null,
   "metadata": {},
   "outputs": [
    {
     "name": "stdout",
     "output_type": "stream",
     "text": [
      "Experiment run time:  115 days 16:41:40.789831\n"
     ]
    }
   ],
   "source": [
    "df['timestamp'] = pd.to_datetime(df['timestamp'])\n",
    "print('Experiment run time: ', df['timestamp'].max() - df['timestamp'].min())"
   ]
  },
  {
   "cell_type": "markdown",
   "metadata": {},
   "source": [
    "### 3. What action types are recorded in this dataset?\n",
    "(i.e., What are the unique values in the action column?)"
   ]
  },
  {
   "cell_type": "code",
   "execution_count": null,
   "metadata": {},
   "outputs": [
    {
     "name": "stdout",
     "output_type": "stream",
     "text": [
      "Unique actions:  ['view' 'click']\n"
     ]
    }
   ],
   "source": [
    "print('Unique actions: ', df['action'].unique())"
   ]
  },
  {
   "cell_type": "markdown",
   "metadata": {},
   "source": [
    "### 4. Why would we use click through rate instead of number of clicks to compare the performances of control and experiment pages?\n",
    "\n",
    "Answer: The rate normalizes the comparison values in the event that the number of visitors in each group differs."
   ]
  },
  {
   "cell_type": "markdown",
   "metadata": {},
   "source": [
    "### 5. Define the click through rate (CTR) for this experiment.\n",
    "\n",
    "Answer: $\\text{CTR}=\\frac{\\text{\\# clicks by unique viewers}}{\\text{\\# unique viewers}}$"
   ]
  },
  {
   "cell_type": "markdown",
   "metadata": {},
   "source": [
    "### 6. What are the null and alternative hypotheses?\n",
    "Use $CTR_{old}$ and $CTR_{new}$ in your hypotheses.\n",
    "\n",
    "$$H_0: CTR_{new} - CTR_{old} \\leq 0$$\n",
    "$$H_1: CTR_{new} - CTR_{old} \\gt 0$$"
   ]
  },
  {
   "cell_type": "markdown",
   "metadata": {},
   "source": [
    "### 7. What is the CTR for both the control and experimental groups?"
   ]
  },
  {
   "cell_type": "code",
   "execution_count": null,
   "metadata": {},
   "outputs": [
    {
     "name": "stdout",
     "output_type": "stream",
     "text": [
      "Control CTR:  0.2797118847539016\n",
      "Experiment CTR:  0.3097463284379172\n",
      "Experiment CTR - Control CTR:  0.030034443684015644\n"
     ]
    }
   ],
   "source": [
    "control_df = df.query('group == \"control\"')\n",
    "control_ctr = control_df.query('action == \"click\"')['id'].nunique() / control_df['id'].nunique()\n",
    "print('Control CTR: ', control_ctr)\n",
    "\n",
    "experiment_df = df.query('group == \"experiment\"')\n",
    "experiment_ctr = experiment_df.query('action == \"click\"')['id'].nunique() / experiment_df['id'].nunique()\n",
    "print('Experiment CTR: ', experiment_ctr)\n",
    "\n",
    "# Compute the observed difference in click through rates\n",
    "obs_diff = experiment_ctr - control_ctr\n",
    "print('Experiment CTR - Control CTR: ', obs_diff)"
   ]
  },
  {
   "cell_type": "markdown",
   "metadata": {},
   "source": [
    "### 8. Is our finding significant? Use bootstrapping to determine."
   ]
  },
  {
   "cell_type": "code",
   "execution_count": null,
   "metadata": {},
   "outputs": [],
   "source": [
    "# Simulate sampling distribution for difference in proportions\n",
    "diffs = []\n",
    "for _ in range(10000):\n",
    "    bootsamp = df.sample(df.shape[0], replace=True)\n",
    "    control_df = bootsamp.query('group == \"control\"')\n",
    "    experiment_df = bootsamp.query('group == \"experiment\"')\n",
    "    control_ctr = control_df.query('action == \"click\"')['id'].nunique() / control_df['id'].nunique()\n",
    "    experiment_ctr = experiment_df.query('action == \"click\"')['id'].nunique() / experiment_df['id'].nunique()\n",
    "    diffs.append(experiment_ctr - control_ctr)"
   ]
  },
  {
   "cell_type": "code",
   "execution_count": null,
   "metadata": {},
   "outputs": [
    {
     "data": {
      "text/plain": [
       "(array([1.000e+00, 2.700e+01, 1.890e+02, 9.100e+02, 2.248e+03, 3.049e+03,\n",
       "        2.308e+03, 9.950e+02, 2.420e+02, 3.100e+01]),\n",
       " array([-0.01671701, -0.00927348, -0.00182996,  0.00561357,  0.01305709,\n",
       "         0.02050062,  0.02794415,  0.03538767,  0.0428312 ,  0.05027473,\n",
       "         0.05771825]),\n",
       " <BarContainer object of 10 artists>)"
      ]
     },
     "metadata": {},
     "output_type": "display_data"
    },
    {
     "data": {
      "image/png": "[encoded data removed]",
      "text/plain": [
       "<Figure size 640x480 with 1 Axes>"
      ]
     },
     "metadata": {},
     "output_type": "display_data"
    }
   ],
   "source": [
    "plt.hist(diffs)"
   ]
  },
  {
   "cell_type": "code",
   "execution_count": null,
   "metadata": {},
   "outputs": [
    {
     "data": {
      "image/png": "[encoded data removed]",
      "text/plain": [
       "<Figure size 640x480 with 1 Axes>"
      ]
     },
     "metadata": {},
     "output_type": "display_data"
    },
    {
     "name": "stdout",
     "output_type": "stream",
     "text": [
      "p-value:  0.0006\n"
     ]
    }
   ],
   "source": [
    "# Simulate distribution under the null hypothesis\n",
    "null_vals = np.random.normal(0, np.std(diffs), 10000) # 0 is the mean of the normal distribution you are choosing from H_0\n",
    "plt.hist(null_vals)\n",
    "plt.axvline(x=np.percentile(null_vals, 99), color='red', linewidth=2)\n",
    "plt.axvline(x=obs_diff, color='blue', linewidth=2)\n",
    "plt.legend(('99% Confidence Interval', 'Observed Difference'), loc='best')\n",
    "plt.show()\n",
    "\n",
    "# Compute p-value\n",
    "print('p-value: ', (null_vals > obs_diff).mean())"
   ]
  },
  {
   "cell_type": "markdown",
   "metadata": {},
   "source": [
    "With a p-value less than 0.01, it seems unlikely that our statistics is from the null. Thus, our finding is significant, and we reject the $H_0$."
   ]
  },
  {
   "cell_type": "markdown",
   "metadata": {},
   "source": [
    "### 9. What would you recommendation would you make based on this conclusion?\n",
    "\n",
    "Answer: Implement the new (experiment) homepage."
   ]
  },
  {
   "cell_type": "markdown",
   "metadata": {},
   "source": [
    "### Further Examples\n",
    "\n",
    "See these [examples](Examples\\AB%20Testing) for further AB Testing scenarios given a change to our website.\n",
    "\n",
    "### Multiple Tests\n",
    "\n",
    "Remember, the more metrics you evaluate, the more likely you are to observe significant differences by chance, similar to the [previous lesson](5.%20Hypothesis%20Testing.ipynb) with multiple tests. Luckily, this [multiple comparisons problem](https://en.wikipedia.org/wiki/Multiple_comparisons_problem) can be handled in several ways."
   ]
  },
  {
   "cell_type": "markdown",
   "metadata": {},
   "source": [
    "##### [Bonferroni Correction](http://en.wikipedia.org/wiki/Bonferroni_correction)\n",
    "\n",
    "Given our original $\\alpha = 0.05$, what would our new Bonferroni corrected $\\alpha$ be considering we had four tests?  \n",
    "Answer: $$\\alpha_{new} = \\frac{\\alpha_{old}}{\\text{\\# tests}} = \\frac{0.05}{4} = 0.0125$$"
   ]
  },
  {
   "cell_type": "markdown",
   "metadata": {},
   "source": [
    "##### What results are still significantly significant?\n",
    "\n",
    "Give $\\alpha_{new}$, which of our results is still statistically significant? The below are the p-values we computed for each of our tests.\n",
    "\n",
    "1. Enrollment Rate: $0.0242$\n",
    "1. Average Reading Duration: $0$\n",
    "1. Average Classroom Time: $0.0384$\n",
    "1. Completion Rate: $0.0846$\n",
    "\n",
    "Answer: Average Reading Duration"
   ]
  },
  {
   "cell_type": "markdown",
   "metadata": {},
   "source": [
    "Since the Bonferroni method is too conservative when we expect correlation among metrics, we can better approach this problem with more sophisticated methods, such as the [closed testing procedure](http://en.wikipedia.org/wiki/Closed_testing_procedure), [Boole-Bonferroni bound](http://en.wikipedia.org/wiki/Bonferroni_bound), and the [Holm-Bonferroni method](http://en.wikipedia.org/wiki/Holm%E2%80%93Bonferroni_method). These are less conservative and take this correlation into account.\n",
    "\n",
    "If you do choose to use a less conservative method, just make sure the assumptions of that method are truly met in your situation, and that you're not just trying to cheat on a p-value. Choosing a poorly suited test just to get significant results will only lead to misguided decisions that harm your company's performance in the long run."
   ]
  },
  {
   "cell_type": "markdown",
   "metadata": {},
   "source": [
    "### Difficulties in A/B Testing\n",
    "Here are some common factors to consider when designing A/B tests and drawing conclusions based on its results.\n",
    "\n",
    "* Novelty effect and change aversion when existing users first experience a change\n",
    "* Sufficient traffic and conversions to have significant and repeatable results\n",
    "* Best metric choice for making the ultimate decision (eg. measuring revenue vs. clicks)\n",
    "* Long enough run time for the experiment to account for changes in behavior based on time of day/week or seasonal events.\n",
    "* Practical significance of a conversion rate (the cost of launching a new feature vs. the gain from the increase in conversion)\n",
    "* Consistency among test subjects in the control and experiment group (imbalance in the population represented in each group can lead to situations like [Simpson's Paradox](https://en.wikipedia.org/wiki/Simpson%27s_paradox))"
   ]
  }
 ],
 "metadata": {
  "kernelspec": {
   "display_name": "base",
   "language": "python",
   "name": "python3"
  },
  "language_info": {
   "name": "python",
   "version": "3.11.3"
  }
 },
 "nbformat": 4,
 "nbformat_minor": 2
}
