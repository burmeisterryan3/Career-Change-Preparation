{
 "cells": [
  {
   "cell_type": "markdown",
   "metadata": {},
   "source": [
    "# Descriptive Statistics\n",
    "\n",
    "### Basic Definitions\n",
    "\n",
    "* Data Types\n",
    "    * **Quantitative** data takes on numeric values that allow us to perform mathematical operations (like the number of dogs).\n",
    "        * **Continuous** data can be split into smaller and smaller units, and still a smaller unit exists. An example of this is the age of the dog - we can measure the units of the age in years, months, days, hours, seconds, but there are still smaller units that could be associated with the age.\n",
    "        * **Discrete** data only takes on countable values. The number of dogs we interact with is an example of a discrete data type.\n",
    "    * **Categorical** are used to label a group or set of items (like dog breeds - Collies, Labs, Poodles, etc.).\n",
    "        * **Categorical Ordinal** data take on a ranked ordering (like a ranked interaction on a scale from Very Poor to Very Good with the dogs).\n",
    "        * **Categorical** Nominal data do not have an order or ranking (like the breeds of the dog).\n",
    "* Analyzing Data\n",
    "    * Quatitative Data\n",
    "        * Measures of Center\n",
    "        * Measures of Spread\n",
    "        * Shape of the Data\n",
    "        * Outliers\n",
    "    * Qualitative Data\n",
    "        * Proportions\n",
    "        * Counts\n",
    "* Summary Statistics\n",
    "    * **Measures of Cetner** (give notion of average)\n",
    "        * *Mean*\n",
    "            * Expected value\n",
    "            * Sum divided by the number of items\n",
    "        * *Median*\n",
    "            * Splits data so that 50% of values are lower and 50% higher\n",
    "            * Odd numbered set = middle number\n",
    "            * Even numbered set = average of middle values\n",
    "        * *Mode*\n",
    "            * Most frequently observed value in a dataset\n",
    "    * **Measures of Spread**\n",
    "        * *Range*\n",
    "            * Difference between the maximum and minimum values\n",
    "        * *Interquartile Range - IQR*\n",
    "            * Difference between Q1 (first quartile) and Q3 (third quartile)\n",
    "        * *Standard Deviation*\n",
    "            * Average distance of each observation from the mean\n",
    "            * Square root of the variance\n",
    "        * *Variance*\n",
    "            * Average squareddifferene of each observation from the mean\n",
    "            * Squared to ensure the differences between values and the mean are not negated\n",
    "                * E.g., $\\mu=5$ and $x_1=3$ and $x_2=7$ would result in: $(\\mu-x_1) + (\\mu-x_2) = 0$\n",
    "    * Aggregation\n",
    "        * A way to turn multiple numbers into a few numbers, e.g., summation (discrete) or integration (continuous)\n",
    "    * Visualization\n",
    "        * *Histogram*\n",
    "            * Bin values\n",
    "            * Count the number of values within each bin and dispaly counts as bars\n",
    "        * *5 Number Summary - Box Plot*\n",
    "            * Minimum\n",
    "                * Smallest number in a dataset\n",
    "            * Q1 - First Quartile\n",
    "                * Value such that 25% of the data falls below this value\n",
    "                * Think of it as the median for values less than the median\n",
    "            * Q2 - Median\n",
    "                * Value such that 50% of the data falls below and above this value\n",
    "            * Q3 - Third Quartile\n",
    "                * Value such that 75% of the data falls below this value\n",
    "                * Think of it as the median for values greater than the median\n",
    "            * Maximum\n",
    "                * Largest value in a dataset\n",
    "\n",
    "[Writing LaTex in Notebooks](https://stackoverflow.com/questions/13208286/how-to-write-latex-in-ipython-notebook)"
   ]
  },
  {
   "cell_type": "markdown",
   "metadata": {},
   "source": [
    "### Measures of Spread\n",
    "\n",
    "For a random variable $X$ sampled $n$ times:\n",
    "\n",
    "##### Mean\n",
    "\n",
    "$\\mu = \\bar{x} = \\frac{1}{n}\\sum\\limits^n_{i=1}{x_i}$\n",
    "\n",
    "##### Standard Deviation\n",
    "\n",
    "$\\sigma = \\sqrt{\\frac{1}{n}\\sum\\limits^n_{i=1}(x_i - \\bar{x})^2}$\n",
    "\n",
    "NOTE: In the denominator, $n-1$ is used for a sample while $n$ is used for entire population statistics.\n",
    "\n",
    "##### Variance\n",
    "\n",
    "$\\sigma^2 = \\frac{1}{n}\\sum\\limits^n_{i=1}(x_i - \\bar{x})^2$"
   ]
  },
  {
   "cell_type": "code",
   "execution_count": 17,
   "metadata": {},
   "outputs": [],
   "source": [
    "import numpy as np\n",
    "import pandas as pd\n",
    "\n",
    "from scipy.stats import skewnorm\n",
    "import matplotlib.pyplot as plt"
   ]
  },
  {
   "cell_type": "code",
   "execution_count": 3,
   "id": "7512e0fa",
   "metadata": {},
   "outputs": [
    {
     "name": "stdout",
     "output_type": "stream",
     "text": [
      "variance: 13.551020408163266\n",
      "std: 3.6811710647786073\n"
     ]
    }
   ],
   "source": [
    "arr = np.array([1, 5, 10, 3, 8, 12, 4])\n",
    "avg = np.average(arr)\n",
    "diffs = arr - avg\n",
    "sqdiffs = np.square(diffs)\n",
    "var = np.sum(sqdiffs)/arr.size\n",
    "print('variance:', var)\n",
    "std = np.sqrt(var)\n",
    "print('std:', std)"
   ]
  },
  {
   "cell_type": "markdown",
   "metadata": {},
   "source": [
    "##### Why use standard deviation?\n",
    "\n",
    "Standard deviation allows us to compare datasets using a single value. The number immediately lets us compare the spread to determine which dataset is more spread out than the other.\n",
    "\n",
    "As an example, when data are related to the economy, higher variance is associated with greater risk. Other examples include determining th significance of drugs in medical studies or measures of error in our predictions regarding the amount of rainfall we expect tomorrow or our commute time.\n",
    "\n",
    "* *Variance* is used to compare the spread of different groups.\n",
    "    * Higher variance means greater spread... but be mindful of outlier(s).\n",
    "* *Standard deviation* is used more often in practice as its units match the units in the original dataset.\n",
    "    * Fair comparisons require the same units between datasets."
   ]
  },
  {
   "cell_type": "markdown",
   "metadata": {},
   "source": [
    "### Quiz"
   ]
  },
  {
   "cell_type": "markdown",
   "metadata": {},
   "source": [
    "| | Year 1 | Year 2 | Year 3 | Year 4 | Year 5 | Year 6 |\n",
    "| --- | --- | --- | --- | --- | --- | --- |\n",
    "| Investment 1 | 5% | 5% | 5% | 5% | 5% | 5% |\n",
    "| Investment 2 | 12% | -2% | 10% | 0% | 7% | 3% |"
   ]
  },
  {
   "cell_type": "code",
   "execution_count": 4,
   "metadata": {},
   "outputs": [
    {
     "data": {
      "text/html": [
       "<div>\n",
       "<style scoped>\n",
       "    .dataframe tbody tr th:only-of-type {\n",
       "        vertical-align: middle;\n",
       "    }\n",
       "\n",
       "    .dataframe tbody tr th {\n",
       "        vertical-align: top;\n",
       "    }\n",
       "\n",
       "    .dataframe thead th {\n",
       "        text-align: right;\n",
       "    }\n",
       "</style>\n",
       "<table border=\"1\" class=\"dataframe\">\n",
       "  <thead>\n",
       "    <tr style=\"text-align: right;\">\n",
       "      <th></th>\n",
       "      <th>Investment 1</th>\n",
       "      <th>Investment 2</th>\n",
       "    </tr>\n",
       "  </thead>\n",
       "  <tbody>\n",
       "    <tr>\n",
       "      <th>count</th>\n",
       "      <td>6.0</td>\n",
       "      <td>6.00</td>\n",
       "    </tr>\n",
       "    <tr>\n",
       "      <th>mean</th>\n",
       "      <td>5.0</td>\n",
       "      <td>5.00</td>\n",
       "    </tr>\n",
       "    <tr>\n",
       "      <th>std</th>\n",
       "      <td>0.0</td>\n",
       "      <td>5.59</td>\n",
       "    </tr>\n",
       "    <tr>\n",
       "      <th>min</th>\n",
       "      <td>5.0</td>\n",
       "      <td>-2.00</td>\n",
       "    </tr>\n",
       "    <tr>\n",
       "      <th>25%</th>\n",
       "      <td>5.0</td>\n",
       "      <td>0.75</td>\n",
       "    </tr>\n",
       "    <tr>\n",
       "      <th>50%</th>\n",
       "      <td>5.0</td>\n",
       "      <td>5.00</td>\n",
       "    </tr>\n",
       "    <tr>\n",
       "      <th>75%</th>\n",
       "      <td>5.0</td>\n",
       "      <td>9.25</td>\n",
       "    </tr>\n",
       "    <tr>\n",
       "      <th>max</th>\n",
       "      <td>5.0</td>\n",
       "      <td>12.00</td>\n",
       "    </tr>\n",
       "  </tbody>\n",
       "</table>\n",
       "</div>"
      ],
      "text/plain": [
       "       Investment 1  Investment 2\n",
       "count           6.0          6.00\n",
       "mean            5.0          5.00\n",
       "std             0.0          5.59\n",
       "min             5.0         -2.00\n",
       "25%             5.0          0.75\n",
       "50%             5.0          5.00\n",
       "75%             5.0          9.25\n",
       "max             5.0         12.00"
      ]
     },
     "execution_count": 4,
     "metadata": {},
     "output_type": "execute_result"
    }
   ],
   "source": [
    "pd.set_option('display.precision', 2)\n",
    "investments = [{'Year 1': 5, 'Year 2': 5, 'Year 3': 5, 'Year 4': 5, 'Year 5': 5, 'Year 6': 5},\n",
    "               {'Year 1': 12, 'Year 2': -2, 'Year 3': 10, 'Year 4': 0, 'Year 5': 7, 'Year 6': 3}]\n",
    "df = pd.DataFrame(investments, index=['Investment 1', 'Investment 2'])\n",
    "df.T.describe()"
   ]
  },
  {
   "cell_type": "code",
   "execution_count": 13,
   "metadata": {},
   "outputs": [
    {
     "data": {
      "text/html": [
       "<div>\n",
       "<style scoped>\n",
       "    .dataframe tbody tr th:only-of-type {\n",
       "        vertical-align: middle;\n",
       "    }\n",
       "\n",
       "    .dataframe tbody tr th {\n",
       "        vertical-align: top;\n",
       "    }\n",
       "\n",
       "    .dataframe thead th {\n",
       "        text-align: right;\n",
       "    }\n",
       "</style>\n",
       "<table border=\"1\" class=\"dataframe\">\n",
       "  <thead>\n",
       "    <tr style=\"text-align: right;\">\n",
       "      <th></th>\n",
       "      <th>0</th>\n",
       "    </tr>\n",
       "  </thead>\n",
       "  <tbody>\n",
       "    <tr>\n",
       "      <th>count</th>\n",
       "      <td>13.00</td>\n",
       "    </tr>\n",
       "    <tr>\n",
       "      <th>mean</th>\n",
       "      <td>8.38</td>\n",
       "    </tr>\n",
       "    <tr>\n",
       "      <th>std</th>\n",
       "      <td>6.06</td>\n",
       "    </tr>\n",
       "    <tr>\n",
       "      <th>min</th>\n",
       "      <td>2.00</td>\n",
       "    </tr>\n",
       "    <tr>\n",
       "      <th>25%</th>\n",
       "      <td>3.00</td>\n",
       "    </tr>\n",
       "    <tr>\n",
       "      <th>50%</th>\n",
       "      <td>7.00</td>\n",
       "    </tr>\n",
       "    <tr>\n",
       "      <th>75%</th>\n",
       "      <td>12.00</td>\n",
       "    </tr>\n",
       "    <tr>\n",
       "      <th>max</th>\n",
       "      <td>22.00</td>\n",
       "    </tr>\n",
       "  </tbody>\n",
       "</table>\n",
       "</div>"
      ],
      "text/plain": [
       "           0\n",
       "count  13.00\n",
       "mean    8.38\n",
       "std     6.06\n",
       "min     2.00\n",
       "25%     3.00\n",
       "50%     7.00\n",
       "75%    12.00\n",
       "max    22.00"
      ]
     },
     "execution_count": 13,
     "metadata": {},
     "output_type": "execute_result"
    }
   ],
   "source": [
    "x = np.array([15,4,3,8,15,22,7,9,2,3,3,12,6])\n",
    "\n",
    "pd.DataFrame(x).describe()"
   ]
  },
  {
   "cell_type": "markdown",
   "metadata": {},
   "source": [
    "### Shape\n",
    "\n",
    "| Shape | Mean vs. Median | Real World Applications |\n",
    "| --- | --- | --- |\n",
    "| Symmetric (Normal) | Mean = Median | Height, Weight, Errors, Precipitation |\n",
    "| Right-skewed | Mean > Median | Drug remaining in blood stream, time between phone calls at a call center, distribution of wealth |\n",
    "| Left-skewed | Mean < Median | GPA, Age of death, Asset price changes |"
   ]
  },
  {
   "cell_type": "markdown",
   "metadata": {},
   "source": [
    "##### Symmetric (Normal)"
   ]
  },
  {
   "cell_type": "code",
   "execution_count": 18,
   "metadata": {},
   "outputs": [
    {
     "data": {
      "image/png": "[encoded data removed]",
      "text/plain": [
       "<Figure size 640x480 with 1 Axes>"
      ]
     },
     "metadata": {},
     "output_type": "display_data"
    }
   ],
   "source": [
    "maxValue = 100\n",
    "\n",
    "random = np.random.randn(1000)\n",
    "\n",
    "plt.hist(random, 30, density=True, color='red', alpha=0.1)\n",
    "plt.show()"
   ]
  },
  {
   "cell_type": "markdown",
   "metadata": {},
   "source": [
    "##### Left Skew"
   ]
  },
  {
   "cell_type": "code",
   "execution_count": 20,
   "metadata": {},
   "outputs": [
    {
     "data": {
      "image/png": "[encoded data removed]",
      "text/plain": [
       "<Figure size 640x480 with 1 Axes>"
      ]
     },
     "metadata": {},
     "output_type": "display_data"
    }
   ],
   "source": [
    "numValues = 10000\n",
    "maxValue = 100\n",
    "skewness = -5 # Negative values are left skewed\n",
    "\n",
    "# Generate random values\n",
    "random = skewnorm.rvs(a=skewness, size=numValues, loc=maxValue)\n",
    "\n",
    "random = random-min(random) # Shift values to start at 0\n",
    "random = random/max(random) # Scale values between 0 and 1\n",
    "random = random*maxValue # Scale values between 0 and maxValue\n",
    "\n",
    "# Plot the distribution\n",
    "plt.hist(random, 30, density=True, color='red', alpha=.1)\n",
    "plt.show()"
   ]
  },
  {
   "cell_type": "markdown",
   "metadata": {},
   "source": [
    "##### Right Skew"
   ]
  },
  {
   "cell_type": "code",
   "execution_count": 22,
   "metadata": {},
   "outputs": [
    {
     "data": {
      "image/png": "[encoded data removed]",
      "text/plain": [
       "<Figure size 640x480 with 1 Axes>"
      ]
     },
     "metadata": {},
     "output_type": "display_data"
    }
   ],
   "source": [
    "numValues = 10000\n",
    "maxValue = 100\n",
    "skewness = 5 # Positive values are righ skewed\n",
    "\n",
    "# Generate random values\n",
    "random = skewnorm.rvs(a=skewness, size=numValues, loc=maxValue)\n",
    "\n",
    "random = random-min(random) # Shift values to start at 0\n",
    "random = random/max(random) # Scale values between 0 and 1\n",
    "random = random*maxValue # Scale values between 0 and maxValue\n",
    "\n",
    "# Plot the distribution\n",
    "plt.hist(random, 30, density=True, color='red', alpha=.1)\n",
    "plt.show()"
   ]
  },
  {
   "cell_type": "markdown",
   "metadata": {},
   "source": [
    "### Outliers\n",
    "\n",
    "**Outliers** are points that fall vry far from the rest of our data points. These points will influence measures like mean and standard deviation much more than measures associated with the five number summary.\n",
    "\n",
    "[Identifying Outliers](http://d-scholarship.pitt.edu/7948/1/Seo.pdf)\n",
    "\n",
    "##### How to handle outliers?\n",
    "\n",
    "* Note that they exist and understandt the impact on summary statistics.\n",
    "* If type, remove or fix it.\n",
    "* Understand why the exist and the impact on questions we are trying to answer about our data.\n",
    "* Reporting the 5 number summary values is often a better indication than measures like the mean and standard deviation when we have outliers.\n",
    "* Be careful in reporting. Know how to ask the right questions.\n",
    "\n",
    "##### Outlier Advice\n",
    "\n",
    "* Plot your data to identify if you have outliers.\n",
    "* Handle outliers via the methods above accordingly.\n",
    "* If no outliers and your data follow a normal distribution, use the mean and standard deviation to describe your dataset. Report that the data are normally distributed.\n",
    "    * To determine if your data are normally distributed, there are plots called [normal quatile plots](http://data.library.virginia.edu/understanding-q-q-plots/) and statistical methods like the [Kolmogorov-Smirnov Test](https://en.wikipedia.org/wiki/Kolmogorov%E2%80%93Smirnov_test) to help you.\n",
    "* If you have skewed data or outliers, use the five number summary to summarize your data and report the outliers."
   ]
  },
  {
   "cell_type": "markdown",
   "metadata": {},
   "source": [
    "### Descriptive vs Inferential Statistics\n",
    "\n",
    "**Descriptive statistics** is about describing our collected data.\n",
    "\n",
    "**Inferential statistics** is about using our collected data to draw conclusions about a larger population\n",
    "\n",
    "* *Population* - our entire group of interest\n",
    "* *Parameter* - numeric summary about a population\n",
    "* *Sample* - subset of the population\n",
    "* *Statistic* - numeric summary about a sample\n",
    "\n",
    "##### Example\n",
    "\n",
    "Question - What percentage of students in Texas drink coffee?\n",
    "\n",
    "* Population - 100,000 students\n",
    "* Sample - 5000 students\n",
    "* Statistics - 73%\n",
    "* Parameter - Proportion of all 100,000 students that drink cofee\n",
    "\n",
    "Drawing conclusions about a parameter based on statistics is known as inference."
   ]
  }
 ],
 "metadata": {
  "kernelspec": {
   "display_name": "Python 3 (ipykernel)",
   "language": "python",
   "name": "python3"
  },
  "language_info": {
   "codemirror_mode": {
    "name": "ipython",
    "version": 3
   },
   "file_extension": ".py",
   "mimetype": "text/x-python",
   "name": "python",
   "nbconvert_exporter": "python",
   "pygments_lexer": "ipython3",
   "version": "3.10.13"
  }
 },
 "nbformat": 4,
 "nbformat_minor": 5
}
