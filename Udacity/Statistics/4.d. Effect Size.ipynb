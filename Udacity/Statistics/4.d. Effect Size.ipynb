{
 "cells": [
  {
   "cell_type": "markdown",
   "metadata": {},
   "source": [
    "# Effect Size\n",
    "\n",
    "In experiemental studies or studies iwth a treatment variable, effect size refers to the size of a treatment effect. In non-experimental studies, effect size may refer to the strength of the relationship between our variables.\n",
    "\n",
    "In a z-test or t-test, the simplest measure for effect size is the mean difference, i.e., difference between two means. The mean difference in a z-test or one sample t-test is $\\bar{x}-\\mu$. Mean differences are great when we have variables with easy to understand meanings that do not require domain expertise.\n",
    "\n",
    "### Effect Size Measures\n",
    "\n",
    "* Difference Measures\n",
    "    * Mean Difference\n",
    "    * Standardized Differences\n",
    "        * Cohen's d - tells us about the mean difference but in standard deviation units\n",
    "* Correlation Measures\n",
    "    * $r^2$ - proportion (or %) of variation in one variable that is related to or explained by another variable"
   ]
  },
  {
   "cell_type": "markdown",
   "metadata": {},
   "source": [
    "### Meaningfullness/Power of Results\n",
    "\n",
    "* What was measured?\n",
    "    * Did our variables have any practical, social, or theoretical importance?\n",
    "* What was the effect size?\n",
    "    * That is not to size a small effect size is not important, but we should account for the difference.\n",
    "* Can we rule out random chance?\n",
    "    * Can we rule out sampling error as an explanation?\n",
    "* Can we rule out alternative explanations?\n",
    "    * Consider lurking variables\n",
    "\n",
    "From an alternative source:\n",
    "\n",
    "* Sample size ($n$).\n",
    "    * The greater the sample size, the greater the power of the test (all other things being equal).\n",
    "* Significance Level ($\\alpha$).\n",
    "    * The lower the significance level, the lower the power of the test. If you reduce the significance level (e.g., 0.05 to 0.01), the region of acceptance gets bigger. As a result, you are less likely to reject the null hypothesis. This is true even when $H_0$ is false, so you are more likely to make a Type II error.\n",
    "* The \"true\" value of the parameter being tested.\n",
    "    * The greater the difference between the \"true\" value of a parameer and the value specified in $H_0$, the greater the power of the test. That is, the greater the effect size, the greater the power of the test."
   ]
  },
  {
   "cell_type": "markdown",
   "metadata": {},
   "source": [
    "#### Difference Measure - Cohen's d\n",
    "\n",
    "Cohen's d is an effect size measure that provides a  standardized mean difference. It measures the distance between 2 means in standard deviation units. $$\\text{Cohen's d} = \\frac{\\bar{x}-\\mu}{s}$$"
   ]
  },
  {
   "cell_type": "markdown",
   "metadata": {},
   "source": [
    "### Correlation Measure - $r^2$\n",
    "\n",
    "$r^2$ is the proportion (or %) of variation in one variable that is related to or explained by another variable. Because $r^2$ is a proportion $0 \\leq r^2 \\leq 1$. $r^2=0$ means the variables are not at all related while $r^2=1$ means they are perfectly related.\n",
    "\n",
    "Sometimes $r^2$ is called the coefficient of determination.\n",
    "\n",
    "When computing $r^2$ from a t-test, we have $$r^2 = \\frac{t^2}{t^2+df}$$ where $t^2$ is not $t^*$ but the actual t-statistic computed and $df$ is the degrees of freedom.\n"
   ]
  },
  {
   "cell_type": "markdown",
   "metadata": {},
   "source": [
    "### Results Section\n",
    "\n",
    "When conducting a statistical research study, we should include a results section which contains the following information.\n",
    "\n",
    "1. Descriptive Statistics\n",
    "    1. Examples: $\\mu, \\sigma, \\bar{x}, s$\n",
    "    1. Can be reported in text, graphs, or tables.\n",
    "1. Inferential Statistics\n",
    "    1. Examples: Hypothesis Test, Confidence Interval\n",
    "    1. Hypothesis Test\n",
    "        1. What to report\n",
    "            1. Significance level ($\\alpha$) \n",
    "            1. Kind of test (e.g., one-sample t-test)\n",
    "            1. Test statistic (e.g., mean)\n",
    "            1. Degrees of freedom ($df$)\n",
    "            1. p-value\n",
    "            1. Direction of test (e.g., one- vs two-tailed test)\n",
    "        1. How to report, APA Style\n",
    "            1. $t(df)=$ X.XX, $p=$ .XX, direction\n",
    "            1. $t(24)=-2.50, p=0.01$, one-tailed\n",
    "    1. Confidence Intervals\n",
    "        1.  What to report\n",
    "            1. Confidence level (e.g., 95%)\n",
    "            1. Lower limit\n",
    "            1. Upper limit\n",
    "            1. CI on what? What is the CI for?\n",
    "        1. How to report, APA style\n",
    "            1. Confidence interval on what; XX% CI = (X.XX, X.XX)\n",
    "            1. Confidence interval on the mean difference; $95$% CI = $(4, 6)$\n",
    "                1. Can also do (4-6) or (4 to 6)\n",
    "1. Effect Size Measures\n",
    "    1. Examples: Cohen's d, $r^2$\n",
    "    1. APA Style\n",
    "        1. d = X.XX\n",
    "        1. $r^2$ = .XX\n",
    "            1. Note we do not need a leading 0 for proportions or any value that cannot be greater than 1."
   ]
  }
 ],
 "metadata": {
  "kernelspec": {
   "display_name": "Python 3",
   "language": "python",
   "name": "python3"
  },
  "language_info": {
   "name": "python",
   "version": "3.10.13"
  }
 },
 "nbformat": 4,
 "nbformat_minor": 2
}
