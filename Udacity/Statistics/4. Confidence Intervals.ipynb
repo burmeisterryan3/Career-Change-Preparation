{
 "cells": [
  {
   "cell_type": "markdown",
   "metadata": {},
   "source": [
    "# Confidence Intervals\n",
    "\n",
    "### Motivation\n",
    "\n",
    "The idea that we can provide an  interval, not just a single estimate, will help us gain confidence in our ability to \"capture\" a population parameter is at the core of confidence intervals. The wider our interval the more confident we can be that we capture our parameter of interest.\n",
    "\n",
    "How do we use sampling distributions to infer where a parameter is located for populations?\n",
    "\n",
    "Once we have a sampling distribution, we can exclude certain values to a desired threshold. For example, by cutting off 2.5% of the values on either side of a normal distribution, we can say we are 95% sure the value is between said values.\n",
    "\n",
    "(See OneNote notes for additional examples.)"
   ]
  },
  {
   "cell_type": "code",
   "execution_count": 12,
   "metadata": {},
   "outputs": [],
   "source": [
    "import math\n",
    "import numpy as np\n",
    "import pandas as pd\n",
    "import scipy.stats as stats\n",
    "import matplotlib.pyplot as plt\n",
    "%matplotlib inline"
   ]
  },
  {
   "cell_type": "code",
   "execution_count": 2,
   "metadata": {},
   "outputs": [
    {
     "data": {
      "text/html": [
       "<div>\n",
       "<style scoped>\n",
       "    .dataframe tbody tr th:only-of-type {\n",
       "        vertical-align: middle;\n",
       "    }\n",
       "\n",
       "    .dataframe tbody tr th {\n",
       "        vertical-align: top;\n",
       "    }\n",
       "\n",
       "    .dataframe thead th {\n",
       "        text-align: right;\n",
       "    }\n",
       "</style>\n",
       "<table border=\"1\" class=\"dataframe\">\n",
       "  <thead>\n",
       "    <tr style=\"text-align: right;\">\n",
       "      <th></th>\n",
       "      <th>user_id</th>\n",
       "      <th>age</th>\n",
       "      <th>drinks_coffee</th>\n",
       "      <th>height</th>\n",
       "    </tr>\n",
       "  </thead>\n",
       "  <tbody>\n",
       "    <tr>\n",
       "      <th>0</th>\n",
       "      <td>4509</td>\n",
       "      <td>&lt;21</td>\n",
       "      <td>False</td>\n",
       "      <td>64.538179</td>\n",
       "    </tr>\n",
       "    <tr>\n",
       "      <th>1</th>\n",
       "      <td>1864</td>\n",
       "      <td>&gt;=21</td>\n",
       "      <td>True</td>\n",
       "      <td>65.824249</td>\n",
       "    </tr>\n",
       "    <tr>\n",
       "      <th>2</th>\n",
       "      <td>2060</td>\n",
       "      <td>&lt;21</td>\n",
       "      <td>False</td>\n",
       "      <td>71.319854</td>\n",
       "    </tr>\n",
       "    <tr>\n",
       "      <th>3</th>\n",
       "      <td>7875</td>\n",
       "      <td>&gt;=21</td>\n",
       "      <td>True</td>\n",
       "      <td>68.569404</td>\n",
       "    </tr>\n",
       "    <tr>\n",
       "      <th>4</th>\n",
       "      <td>6254</td>\n",
       "      <td>&lt;21</td>\n",
       "      <td>True</td>\n",
       "      <td>64.020226</td>\n",
       "    </tr>\n",
       "  </tbody>\n",
       "</table>\n",
       "</div>"
      ],
      "text/plain": [
       "   user_id   age  drinks_coffee     height\n",
       "0     4509   <21          False  64.538179\n",
       "1     1864  >=21           True  65.824249\n",
       "2     2060   <21          False  71.319854\n",
       "3     7875  >=21           True  68.569404\n",
       "4     6254   <21           True  64.020226"
      ]
     },
     "execution_count": 2,
     "metadata": {},
     "output_type": "execute_result"
    }
   ],
   "source": [
    "coffee_full = pd.read_csv('./Data/coffee_dataset.csv')\n",
    "coffee_full.head()"
   ]
  },
  {
   "cell_type": "markdown",
   "metadata": {},
   "source": [
    "Image we have a population of coffee drinkers now defined by `coffee_full`. However, imagine we also only have access to a sample now defined by `coffee_red`. We can use this sample to build confidence intervals regarding out population."
   ]
  },
  {
   "cell_type": "code",
   "execution_count": 3,
   "metadata": {},
   "outputs": [
    {
     "data": {
      "text/html": [
       "<div>\n",
       "<style scoped>\n",
       "    .dataframe tbody tr th:only-of-type {\n",
       "        vertical-align: middle;\n",
       "    }\n",
       "\n",
       "    .dataframe tbody tr th {\n",
       "        vertical-align: top;\n",
       "    }\n",
       "\n",
       "    .dataframe thead th {\n",
       "        text-align: right;\n",
       "    }\n",
       "</style>\n",
       "<table border=\"1\" class=\"dataframe\">\n",
       "  <thead>\n",
       "    <tr style=\"text-align: right;\">\n",
       "      <th></th>\n",
       "      <th>user_id</th>\n",
       "      <th>age</th>\n",
       "      <th>drinks_coffee</th>\n",
       "      <th>height</th>\n",
       "    </tr>\n",
       "  </thead>\n",
       "  <tbody>\n",
       "    <tr>\n",
       "      <th>2922</th>\n",
       "      <td>6734</td>\n",
       "      <td>&lt;21</td>\n",
       "      <td>True</td>\n",
       "      <td>64.203511</td>\n",
       "    </tr>\n",
       "    <tr>\n",
       "      <th>2025</th>\n",
       "      <td>6017</td>\n",
       "      <td>&gt;=21</td>\n",
       "      <td>True</td>\n",
       "      <td>67.619064</td>\n",
       "    </tr>\n",
       "    <tr>\n",
       "      <th>2263</th>\n",
       "      <td>2043</td>\n",
       "      <td>&lt;21</td>\n",
       "      <td>True</td>\n",
       "      <td>63.233186</td>\n",
       "    </tr>\n",
       "    <tr>\n",
       "      <th>1837</th>\n",
       "      <td>6637</td>\n",
       "      <td>&gt;=21</td>\n",
       "      <td>True</td>\n",
       "      <td>65.227304</td>\n",
       "    </tr>\n",
       "    <tr>\n",
       "      <th>1166</th>\n",
       "      <td>5541</td>\n",
       "      <td>&lt;21</td>\n",
       "      <td>False</td>\n",
       "      <td>64.470727</td>\n",
       "    </tr>\n",
       "  </tbody>\n",
       "</table>\n",
       "</div>"
      ],
      "text/plain": [
       "      user_id   age  drinks_coffee     height\n",
       "2922     6734   <21           True  64.203511\n",
       "2025     6017  >=21           True  67.619064\n",
       "2263     2043   <21           True  63.233186\n",
       "1837     6637  >=21           True  65.227304\n",
       "1166     5541   <21          False  64.470727"
      ]
     },
     "execution_count": 3,
     "metadata": {},
     "output_type": "execute_result"
    }
   ],
   "source": [
    "coffee_red = coffee_full.sample(200)\n",
    "coffee_red.head()"
   ]
  },
  {
   "cell_type": "code",
   "execution_count": 4,
   "metadata": {},
   "outputs": [
    {
     "name": "stdout",
     "output_type": "stream",
     "text": [
      "Coffee_red shape:  (200, 4)\n",
      "Coffee_full shape:  (2974, 4)\n",
      "Coffee_red drinks coffee:  0.595\n",
      "Coffee_red average height of cofee drinkers:  68.19288934790764\n"
     ]
    }
   ],
   "source": [
    "print('Coffee_red shape: ', coffee_red.shape)\n",
    "print('Coffee_full shape: ', coffee_full.shape)\n",
    "print('Coffee_red drinks coffee: ', coffee_red.drinks_coffee.mean())\n",
    "print('Coffee_red average height of coffee drinkers: ', coffee_red[coffee_red['drinks_coffee'] == True]['height'].mean())"
   ]
  },
  {
   "cell_type": "markdown",
   "metadata": {},
   "source": [
    "Now let's use bootstrapping to take obtain a sampling distribution of the mean for the height of coffee drinkers."
   ]
  },
  {
   "cell_type": "code",
   "execution_count": 5,
   "metadata": {},
   "outputs": [
    {
     "data": {
      "text/plain": [
       "(array([  15.,  132.,  634., 1680., 2739., 2655., 1506.,  510.,  114.,\n",
       "          15.]),\n",
       " array([67.50006277, 67.640241  , 67.78041922, 67.92059744, 68.06077566,\n",
       "        68.20095388, 68.3411321 , 68.48131032, 68.62148854, 68.76166676,\n",
       "        68.90184498]),\n",
       " <BarContainer object of 10 artists>)"
      ]
     },
     "execution_count": 5,
     "metadata": {},
     "output_type": "execute_result"
    },
    {
     "data": {
      "image/png": "[encoded data removed]",
      "text/plain": [
       "<Figure size 640x480 with 1 Axes>"
      ]
     },
     "metadata": {},
     "output_type": "display_data"
    }
   ],
   "source": [
    "# SLOW!!!!\n",
    "# bootstrap_height_means = [coffee_red.sample(200, replace=True).where(coffee_red['drinks_coffee'] == True)['height'].mean() for _ in range(10000)]\n",
    "heights = coffee_red[coffee_red['drinks_coffee'] == True]['height'].values\n",
    "bootstrap_height_means = np.random.choice(heights, size=(10000, 200), replace=True).mean(axis=1)\n",
    "plt.hist(bootstrap_height_means)"
   ]
  },
  {
   "cell_type": "code",
   "execution_count": 6,
   "metadata": {},
   "outputs": [
    {
     "data": {
      "text/plain": [
       "(67.8166348977483, 68.55946946153453)"
      ]
     },
     "execution_count": 6,
     "metadata": {},
     "output_type": "execute_result"
    }
   ],
   "source": [
    "np.percentile(bootstrap_height_means, 2.5), np.percentile(bootstrap_height_means, 97.5)"
   ]
  },
  {
   "cell_type": "markdown",
   "metadata": {},
   "source": [
    "We are 95% confident that the mean height of all coffee drinkers is between the above values, which is confirmed below."
   ]
  },
  {
   "cell_type": "code",
   "execution_count": 7,
   "metadata": {},
   "outputs": [
    {
     "data": {
      "text/plain": [
       "68.40021025548381"
      ]
     },
     "execution_count": 7,
     "metadata": {},
     "output_type": "execute_result"
    }
   ],
   "source": [
    "coffee_full[coffee_full['drinks_coffee'] == True]['height'].mean()"
   ]
  },
  {
   "cell_type": "markdown",
   "metadata": {},
   "source": [
    "##### Difference in Means\n",
    "\n",
    "`1.` For 10,000 iterations, bootstrap sample your sample data, compute the difference in the average heights for coffee and non-coffee drinkers.  Build a 99% confidence interval using your sampling distribution.  Use your interval to start answering the first quiz question below."
   ]
  },
  {
   "cell_type": "code",
   "execution_count": 8,
   "metadata": {},
   "outputs": [
    {
     "name": "stdout",
     "output_type": "stream",
     "text": [
      "Average Height Diff: 1.831832715336\n",
      "99% confidence interval: (1.1178767651131134, 2.55131026413113)\n",
      "Min Height for Coffee Drinker: 67.47419540460317\n",
      "Max Height for Person Who Doesn't Drink Cofee: 67.33641325348323\n"
     ]
    },
    {
     "data": {
      "image/png": "[encoded data removed]",
      "text/plain": [
       "<Figure size 640x480 with 1 Axes>"
      ]
     },
     "metadata": {},
     "output_type": "display_data"
    }
   ],
   "source": [
    "coffee_drinker_heights = heights # from above\n",
    "non_coffe_drinker_heights = coffee_red[coffee_red['drinks_coffee'] == False]['height'].values\n",
    "bootstrap_heights_coffee_drinker_means = np.random.choice(coffee_drinker_heights, (10000, 200), replace=True).mean(axis=1)\n",
    "bootstrap_heights_non_coffee_drinker_means = np.random.choice(non_coffe_drinker_heights, (10000, 200), replace=True).mean(axis=1)\n",
    "diffs =  bootstrap_heights_coffee_drinker_means - bootstrap_heights_non_coffee_drinker_means\n",
    "plt.hist(diffs)\n",
    "print('Average Height Diff:', diffs.mean())\n",
    "print('99% confidence interval:', (np.percentile(diffs, 1), np.percentile(diffs, 99)))\n",
    "print('Min Height for Coffee Drinker:', bootstrap_heights_coffee_drinker_means.min())\n",
    "print('Max Height for Person Who Doesn\\'t Drink Cofee:', bootstrap_heights_non_coffee_drinker_means.max())\n"
   ]
  },
  {
   "cell_type": "markdown",
   "metadata": {},
   "source": [
    "This suggests, on average, coffee drinkers are larger than non-coffee drinkers. However, there are some bootstrapped samples consisting of those that do not drink coffee with a larger average height than those who do drink coffee.\n",
    "\n",
    "`2.` For 10,000 iterations, bootstrap sample your sample data, compute the difference in the average heights for those older than 21 and those younger than 21.  Build a 99% confidence interval using your sampling distribution.  Use your interval to finish answering the first quiz question below.  "
   ]
  },
  {
   "cell_type": "code",
   "execution_count": 9,
   "metadata": {},
   "outputs": [
    {
     "name": "stdout",
     "output_type": "stream",
     "text": [
      "Average Height Difference between Ages <21 and >=21: 3.707219381493417\n",
      "99% confidence interval: (3.0954829488114797, 4.318291379903554)\n",
      "Min Average Height with Age >= 21: 68.59478209682167\n",
      "Max Average Height with Age < 21: 66.28675382654166\n"
     ]
    }
   ],
   "source": [
    "heights_age_less_than_21 = coffee_red[coffee_red['age'] == \"<21\"]['height'].values\n",
    "heights_age_greater_or_equal_21 = coffee_red[coffee_red['age'] == \">=21\"]['height'].values\n",
    "\n",
    "bootstrap_heights_lt_21_means = np.random.choice(heights_age_less_than_21, (10000, 200), replace=True).mean(axis=1)\n",
    "bootstrap_heights_gte_21_means = np.random.choice(heights_age_greater_or_equal_21, (10000, 200), replace=True).mean(axis=1)\n",
    "\n",
    "diffs = bootstrap_heights_gte_21_means-bootstrap_heights_lt_21_means\n",
    "print('Average Height Difference between Ages <21 and >=21:', diffs.mean())\n",
    "print('99% confidence interval:', (np.percentile(diffs, 1), np.percentile(diffs, 99)))\n",
    "print('Min Average Height with Age >= 21:', bootstrap_heights_gte_21_means.min())\n",
    "print('Max Average Height with Age < 21:', bootstrap_heights_lt_21_means.max())"
   ]
  },
  {
   "cell_type": "markdown",
   "metadata": {},
   "source": [
    "This suggests, on average, the height of those 21 years and older is larger than that of those under 21. In fact, none of the bootstrapped samples have a max average height greater than the minimum average height for those over 21.\n",
    "\n",
    "`3.` For 10,000 iterations bootstrap your sample data, compute the **difference** in the average height for coffee drinkers and the average height for non-coffee drinkers for individuals **under** 21 years old.  Using your sampling distribution, build a 95% confidence interval.  Use your interval to start answering question 2 below."
   ]
  },
  {
   "cell_type": "code",
   "execution_count": 10,
   "metadata": {},
   "outputs": [
    {
     "name": "stdout",
     "output_type": "stream",
     "text": [
      "Average Height Difference between Coffee and Non-Coffee Drinkers Under 21: -1.7172022096154476\n",
      "95% confidence interval: (-2.199306553949001, -1.2312449976337942)\n"
     ]
    },
    {
     "data": {
      "image/png": "[encoded data removed]",
      "text/plain": [
       "<Figure size 640x480 with 1 Axes>"
      ]
     },
     "metadata": {},
     "output_type": "display_data"
    }
   ],
   "source": [
    "heights_coffee_lt_21 = coffee_red[(coffee_red['age'] == \"<21\") & (coffee_red['drinks_coffee'] == True)]['height'].values\n",
    "heights_non_coffee_lt_21 = coffee_red[(coffee_red['age'] == \"<21\") & (coffee_red['drinks_coffee'] == False)]['height'].values\n",
    "\n",
    "bootstrap_heights_coffee_lt_21_means = np.random.choice(heights_coffee_lt_21, (10000, 200), replace=True).mean(axis=1)\n",
    "bootstrap_heights_non_coffee_lt_21_means = np.random.choice(heights_non_coffee_lt_21, (10000, 200), replace=True).mean(axis=1)\n",
    "\n",
    "diffs = bootstrap_heights_coffee_lt_21_means-bootstrap_heights_non_coffee_lt_21_means\n",
    "plt.hist(diffs)\n",
    "print('Average Height Difference between Coffee and Non-Coffee Drinkers Under 21:', diffs.mean())\n",
    "print('95% confidence interval:', (np.percentile(diffs, 2.5), np.percentile(diffs, 97.5)))"
   ]
  },
  {
   "cell_type": "markdown",
   "metadata": {},
   "source": [
    "`4.` For 10,000 iterations bootstrap your sample data, compute the **difference** in the average height for coffee drinkers and the average height for non-coffee drinkers for individuals **over** 21 years old.  Using your sampling distribution, build a 95% confidence interval. Use your interval to finish answering the second quiz question below. As well as the following questions. "
   ]
  },
  {
   "cell_type": "code",
   "execution_count": 11,
   "metadata": {},
   "outputs": [
    {
     "name": "stdout",
     "output_type": "stream",
     "text": [
      "Average Height Difference between Coffee and Non-Coffee Drinkers Under 21: -1.2831049198299438\n",
      "95% confidence interval: (-1.679860315029406, -0.8937815722446761)\n"
     ]
    },
    {
     "data": {
      "image/png": "[encoded data removed]",
      "text/plain": [
       "<Figure size 640x480 with 1 Axes>"
      ]
     },
     "metadata": {},
     "output_type": "display_data"
    }
   ],
   "source": [
    "heights_coffee_gte_21 = coffee_red[(coffee_red['age'] == \">=21\") & (coffee_red['drinks_coffee'] == True)]['height'].values\n",
    "heights_non_coffee_gte_21 = coffee_red[(coffee_red['age'] == \">=21\") & (coffee_red['drinks_coffee'] == False)]['height'].values\n",
    "\n",
    "bootstrap_heights_coffee_gte_21_means = np.random.choice(heights_coffee_gte_21, (10000, 200), replace=True).mean(axis=1)\n",
    "bootstrap_heights_non_coffee_gte_21_means = np.random.choice(heights_non_coffee_gte_21, (10000, 200), replace=True).mean(axis=1)\n",
    "\n",
    "diffs = bootstrap_heights_coffee_gte_21_means-bootstrap_heights_non_coffee_gte_21_means\n",
    "plt.hist(diffs)\n",
    "print('Average Height Difference between Coffee and Non-Coffee Drinkers Under 21:', diffs.mean())\n",
    "print('95% confidence interval:', (np.percentile(diffs, 2.5), np.percentile(diffs, 97.5)))"
   ]
  },
  {
   "cell_type": "markdown",
   "metadata": {},
   "source": [
    "### Practical vs Statistical Significance\n",
    "\n",
    "**Statistical Significance** is evidence from hypothesis tests and confidence intervals that your hypothesis, $H_1$, is true.  \n",
    "**Practical Significance** considers real world constraints, not just statistical significance, in making final conclusions. Considerations could include costs, time, or space."
   ]
  },
  {
   "cell_type": "markdown",
   "metadata": {},
   "source": [
    "### Traditional Methods or Bootstrapping\n",
    "\n",
    "With large sample sizes, traditional methods for computing confidence intervals and bootstrapping tend to produce very similar results. With smaller sample sizes, traditional methods likely have assumptions that are not true of your interval. Small sample sizes are not ideal for bootstrapping methods either though, as they can lead to misleading results simply due to the sample not being representative of the population."
   ]
  },
  {
   "cell_type": "markdown",
   "metadata": {},
   "source": [
    "### Other Language Associated with Confidence Intervals\n",
    "\n",
    "##### Political Example\n",
    "\n",
    "In a political campaign, you might often see something like $$\\text{Candidate A has }34\\text{\\% of the vote}\\pm 3{\\%}$$ $$\\text{Candidate B has }22\\text{\\% of the vote}\\pm 3{\\%}$$ based on a 95% confidence interval. The $\\pm$ 3% is considered the *margin of error*. By adding and subtracting the margin of error from the statistic measured, we can obtain the confidence interval. $$\\text{Candidate A has }34\\text{\\% of the vote}\\pm 3\\%\\left(31\\%-37\\%\\right)$$ $$\\text{Candidate B has }22\\text{\\% of the vote}\\pm 3\\%\\left(19\\%-25\\%\\right)$$\n",
    "\n",
    "##### Relationship between Sample Size, Confidence Interval, and Confidence Level\n",
    "\n",
    "Assuming we control for all other items of our analysis:\n",
    "\n",
    "1. Increasing your sample size will decrease the width of your confidence interval. (Law of Large Numbers)\n",
    "1. Increasing your confidence level (say 95% to 99%) will increase the width of our confidence interval.\n",
    "\n",
    "We can compute:\n",
    "\n",
    "1. The confidence interval width as the difference between the upper and lower bounds of the confidence interval.\n",
    "1. The margin of error as half the confidence interval width and is the value you add and subtract from your sample estimate to achieve your confidence interval final result.\n",
    "\n",
    "##### Confidence Intervals (& Hypothesis Testing) vs Machine Learning\n",
    "\n",
    "Remember that confidence intervals are aimed at a single numeric value in our population. The values include the population mean, population standard deviation, difference between two population means, or any other numeric summary in the population.\n",
    "\n",
    "Confidence intervals do not tell us anything about any specific individual data point. Confidence intervals take an aggregate approach towards the conclusions made on data and are aimed at understanding population parameters.\n",
    "\n",
    "Alternatively, machine learning techniques take an individual approach toward making conclusions, as they attempt to predict an outcome for each specific data point."
   ]
  }
 ],
 "metadata": {
  "kernelspec": {
   "display_name": "Python 3",
   "language": "python",
   "name": "python3"
  },
  "language_info": {
   "codemirror_mode": {
    "name": "ipython",
    "version": 3
   },
   "file_extension": ".py",
   "mimetype": "text/x-python",
   "name": "python",
   "nbconvert_exporter": "python",
   "pygments_lexer": "ipython3",
   "version": "3.10.13"
  }
 },
 "nbformat": 4,
 "nbformat_minor": 2
}
