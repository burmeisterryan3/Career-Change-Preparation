{
 "cells": [
  {
   "cell_type": "markdown",
   "metadata": {},
   "source": [
    "# Sampling Distributions and the [Central Limit Theorem](https://en.wikipedia.org/wiki/Central_limit_theorem)\n",
    "\n",
    "(See [Distributions/Normal Distribution.ipynb](./Distributions/Normal%20Distribution.ipynb) to see details regarding the derivation of the normal distribution and the central limit theorem.)"
   ]
  },
  {
   "cell_type": "markdown",
   "metadata": {},
   "source": [
    "### Descriptive vs Inferential Statistics\n",
    "\n",
    "**Descriptive statistics** is about describing our collected data.\n",
    "\n",
    "**Inferential statistics** is about using our collected data to draw conclusions about a larger population\n",
    "\n",
    "* *Population* - our entire group of interest\n",
    "* *Parameter* - numeric summary about a population\n",
    "* *Sample* - subset of the population\n",
    "* *Statistic* - numeric summary about a sample\n",
    "\n",
    "##### Example\n",
    "\n",
    "Question - What percentage of students in Texas drink coffee?\n",
    "\n",
    "* Population - 100,000 students\n",
    "* Sample - 5000 students\n",
    "* Statistics - 73%\n",
    "* Parameter - Proportion of all 100,000 students that drink cofee\n",
    "\n",
    "Drawing conclusions about a parameter based on statistics is known as inference."
   ]
  },
  {
   "cell_type": "markdown",
   "metadata": {},
   "source": [
    "### Sampling Distribution\n",
    "\n",
    "A sampling distribution is the distribution of a statistic.\n",
    "\n",
    "##### Example\n",
    "\n",
    "Imagine we have 21 students of which 15 drink coffee (71%).\n",
    "\n",
    "Now, imagine we select 5 students at random such that only one drinks coffee (20%).  \n",
    "Now, we select a different set of 5 students, and now three drink coffee (60%).  \n",
    "\n",
    "In this scenario, the sampling distribution would be a statistic over the set of all possible combinations of $n=5$ students.\n",
    "\n",
    "The sampling distribution of the mean, $\\bar{X}$, is the mean of all the sampled means. For an experiment run $N$ times, $\\bar{X} = \\bar{X}_1 + \\bar{X}_2 + \\dots + \\bar{X}_N = \\frac{1}{N}\\sum\\bar{X}_i$, where $\\bar{X}_i$ is the mean of the $i\\text{th}$ $n$-sized sample. \n",
    "\n",
    "\n",
    "Here is how we could explore this in Python, where a value of 1 corresponds to a student that drinks coffee while 0 is a student that does not."
   ]
  },
  {
   "cell_type": "code",
   "execution_count": 2,
   "metadata": {},
   "outputs": [],
   "source": [
    "import numpy as np\n",
    "import matplotlib.pyplot as plt\n",
    "%matplotlib inline\n",
    "\n",
    "np.random.seed(42)"
   ]
  },
  {
   "cell_type": "code",
   "execution_count": 3,
   "metadata": {},
   "outputs": [],
   "source": [
    "students = np.array([1,0,1,1,1,1,0,0,0,0,1,1,1,1,1,1,1,1,1,1,0])"
   ]
  },
  {
   "cell_type": "markdown",
   "metadata": {},
   "source": [
    "The proportion of students that drink cofee is:"
   ]
  },
  {
   "cell_type": "code",
   "execution_count": 4,
   "metadata": {},
   "outputs": [
    {
     "data": {
      "text/plain": [
       "0.7142857142857143"
      ]
     },
     "execution_count": 4,
     "metadata": {},
     "output_type": "execute_result"
    }
   ],
   "source": [
    "p = students.mean()\n",
    "p"
   ]
  },
  {
   "cell_type": "markdown",
   "metadata": {},
   "source": [
    "Simulate sampling 5 students from the `students` array. What proportion drink coffee?"
   ]
  },
  {
   "cell_type": "code",
   "execution_count": 20,
   "metadata": {},
   "outputs": [
    {
     "data": {
      "text/plain": [
       "0.8"
      ]
     },
     "execution_count": 20,
     "metadata": {},
     "output_type": "execute_result"
    }
   ],
   "source": [
    "np.random.choice(students, 5).mean()"
   ]
  },
  {
   "cell_type": "markdown",
   "metadata": {},
   "source": [
    "Repeat the above 10,000 times. What is the mean of sampling distribution of the mean?"
   ]
  },
  {
   "cell_type": "code",
   "execution_count": 22,
   "metadata": {},
   "outputs": [
    {
     "data": {
      "text/plain": [
       "0.7168"
      ]
     },
     "execution_count": 22,
     "metadata": {},
     "output_type": "execute_result"
    }
   ],
   "source": [
    "sample_props = np.random.choice(students, (10000, 5)).mean(axis=1)\n",
    "sample_props.mean()"
   ]
  },
  {
   "cell_type": "markdown",
   "metadata": {},
   "source": [
    "The variance and standard deviation of the orginal sample are:"
   ]
  },
  {
   "cell_type": "code",
   "execution_count": 38,
   "metadata": {},
   "outputs": [
    {
     "name": "stdout",
     "output_type": "stream",
     "text": [
      "Original var:\t 0.20408163265306126\n",
      "p(1-p):\t\t 0.20408163265306123\n",
      "Original std:\t 0.45175395145262565\n"
     ]
    }
   ],
   "source": [
    "print('Original var:\\t', students.var())\n",
    "print('p(1-p):\\t\\t', p*(1-p))\n",
    "print('Original std:\\t', students.std())"
   ]
  },
  {
   "cell_type": "markdown",
   "metadata": {},
   "source": [
    "The variance and standard deviation of the sampling distribution of the mean are:"
   ]
  },
  {
   "cell_type": "code",
   "execution_count": 24,
   "metadata": {},
   "outputs": [
    {
     "name": "stdout",
     "output_type": "stream",
     "text": [
      "Sample var:  0.04014176\n",
      "Sample std:  0.20035408655677578\n"
     ]
    }
   ],
   "source": [
    "print('Sample var: ', sample_props.var())\n",
    "print('Sample std: ', sample_props.std())"
   ]
  },
  {
   "cell_type": "markdown",
   "metadata": {},
   "source": [
    "Now compute $p(1-p)$. What does this match? ... Variance of the population, $\\sigma^2$, for a binomial distribution."
   ]
  },
  {
   "cell_type": "code",
   "execution_count": 9,
   "metadata": {},
   "outputs": [
    {
     "data": {
      "text/plain": [
       "0.20408163265306123"
      ]
     },
     "execution_count": 9,
     "metadata": {},
     "output_type": "execute_result"
    }
   ],
   "source": [
    "p*(1-p)"
   ]
  },
  {
   "cell_type": "markdown",
   "metadata": {},
   "source": [
    "Compute $\\frac{p(1-p)}{n}$ for $n=5$. What does this match? ... Theoretical variance of the sampling distribution of the mean, $\\sigma^2_{\\bar{x}} = \\frac{\\sigma^2}{n}$."
   ]
  },
  {
   "cell_type": "code",
   "execution_count": 10,
   "metadata": {},
   "outputs": [
    {
     "data": {
      "text/plain": [
       "0.04081632653061225"
      ]
     },
     "execution_count": 10,
     "metadata": {},
     "output_type": "execute_result"
    }
   ],
   "source": [
    "p*(1-p)/5"
   ]
  },
  {
   "cell_type": "markdown",
   "metadata": {},
   "source": [
    "Now do it again for $n=20$. How does the variance of the means change?\n",
    "\n",
    "The theoretical variance now bcomes $\\frac{p(1-p)}{n}$ for $n=20$."
   ]
  },
  {
   "cell_type": "code",
   "execution_count": 25,
   "metadata": {},
   "outputs": [
    {
     "data": {
      "text/plain": [
       "0.010204081632653062"
      ]
     },
     "execution_count": 25,
     "metadata": {},
     "output_type": "execute_result"
    }
   ],
   "source": [
    "p*(1-p)/20"
   ]
  },
  {
   "cell_type": "code",
   "execution_count": 19,
   "metadata": {},
   "outputs": [
    {
     "data": {
      "text/plain": [
       "0.0100894599"
      ]
     },
     "execution_count": 19,
     "metadata": {},
     "output_type": "execute_result"
    }
   ],
   "source": [
    "np.random.choice(students, (10000, 20)).mean(axis=1).var()"
   ]
  },
  {
   "cell_type": "code",
   "execution_count": 27,
   "metadata": {},
   "outputs": [
    {
     "data": {
      "text/plain": [
       "(array([  26.,   89.,  234., 1607., 1461., 1872., 3405.,  825.,  378.,\n",
       "         103.]),\n",
       " array([0.35 , 0.415, 0.48 , 0.545, 0.61 , 0.675, 0.74 , 0.805, 0.87 ,\n",
       "        0.935, 1.   ]),\n",
       " <BarContainer object of 10 artists>)"
      ]
     },
     "execution_count": 27,
     "metadata": {},
     "output_type": "execute_result"
    },
    {
     "data": {
      "image/png": "[encoded data removed]",
      "text/plain": [
       "<Figure size 640x480 with 1 Axes>"
      ]
     },
     "metadata": {},
     "output_type": "display_data"
    }
   ],
   "source": [
    "plt.hist(sample_props, alpha=0.5) # n=5\n",
    "plt.hist(np.random.choice(students, (10000, 20)).mean(axis=1), alpha=0.5)"
   ]
  },
  {
   "cell_type": "markdown",
   "metadata": {},
   "source": [
    "To recap this experiment, note a few things. Let $X$ be a random variable, $n$ be the sample size, $\\mu$ be the population mean, and $\\sigma^2$ be the population variance.\n",
    "\n",
    "1. **Sampling distributions** are the **distribution of a statistic**.\n",
    "    1. $\\bar{X}$ is the sampling distribution of the sample mean.\n",
    "1. The sampling distribution of the mean is centered on the original parameter value, $\\bar{X} = \\mu$.\n",
    "1. The sampling distribution of the mean's variance decreases as the sampling size increases, $\\sigma^2_{\\bar{X}} = \\frac{\\sigma^2}{n}$."
   ]
  },
  {
   "cell_type": "markdown",
   "metadata": {},
   "source": [
    "### Notation\n",
    "\n",
    "***Parameters*** pertain to a population and are typically annotated by Greek letters.  \n",
    "***Statistics*** pertain to a sample are typically annotated by lowercase letters or the same Greek letter with a hat on it. These values will change depending on the sample(s) selected.\n",
    "\n",
    "<u>**Mean**</u>  \n",
    "Parameter - $\\mu$.  \n",
    "Statistic - $\\bar{x}$ or $\\hat{\\mu}$\n",
    "\n",
    "<u>**Standard Deviation**</u>  \n",
    "Parameter - $\\sigma$  \n",
    "Statistic - $s$ or $\\hat{\\sigma}$\n",
    "\n",
    "<u>**Variance**</u>  \n",
    "Parameter - $\\sigma^2$  \n",
    "Statistic - $s^2$ or $\\hat\\sigma^2$\n",
    "\n",
    "<u>**Proportion**</u> - (used for dataset with only 0 and 1 values - a proportion)  \n",
    "Parameter - $\\pi$  \n",
    "Statistic - $p$ or $\\hat\\pi$\n",
    "\n",
    "<u>**Regression Coefficient**</u>  \n",
    "Parameter - $\\beta$  \n",
    "Statistic - $b$ or $\\hat\\beta$\n",
    "\n",
    "<u>**Correlation Coefficient**</u>  \n",
    "Parameter - $\\rho$  \n",
    "Statistic - $r$ or $\\hat\\rho$"
   ]
  },
  {
   "cell_type": "markdown",
   "metadata": {},
   "source": [
    "### Law of Large Numbers\n",
    "\n",
    "The ***law of large number*** states larger our sample size, the closer our statistic gets to the parameter.\n",
    "\n",
    "### Central Limit Theorem\n",
    "\n",
    "The ***Central Limit Theorem*** states, with a large enough sample size, the sampling distribution of the mean will be normally distributed.\n",
    "\n",
    "The Central Limit Theorem actually applies to sample means ($\\bar{x}$), sample proportions ($p$), difference in sample means ($\\bar{x_1}-\\bar{x_2}$), and difference in sample proportions ($p_1 - p_2$). However, it **does not apply for all statistics**, e.g., variance, correlation coefficient, or sampling distribution of the maximum value in a dataset.\n",
    "\n",
    "##### Example - Central Limit Theorem Does Apply to the Mean"
   ]
  },
  {
   "cell_type": "code",
   "execution_count": 39,
   "metadata": {},
   "outputs": [
    {
     "data": {
      "image/png": "[encoded data removed]",
      "text/plain": [
       "<Figure size 640x480 with 1 Axes>"
      ]
     },
     "metadata": {},
     "output_type": "display_data"
    }
   ],
   "source": [
    "np.random.seed(42)\n",
    "\n",
    "pop_data = np.random.gamma(1,100,3000)\n",
    "plt.hist(pop_data)"
   ]
  },
  {
   "cell_type": "code",
   "execution_count": 46,
   "metadata": {},
   "outputs": [
    {
     "name": "stdout",
     "output_type": "stream",
     "text": [
      "population mean:  100.35978700795846\n",
      "population std:  99.77860187968906\n",
      "population var:  9955.76939306549\n"
     ]
    }
   ],
   "source": [
    "print('population mean: ', pop_data.mean())\n",
    "print('population std: ', pop_data.std())\n",
    "print('population var: ', pop_data.var())"
   ]
  },
  {
   "cell_type": "code",
   "execution_count": 41,
   "metadata": {},
   "outputs": [
    {
     "data": {
      "text/plain": [
       "34.86585877838206"
      ]
     },
     "execution_count": 41,
     "metadata": {},
     "output_type": "execute_result"
    }
   ],
   "source": [
    "n = 3\n",
    "sample = np.random.choice(pop_data, n)\n",
    "sample.mean()"
   ]
  },
  {
   "cell_type": "code",
   "execution_count": 47,
   "metadata": {},
   "outputs": [
    {
     "name": "stdout",
     "output_type": "stream",
     "text": [
      "samples mean:  100.4014044887234\n",
      "samples std:  9.859739652909264\n"
     ]
    },
    {
     "data": {
      "text/plain": [
       "(array([  32.,  296., 1048., 2284., 2791., 2052., 1042.,  359.,   83.,\n",
       "          13.]),\n",
       " array([ 68.81184008,  75.79877872,  82.78571736,  89.772656  ,\n",
       "         96.75959464, 103.74653328, 110.73347192, 117.72041056,\n",
       "        124.7073492 , 131.69428784, 138.68122648]),\n",
       " <BarContainer object of 10 artists>)"
      ]
     },
     "execution_count": 47,
     "metadata": {},
     "output_type": "execute_result"
    },
    {
     "data": {
      "image/png": "[encoded data removed]",
      "text/plain": [
       "<Figure size 640x480 with 1 Axes>"
      ]
     },
     "metadata": {},
     "output_type": "display_data"
    }
   ],
   "source": [
    "samples = np.random.choice(pop_data, (10000, n))\n",
    "print('samples mean: ', samples.mean(axis=1).mean())\n",
    "print('samples std: ', samples.mean(axis=1).std())\n",
    "plt.hist(samples.mean(axis=1), alpha=0.5)"
   ]
  },
  {
   "cell_type": "markdown",
   "metadata": {},
   "source": [
    "Note that the curve does not appear to be normally distributed. This is because $n=3$ is too small. This raises an important question for the central limit theorem. When is my sample size large enough such that I can use the central limit theorem? With the advent of computers, we can tend to avoid this question by simply running simulations.\n",
    "\n",
    "Try again. This time with $n=100$."
   ]
  },
  {
   "cell_type": "code",
   "execution_count": 43,
   "metadata": {},
   "outputs": [
    {
     "data": {
      "text/plain": [
       "97.58388178095666"
      ]
     },
     "execution_count": 43,
     "metadata": {},
     "output_type": "execute_result"
    }
   ],
   "source": [
    "n = 100\n",
    "sample = np.random.choice(pop_data, n)\n",
    "sample.mean()"
   ]
  },
  {
   "cell_type": "code",
   "execution_count": 44,
   "metadata": {},
   "outputs": [
    {
     "name": "stdout",
     "output_type": "stream",
     "text": [
      "samples mean:  100.42857672674262\n",
      "samples std:  10.015923955914742\n"
     ]
    },
    {
     "data": {
      "text/plain": [
       "(array([  18.,  174.,  917., 2371., 3020., 2249.,  967.,  230.,   49.,\n",
       "           5.]),\n",
       " array([ 64.8224653 ,  72.67923085,  80.5359964 ,  88.39276195,\n",
       "         96.2495275 , 104.10629305, 111.9630586 , 119.81982414,\n",
       "        127.67658969, 135.53335524, 143.39012079]),\n",
       " <BarContainer object of 10 artists>)"
      ]
     },
     "execution_count": 44,
     "metadata": {},
     "output_type": "execute_result"
    },
    {
     "data": {
      "image/png": "[encoded data removed]",
      "text/plain": [
       "<Figure size 640x480 with 1 Axes>"
      ]
     },
     "metadata": {},
     "output_type": "display_data"
    }
   ],
   "source": [
    "samples = np.random.choice(pop_data, (10000, n))\n",
    "print('samples mean: ', samples.mean(axis=1).mean())\n",
    "print('samples std: ', samples.mean(axis=1).std())\n",
    "plt.hist(samples.mean(axis=1), alpha=0.5)"
   ]
  },
  {
   "cell_type": "markdown",
   "metadata": {},
   "source": [
    "##### Example - Central Limit Theorem Does **NOT** Apply to Variance"
   ]
  },
  {
   "cell_type": "code",
   "execution_count": 48,
   "metadata": {},
   "outputs": [
    {
     "data": {
      "text/plain": [
       "(array([1663.,  747.,  329.,  134.,   73.,   34.,   13.,    5.,    0.,\n",
       "           2.]),\n",
       " array([1.16348231e-03, 8.17255031e+01, 1.63449843e+02, 2.45174182e+02,\n",
       "        3.26898522e+02, 4.08622862e+02, 4.90347201e+02, 5.72071541e+02,\n",
       "        6.53795881e+02, 7.35520220e+02, 8.17244560e+02]),\n",
       " <BarContainer object of 10 artists>)"
      ]
     },
     "execution_count": 48,
     "metadata": {},
     "output_type": "execute_result"
    },
    {
     "data": {
      "image/png": "[encoded data removed]",
      "text/plain": [
       "<Figure size 640x480 with 1 Axes>"
      ]
     },
     "metadata": {},
     "output_type": "display_data"
    }
   ],
   "source": [
    "np.random.seed(42)\n",
    "\n",
    "pop_data = np.random.gamma(1,100,3000)\n",
    "plt.hist(pop_data)"
   ]
  },
  {
   "cell_type": "code",
   "execution_count": 49,
   "metadata": {},
   "outputs": [
    {
     "name": "stdout",
     "output_type": "stream",
     "text": [
      "population mean:  100.35978700795846\n",
      "population std:  99.77860187968906\n",
      "population var:  9955.76939306549\n"
     ]
    }
   ],
   "source": [
    "print('population mean: ', pop_data.mean())\n",
    "print('population std: ', pop_data.std())\n",
    "print('population var: ', pop_data.var())"
   ]
  },
  {
   "cell_type": "code",
   "execution_count": 50,
   "metadata": {},
   "outputs": [
    {
     "data": {
      "text/plain": [
       "12098.749344943082"
      ]
     },
     "execution_count": 50,
     "metadata": {},
     "output_type": "execute_result"
    }
   ],
   "source": [
    "np.random.choice(pop_data, 100).var()"
   ]
  },
  {
   "cell_type": "code",
   "execution_count": 52,
   "metadata": {},
   "outputs": [
    {
     "name": "stdout",
     "output_type": "stream",
     "text": [
      "var_size_100 mean:  9837.260344570863\n",
      "var_size_100 std:  2533.1328019241055\n",
      "var_size_100 var:  6416761.79218387\n"
     ]
    },
    {
     "data": {
      "text/plain": [
       "(array([ 183., 1556., 3119., 2798., 1515.,  557.,  209.,   44.,   13.,\n",
       "           6.]),\n",
       " array([ 3473.4861736 ,  5477.97530235,  7482.46443111,  9486.95355987,\n",
       "        11491.44268862, 13495.93181738, 15500.42094614, 17504.91007489,\n",
       "        19509.39920365, 21513.8883324 , 23518.37746116]),\n",
       " <BarContainer object of 10 artists>)"
      ]
     },
     "execution_count": 52,
     "metadata": {},
     "output_type": "execute_result"
    },
    {
     "data": {
      "image/png": "[encoded data removed]",
      "text/plain": [
       "<Figure size 640x480 with 1 Axes>"
      ]
     },
     "metadata": {},
     "output_type": "display_data"
    }
   ],
   "source": [
    "var_size_100 = np.random.choice(pop_data, (10000, 100)).var(axis=1)\n",
    "print('var_size_100 mean: ', var_size_100.mean())\n",
    "print('var_size_100 std: ', var_size_100.std())\n",
    "print('var_size_100 var: ', var_size_100.var())\n",
    "plt.hist(var_size_100, alpha=0.5)"
   ]
  },
  {
   "cell_type": "markdown",
   "metadata": {},
   "source": [
    "Note that this distribution is right-skewed. This distribution actually approaches a distribution known as a chi-squared distribution."
   ]
  },
  {
   "cell_type": "markdown",
   "metadata": {},
   "source": [
    "### Bootstrapping\n",
    "\n",
    "***Bootstrapping***, in statistics, means sampling with replacement.\n",
    "\n",
    "We can use bootstrapping to simulate the creation of sampling distribution. This amazing technique allows us to gain a better understanding of a parameter without needing any more data.\n",
    "\n",
    "[StackExchange - Why Bootstrapping Works](https://stats.stackexchange.com/questions/26088/explaining-to-laypeople-why-bootstrapping-works)"
   ]
  },
  {
   "cell_type": "code",
   "execution_count": 54,
   "metadata": {},
   "outputs": [],
   "source": [
    "import numpy as np\n",
    "np.random.seed(42)\n",
    "\n",
    "die_vals = np.array([1,2,3,4,5,6])"
   ]
  },
  {
   "cell_type": "markdown",
   "metadata": {},
   "source": [
    "With bootstrapping:"
   ]
  },
  {
   "cell_type": "code",
   "execution_count": 55,
   "metadata": {},
   "outputs": [
    {
     "data": {
      "text/plain": [
       "array([4, 5, 3, 5, 5, 2, 3, 3, 3, 5, 4, 3, 6, 5, 2, 4, 6, 6, 2, 4])"
      ]
     },
     "execution_count": 55,
     "metadata": {},
     "output_type": "execute_result"
    }
   ],
   "source": [
    "np.random.choice(die_vals, size=20)"
   ]
  },
  {
   "cell_type": "markdown",
   "metadata": {},
   "source": [
    "Without bootstrapping:"
   ]
  },
  {
   "cell_type": "code",
   "execution_count": 56,
   "metadata": {},
   "outputs": [
    {
     "ename": "ValueError",
     "evalue": "Cannot take a larger sample than population when 'replace=False'",
     "output_type": "error",
     "traceback": [
      "\u001b[0;31m---------------------------------------------------------------------------\u001b[0m",
      "\u001b[0;31mValueError\u001b[0m                                Traceback (most recent call last)",
      "\u001b[1;32m/workspaces/Career-Change-Preparation/Udacity/Statistics/3. Sampling Distributions.ipynb Cell 45\u001b[0m line \u001b[0;36m1\n\u001b[0;32m----> <a href='vscode-notebook-cell://codespaces%2Bsolid-potato-9v9qqr9v66j2xrvr/workspaces/Career-Change-Preparation/Udacity/Statistics/3.%20Sampling%20Distributions.ipynb#X64sdnNjb2RlLXJlbW90ZQ%3D%3D?line=0'>1</a>\u001b[0m np\u001b[39m.\u001b[39;49mrandom\u001b[39m.\u001b[39;49mchoice(die_vals, size\u001b[39m=\u001b[39;49m\u001b[39m20\u001b[39;49m, replace\u001b[39m=\u001b[39;49m\u001b[39mFalse\u001b[39;49;00m)\n",
      "File \u001b[0;32mnumpy/random/mtrand.pyx:1000\u001b[0m, in \u001b[0;36mnumpy.random.mtrand.RandomState.choice\u001b[0;34m()\u001b[0m\n",
      "\u001b[0;31mValueError\u001b[0m: Cannot take a larger sample than population when 'replace=False'"
     ]
    }
   ],
   "source": [
    "np.random.choice(die_vals, size=20, replace=False)"
   ]
  },
  {
   "cell_type": "markdown",
   "metadata": {},
   "source": [
    "##### Background of Bootstrapping\n",
    "\n",
    "Bootstrapping is used in many leading machine learning algorithms such as random forests and stochastics gradient boosting. "
   ]
  }
 ],
 "metadata": {
  "kernelspec": {
   "display_name": "Python 3",
   "language": "python",
   "name": "python3"
  },
  "language_info": {
   "codemirror_mode": {
    "name": "ipython",
    "version": 3
   },
   "file_extension": ".py",
   "mimetype": "text/x-python",
   "name": "python",
   "nbconvert_exporter": "python",
   "pygments_lexer": "ipython3",
   "version": "3.10.13"
  }
 },
 "nbformat": 4,
 "nbformat_minor": 2
}
