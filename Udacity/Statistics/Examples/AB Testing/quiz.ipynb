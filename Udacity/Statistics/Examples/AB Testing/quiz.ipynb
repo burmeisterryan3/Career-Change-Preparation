{
 "cells": [
  {
   "cell_type": "markdown",
   "metadata": {},
   "source": [
    "# Quiz\n",
    "\n",
    "### Scenario #1\n",
    "* **EXPERIMENT**: Audacity tests a new layout in the classroom to see if it would help engage students. After running an A/B test for two weeks, they find that average classroom times and completion rates decrease with the new layout, and decide against launching the change.\n",
    "* **REALITY**: What they don't know, is that the classroom times and completion rates actually increase significantly for new students using the new layout. In the long run, the layout would help existing students too, but they are currently experiencing change aversion.\n",
    "\n",
    "Based on the information above, which of the following contributed to this misguided decision? Select all that apply.  \n",
    "Answer: The experiment included existing users who would bias results in a short time frame. & The experiment wasn't run long enough to allow existing users to adjust to the change.\n",
    "\n",
    "### Scenario #2\n",
    "* **EXPERIMENT**: Audacity tests a new feature on their landing page that guides users through their course selection process and makes recommendations. After running an A/B test for a month, they find that the click through rates on course pages increase (enrollment rates increase) with the new feature, and decide to launch the change.\n",
    "* **REALITY**: What they don't know, is that although the number of total enrollments increase with the new feature, the courses they are purchasing are almost exclusively shorter and cheaper courses, which brings down the revenue for Audacity. It turns out the feature is leading more students to choose more courses with smaller commitments.\n",
    "\n",
    "Based on the information above, which of the following contributed to this misguided decision? Select all that apply.  \n",
    "Answer: Enrollment rates alone was not the best metric for the experiment. & Their metric(s) didn't account for revenue, which is ultimately what they want to increase with their decision.\n",
    "\n",
    "### Scenario #3\n",
    "* **EXPERIMENT**: Audacity tests a new description for a difficult course that gets very few enrollments. They hope this description is more exciting and motivates students to take it. After running an A/B test for five weeks, they find that the enrollment rate increases with the new description, and decide to launch the change.\n",
    "* **REALITY**: What they don't know, is that although the enrollment rate appears to increase with the new description, the results from this A/B test are unreliable and largely due to chance, because fewer than 40 out of thousands of visitors enrolled during this experiment. This makes even one new student for the course substantially impact the results and potentially even the conclusion.\n",
    "\n",
    "Based on the information above, which of the following contributed to this misguided decision? Select all that apply.  \n",
    "Answer: This course page had too little traffic and conversions to produce significant and repeatable results in this timeframe."
   ]
  },
  {
   "cell_type": "markdown",
   "metadata": {},
   "source": [
    "### Difficulties in A/B Testing\n",
    "Here are some common factors to consider when designing A/B tests and drawing conclusions based on its results.\n",
    "\n",
    "* Novelty effect and change aversion when existing users first experience a change\n",
    "* Sufficient traffic and conversions to have significant and repeatable results\n",
    "* Best metric choice for making the ultimate decision (eg. measuring revenue vs. clicks)\n",
    "* Long enough run time for the experiment to account for changes in behavior based on time of day/week or seasonal events.\n",
    "* Practical significance of a conversion rate (the cost of launching a new feature vs. the gain from the increase in conversion)\n",
    "* Consistency among test subjects in the control and experiment group (imbalance in the population represented in each group can lead to situations like [Simpson's Paradox](https://en.wikipedia.org/wiki/Simpson%27s_paradox))"
   ]
  }
 ],
 "metadata": {
  "kernelspec": {
   "display_name": "base",
   "language": "python",
   "name": "python3"
  },
  "language_info": {
   "name": "python",
   "version": "3.11.3"
  }
 },
 "nbformat": 4,
 "nbformat_minor": 2
}
