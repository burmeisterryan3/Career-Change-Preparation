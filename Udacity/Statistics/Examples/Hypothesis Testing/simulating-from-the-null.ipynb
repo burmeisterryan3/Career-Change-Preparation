{
 "cells": [
  {
   "cell_type": "markdown",
   "metadata": {},
   "source": [
    "### Simulating From the Null Hypothesis\n",
    "\n",
    "Load in the coffee drinker dataset, and use the exercises to assist with answering the quiz questions below."
   ]
  },
  {
   "cell_type": "code",
   "execution_count": 9,
   "metadata": {},
   "outputs": [],
   "source": [
    "import pandas as pd\n",
    "import numpy as np\n",
    "import matplotlib.pyplot as plt\n",
    "\n",
    "%matplotlib inline\n",
    "np.random.seed(42)"
   ]
  },
  {
   "cell_type": "code",
   "execution_count": 10,
   "metadata": {},
   "outputs": [
    {
     "data": {
      "text/html": [
       "<div>\n",
       "<style scoped>\n",
       "    .dataframe tbody tr th:only-of-type {\n",
       "        vertical-align: middle;\n",
       "    }\n",
       "\n",
       "    .dataframe tbody tr th {\n",
       "        vertical-align: top;\n",
       "    }\n",
       "\n",
       "    .dataframe thead th {\n",
       "        text-align: right;\n",
       "    }\n",
       "</style>\n",
       "<table border=\"1\" class=\"dataframe\">\n",
       "  <thead>\n",
       "    <tr style=\"text-align: right;\">\n",
       "      <th></th>\n",
       "      <th>height</th>\n",
       "      <th>drinks_coffee</th>\n",
       "    </tr>\n",
       "  </thead>\n",
       "  <tbody>\n",
       "    <tr>\n",
       "      <th>2402</th>\n",
       "      <td>64.357154</td>\n",
       "      <td>True</td>\n",
       "    </tr>\n",
       "    <tr>\n",
       "      <th>2864</th>\n",
       "      <td>66.859636</td>\n",
       "      <td>True</td>\n",
       "    </tr>\n",
       "    <tr>\n",
       "      <th>2167</th>\n",
       "      <td>66.659561</td>\n",
       "      <td>False</td>\n",
       "    </tr>\n",
       "    <tr>\n",
       "      <th>507</th>\n",
       "      <td>70.166241</td>\n",
       "      <td>True</td>\n",
       "    </tr>\n",
       "    <tr>\n",
       "      <th>1817</th>\n",
       "      <td>71.369120</td>\n",
       "      <td>True</td>\n",
       "    </tr>\n",
       "  </tbody>\n",
       "</table>\n",
       "</div>"
      ],
      "text/plain": [
       "         height  drinks_coffee\n",
       "2402  64.357154           True\n",
       "2864  66.859636           True\n",
       "2167  66.659561          False\n",
       "507   70.166241           True\n",
       "1817  71.369120           True"
      ]
     },
     "execution_count": 10,
     "metadata": {},
     "output_type": "execute_result"
    }
   ],
   "source": [
    "full_data = pd.read_csv('../../Data/coffee_dataset.csv')\n",
    "sample_data = full_data.sample(200)[['height','drinks_coffee']]\n",
    "sample_data.head()"
   ]
  },
  {
   "cell_type": "markdown",
   "metadata": {},
   "source": [
    "`1.` If you were interested in studying whether the average height for coffee drinkers is the same as for non-coffee drinkers, what would the null and alternative hypotheses be?  \n",
    "Answer:\n",
    "$$\\begin{align}H_0:&\\quad\\mu_c=\\mu_n\\\\ H_A:&\\quad\\mu_c\\neq\\mu_n\\end{align}$$\n",
    "where $\\mu_c$ is the average height of coffee drinkers and $\\mu_n$ is the average height of non-coffee drinkers."
   ]
  },
  {
   "cell_type": "markdown",
   "metadata": {},
   "source": [
    "`2.` If you were interested in studying whether the average height for coffee drinkers is less than non-coffee drinkers, what would the null and alternative hypotheses be?  \n",
    "Answer:\n",
    "$$\\begin{align}H_0:&\\quad\\mu_c\\geq\\mu_n\\\\ H_A:&\\quad\\mu_c\\lt\\mu_n\\end{align}$$"
   ]
  },
  {
   "cell_type": "markdown",
   "metadata": {},
   "source": [
    "`3.` For 10,000 iterations: bootstrap the sample data, calculate the mean height for coffee drinkers and non-coffee drinkers, and calculate the difference in means for each sample.  You will want to have three arrays at the end of the iterations - one for each mean and one for the difference in means."
   ]
  },
  {
   "cell_type": "code",
   "execution_count": 29,
   "metadata": {},
   "outputs": [
    {
     "name": "stdout",
     "output_type": "stream",
     "text": [
      "diffs mean:  1.3297291817668597\n",
      "lower:  0.4242171319564051\n",
      "upper:  2.2442001993756864\n"
     ]
    },
    {
     "data": {
      "text/plain": [
       "(array([   9.,  100.,  558., 1630., 2634., 2664., 1637.,  603.,  143.,\n",
       "          22.]),\n",
       " array([65.30919181, 65.6036443 , 65.89809678, 66.19254927, 66.48700175,\n",
       "        66.78145424, 67.07590673, 67.37035921, 67.6648117 , 67.95926418,\n",
       "        68.25371667]),\n",
       " <BarContainer object of 10 artists>)"
      ]
     },
     "execution_count": 29,
     "metadata": {},
     "output_type": "execute_result"
    },
    {
     "data": {
      "image/png": "[encoded data removed]",
      "text/plain": [
       "<Figure size 640x480 with 1 Axes>"
      ]
     },
     "metadata": {},
     "output_type": "display_data"
    }
   ],
   "source": [
    "coffee_means = []\n",
    "no_coffee_means = []\n",
    "diffs = []\n",
    "\n",
    "for _ in range(10000):\n",
    "    bootsamp = sample_data.sample(200, replace=True)\n",
    "    coffee_mean = bootsamp[bootsamp['drinks_coffee']==True]['height'].mean()\n",
    "    no_coffee_mean = bootsamp[bootsamp['drinks_coffee']==False]['height'].mean()\n",
    "    coffee_means.append(coffee_mean)\n",
    "    no_coffee_means.append(no_coffee_mean)\n",
    "    diffs.append(coffee_mean - no_coffee_mean)\n",
    "\n",
    "print('diffs mean: ', np.mean(diffs))\n",
    "\n",
    "lower, upper = np.percentile(diffs, 2.5), np.percentile(diffs, 97.5)\n",
    "print('lower: ', lower)\n",
    "print('upper: ', upper)\n",
    "\n",
    "plt.hist(coffee_means, alpha=0.5)\n",
    "plt.hist(no_coffee_means, alpha=0.5)"
   ]
  },
  {
   "cell_type": "markdown",
   "metadata": {},
   "source": [
    "`4.` Now, use your observed sampling distribution for the difference in means and [the docs](https://docs.scipy.org/doc/numpy-1.13.0/reference/generated/numpy.random.normal.html) to simulate what you would expect the sampling distribution to be if the null hypothesis is true. You can do this be recentering your distribution at zero. Also, calculate the observed sample mean difference in `sample_data`. Use your solutions to answer the last questions in the quiz below."
   ]
  },
  {
   "cell_type": "code",
   "execution_count": 16,
   "metadata": {},
   "outputs": [
    {
     "name": "stdout",
     "output_type": "stream",
     "text": [
      "coffee std:  0.24521624584276142\n",
      "no coffee std:  0.40236222052505044\n",
      "diffs std:  0.4702586566363951\n",
      "computed diff std:  0.4711967356965315\n"
     ]
    }
   ],
   "source": [
    "coffee_std = np.std(coffee_means)\n",
    "no_coffee_std = np.std(no_coffee_means)\n",
    "diffs_std = np.std(diffs)\n",
    "print('coffee std: ', coffee_std)\n",
    "print('no coffee std: ', no_coffee_std)\n",
    "print('diffs std: ', diffs_std)\n",
    "print('computed diff std: ', np.sqrt(np.std(coffee_means)**2 + np.std(no_coffee_means)**2))"
   ]
  },
  {
   "cell_type": "code",
   "execution_count": 28,
   "metadata": {},
   "outputs": [
    {
     "data": {
      "text/plain": [
       "<matplotlib.legend.Legend at 0x1ebda9d2dd0>"
      ]
     },
     "execution_count": 28,
     "metadata": {},
     "output_type": "execute_result"
    },
    {
     "data": {
      "image/png": "[encoded data removed]",
      "text/plain": [
       "<Figure size 640x480 with 1 Axes>"
      ]
     },
     "metadata": {},
     "output_type": "display_data"
    }
   ],
   "source": [
    "null_vals = np.random.normal(0, diffs_std, 10000)\n",
    "plt.hist(null_vals, alpha=0.5)\n",
    "plt.hist(diffs, alpha=0.5)\n",
    "plt.axvline(x=lower, color='r', linewidth=2)\n",
    "plt.axvline(x=upper, color='r', linewidth=2)\n",
    "plt.axvline(x=np.mean(null_vals), color='b', linewidth=2)\n",
    "plt.xlabel('Means')\n",
    "plt.ylabel('Frequency')\n",
    "plt.legend(['CI - Lower Bound', 'CI - Upper Bound', 'Null Mean', 'Null Means', 'Observed Means'])"
   ]
  },
  {
   "cell_type": "markdown",
   "metadata": {},
   "source": [
    "##### Question\n",
    "To recap, what can we say is `True` about the sampling distribution?  \n",
    "Answer:\n",
    "* We can expect the standard deviation of the sampling distribution for differences from the null to be essentially the same as what we observed from the data.\n",
    "* If the null hypothesis is true, we would expect the difference in means of coffee drinkers and non-coffee drinkers to be zero."
   ]
  },
  {
   "cell_type": "markdown",
   "metadata": {},
   "source": [
    "### Quiz\n",
    "\n",
    "##### Question 1\n",
    "For each of the following, state whether we reject or fail to reject $H_0$.\n",
    "\n",
    "| p-value/$\\alpha$ | Conclusion |\n",
    "| --- | --- |\n",
    "| p-value = $0.03$, $\\alpha=0.05$ | Reject |\n",
    "| p-value = $0.20$, $\\alpha=0.01$ | Fail to Reject |\n",
    "| p-value = $0.10$, $\\alpha=0.05$ | Fail to Reject |\n",
    "\n",
    "##### Question 2\n",
    "Match each of the following with the correct definition.\n",
    "\n",
    "| Definition | Term |\n",
    "| --- | --- |\n",
    "| The threshold for Type I errors. | $\\alpha$ |\n",
    "| The worst type of error. | Type I error |\n",
    "| Deciding the null is true, but really the alternative is true. | Type II error |\n",
    "| Deciding the alternative is true, but really the null is true. | Type I error |\n",
    "| The choice made when the p-value is less than alpha. | Reject the null hypothesis |"
   ]
  }
 ],
 "metadata": {
  "kernelspec": {
   "display_name": "base",
   "language": "python",
   "name": "python3"
  },
  "language_info": {
   "codemirror_mode": {
    "name": "ipython",
    "version": 3
   },
   "file_extension": ".py",
   "mimetype": "text/x-python",
   "name": "python",
   "nbconvert_exporter": "python",
   "pygments_lexer": "ipython3",
   "version": "3.11.3"
  }
 },
 "nbformat": 4,
 "nbformat_minor": 2
}
