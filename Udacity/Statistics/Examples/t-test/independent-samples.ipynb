{
 "cells": [
  {
   "cell_type": "code",
   "execution_count": 8,
   "metadata": {},
   "outputs": [],
   "source": [
    "import numpy as np\n",
    "import pandas as pd\n",
    "import matplotlib.pyplot as plt\n",
    "%matplotlib inline"
   ]
  },
  {
   "cell_type": "markdown",
   "metadata": {},
   "source": [
    "### Scenario\n",
    "\n",
    "You and your friends want to go out to eat, but you don't want to pay a lot. You decide to either go to gettyburg or Wilma. You look online and find the avreage meal prices at 18 restaurants in Gettysburg and 14 restaurants in Wilma.\n",
    "\n",
    "$$H_0: \\mu_G = \\mu_W$$\n",
    "$$H_A: \\mu_G \\neq \\mu_W$$"
   ]
  },
  {
   "cell_type": "markdown",
   "metadata": {},
   "source": [
    "##### Question 1\n",
    "What do we need to know to compare these samples?\n",
    "Answer: Sample averages, sample standard deviations, sample sizes\n",
    "\n",
    "##### Question 2\n",
    "What is the average meal price for each sample of restaurants?"
   ]
  },
  {
   "cell_type": "code",
   "execution_count": 9,
   "metadata": {},
   "outputs": [
    {
     "name": "stdout",
     "output_type": "stream",
     "text": [
      "Gettyburg Mean:  8.944444444444445\n",
      "Wilma Mean:  11.142857142857142\n"
     ]
    }
   ],
   "source": [
    "df = pd.read_csv('../../Data/Food-Prices-Lesson-11.csv')\n",
    "g_mean = df['Gettysburg'].mean()\n",
    "w_mean = df['Wilma'].mean()\n",
    "print('Gettyburg Mean: ', g_mean)\n",
    "print('Wilma Mean: ', w_mean)"
   ]
  },
  {
   "cell_type": "markdown",
   "metadata": {},
   "source": [
    "##### Question 3\n",
    "What is the sample standard deviation for each sample of restaurants?"
   ]
  },
  {
   "cell_type": "code",
   "execution_count": 10,
   "metadata": {},
   "outputs": [
    {
     "name": "stdout",
     "output_type": "stream",
     "text": [
      "Gettysburg SD:  2.6451336499586917\n",
      "Wilma SD:  2.1788191176076888\n"
     ]
    }
   ],
   "source": [
    "# ddof=1 for sample standard deviation\n",
    "g_std = df['Gettysburg'].std(ddof=1)\n",
    "w_std = df['Wilma'].std(ddof=1)\n",
    "print('Gettysburg SD: ', g_std)\n",
    "print('Wilma SD: ', w_std)"
   ]
  },
  {
   "cell_type": "markdown",
   "metadata": {},
   "source": [
    "##### Question 4\n",
    "Calculate the standard error:\n",
    "$$\\text{SE}_{\\bar{x}_G-\\bar{x}_W} = \\sqrt{\\frac{s_G^2}{n_G}+\\frac{s_W^2}{n_W}}$$"
   ]
  },
  {
   "cell_type": "code",
   "execution_count": 19,
   "metadata": {},
   "outputs": [
    {
     "name": "stdout",
     "output_type": "stream",
     "text": [
      "Standard Error:  0.8531100847677227\n"
     ]
    }
   ],
   "source": [
    "se = np.sqrt((g_std**2)/len(df['Gettysburg']) + (w_std**2)/df['Wilma'].dropna().count())\n",
    "print('Standard Error: ', se)"
   ]
  },
  {
   "cell_type": "markdown",
   "metadata": {},
   "source": [
    "##### Question 5\n",
    "What is correct for calculating the t-statistic?  \n",
    "Answer: $$\\frac{\\bar{x}_G-\\bar{x}_W}{\\text{SE}}\\quad\\text{OR}\\quad \\frac{\\bar{x}_W-\\bar{x}_G}{\\text{SE}}$$\n",
    "\n",
    "We can use either given this is a two-tailed test, and the result will only be a change in sign.\n",
    "\n",
    "##### Question 6\n",
    "Calculate the t-statistic."
   ]
  },
  {
   "cell_type": "code",
   "execution_count": 20,
   "metadata": {},
   "outputs": [
    {
     "name": "stdout",
     "output_type": "stream",
     "text": [
      "t-statistic (g-w):  -2.5769390582356815\n",
      "t-statistic (w-g):  2.5769390582356815\n"
     ]
    }
   ],
   "source": [
    "print('t-statistic (g-w): ', (g_mean - w_mean)/se)\n",
    "print('t-statistic (w-g): ', (w_mean - g_mean)/se)"
   ]
  },
  {
   "cell_type": "markdown",
   "metadata": {},
   "source": [
    "##### Question 7\n",
    "What are the $t^*$ values? Use a t-table for a two-tailed test with an $\\alpha=0.05$  \n",
    "Answer: $\\pm 2.042$ as $df=n_G+n_W-2=30$"
   ]
  }
 ],
 "metadata": {
  "kernelspec": {
   "display_name": "base",
   "language": "python",
   "name": "python3"
  },
  "language_info": {
   "codemirror_mode": {
    "name": "ipython",
    "version": 3
   },
   "file_extension": ".py",
   "mimetype": "text/x-python",
   "name": "python",
   "nbconvert_exporter": "python",
   "pygments_lexer": "ipython3",
   "version": "2022.10.0"
  }
 },
 "nbformat": 4,
 "nbformat_minor": 2
}
