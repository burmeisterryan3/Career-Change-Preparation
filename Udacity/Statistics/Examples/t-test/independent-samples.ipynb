{
 "cells": [
  {
   "cell_type": "code",
   "execution_count": 2,
   "metadata": {},
   "outputs": [],
   "source": [
    "import numpy as np\n",
    "import pandas as pd\n",
    "import matplotlib.pyplot as plt\n",
    "%matplotlib inline"
   ]
  },
  {
   "cell_type": "markdown",
   "metadata": {},
   "source": [
    "### Scenario 1\n",
    "\n",
    "You and your friends want to go out to eat, but you don't want to pay a lot. You decide to either go to gettyburg or Wilma. You look online and find the avreage meal prices at 18 restaurants in Gettysburg and 14 restaurants in Wilma.\n",
    "\n",
    "$$H_0: \\mu_G = \\mu_W$$\n",
    "$$H_A: \\mu_G \\neq \\mu_W$$"
   ]
  },
  {
   "cell_type": "markdown",
   "metadata": {},
   "source": [
    "##### Question 1\n",
    "What do we need to know to compare these samples?\n",
    "Answer: Sample averages, sample standard deviations, sample sizes\n",
    "\n",
    "##### Question 2\n",
    "What is the average meal price for each sample of restaurants?"
   ]
  },
  {
   "cell_type": "code",
   "execution_count": 3,
   "metadata": {},
   "outputs": [
    {
     "name": "stdout",
     "output_type": "stream",
     "text": [
      "Gettyburg Mean:  8.944444444444445\n",
      "Wilma Mean:  11.142857142857142\n"
     ]
    }
   ],
   "source": [
    "df = pd.read_csv('../../Data/Food-Prices-Lesson-11.csv')\n",
    "g_mean = df['Gettysburg'].mean()\n",
    "w_mean = df['Wilma'].mean()\n",
    "print('Gettyburg Mean: ', g_mean)\n",
    "print('Wilma Mean: ', w_mean)"
   ]
  },
  {
   "cell_type": "markdown",
   "metadata": {},
   "source": [
    "##### Question 3\n",
    "What is the sample standard deviation for each sample of restaurants?"
   ]
  },
  {
   "cell_type": "code",
   "execution_count": 4,
   "metadata": {},
   "outputs": [
    {
     "name": "stdout",
     "output_type": "stream",
     "text": [
      "Gettysburg SD:  2.6451336499586917\n",
      "Wilma SD:  2.1788191176076888\n"
     ]
    }
   ],
   "source": [
    "# ddof=1 for sample standard deviation\n",
    "g_std = df['Gettysburg'].std(ddof=1)\n",
    "w_std = df['Wilma'].std(ddof=1)\n",
    "print('Gettysburg SD: ', g_std)\n",
    "print('Wilma SD: ', w_std)"
   ]
  },
  {
   "cell_type": "markdown",
   "metadata": {},
   "source": [
    "##### Question 4\n",
    "Calculate the standard error:\n",
    "$$\\text{SE}_{\\bar{x}_G-\\bar{x}_W} = \\sqrt{\\frac{s_G^2}{n_G}+\\frac{s_W^2}{n_W}}$$"
   ]
  },
  {
   "cell_type": "code",
   "execution_count": 5,
   "metadata": {},
   "outputs": [
    {
     "name": "stdout",
     "output_type": "stream",
     "text": [
      "Standard Error:  0.8531100847677227\n"
     ]
    }
   ],
   "source": [
    "se = np.sqrt((g_std**2)/len(df['Gettysburg']) + (w_std**2)/df['Wilma'].dropna().count())\n",
    "print('Standard Error: ', se)"
   ]
  },
  {
   "cell_type": "markdown",
   "metadata": {},
   "source": [
    "##### Question 5\n",
    "What is correct for calculating the t-statistic?  \n",
    "Answer: $$\\frac{\\bar{x}_G-\\bar{x}_W}{\\text{SE}}\\quad\\text{OR}\\quad \\frac{\\bar{x}_W-\\bar{x}_G}{\\text{SE}}$$\n",
    "\n",
    "We can use either given this is a two-tailed test, and the result will only be a change in sign.\n",
    "\n",
    "##### Question 6\n",
    "Calculate the t-statistic."
   ]
  },
  {
   "cell_type": "code",
   "execution_count": 6,
   "metadata": {},
   "outputs": [
    {
     "name": "stdout",
     "output_type": "stream",
     "text": [
      "t-statistic (g-w):  -2.5769390582356815\n",
      "t-statistic (w-g):  2.5769390582356815\n"
     ]
    }
   ],
   "source": [
    "print('t-statistic (g-w): ', (g_mean - w_mean)/se)\n",
    "print('t-statistic (w-g): ', (w_mean - g_mean)/se)"
   ]
  },
  {
   "cell_type": "markdown",
   "metadata": {},
   "source": [
    "##### Question 7\n",
    "What are the $t^*$ values? Use a t-table for a two-tailed test with an $\\alpha=0.05$  \n",
    "Answer: $\\pm 2.042$ as $df=n_G+n_W-2=30$\n",
    "\n",
    "##### Question\n",
    "Do we *reject* or *fail to reject* $H_0$?  \n",
    "Answer: Reject as $\\lvert t\\rvert \\gt \\lvert t^*\\rvert$"
   ]
  },
  {
   "cell_type": "markdown",
   "metadata": {},
   "source": [
    "##### Scenario 2\n",
    "\n",
    "Imagine two dermatologists are checking to see the utility of an acne drug and it's ability to reduce acne. Drug A and Drug B acne reduction percentages are presented.\n",
    "\n",
    "| Drug A | Drug B |\n",
    "| ------ | ------ |\n",
    "| 40% | 41% |\n",
    "| 36% | 39% |\n",
    "| 20% | 18% |\n",
    "| 32% | 23% |\n",
    "| 45% | 35% |\n",
    "| 28% | |\n",
    "\n",
    "$$\\bar{x}_A=33.5\\% \\qquad \\bar{x}_B=31.2\\%$$\n",
    "$$s_A=8.89\\% \\qquad s_B=10.16\\%$$\n",
    "$$H_0: \\mu_A = \\mu_B$$\n",
    "$$H_A: \\mu_A \\neq \\mu_B$$\n",
    "\n",
    "##### Question 1\n",
    "Calculate the t-statistic.\n",
    "$$t = \\frac{\\bar{x}_A-\\bar{x}_B}{\\sqrt{\\frac{s_A^2}{n_A}+\\frac{s_B^2}{n_B}}}$$"
   ]
  },
  {
   "cell_type": "code",
   "execution_count": 7,
   "metadata": {},
   "outputs": [
    {
     "name": "stdout",
     "output_type": "stream",
     "text": [
      "Mean A:  0.33499999999999996\n",
      "Mean B:  0.312\n",
      "Standard Deviation A:  0.08893818077743663\n",
      "Standard Deviation B:  0.10158740079360236\n",
      "Standard Error:  0.05815783122962318\n",
      "t-statistic (A-B):  0.39547554497329196\n"
     ]
    }
   ],
   "source": [
    "dA = np.array([.4, .36, .2, .32, .45, .28])\n",
    "dB = np.array([.41, .39, .18, .23, .35])\n",
    "\n",
    "meanA = dA.mean()\n",
    "meanB = dB.mean()\n",
    "print('Mean A: ', meanA)\n",
    "print('Mean B: ', meanB)\n",
    "\n",
    "stdA = dA.std(ddof=1) # ddof=1 for sample standard deviation, n-1 degrees of freedom\n",
    "stdB = dB.std(ddof=1) # ddof=1 for sample standard deviation, n-1 degrees of freedom\n",
    "print('Standard Deviation A: ', stdA)\n",
    "print('Standard Deviation B: ', stdB)\n",
    "\n",
    "se = np.sqrt((stdA**2)/len(dA) + (stdB**2)/len(dB))\n",
    "print('Standard Error: ', se)\n",
    "\n",
    "t = (meanA - meanB)/se\n",
    "print('t-statistic (A-B): ', t)"
   ]
  },
  {
   "cell_type": "markdown",
   "metadata": {},
   "source": [
    "##### Question 2\n",
    "What are the $t^*$ values for a two-tailed test with a significance level of $5$% ($\\alpha=0.05$, $95$% CI)?  \n",
    "Answer: $\\pm 2.262$  \n",
    "(Remember: $df = n_A + n_B - 2$)\n",
    "\n",
    "##### Question 3\n",
    "Do we *reject* or *fail to reject* $H_0$?  \n",
    "Answer: We fail to reject as $\\lvert t\\rvert \\lt \\lvert t^*\\rvert$"
   ]
  },
  {
   "cell_type": "markdown",
   "metadata": {},
   "source": [
    "### Scenario 3\n",
    "Who has more shoes - males or females?\n",
    "$$H_0: \\mu_F = \\mu_M \\quad (\\mu_F - \\mu_M = 0)$$\n",
    "$$H_A: \\mu_F \\neq \\mu_M \\quad (\\mu_F - \\mu_M \\neq 0)$$"
   ]
  },
  {
   "cell_type": "code",
   "execution_count": 8,
   "metadata": {},
   "outputs": [
    {
     "data": {
      "text/html": [
       "<div>\n",
       "<style scoped>\n",
       "    .dataframe tbody tr th:only-of-type {\n",
       "        vertical-align: middle;\n",
       "    }\n",
       "\n",
       "    .dataframe tbody tr th {\n",
       "        vertical-align: top;\n",
       "    }\n",
       "\n",
       "    .dataframe thead th {\n",
       "        text-align: right;\n",
       "    }\n",
       "</style>\n",
       "<table border=\"1\" class=\"dataframe\">\n",
       "  <thead>\n",
       "    <tr style=\"text-align: right;\">\n",
       "      <th></th>\n",
       "      <th>females</th>\n",
       "      <th>males</th>\n",
       "    </tr>\n",
       "  </thead>\n",
       "  <tbody>\n",
       "    <tr>\n",
       "      <th>0</th>\n",
       "      <td>90.0</td>\n",
       "      <td>4</td>\n",
       "    </tr>\n",
       "    <tr>\n",
       "      <th>1</th>\n",
       "      <td>28.0</td>\n",
       "      <td>120</td>\n",
       "    </tr>\n",
       "    <tr>\n",
       "      <th>2</th>\n",
       "      <td>30.0</td>\n",
       "      <td>5</td>\n",
       "    </tr>\n",
       "    <tr>\n",
       "      <th>3</th>\n",
       "      <td>10.0</td>\n",
       "      <td>3</td>\n",
       "    </tr>\n",
       "    <tr>\n",
       "      <th>4</th>\n",
       "      <td>5.0</td>\n",
       "      <td>10</td>\n",
       "    </tr>\n",
       "  </tbody>\n",
       "</table>\n",
       "</div>"
      ],
      "text/plain": [
       "   females  males\n",
       "0     90.0      4\n",
       "1     28.0    120\n",
       "2     30.0      5\n",
       "3     10.0      3\n",
       "4      5.0     10"
      ]
     },
     "execution_count": 8,
     "metadata": {},
     "output_type": "execute_result"
    }
   ],
   "source": [
    "df = pd.read_csv('../../Data/Shoes-Lesson 11.csv')\n",
    "df.head()"
   ]
  },
  {
   "cell_type": "markdown",
   "metadata": {},
   "source": [
    "##### Question 1\n",
    "Compute the mean and standard deviation for the number of shoes owned by males and females."
   ]
  },
  {
   "cell_type": "code",
   "execution_count": 9,
   "metadata": {},
   "outputs": [
    {
     "name": "stdout",
     "output_type": "stream",
     "text": [
      "male mean:  18.0\n",
      "female mean:  33.142857142857146\n",
      "male standard deviation:  34.27243790569909\n",
      "female standard deviation:  31.360423952430722\n"
     ]
    }
   ],
   "source": [
    "meanM = df['males'].mean()\n",
    "meanF = df['females'].mean()\n",
    "print('male mean: ', meanM)\n",
    "print('female mean: ', meanF)\n",
    "\n",
    "stdM = df['males'].std(ddof=1)\n",
    "stdF = df['females'].std(ddof=1)\n",
    "print('male standard deviation: ', stdM)\n",
    "print('female standard deviation: ', stdF)"
   ]
  },
  {
   "cell_type": "markdown",
   "metadata": {},
   "source": [
    "##### Question 2\n",
    "Compute the standard error."
   ]
  },
  {
   "cell_type": "code",
   "execution_count": 10,
   "metadata": {},
   "outputs": [
    {
     "name": "stdout",
     "output_type": "stream",
     "text": [
      "standerd error:  15.725088769901236\n"
     ]
    }
   ],
   "source": [
    "se = np.sqrt(stdM**2/df['males'].count() + stdF**2/df['females'].count())\n",
    "print('standerd error: ', se)"
   ]
  },
  {
   "cell_type": "markdown",
   "metadata": {},
   "source": [
    "##### Question 3\n",
    "Compute the t-statistic. $$t=\\frac{\\bar{x}_F-\\bar{x}_M}{\\text{SE}}$$"
   ]
  },
  {
   "cell_type": "code",
   "execution_count": 11,
   "metadata": {},
   "outputs": [
    {
     "name": "stdout",
     "output_type": "stream",
     "text": [
      "t-statistic (F-M):  0.9629743503795974\n"
     ]
    }
   ],
   "source": [
    "t = (meanF - meanM)/se\n",
    "print('t-statistic (F-M): ', t)"
   ]
  },
  {
   "cell_type": "markdown",
   "metadata": {},
   "source": [
    "##### Question 4\n",
    "Determine the t-critical values, $t^*$, for $\\alpha=0.05$. Remember this is a two-tailed test and $df = n_F+n_M-2$.  \n",
    "Answer: $\\pm 2.120$  \n",
    "\n",
    "##### Question 5\n",
    "Compute the $95$% CI. Remember $\\text{CI}=\\bar{x} \\pm t^*\\cdot\\text{SE}$.  \n",
    "NOTE: $\\bar{x}$ could be $-15.14$ or $15.14$. The direction (i.e., positive or negative) selection is not significant as long as the direction is reported and the computations are performed with the selection in mind."
   ]
  },
  {
   "cell_type": "code",
   "execution_count": 12,
   "metadata": {},
   "outputs": [
    {
     "name": "stdout",
     "output_type": "stream",
     "text": [
      "95% confidence interval:  (-18.194331049333478, 48.48004533504777)\n"
     ]
    }
   ],
   "source": [
    "t_crit = 2.12\n",
    "(lbound, ubound) = (meanF - meanM - t_crit*se, meanF - meanM + t_crit*se)\n",
    "print('95% confidence interval: ', (lbound, ubound))"
   ]
  },
  {
   "cell_type": "markdown",
   "metadata": {},
   "source": [
    "##### Question 6\n",
    "What proportion of the difference in pairs of shoes owned can be attributed to gener? Remember\n",
    "$$r^2=\\frac{t^2}{t^2+df}$$"
   ]
  },
  {
   "cell_type": "code",
   "execution_count": 13,
   "metadata": {},
   "outputs": [
    {
     "name": "stdout",
     "output_type": "stream",
     "text": [
      "r^2:  0.05478242400037162\n"
     ]
    }
   ],
   "source": [
    "r2 = t**2/(t**2 + df['males'].count() + df['females'].count() - 2)\n",
    "print('r^2: ', r2)"
   ]
  },
  {
   "cell_type": "markdown",
   "metadata": {},
   "source": [
    "### Scenario 4\n",
    "\n",
    "Pooled variance. Compute the t-statistic for $H_0: \\mu_x-\\mu_y=0$. Do we reject or fail to reject $H_0$ for $\\alpha=0.05$?\n",
    "\n",
    "Note: For a two-tailed test and $\\alpha=0.05$, $t^*=2.571$."
   ]
  },
  {
   "cell_type": "code",
   "execution_count": 20,
   "metadata": {},
   "outputs": [
    {
     "name": "stdout",
     "output_type": "stream",
     "text": [
      "x mean:  2.0\n",
      "y mean:  6.0\n",
      "x - x_mean:  [ 3.  4. -1. -6.]\n",
      "y - y_mean:  [-3.  1.  2.]\n",
      "(x - x_mean)^2:  [ 9. 16.  1. 36.]\n",
      "(y - y_mean)^2:  [9. 1. 4.]\n",
      "sum((x - x_mean)^2):  62.0\n",
      "sum((y - y_mean)^2):  14.0\n",
      "pooled variance:  15.2\n",
      "standard error:  2.977694857883639\n",
      "t-statistic:  -1.3433209885189352\n"
     ]
    }
   ],
   "source": [
    "x = np.array([5, 6, 1, -4])\n",
    "y = np.array([3, 7, 8])\n",
    "\n",
    "x_mean = x.mean()\n",
    "y_mean = y.mean()\n",
    "print('x mean: ', x_mean)\n",
    "print('y mean: ', y_mean)\n",
    "\n",
    "print('x - x_mean: ', x - x_mean)\n",
    "print('y - y_mean: ', y - y_mean)\n",
    "\n",
    "print('(x - x_mean)^2: ', (x - x_mean)**2)\n",
    "print('(y - y_mean)^2: ', (y - y_mean)**2)\n",
    "\n",
    "print('sum((x - x_mean)^2): ', sum((x - x_mean)**2))\n",
    "print('sum((y - y_mean)^2): ', sum((y - y_mean)**2))\n",
    "\n",
    "p_var = (sum((x - x_mean)**2) + sum((y - y_mean)**2))/(len(x) + len(y) - 2)\n",
    "print('pooled variance: ', p_var)\n",
    "\n",
    "se = np.sqrt(p_var)*(np.sqrt(1/len(x) + 1/len(y)))\n",
    "print('standard error: ', se)\n",
    "\n",
    "t = (x_mean - y_mean)/se\n",
    "print('t-statistic: ', t)"
   ]
  },
  {
   "cell_type": "markdown",
   "metadata": {},
   "source": [
    "Thus, because $\\lvert t \\rvert < \\lvert t^* \\rvert$, we fail to reject $H_0$."
   ]
  },
  {
   "cell_type": "markdown",
   "metadata": {},
   "source": [
    "### Scenario 5\n",
    "\n",
    "A researcher examined the effects of two different incentives to improve behavior in two groups of boys diagnosed with ADHD. The researched assigned 10 boys to each group. The boys earned points for every time they engaged in good behavior (e.g., raising a hand to ask a question, helping a fellow student, completing assigned work). Points could be exchanged for different incentives. For one group, the points could be exchanged for extra time at recess. For the other group, the points could be exchanged for prizes from the school gift shop (e.g., pencils, small toys). The researcher measured the number of good behaviors in a single 20-minute class period.\n",
    "\n",
    "##### Question 1\n",
    "\n",
    "What is the independent variable?  \n",
    "Answer: Type of incentive\n",
    "\n",
    "##### Question 2\n",
    "What is the dependent variable?  \n",
    "Answer: the number of good behaviors in a single 20-minute class period\n",
    "\n",
    "##### Question 3\n",
    "What is the null hypothesis, $H_0$, in everyday language?  \n",
    "Answer: There will not be a difference in the number of good behaviors between the two incentive conditions.\n",
    "\n",
    "##### Question 4\n",
    "What are the degrees of freedom?  \n",
    "Answer: 18\n",
    "\n",
    "##### Question 5\n",
    "Find the t-critcal values fora  two-tailed test at $\\alpha=0.05$.  \n",
    "Answer: $t^* = \\pm 2.101$ (rememer to use $\\frac{\\alpha}{2}$ for two-tailed test)\n",
    "\n",
    "##### Question 6\n",
    "The mean for the recess group was 10, and the mean for the prize group was 7. The standard error is 0.94. Compute the t-statistic.  \n",
    "Answer: $t = \\frac{(\\bar{r}-\\bar{p})-(\\mu_r-\\mu_p)}{\\text{SE}} = 3.191$ (remember $\\mu_r - \\mu_p$ is 0 based on $H_0$)\n",
    "\n",
    "##### Question 7\n",
    "Do we reject or fail to reject $H_0$?  \n",
    "Answer: Reject $H_0$ as $\\lvert t \\rvert > \\lvert t^* \\rvert$\n",
    "\n",
    "##### Question 8\n",
    "The pooled standard deviation was 2.33. Compute Cohen's d.  \n",
    "Answer: $\\text{d} = \\frac{(\\bar{r}-\\bar{p})-(\\mu_r-\\mu_p)}{s_p} = 1.288$\n",
    "\n",
    "##### Question 9\n",
    "__% of the variability in good behavior is due to the different incentive conditions.  \n",
    "Answer: $r^2 = \\frac{t^2}{t^2+df} = \\frac{3.191^2}{3.191^2+18} = .361$, which means $31$% of the variability is explained by the different incentive conditions."
   ]
  }
 ],
 "metadata": {
  "kernelspec": {
   "display_name": "base",
   "language": "python",
   "name": "python3"
  },
  "language_info": {
   "codemirror_mode": {
    "name": "ipython",
    "version": 3
   },
   "file_extension": ".py",
   "mimetype": "text/x-python",
   "name": "python",
   "nbconvert_exporter": "python",
   "pygments_lexer": "ipython3",
   "version": "3.11.3"
  }
 },
 "nbformat": 4,
 "nbformat_minor": 2
}
