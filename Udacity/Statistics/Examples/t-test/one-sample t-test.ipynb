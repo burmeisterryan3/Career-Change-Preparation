{
 "cells": [
  {
   "cell_type": "markdown",
   "metadata": {},
   "source": [
    "# One-Sample t-Test\n",
    "\n",
    "### Formulas\n",
    "\n",
    "If the sample size is $n$, then\n",
    "$$df=n-1$$\n",
    "$$s=\\sqrt{\\frac{\\sum(x_i-\\mu)^2}{df}}=\\sqrt{\\frac{\\sum(x_i-\\mu)^2}{n-1}}$$\n",
    "$$\\text{SE} = \\frac{s}{\\sqrt{n}}$$\n",
    "$$t=\\frac{\\bar{x}-\\mu}{\\text{SE}}=\\frac{\\bar{x}-\\mu}{\\frac{s}{\\sqrt{n}}}$$\n",
    "$$\\text{margin of error} = t^*\\text{SE}= t^*\\frac{s}{\\sqrt{n}}$$\n",
    "$$\\text{CI} = \\bar{x} \\pm \\text{margin of error}=\\bar{x} \\pm t^*\\frac{s}{\\sqrt{n}}$$\n",
    "$$\\text{Cohen's d} = \\frac{\\bar{x}-\\mu}{s}$$\n",
    "$$r^2 = \\frac{t^2}{t^2+df}$$"
   ]
  },
  {
   "cell_type": "markdown",
   "metadata": {},
   "source": [
    "### Problem Introduction\n",
    "\n",
    "Gallup Claim: US families spent an average of $151/week on food in 2012\n",
    "\n",
    "\\* NOTE: That while this data came from a sample, we will assume it is representative of the population.\n",
    "\n",
    "Now imagine there is a food cooperative company \"Food Now!\" that is working to implement some cost savings programs for their members.\n",
    "\n",
    "$$\\mu=151$$"
   ]
  },
  {
   "cell_type": "markdown",
   "metadata": {},
   "source": [
    "##### Question 1\n",
    "\n",
    "What is the dependent variable?  \n",
    "Answer: $/week spent on food\n",
    "\n",
    "##### Question 2\n",
    "What is the treatment?  \n",
    "Answer: Cost-savings \n",
    "\n",
    "##### Question 3\n",
    "What is $H_0$?  \n",
    "Answer: The program did *not* change the cost of food\n",
    "\n",
    "##### Question 4\n",
    "What is $H_A$?  \n",
    "Answer: The program reduced the cost of food"
   ]
  },
  {
   "cell_type": "markdown",
   "metadata": {},
   "source": [
    "### Hypotheses\n",
    "\n",
    "$$H_0: \\mu \\geq 151$$\n",
    "$$H_A: \\mu \\lt 151$$"
   ]
  },
  {
   "cell_type": "markdown",
   "metadata": {},
   "source": [
    "##### Question 5\n",
    "What type of test is this?\n",
    "Answer: One-tailed test in negative direction\n",
    "\n",
    "##### Question 6\n",
    "If $n=25$, what is $df$?  \n",
    "Answer: 24\n",
    "\n",
    "##### Question 7\n",
    "What is $t^*$ if $\\alpha=0.05$? ([t-Table](https://s3.amazonaws.com/udacity-hosted-downloads/t-table.jpg))  \n",
    "Answer: -1.711 (negative as we want to know if the computed t-statistic is less than $t^*$)\n",
    "\n",
    "##### Question 8\n",
    "If $s=\\$50$, what is the standard error for the mean, $\\text{SE}$?  \n",
    "Answer: 10\n",
    "\n",
    "##### Question 9\n",
    "If $\\bar{x}=126$, what is the mean difference?  \n",
    "Answer: -25\n",
    "\n",
    "##### Question 10\n",
    "What is the t-statistic?  \n",
    "Answer: -2.5\n",
    "\n",
    "##### Question 11\n",
    "Does the t-statistic computed fall in the critical region?  \n",
    "Answer: Yes ($t\\lt t^*$)\n",
    "\n",
    "##### Question 12\n",
    "What is the p-value for this t-statistic?  \n",
    "Answer: $0.005 \\lt p \\lt 0.01$\n",
    "\n",
    "##### Question 13\n",
    "Are the results statistically significant?  \n",
    "Answer: Yes, $\\alpha=0.05$ and $p \\lt \\alpha$\n",
    "\n",
    "##### Question 14\n",
    "Are the results meaningful?  \n",
    "Answer: It depends. Significant savings are dependent on the income and prior spending level.\n",
    "\n",
    "##### Question 15\n",
    "What is Cohen's d?  \n",
    "Answer: -0.5\n",
    "\n",
    "##### Question 16\n",
    "What is $r^2$?  \n",
    "Answer: .2066\n",
    "\n",
    "##### Question 17\n",
    "What is the margin of error? Remember: Because the CI is centered around a value, you should use a $t*$ for a two-tailed test.   \n",
    "Answer: 20.64  \n",
    "NOTE: With $\\alpha=0.05$ and $df=24$, we find $t^*=2.064$\n",
    "\n",
    "##### Question 18\n",
    "What is the 95% CI ($\\alpha=0.05$) for the mean?  \n",
    "Answer: (105.36, 146.64)"
   ]
  },
  {
   "cell_type": "code",
   "execution_count": 1,
   "metadata": {},
   "outputs": [
    {
     "name": "stderr",
     "output_type": "stream",
     "text": [
      "Matplotlib is building the font cache; this may take a moment.\n"
     ]
    }
   ],
   "source": [
    "import numpy as np\n",
    "import matplotlib.pyplot as plt\n",
    "%matplotlib inline"
   ]
  },
  {
   "cell_type": "code",
   "execution_count": 5,
   "metadata": {},
   "outputs": [
    {
     "name": "stdout",
     "output_type": "stream",
     "text": [
      "Pre mean:  7.8\n",
      "Post mean:  4.8\n",
      "Mean difference:  -3.0\n"
     ]
    }
   ],
   "source": [
    "pre = np.array([8, 7, 6, 9, 10, 5, 7, 11, 8, 7])\n",
    "post = np.array([5, 6, 4, 6, 5, 3, 2, 9, 4, 4])\n",
    "\n",
    "pre_mean = np.mean(pre)\n",
    "post_mean = np.mean(post)\n",
    "mean_dff = post_mean - pre_mean\n",
    "\n",
    "print(\"Pre mean: \", pre_mean)\n",
    "print(\"Post mean: \", post_mean)\n",
    "print(\"Mean difference: \", mean_dff)"
   ]
  },
  {
   "cell_type": "code",
   "execution_count": 9,
   "metadata": {},
   "outputs": [
    {
     "data": {
      "text/plain": [
       "-7.132957128199352"
      ]
     },
     "execution_count": 9,
     "metadata": {},
     "output_type": "execute_result"
    }
   ],
   "source": [
    "t_crit = -1.833 # one-tailed t-test, df = 9, alpha = 0.05\n",
    "s = 1.33\n",
    "SE = s/np.sqrt(10)\n",
    "\n",
    "t = mean_dff/SE\n",
    "t"
   ]
  },
  {
   "cell_type": "code",
   "execution_count": 10,
   "metadata": {},
   "outputs": [
    {
     "name": "stdout",
     "output_type": "stream",
     "text": [
      "cohen_d:  -2.255639097744361\n"
     ]
    }
   ],
   "source": [
    "cohen_d = mean_dff/s\n",
    "print('cohen_d: ', cohen_d)"
   ]
  },
  {
   "cell_type": "code",
   "execution_count": 12,
   "metadata": {},
   "outputs": [
    {
     "name": "stdout",
     "output_type": "stream",
     "text": [
      "(lb, ub):  (-3.9513585849510164, -2.0486414150489836)\n"
     ]
    }
   ],
   "source": [
    "# 2.262 is the t-critical value for df = 9, alpha = 0.05 - two-tailed for CI\n",
    "lb = mean_dff - 2.262*SE\n",
    "ub = mean_dff + 2.262*SE\n",
    "print('(lb, ub): ', (lb, ub))"
   ]
  }
 ],
 "metadata": {
  "kernelspec": {
   "display_name": "base",
   "language": "python",
   "name": "python3"
  },
  "language_info": {
   "codemirror_mode": {
    "name": "ipython",
    "version": 3
   },
   "file_extension": ".py",
   "mimetype": "text/x-python",
   "name": "python",
   "nbconvert_exporter": "python",
   "pygments_lexer": "ipython3",
   "version": "3.9.18"
  }
 },
 "nbformat": 4,
 "nbformat_minor": 2
}
