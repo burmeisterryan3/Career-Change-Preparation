{
 "cells": [
  {
   "cell_type": "code",
   "execution_count": 42,
   "metadata": {},
   "outputs": [],
   "source": [
    "import numpy as np\n",
    "import pandas as pd\n",
    "import matplotlib.pyplot as plt\n",
    "%matplotlib inline"
   ]
  },
  {
   "cell_type": "markdown",
   "metadata": {},
   "source": [
    "### Scenario 1\n",
    "\n",
    "$H_0: \\mu_s = \\mu_i = \\mu_l$  \n",
    "$H_A: \\text{at least one of brand has significantly different prices}$"
   ]
  },
  {
   "cell_type": "code",
   "execution_count": 43,
   "metadata": {},
   "outputs": [],
   "source": [
    "x_s = np.array([15, 12, 14, 11]) # snapzi clothing prices\n",
    "x_i = np.array([39, 45, 48, 60]) # irisa clothing prices\n",
    "x_l = np.array([65, 45, 32, 38]) # lolamoon clothing prices\n",
    "num_groups = 3\n",
    "num_observations = len(x_s) + len(x_i) + len(x_l)"
   ]
  },
  {
   "cell_type": "code",
   "execution_count": 44,
   "metadata": {},
   "outputs": [
    {
     "name": "stdout",
     "output_type": "stream",
     "text": [
      "x_s mean:  13.0\n",
      "x_i mean:  48.0\n",
      "x_l mean:  45.0\n",
      "x_g mean:  35.333333333333336\n"
     ]
    }
   ],
   "source": [
    "print('x_s mean: ', x_s.mean())\n",
    "print('x_i mean: ', x_i.mean())\n",
    "print('x_l mean: ', x_l.mean())\n",
    "\n",
    "x_g_mean = np.sum(x_s + x_i + x_l) / num_observations\n",
    "print('x_g mean: ', x_g_mean)"
   ]
  },
  {
   "cell_type": "code",
   "execution_count": 45,
   "metadata": {},
   "outputs": [
    {
     "name": "stdout",
     "output_type": "stream",
     "text": [
      "SS_between:  3010.666666666667\n"
     ]
    }
   ],
   "source": [
    "# Compute sum of squares between groups (samples)\n",
    "ss_between = 0\n",
    "for x in [x_s, x_i, x_l]:\n",
    "    ss_between += len(x)*np.sum((x.mean() - x_g_mean)**2)\n",
    "print('SS_between: ', ss_between)"
   ]
  },
  {
   "cell_type": "code",
   "execution_count": 46,
   "metadata": {},
   "outputs": [
    {
     "name": "stdout",
     "output_type": "stream",
     "text": [
      "SS_within:  862.0\n"
     ]
    }
   ],
   "source": [
    "# Compute sum of squares within groups (samples)\n",
    "ss_within = 0\n",
    "for x in [x_s, x_i, x_l]:\n",
    "    ss_within += np.sum((x - x.mean())**2)\n",
    "print('SS_within: ', ss_within)"
   ]
  },
  {
   "cell_type": "code",
   "execution_count": 47,
   "metadata": {},
   "outputs": [
    {
     "name": "stdout",
     "output_type": "stream",
     "text": [
      "df_between:  2\n",
      "df_within:  9\n"
     ]
    }
   ],
   "source": [
    "df_between = num_groups - 1\n",
    "print('df_between: ', df_between)\n",
    "\n",
    "df_within = num_observations - num_groups\n",
    "print('df_within: ', df_within)"
   ]
  },
  {
   "cell_type": "code",
   "execution_count": 48,
   "metadata": {},
   "outputs": [
    {
     "name": "stdout",
     "output_type": "stream",
     "text": [
      "MS_between:  1505.3333333333335\n",
      "MS_within:  95.77777777777777\n"
     ]
    }
   ],
   "source": [
    "ms_between = ss_between / df_between\n",
    "print('MS_between: ', ms_between)\n",
    "\n",
    "ms_within = ss_within / df_within\n",
    "print('MS_within: ', ms_within)"
   ]
  },
  {
   "cell_type": "code",
   "execution_count": 49,
   "metadata": {},
   "outputs": [
    {
     "name": "stdout",
     "output_type": "stream",
     "text": [
      "F:  15.716937354988401\n"
     ]
    }
   ],
   "source": [
    "f = ms_between / ms_within\n",
    "print('F: ', f)"
   ]
  },
  {
   "cell_type": "markdown",
   "metadata": {},
   "source": [
    "Using the [F Table](http://socr.ucla.edu/Applets.dir/F_Table.html), find the $F^*$ value for $\\alpha=0.05$.\n",
    "\n",
    "$F=4.2565$\n",
    "\n",
    "### Question\n",
    "Do we reject or fail to reject $H_0$?  \n",
    "Answer: Reject as $F > F^*$"
   ]
  },
  {
   "cell_type": "markdown",
   "metadata": {},
   "source": [
    "### Scenario 2\n",
    "\n",
    "A researcher is attempting to determine what type of food cows prefer by measuring the amount of food consumed (lbs) over 8 hours.\n",
    "\n",
    "| Food A | Food B | Food C |\n",
    "| --- | --- | --- |\n",
    "| 2 | 6 | 8 |\n",
    "| 4 | 4 | 9 |\n",
    "| 3 | 7 | 10 |\n",
    "\n",
    "##### Question 1\n",
    "What is the independent variable?  \n",
    "Answer: Type of food\n",
    "\n",
    "##### Question 2\n",
    "What is the dependent variable?  \n",
    "Answer: Amount of food eaten (lbs)\n",
    "\n",
    "##### Question 3\n",
    "What is the null hypothesis?  \n",
    "Answer: $H_0: \\text{cows will eat similar amounts of each food type}$\n",
    "\n",
    "##### Question 4\n",
    "What is the alternative hypothesis?  \n",
    "Answer: $H_A: \\text{cows will eat more or less of at least one food type}$\n",
    "\n",
    "##### Question 5\n",
    "Compute ANOVA."
   ]
  },
  {
   "cell_type": "code",
   "execution_count": 50,
   "metadata": {},
   "outputs": [
    {
     "name": "stdout",
     "output_type": "stream",
     "text": [
      "a.mean():  3.0\n",
      "b.mean():  6.0\n",
      "c.mean():  9.0\n",
      "x_g_mean:  6.0\n",
      "SS_between:  54.0\n",
      "SS_within:  6.0\n",
      "df_between:  2\n",
      "df_within:  6\n",
      "MS_between:  27.0\n",
      "MS_within:  1.0\n",
      "F:  27.0\n"
     ]
    }
   ],
   "source": [
    "a = np.array([2, 4, 3])\n",
    "b = np.array([6, 5, 7])\n",
    "c = np.array([8, 9, 10])\n",
    "num_groups = 3\n",
    "num_observations = len(a) + len(b) + len(c)\n",
    "\n",
    "x_g_mean = np.sum(a + b + c) / num_observations\n",
    "print('a.mean(): ', a.mean())\n",
    "print('b.mean(): ', b.mean())\n",
    "print('c.mean(): ', c.mean())\n",
    "print('x_g_mean: ', x_g_mean)\n",
    "\n",
    "ss_between = 0\n",
    "for x in [a, b, c]:\n",
    "    ss_between += len(x)*np.sum((x.mean() - x_g_mean)**2)\n",
    "print('SS_between: ', ss_between)\n",
    "\n",
    "ss_within = 0\n",
    "for x in [a, b, c]:\n",
    "    ss_within += np.sum((x - x.mean())**2)\n",
    "print('SS_within: ', ss_within)\n",
    "\n",
    "df_between = num_groups - 1\n",
    "print('df_between: ', df_between)\n",
    "df_within = num_observations - num_groups\n",
    "print('df_within: ', df_within)\n",
    "\n",
    "ms_between = ss_between / df_between\n",
    "print('MS_between: ', ms_between)\n",
    "ms_within = ss_within / df_within\n",
    "print('MS_within: ', ms_within)\n",
    "\n",
    "f = ms_between / ms_within\n",
    "print('F: ', f)"
   ]
  },
  {
   "cell_type": "markdown",
   "metadata": {},
   "source": [
    "##### Question 6\n",
    "Do we reject or fail to reject the null hypothesis for $\\alpha=0.05$?  \n",
    "Answer: $F^*=5.1433$, so because $F > F^*$ we reject the null hypothesis. This suggests that there is a significant statistical difference between the food options.\n",
    "\n",
    "##### Question 7\n",
    "What is the difference of each value from the grand mean?  \n",
    "Answer:"
   ]
  },
  {
   "cell_type": "code",
   "execution_count": 51,
   "metadata": {},
   "outputs": [
    {
     "name": "stdout",
     "output_type": "stream",
     "text": [
      "np.sum((x_i - x_g_mean)**2): 60.0\n"
     ]
    }
   ],
   "source": [
    "diff = 0\n",
    "for x in [a, b, c]:\n",
    "    diff += np.sum((x - x_g_mean)**2)\n",
    "print('np.sum((x_i - x_g_mean)**2):', diff)"
   ]
  },
  {
   "cell_type": "markdown",
   "metadata": {},
   "source": [
    "Note that $\\sum\\limits_{i=1}^k\\sum\\limits_{j=1}^{n_i}(x_{ij}-\\bar{x}_G)^2 = \\text{SS}_{\\text{between}} + \\text{SS}_{\\text{within}} = \\text{SS}_{\\text{total}}$\n",
    "\n",
    "##### Question 8\n",
    "What can we conclude?  \n",
    "Answer: At least two food options significantly differ from each other in terms of the amount eaten by the cows\n",
    "\n",
    "##### Question 9\n",
    "Compute Tukey's HSD for $\\alpha=0.05$.\n",
    "\n",
    "Note: $k=3$, $df_{\\text{within}}=N-k=6$  \n",
    "Using these, we find $q^*=4.34$"
   ]
  },
  {
   "cell_type": "code",
   "execution_count": 52,
   "metadata": {},
   "outputs": [
    {
     "name": "stdout",
     "output_type": "stream",
     "text": [
      "tukeys_hsd:  2.5057001682829756\n"
     ]
    }
   ],
   "source": [
    "q_star = 4.34\n",
    "tukeys_hsd = q_star * np.sqrt(ms_within/(len(a)))\n",
    "print('tukeys_hsd: ', tukeys_hsd)"
   ]
  },
  {
   "cell_type": "markdown",
   "metadata": {},
   "source": [
    "##### Question 10\n",
    "Which means are honestly significantly different?  \n",
    "Answer: A and B ($\\bar{x}_A-\\bar{x}_B\\gt 2.506$), B and C, and A and C\n",
    "\n",
    "##### Question 11\n",
    "Compute Cohen's d for multiple comparisons for each difference in means."
   ]
  },
  {
   "cell_type": "code",
   "execution_count": 53,
   "metadata": {},
   "outputs": [
    {
     "name": "stdout",
     "output_type": "stream",
     "text": [
      "Cohen's d (A-B):  -3.0\n",
      "Cohen's d (A-C):  -6.0\n",
      "Cohen's d (B-C):  -3.0\n"
     ]
    }
   ],
   "source": [
    "print('Cohen\\'s d (A-B): ', (a.mean()-b.mean())/np.sqrt(ms_within))\n",
    "print('Cohen\\'s d (A-C): ', (a.mean()-c.mean())/np.sqrt(ms_within))\n",
    "print('Cohen\\'s d (B-C): ', (b.mean()-c.mean())/np.sqrt(ms_within))"
   ]
  },
  {
   "cell_type": "markdown",
   "metadata": {},
   "source": [
    "##### Question 12\n",
    "Compute $\\eta^2$."
   ]
  },
  {
   "cell_type": "code",
   "execution_count": 54,
   "metadata": {},
   "outputs": [
    {
     "name": "stdout",
     "output_type": "stream",
     "text": [
      "eta squared:  0.9\n"
     ]
    }
   ],
   "source": [
    "print('eta squared: ', ss_between/(ss_between+ss_within))"
   ]
  },
  {
   "cell_type": "markdown",
   "metadata": {},
   "source": [
    "### Scenario 3\n",
    "\n",
    "Researchers conduct a study to reduce tumor sizes in breast cancer. They provided a placebo and three different drugs to 20 people and measured the reduction of tumor diameter in centimeters.\n",
    "\n",
    "| Placebo | Drug 1 | Drug 2 | Drug 3 |\n",
    "| --- | --- | --- | --- |\n",
    "| 1.5 | 1.6 | 2.0 | 2.9 |\n",
    "| 1.3 | 1.7 | 1.4 | 3.1 |\n",
    "| 1.8 | 1.9 | 1.5 | 2.8 |\n",
    "| 1.6 | 1.2 | 1.5 | 2.7 |\n",
    "| 1.3 | | 1.8 | |\n",
    "| | | 1.7 | |\n",
    "| | | 1.4 | |\n",
    "\n",
    "$$H_0: \\mu_p = \\mu_1 = \\mu_2 = \\mu_3$$\n",
    "$$H_A: \\text{at least one of the means is significantly different from one of the others}$$\n",
    "\n",
    "##### Question 1\n",
    "Compute the f-statistic for this study and determine if there is statistically significant result for $\\alpha=0.05$.\n",
    "\n",
    "$F^*=3.2389$"
   ]
  },
  {
   "cell_type": "code",
   "execution_count": 58,
   "metadata": {},
   "outputs": [
    {
     "name": "stdout",
     "output_type": "stream",
     "text": [
      "x_p.mean():  1.4999999999999998\n",
      "x_1.mean():  1.5999999999999999\n",
      "x_2.mean():  1.6142857142857143\n",
      "x_3.mean():  2.875\n",
      "x_g_mean:  1.8350000000000002\n",
      "SS_between:  5.449428571428573\n",
      "SS_within:  0.8360714285714287\n",
      "df_between:  3\n",
      "df_within:  16\n",
      "MS_between:  1.816476190476191\n",
      "MS_within:  0.05225446428571429\n",
      "F:  34.7621244482415\n"
     ]
    }
   ],
   "source": [
    "x_p = np.array([1.5, 1.3, 1.8, 1.6, 1.3])\n",
    "x_1 = np.array([1.6, 1.7, 1.9, 1.2])\n",
    "x_2 = np.array([2.0, 1.4, 1.5, 1.5, 1.8, 1.7, 1.4])\n",
    "x_3 = np.array([2.9, 3.1, 2.8, 2.7])\n",
    "num_groups = 4\n",
    "num_observations = len(x_p) + len(x_1) + len(x_2) + len(x_3)\n",
    "\n",
    "x_g_mean = (np.sum(x_p) + np.sum(x_1) + np.sum(x_2) + np.sum(x_3)) / num_observations\n",
    "\n",
    "print('x_p.mean(): ', x_p.mean())\n",
    "print('x_1.mean(): ', x_1.mean())\n",
    "print('x_2.mean(): ', x_2.mean())\n",
    "print('x_3.mean(): ', x_3.mean())\n",
    "print('x_g_mean: ', x_g_mean)\n",
    "\n",
    "ss_between = 0\n",
    "for x in [x_p, x_1, x_2, x_3]:\n",
    "    ss_between += len(x)*np.sum((x.mean() - x_g_mean)**2)\n",
    "print('SS_between: ', ss_between)\n",
    "\n",
    "ss_within = 0\n",
    "for x in [x_p, x_1, x_2, x_3]:\n",
    "    ss_within += np.sum((x - x.mean())**2)\n",
    "print('SS_within: ', ss_within)\n",
    "\n",
    "df_between = num_groups - 1\n",
    "print('df_between: ', df_between)\n",
    "df_within = num_observations - num_groups\n",
    "print('df_within: ', df_within)\n",
    "\n",
    "ms_between = ss_between / df_between\n",
    "print('MS_between: ', ms_between)\n",
    "ms_within = ss_within / df_within\n",
    "print('MS_within: ', ms_within)\n",
    "\n",
    "f = ms_between / ms_within\n",
    "print('F: ', f)"
   ]
  },
  {
   "cell_type": "markdown",
   "metadata": {},
   "source": [
    "Thus, we reject $H_0$ as $F > F^*$.\n",
    "\n",
    "##### Question 2\n",
    "What proportion of the difference between tumor reductions is due to the type of drug?  "
   ]
  },
  {
   "cell_type": "code",
   "execution_count": 59,
   "metadata": {},
   "outputs": [
    {
     "name": "stdout",
     "output_type": "stream",
     "text": [
      "ss_beteen/ss_total:  0.8669841017307408\n"
     ]
    }
   ],
   "source": [
    "print('ss_beteen/ss_total: ', ss_between/(ss_between + ss_within))"
   ]
  },
  {
   "cell_type": "markdown",
   "metadata": {},
   "source": [
    "### Scenario 4\n",
    "\n",
    "Desert ants have a nifty way of finding their way back home after a foray out of the nest to find food -- they count their steps. To prove it, some scientists devised a creative experiment that showed just how the little guys do it.\n",
    "\n",
    "[Can Ants Counts?](http://www.youtube.com/embed/7DDF8WZFnoU)\n",
    "\n",
    "Let's work with some fictitious data that is consistent with the study described in the video. The table below list how close (distance from nest in centimeters) each ant got to their nest using either short-, long-, or normal-legs.\n",
    "\n",
    "**Length Length**\n",
    "| Short | Long | Normal |\n",
    "| --- | --- | --- |\n",
    "| -8 | 12 | 0.5 |\n",
    "| -11 | 9 | 0.0 |\n",
    "| -17 | 16 | -1.0 |\n",
    "| -9 | 8 | 1.5 |\n",
    "| -10 | 15 | 0.5 |\n",
    "| -5 | | -0.1 |\n",
    "| | | 0.0 |\n",
    "\n",
    "Use $\\alpha=0.05$.\n",
    "\n",
    "$F^*=3.6823$ ([F Table](http://socr.ucla.edu/Applets.dir/F_Table.html))"
   ]
  },
  {
   "cell_type": "code",
   "execution_count": 69,
   "metadata": {},
   "outputs": [
    {
     "name": "stdout",
     "output_type": "stream",
     "text": [
      "x_g_mean:  0.07777777777777778\n",
      "SS_between:  1320.171111111111\n",
      "SS_within:  133.48\n",
      "df_between:  2\n",
      "df_within:  15\n",
      "MS_between:  660.0855555555555\n",
      "MS_within:  8.898666666666665\n",
      "F:  74.1780291679153\n"
     ]
    }
   ],
   "source": [
    "short = np.array([-8, -11, -17, -9, -10, -5])\n",
    "long = np.array([12, 9, 16, 8, 15])\n",
    "normal = np.array([.5, 0, -1, 1.5, .5, -.1, 0])\n",
    "num_groups = 3\n",
    "num_observations = len(short) + len(long) + len(normal)\n",
    "\n",
    "x_g_mean = np.sum(np.concatenate([short, long, normal]))/num_observations\n",
    "print('x_g_mean: ', x_g_mean)\n",
    "\n",
    "ss_between = 0\n",
    "for x in [short, long, normal]:\n",
    "    ss_between += len(x)*np.sum((x.mean() - x_g_mean)**2)\n",
    "print('SS_between: ', ss_between)\n",
    "\n",
    "ss_within = 0\n",
    "for x in [short, long, normal]:\n",
    "    ss_within += np.sum((x - x.mean())**2)\n",
    "print('SS_within: ', ss_within)\n",
    "\n",
    "df_between = num_groups - 1\n",
    "print('df_between: ', df_between)\n",
    "df_within = num_observations - num_groups\n",
    "print('df_within: ', df_within)\n",
    "\n",
    "ms_between = ss_between / df_between\n",
    "print('MS_between: ', ms_between)\n",
    "ms_within = ss_within / df_within\n",
    "print('MS_within: ', ms_within)\n",
    "\n",
    "f = ms_between / ms_within\n",
    "print('F: ', f)\n"
   ]
  },
  {
   "cell_type": "markdown",
   "metadata": {},
   "source": [
    "Thus, we reject $H_0$ as $F > F^*$. Leg length has a significant impact on the ability of ants to navigate to their nests."
   ]
  },
  {
   "cell_type": "code",
   "execution_count": 70,
   "metadata": {},
   "outputs": [
    {
     "name": "stdout",
     "output_type": "stream",
     "text": [
      "eta_squared:  0.908176041018554\n"
     ]
    }
   ],
   "source": [
    "eta_squared = ss_between/(ss_between + ss_within)\n",
    "print('eta_squared: ', eta_squared)"
   ]
  },
  {
   "cell_type": "markdown",
   "metadata": {},
   "source": [
    "From the $\\eta^2$ value, we can see $\\approx 90\\%$ of the variance is due to between-group variability (explained variance)."
   ]
  }
 ],
 "metadata": {
  "kernelspec": {
   "display_name": "Python 3",
   "language": "python",
   "name": "python3"
  },
  "language_info": {
   "codemirror_mode": {
    "name": "ipython",
    "version": 3
   },
   "file_extension": ".py",
   "mimetype": "text/x-python",
   "name": "python",
   "nbconvert_exporter": "python",
   "pygments_lexer": "ipython3",
   "version": "3.11.3"
  }
 },
 "nbformat": 4,
 "nbformat_minor": 2
}
