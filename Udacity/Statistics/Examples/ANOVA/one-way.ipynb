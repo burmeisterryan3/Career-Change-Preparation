{
 "cells": [
  {
   "cell_type": "code",
   "execution_count": 1,
   "metadata": {},
   "outputs": [],
   "source": [
    "import numpy as np\n",
    "import pandas as pd\n",
    "import matplotlib.pyplot as plt\n",
    "%matplotlib inline"
   ]
  },
  {
   "cell_type": "code",
   "execution_count": 2,
   "metadata": {},
   "outputs": [],
   "source": [
    "x_s = np.array([15, 12, 14, 11]) # snapzi clothing prices\n",
    "x_i = np.array([39, 45, 48, 60]) # irisa clothing prices\n",
    "x_l = np.array([65, 45, 32, 38]) # lolamoon clothing prices"
   ]
  },
  {
   "cell_type": "code",
   "execution_count": 11,
   "metadata": {},
   "outputs": [
    {
     "name": "stdout",
     "output_type": "stream",
     "text": [
      "x_s mean:  13.0\n",
      "x_i mean:  48.0\n",
      "x_l mean:  45.0\n",
      "x_g mean:  35.333333333333336\n"
     ]
    }
   ],
   "source": [
    "print('x_s mean: ', x_s.mean())\n",
    "print('x_i mean: ', x_i.mean())\n",
    "print('x_l mean: ', x_l.mean())\n",
    "\n",
    "x_g = np.array([x_s.mean(), x_i.mean(), x_l.mean()])\n",
    "print('x_g mean: ', x_g.mean())"
   ]
  },
  {
   "cell_type": "code",
   "execution_count": 12,
   "metadata": {},
   "outputs": [
    {
     "name": "stdout",
     "output_type": "stream",
     "text": [
      "SS_between:  3010.666666666667\n"
     ]
    }
   ],
   "source": [
    "# Compute sum of squares between groups (samples)\n",
    "ss_between = 0\n",
    "for x in [x_s, x_i, x_l]:\n",
    "    ss_between += len(x)*np.sum((x.mean() - x_g.mean())**2)\n",
    "print('SS_between: ', ss_between)"
   ]
  },
  {
   "cell_type": "code",
   "execution_count": 13,
   "metadata": {},
   "outputs": [
    {
     "name": "stdout",
     "output_type": "stream",
     "text": [
      "SS_within:  862.0\n"
     ]
    }
   ],
   "source": [
    "# Compute sum of squares within groups (samples)\n",
    "ss_within = 0\n",
    "for x in [x_s, x_i, x_l]:\n",
    "    ss_within += np.sum((x - x.mean())**2)\n",
    "print('SS_within: ', ss_within)"
   ]
  },
  {
   "cell_type": "code",
   "execution_count": 14,
   "metadata": {},
   "outputs": [
    {
     "name": "stdout",
     "output_type": "stream",
     "text": [
      "df_between:  2\n",
      "df_within:  9\n"
     ]
    }
   ],
   "source": [
    "df_between = len(x_g) - 1\n",
    "print('df_between: ', df_between)\n",
    "\n",
    "df_within = len(x_s) + len(x_i) + len(x_l) - len(x_g)\n",
    "print('df_within: ', df_within)"
   ]
  },
  {
   "cell_type": "code",
   "execution_count": 15,
   "metadata": {},
   "outputs": [
    {
     "name": "stdout",
     "output_type": "stream",
     "text": [
      "MS_between:  1505.3333333333335\n",
      "MS_within:  95.77777777777777\n"
     ]
    }
   ],
   "source": [
    "ms_between = ss_between / df_between\n",
    "print('MS_between: ', ms_between)\n",
    "\n",
    "ms_within = ss_within / df_within\n",
    "print('MS_within: ', ms_within)"
   ]
  },
  {
   "cell_type": "code",
   "execution_count": 16,
   "metadata": {},
   "outputs": [
    {
     "name": "stdout",
     "output_type": "stream",
     "text": [
      "F:  15.716937354988401\n"
     ]
    }
   ],
   "source": [
    "f = ms_between / ms_within\n",
    "print('F: ', f)"
   ]
  }
 ],
 "metadata": {
  "kernelspec": {
   "display_name": "Python 3",
   "language": "python",
   "name": "python3"
  },
  "language_info": {
   "codemirror_mode": {
    "name": "ipython",
    "version": 3
   },
   "file_extension": ".py",
   "mimetype": "text/x-python",
   "name": "python",
   "nbconvert_exporter": "python",
   "pygments_lexer": "ipython3",
   "version": "3.11.3"
  }
 },
 "nbformat": 4,
 "nbformat_minor": 2
}
