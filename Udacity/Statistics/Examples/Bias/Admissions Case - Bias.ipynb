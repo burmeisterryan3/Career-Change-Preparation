{
 "cells": [
  {
   "cell_type": "markdown",
   "metadata": {},
   "source": [
    "# Simpson's Paradox\n",
    "\n",
    "This an example of (non-intuitive) bias in a study done by UC Berkley to determine if there was any bias in their admissions."
   ]
  },
  {
   "cell_type": "markdown",
   "metadata": {},
   "source": [
    "| | Applied (M) | Admitted (M) | Rate (M) | Applied (F) | Admitted (F) | Rate (F) |\n",
    "| ---- | --- | --- | --- | --- | --- | --- |\n",
    "| Major A | 900 | 450 | | | | |\n",
    "| Major B | | | | | | |\n",
    "| Both | | | | | | |\n",
    "\n",
    "### 1. What is the rate of males accepted for `Major A`?"
   ]
  },
  {
   "cell_type": "markdown",
   "metadata": {},
   "source": [
    "| | Applied (M) | Admitted (M) | Rate (M) | Applied (F) | Admitted (F) | Rate (F) |\n",
    "| ---- | --- | --- | --- | --- | --- | --- |\n",
    "| Major A | 900 | 450 | 50% | | | |\n",
    "| Major B | 100 | 10 | | | | |\n",
    "| Both | | | | | | |\n",
    "\n",
    "### 2. What is the rate of males accepted for `Major B`?"
   ]
  },
  {
   "cell_type": "markdown",
   "metadata": {},
   "source": [
    "| | Applied (M) | Admitted (M) | Rate (M) | Applied (F) | Admitted (F) | Rate (F) |\n",
    "| ---- | --- | --- | --- | --- | --- | --- |\n",
    "| Major A | 900 | 450 | 50% | 100 | 80 | |\n",
    "| Major B | 100 | 10 | 10% |  |  | |\n",
    "| Both | | | | | | |\n",
    "\n",
    "### 3. What is the rate of females accepted for `Major A`?"
   ]
  },
  {
   "cell_type": "markdown",
   "metadata": {},
   "source": [
    "| | Applied (M) | Admitted (M) | Rate (M) | Applied (F) | Admitted (F) | Rate (F) |\n",
    "| ---- | --- | --- | --- | --- | --- | --- |\n",
    "| Major A | 900 | 450 | 50% | 100 | 80 | 80% |\n",
    "| Major B | 100 | 10 | 10% | 900 | 180 | |\n",
    "| Both | | | | | | |\n",
    "\n",
    "### 4. What is the rate of females accepted for `Major B`?"
   ]
  },
  {
   "cell_type": "markdown",
   "metadata": {},
   "source": [
    "| | Applied (M) | Admitted (M) | Rate (M) | Applied (F) | Admitted (F) | Rate (F) |\n",
    "| ---- | --- | --- | --- | --- | --- | --- |\n",
    "| Major A | 900 | 450 | 50% | 100 | 80 | 80% |\n",
    "| Major B | 100 | 10 | 10% | 900 | 180 | 20% |\n",
    "| Both | | | | | | |\n",
    "\n",
    "### 5. Is there a gender bias?"
   ]
  },
  {
   "cell_type": "markdown",
   "metadata": {},
   "source": [
    "| | Applied (M) | Admitted (M) | Rate (M) | Applied (F) | Admitted (F) | Rate (F) |\n",
    "| ---- | --- | --- | --- | --- | --- | --- |\n",
    "| Major A | 900 | 450 | 50% | 100 | 80 | 80% |\n",
    "| Major B | 100 | 10 | 10% | 900 | 180 | 20% |\n",
    "| Both | 1000 | 460 | | | | |\n",
    "\n",
    "### 6. What is the rate of male acceptance?"
   ]
  },
  {
   "cell_type": "markdown",
   "metadata": {},
   "source": [
    "| | Applied (M) | Admitted (M) | Rate (M) | Applied (F) | Admitted (F) | Rate (F) |\n",
    "| ---- | --- | --- | --- | --- | --- | --- |\n",
    "| Major A | 900 | 450 | 50% | 100 | 80 | 80% |\n",
    "| Major B | 100 | 10 | 10% | 900 | 180 | 20% |\n",
    "| Both | 1000 | 460 | 46% | 1000 | 260 | |\n",
    "\n",
    "### 7. What is the rate of female acceptance?"
   ]
  },
  {
   "cell_type": "markdown",
   "metadata": {},
   "source": [
    "| | Applied (M) | Admitted (M) | Rate (M) | Applied (F) | Admitted (F) | Rate (F) |\n",
    "| ---- | --- | --- | --- | --- | --- | --- |\n",
    "| Major A | 900 | 450 | 50% | 100 | 80 | 80% |\n",
    "| Major B | 100 | 10 | 10% | 900 | 180 | 20% |\n",
    "| Both | 1000 | 460 | 46% | 1000 | 260 | 26% |\n",
    "\n",
    "### 8. Who is actually being favored? Males or females?"
   ]
  },
  {
   "cell_type": "markdown",
   "metadata": {},
   "source": [
    "##### Answers\n",
    "\n",
    "1. 50%\n",
    "2. 80%\n",
    "3. 10%\n",
    "4. 20%\n",
    "5. Yes\n",
    "6. 46%\n",
    "7. 26%\n",
    "8. Males"
   ]
  }
 ],
 "metadata": {
  "kernelspec": {
   "display_name": "Python 3",
   "language": "python",
   "name": "python3"
  },
  "language_info": {
   "name": "python",
   "version": "3.10.13"
  }
 },
 "nbformat": 4,
 "nbformat_minor": 2
}
