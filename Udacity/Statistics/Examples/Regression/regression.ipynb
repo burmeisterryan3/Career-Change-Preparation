{
 "cells": [
  {
   "cell_type": "markdown",
   "metadata": {},
   "source": [
    "# Quiz\n",
    "\n",
    "### Scenario\n",
    "\n",
    "You can restore impaired vision using stem cells. Scientists found a strong correlation between the number of stem cells added to the eyes of mice and their vision improvement (all mice started at a photoreceptor activity* of 0). Note: This example has been simplified for the purposes of this lesson.\n",
    "\n",
    "*Photoreceptor activity is a measure of how well eyes perceive light. The higher the photoreceptor activity the better one's vision."
   ]
  },
  {
   "cell_type": "code",
   "execution_count": 1,
   "metadata": {},
   "outputs": [],
   "source": [
    "import numpy as np\n",
    "import pandas as pd\n",
    "import scipy.stats as stats\n",
    "import matplotlib.pyplot as plt\n",
    "%matplotlib inline"
   ]
  },
  {
   "cell_type": "code",
   "execution_count": 4,
   "metadata": {},
   "outputs": [
    {
     "data": {
      "text/html": [
       "<div>\n",
       "<style scoped>\n",
       "    .dataframe tbody tr th:only-of-type {\n",
       "        vertical-align: middle;\n",
       "    }\n",
       "\n",
       "    .dataframe tbody tr th {\n",
       "        vertical-align: top;\n",
       "    }\n",
       "\n",
       "    .dataframe thead th {\n",
       "        text-align: right;\n",
       "    }\n",
       "</style>\n",
       "<table border=\"1\" class=\"dataframe\">\n",
       "  <thead>\n",
       "    <tr style=\"text-align: right;\">\n",
       "      <th></th>\n",
       "      <th>Number of stem cells</th>\n",
       "      <th>Photoreceptor activity</th>\n",
       "    </tr>\n",
       "  </thead>\n",
       "  <tbody>\n",
       "    <tr>\n",
       "      <th>0</th>\n",
       "      <td>116</td>\n",
       "      <td>60</td>\n",
       "    </tr>\n",
       "    <tr>\n",
       "      <th>1</th>\n",
       "      <td>117</td>\n",
       "      <td>67</td>\n",
       "    </tr>\n",
       "    <tr>\n",
       "      <th>2</th>\n",
       "      <td>120</td>\n",
       "      <td>64</td>\n",
       "    </tr>\n",
       "    <tr>\n",
       "      <th>3</th>\n",
       "      <td>1</td>\n",
       "      <td>8</td>\n",
       "    </tr>\n",
       "    <tr>\n",
       "      <th>4</th>\n",
       "      <td>52</td>\n",
       "      <td>13</td>\n",
       "    </tr>\n",
       "  </tbody>\n",
       "</table>\n",
       "</div>"
      ],
      "text/plain": [
       "   Number of stem cells  Photoreceptor activity\n",
       "0                   116                      60\n",
       "1                   117                      67\n",
       "2                   120                      64\n",
       "3                     1                       8\n",
       "4                    52                      13"
      ]
     },
     "execution_count": 4,
     "metadata": {},
     "output_type": "execute_result"
    }
   ],
   "source": [
    "df = pd.read_csv('../../Data/Vision-And-Stem-Cells-Lesson-15.csv')\n",
    "df.head()"
   ]
  },
  {
   "cell_type": "code",
   "execution_count": 5,
   "metadata": {},
   "outputs": [
    {
     "data": {
      "image/png": "[encoded data removed]",
      "text/plain": [
       "<Figure size 640x480 with 1 Axes>"
      ]
     },
     "metadata": {},
     "output_type": "display_data"
    }
   ],
   "source": [
    "cells = df['Number of stem cells'].values\n",
    "activity = df['Photoreceptor activity'].values\n",
    "\n",
    "plt.scatter(cells, activity)\n",
    "plt.xlabel('Number of stem cells')\n",
    "plt.ylabel('Photoreceptor activity')\n",
    "plt.show()"
   ]
  },
  {
   "cell_type": "code",
   "execution_count": 6,
   "metadata": {},
   "outputs": [
    {
     "name": "stdout",
     "output_type": "stream",
     "text": [
      "Mean number of stem cells: 70.8\n",
      "Mean photoreceptor activity: 38.266666666666666\n"
     ]
    }
   ],
   "source": [
    "cells_mean = np.mean(cells)\n",
    "activity_mean = np.mean(activity)\n",
    "print('Mean number of stem cells:', cells_mean)\n",
    "print('Mean photoreceptor activity:', activity_mean)"
   ]
  },
  {
   "cell_type": "code",
   "execution_count": 8,
   "metadata": {},
   "outputs": [
    {
     "name": "stdout",
     "output_type": "stream",
     "text": [
      "Stem cell standard deviation: 38.258892523736975\n",
      "Photoreceptor activity standard deviation: 23.42912310616446\n"
     ]
    }
   ],
   "source": [
    "cells_std = np.std(cells, ddof=1)\n",
    "activity_std = np.std(activity, ddof=1)\n",
    "print('Stem cell standard deviation:', cells_std)\n",
    "print('Photoreceptor activity standard deviation:', activity_std)"
   ]
  },
  {
   "cell_type": "code",
   "execution_count": 12,
   "metadata": {},
   "outputs": [
    {
     "name": "stdout",
     "output_type": "stream",
     "text": [
      "Pearson correlation coefficient: 0.934465030624902\n",
      "r-squared: 0.8732248934607991\n"
     ]
    }
   ],
   "source": [
    "r = stats.pearsonr(cells, activity)[0]\n",
    "print('Pearson correlation coefficient:', r)\n",
    "\n",
    "r_squared = r**2\n",
    "print('r-squared:', r_squared)"
   ]
  },
  {
   "cell_type": "markdown",
   "metadata": {},
   "source": [
    "In this case, $r^2$ is the proportion of the variation in photoreceptor activity that can be explained by the number of stem cells.\n",
    "\n",
    "In this case, because we are using data from an experimental study, we can go further and say that $r^2$ is the proportion of the variation in photoreceptor activity that is *caused* by the number of stem cells."
   ]
  },
  {
   "cell_type": "code",
   "execution_count": 10,
   "metadata": {},
   "outputs": [
    {
     "name": "stdout",
     "output_type": "stream",
     "text": [
      "Slope: 0.5722511760457536\n",
      "Intercept: -2.2487165973726846\n"
     ]
    }
   ],
   "source": [
    "slope = r * (activity_std / cells_std)\n",
    "print('Slope:', slope)\n",
    "\n",
    "intercept = activity_mean - slope * cells_mean\n",
    "print('Intercept:', intercept)"
   ]
  },
  {
   "cell_type": "markdown",
   "metadata": {},
   "source": [
    "Thus, our equation is $$\\hat{y} = 0.572\\cdot x - 2.25$$"
   ]
  },
  {
   "cell_type": "code",
   "execution_count": 11,
   "metadata": {},
   "outputs": [
    {
     "name": "stdout",
     "output_type": "stream",
     "text": [
      "Slope and intercept: [ 0.57225118 -2.2487166 ]\n"
     ]
    }
   ],
   "source": [
    "coeff = np.polyfit(cells, activity, 1)\n",
    "print('Slope and intercept:', coeff)"
   ]
  },
  {
   "cell_type": "markdown",
   "metadata": {},
   "source": [
    "##### Question 1\n",
    "\n",
    "Photoreceptor activity of 70 is considered normal. How many stem cells would we expect are needed for a visually impaired mouse (meaning photoreceptor activity is 0) to have normal vision?"
   ]
  },
  {
   "cell_type": "code",
   "execution_count": 13,
   "metadata": {},
   "outputs": [
    {
     "name": "stdout",
     "output_type": "stream",
     "text": [
      "126.25350479244125\n"
     ]
    }
   ],
   "source": [
    "print((70-intercept)/slope)"
   ]
  },
  {
   "cell_type": "markdown",
   "metadata": {},
   "source": [
    "##### Question 2\n",
    "The mice need at least ______ stem cells added to their eyes to have a positive value of photoreceptor activity."
   ]
  },
  {
   "cell_type": "code",
   "execution_count": 14,
   "metadata": {},
   "outputs": [
    {
     "name": "stdout",
     "output_type": "stream",
     "text": [
      "3.9295971620561447\n"
     ]
    }
   ],
   "source": [
    "print(-intercept/slope)"
   ]
  },
  {
   "cell_type": "markdown",
   "metadata": {},
   "source": [
    "##### Question 3\n",
    "\n",
    "The confidence interval for a slope of a regression line is $(-0.684, 1.733)$. What can we conclude?  \n",
    "Answer:\n",
    "* The correlation coefficient $r$ is not significant.\n",
    "* The slope of the regression line for the *sample* data is definitely between -0.684 and 1.733.\n",
    "* The true slope for the population ($\\hat{\\beta}_1$) could be negative."
   ]
  },
  {
   "cell_type": "markdown",
   "metadata": {},
   "source": [
    "##### Question 4\n",
    "\n",
    "Write the correct symbol used by convention for each of the following values.  \n",
    "Answer:\n",
    "* Observed values of $y \\quad y_i$\n",
    "* Observed values of $x \\quad x_i$\n",
    "* Expected values of $y \\quad \\hat{y}_i$\n",
    "* Slope of regression line based on sample data $\\quad b$\n",
    "* y-intercept of regression line based on sample data $\\quad a$\n",
    "* True slope $\\quad \\beta_1$\n",
    "* True y-intercept $ \\quad \\beta_0$"
   ]
  },
  {
   "cell_type": "markdown",
   "metadata": {},
   "source": [
    "##### Question 5\n",
    "Compute the confidence intervals for the below examples with a standard error of the estimate of $3.5$."
   ]
  },
  {
   "cell_type": "code",
   "execution_count": 19,
   "metadata": {},
   "outputs": [
    {
     "name": "stdout",
     "output_type": "stream",
     "text": [
      "confidence interval, 2.85: (-0.6499999999999999, 6.35)\n",
      "confidence interval, 2.6: (-0.8999999999999999, 6.1)\n",
      "confidence interval, 2.35: (-1.15, 5.85)\n",
      "confidence interval, 3.35: (-0.1499999999999999, 6.85)\n"
     ]
    }
   ],
   "source": [
    "predictions = np.array([2.85, 2.6, 2.35, 3.35])\n",
    "\n",
    "se = 3.5\n",
    "for i in predictions:\n",
    "    print('confidence interval, {}: ({}, {})'.format(i, i- se, i + se))"
   ]
  }
 ],
 "metadata": {
  "kernelspec": {
   "display_name": "base",
   "language": "python",
   "name": "python3"
  },
  "language_info": {
   "codemirror_mode": {
    "name": "ipython",
    "version": 3
   },
   "file_extension": ".py",
   "mimetype": "text/x-python",
   "name": "python",
   "nbconvert_exporter": "python",
   "pygments_lexer": "ipython3",
   "version": "3.11.3"
  }
 },
 "nbformat": 4,
 "nbformat_minor": 2
}
