{
 "cells": [
  {
   "cell_type": "markdown",
   "metadata": {},
   "source": [
    "# [Hypothesis Testing](https://stattrek.com/hypothesis-test/hypothesis-testing?tutorial=AP)\n",
    "\n",
    "### What is Hypothesis Testing?\n",
    "\n",
    "A statistical hypothesis is an assumption about a population parameter. This assumption may or may not be true. Hypothesis testing refers to the formal procedures used by statisticians to accept or reject statistical hypotheses.\n",
    "\n",
    "##### Statistical Hypotheses\n",
    "\n",
    "Ideally, we could examine the entire population. As that is often impractical, we typically examine a random sample from the population. If sample data are not consistent with the statistical hypothesis, the hypothesis is rejected. There are two types of statistical hypotheses.\n",
    "\n",
    "* **Null Hypothesis**. The null hypothesis, denoted by $H_0$, i usually the hypothesis that the sample observations result purely from chance.\n",
    "* **Alternative Hypothesis**. The alternative hypothesis, denoted by $H_1$ or $H_A$, is the hypothesis that the sample observations are influenced by some random cause.\n",
    "\n",
    "Note that we use population parameters in hypothesis testing as it is the population we wish to say something about. The samples will indicate how likely our result would be under $H_0$. Statistically significant results (defined later) will lead us to reject the population parameter as defined by $H_0$.\n",
    "\n",
    "When setting up $H_0$ and $H_A$ (or $H_1$), the following are guidelines\n",
    "* $H_0$ is true before you collect any data.\n",
    "* $H_0$ usually states there is no effect or that two groups are equal.\n",
    "* $H_0$ are competing, non-overlapping hypotheses.\n",
    "* $H_A$ is what we would like to prove to be true.\n",
    "* $H_0$ is typically written with an equality statement - either $=$, $\\neq$, or $\\geq$\n",
    "    * e.g., $\\mu_0 = \\mu_1$ or equivalently $\\mu_1 - \\mu_0 = 0$\n",
    "* $H_A$ contains the opposition to the null\n",
    "    * Two-tailed (e.g., $\\mu_0 \\neq \\mu_1$ - either of these will satisfy the condition - $\\mu_0 \\lt \\mu1$ or $\\mu_1 \\gt \\mu_0$)\n",
    "    * One-tailed (e.g., $\\mu_0 \\gt \\mu_1$ or $\\mu_0 \\lt \\mu_1$ - only one of which will satisfy the condition)\n",
    "\n",
    "##### Example\n",
    "\n",
    "Imagine we have two web-pages, one we've recently developed as a replacement for an older web page. We'd like to know if our new web page receives more views than our old web page. In this model, we can define our null and alternative hypotheses as\n",
    "$$\\begin{align}H_0:&\\quad\\mu_{\\text{new}}\\leq\\mu_{\\text{old}}\\\\ H_A:&\\quad\\mu_{\\text{new}}\\gt\\mu_{\\text{old}}\\end{align}$$\n",
    "where $\\mu_{\\text{new}}$ is the population mean return from the new page, while similarly, $\\mu_{\\text{old}}$ is the population mean return from the old page."
   ]
  },
  {
   "cell_type": "markdown",
   "metadata": {},
   "source": [
    "### Statistical Significance\n",
    "\n",
    "Significance has very specific meaning in statistics. Significance would imply we\n",
    "\n",
    "* Reject $H_0$, and\n",
    "* Our results are not likely due to chance\n",
    "    * The result is not likely due to sampling error\n",
    "    * We have confidence that the observed value is sufficiently different from the population parameter to suggest the population parameter is not correct or untrue\n",
    "\n",
    "##### Can We Accept the Null Hypothesis?\n",
    "\n",
    "Acceptance implies that the null hypothesis is true. Failure to reject implies that the data are not sufficiently persuasive for us to prefer the alternative hypothesis over the null hypothesis.\n",
    "\n",
    "Furthermore, given we start from a default position of $H_0$ being true, we are much more likely to find that it is in fact true."
   ]
  },
  {
   "cell_type": "markdown",
   "metadata": {},
   "source": [
    "### Hypothesis Tests\n",
    "\n",
    "Statisticians follow a formal process, consisting of four steps, to determine whether to reject a null hypothesis, based on sample data.\n",
    "\n",
    "1. State the hypothesis.\n",
    "    1. State both $H_0$ and $H_A$ such that they are mutually exclusive. That is, if one is true, the other must be false.\n",
    "1. Formulate an analysis plan.\n",
    "    1. The analysis plan describes how to use sample data to evaluate the null hypothesis. The evaluation often focuses around a single test statistic.\n",
    "    1. Significance Level.\n",
    "        1. Researchers often choose significance levels equal to 0.01, 0.05, or 0.10, but any value between 0 and 1 can be used.\n",
    "    1. Test Method\n",
    "        1. Typically, the test method involves a test statistic and a sampling distribution.The test statistic might be a mean score, proportion, difference between means, difference between proportions, z-score, t statistic, chi-square, etc.\n",
    "1. Analyze sample data.\n",
    "    1. Find the value of the test statistic (mean, proportion, t statistic, z-score, etc.) described in the analysis plan.\n",
    "    1. Test statistic.\n",
    "        1. When $H_0$ involves a mean or proportion, use either of the following equation to compute the test statistic. \"Parameter\" is the value appearing int he null hypothesis, and \"statistic\" is the estimate of the \"parameter\". $$\\text{Test Statistic} = \\frac{\\text{Statistic - Parameter}}{\\text{Standard deviation of statistic}}$$ $$\\text{Test Statistic} = \\frac{\\text{Statistic - Parameter}}{\\text{Standard error of statistic}}$$\n",
    "1. Interpret results.\n",
    "    1. Apply the decision rule described in the analysis plan. If the value of the test statistic is unlikely, based on the null hypothesis, reject the null hypothesis."
   ]
  },
  {
   "cell_type": "markdown",
   "metadata": {},
   "source": [
    "### Decision Errors\n",
    "\n",
    "* **Type 1 error** - False Positive\n",
    "    * A Type 1 error occurs when the research rejects a null hypothesis (alternative is chosen) when the null hypothesis is true.\n",
    "    * The probability of committing a Type 1 error is called the **significance level**. The probability is also called **alpha**, denoted by $\\alpha$.\n",
    "    * Note that $\\alpha$ is represented as a proportion, so an $\\alpha=0.05$ corresponds to a value which creates a region for which only $5$% of the data would reside.\n",
    "    * We call these fall positives as the goal of our study is often to prove $H_A$ is true. Thus, selecting $H_A$ when $H_0$ is true is a false positive result.\n",
    "* **Type II error** - False Negative\n",
    "    * A Type 2 error occurs when the researcher fails to reject a null hypothesis that is false.\n",
    "    * The probability of committing a Type 2 error is called **Beta** and is often denoted by $\\beta$.\n",
    "    * Frequently, people will talk about the **Power** of a statistical test as $1-\\beta$.\n",
    "        * This is the ability to correctly choose the alternative hypothesis, the probability of *not* committing a Type II error.\n",
    "    * We call these fall negatives as the goal of our study is often to prove $H_A$ is true. Thus, selecting $H_0$ when $H_A$ is true is a false negative result.\n",
    "\n",
    "| | Reject $H_0$ | Fail to Reject $H_0$|\n",
    "| ---- | ---- | ---- |\n",
    "| $H_0$ is True | Type 1 Error | |\n",
    "| $H_0$ is False | | Type 2 Error |\n",
    "\n",
    "##### Type I vs Type II Errors - Tradeoff\n",
    "\n",
    "As an example, let's use the US justice system which uses a standard \"innocent until proven guilty\". In this model \n",
    "$$\\begin{align}H_0:&\\quad\\text{innocent person}\\\\ H_A:&\\quad\\text{guilty person}\\end{align}$$\n",
    "In this scenario, a Type I is associated with a guilty verdict for an innocent individual while a Type II error is an innocent verdict for a guilty person.\n",
    "\n",
    "However, we can see that if a jury decides they never want to commit a Type I error by only making \"innocent\" verdicts, they will make many more Type II errors. Alternatively, if the jury only decided everyone was \"guilty\", then they would never commit a Type II error but would commit many more Type I errors.\n",
    "\n",
    "Because of this tradeoff between Type I and Type II errors, researchers tend to just set a threshold for how many Type I errors they are willing to commit while minimizing the number of Type II errors.\n",
    "\n",
    "In medicine, $\\alpha=0.01$ is standard, while $\\alpha=0.05$ is often used in business and other research.\n",
    "\n",
    "##### Another Example\n",
    "\n",
    "Imagine we own a skydiving company. As part of our business, we must check parachutes and decide whether they will work or fail during a skydive.\n",
    "$$\\begin{align}H_0:&\\quad\\text{parachute will not open}\\\\ H_A:&\\quad\\text{parachute will open}\\end{align}$$\n",
    "\n",
    "If we decide a parachute would work, and it in fact does work, we have a true positive. Similarly, if we decide a parachute would have failed, and it would have in fact failed, then we have a true negative. These, are obviously the desired results.\n",
    "\n",
    "However, if we decide the parachute would fail, but in fact it would have worked, we make a Type II error (false negative, and it maybe costs us $30). Alternatively, if we decide the parachute would work, but it in fact fails, we make a Type I error (and the consequence is death).\n",
    "\n",
    "Obviously, making a Type I error is worse in this scenario. Furthermore, setting $\\alpha$ to either $0.01$ or $0.05$ is likely entirely too high. Our $\\alpha$ value should be set according to the nature of our test and our acceptable tolerance."
   ]
  },
  {
   "cell_type": "code",
   "execution_count": 2,
   "metadata": {},
   "outputs": [],
   "source": [
    "import numpy as np\n",
    "import pandas as pd\n",
    "import matplotlib.pyplot as plt\n",
    "%matplotlib inline\n",
    "np.random.seed(42)"
   ]
  },
  {
   "cell_type": "code",
   "execution_count": 3,
   "metadata": {},
   "outputs": [],
   "source": [
    "df = pd.read_csv('./Data/coffee_dataset.csv')"
   ]
  },
  {
   "cell_type": "markdown",
   "metadata": {},
   "source": [
    "$$\\begin{align}H_0:&\\quad\\mu\\leq70\\\\ H_A:&\\quad\\mu\\gt70\\end{align}$$"
   ]
  },
  {
   "cell_type": "code",
   "execution_count": 6,
   "metadata": {},
   "outputs": [
    {
     "name": "stdout",
     "output_type": "stream",
     "text": [
      "lower bound:  67.94922154762637 \n",
      "upper bound:  68.86932666243986\n"
     ]
    },
    {
     "data": {
      "text/plain": [
       "<matplotlib.lines.Line2D at 0x1626d599a90>"
      ]
     },
     "execution_count": 6,
     "metadata": {},
     "output_type": "execute_result"
    },
    {
     "data": {
      "image/png": "[encoded data removed]",
      "text/plain": [
       "<Figure size 640x480 with 1 Axes>"
      ]
     },
     "metadata": {},
     "output_type": "display_data"
    }
   ],
   "source": [
    "sample_df = df.sample(150)\n",
    "heights = sample_df[sample_df['drinks_coffee'] == True]['height'].values\n",
    "bootstrap_height_means = np.random.choice(heights, size=(10000, 150), replace=True).mean(axis=1)\n",
    "\n",
    "lower, upper = np.percentile(bootstrap_height_means, 2.5), np.percentile(bootstrap_height_means, 97.5)\n",
    "print('lower bound: ', lower, '\\nupper bound: ', upper)\n",
    "\n",
    "plt.hist(bootstrap_height_means)\n",
    "plt.axvline(x=lower, color='r', linewidth=2)\n",
    "plt.axvline(x=upper, color='r', linewidth=2)"
   ]
  },
  {
   "cell_type": "markdown",
   "metadata": {},
   "source": [
    "Using our confidence interval, we can simply determine if the interval falls within $H_0$ region (region of acceptance) or $H_A$ region (region of rejection).\n",
    "\n",
    "Thus, we *fail to reject* $H_0$ as our confidence interval is entirely below 70.\n",
    "\n",
    "##### Alternative test\n",
    "\n",
    "If instead, we had\n",
    "\n",
    "$$\\begin{align}H_0:&\\quad\\mu=70\\\\ H_A:&\\quad\\mu\\neq70\\end{align}$$\n",
    "\n",
    "we could compare our result another way."
   ]
  },
  {
   "cell_type": "code",
   "execution_count": 8,
   "metadata": {},
   "outputs": [
    {
     "data": {
      "text/plain": [
       "<matplotlib.lines.Line2D at 0x1626d67bbd0>"
      ]
     },
     "execution_count": 8,
     "metadata": {},
     "output_type": "execute_result"
    },
    {
     "data": {
      "image/png": "[encoded data removed]",
      "text/plain": [
       "<Figure size 640x480 with 1 Axes>"
      ]
     },
     "metadata": {},
     "output_type": "display_data"
    }
   ],
   "source": [
    "std = bootstrap_height_means.std()\n",
    "null_vals = np.random.normal(70, std, 10000) # We can use a normal distribution here because of the central limit theorem\n",
    "plt.hist(null_vals, alpha=0.5)\n",
    "plt.hist(bootstrap_height_means, alpha=0.5)\n",
    "plt.axvline(x=lower, color='r', linewidth=2)\n",
    "plt.axvline(x=upper, color='r', linewidth=2)"
   ]
  },
  {
   "cell_type": "markdown",
   "metadata": {},
   "source": [
    "As we can see, our confidence interval and sampling distribution suggest the sampled data and hypothesized data come from different distributions. Thus, we *reject* $H_0$ in this case."
   ]
  },
  {
   "cell_type": "markdown",
   "metadata": {},
   "source": [
    "### Decision Rules\n",
    "\n",
    "The analysis plan for a hypothesis test must include decision rules for rejecting the null hypothesis. In practice, statisticians describe these decision rules in two ways - with reference to a P-value or a region of acceptance.\n",
    "\n",
    "* **p-value**\n",
    "    * The strength of evidence in support of a null hypothesis is measured by the p-value.\n",
    "    * The p-value is the conditional probability of observing a test statistic, or a more extreme value, given $H_0$ is true, e.g., $p(\\bar{x}\\vert H_0)$.\n",
    "    * If the p-value is less than the significance level, i.e., $\\text{p-value}\\leq\\alpha$, meaning the probability of the result or a more extreme value is less than the significance level, we reject the null hypothesis.\n",
    "* **Region of Acceptance**\n",
    "    * If the test statistic falls within the region of acceptance, , i.e., $\\text{p-value}\\gt\\alpha$, the null hypothesis is not rejected. The region of acceptance is defined so that the chance of making a Type I error is equal to the significance level.\n",
    "    * The values outside the region of acceptance is called the **region of rejection**.\n",
    "    * If the test statistic falls within the region of rejection, the null hypothesis is rejected. In such cases, we say that $H_0$ has been rejected at the $\\alpha$ level of significance.\n",
    "\n",
    "Example using z-scores:  We reject $H_0$ when: 1) our sample mean falls within the critical region, 2) the z-score of our sample mean is greater than a positive z-critical value, or 3) the probability of obtaining the sample mean is less than the alpha level."
   ]
  },
  {
   "cell_type": "markdown",
   "metadata": {},
   "source": [
    "### Computing the p-value\n",
    "\n",
    "We can perform the following steps to compute our p-value using bootstrapping.\n",
    "\n",
    "1. Simulate the values of your statistic that are possible from the null.\n",
    "1. Calculate teh value of the statistic you actually observed in your data.\n",
    "1. Compare your statistic to the values from the null.\n",
    "1. Calculate the proportion of null values that are considered **extreme** based on your alternative."
   ]
  },
  {
   "cell_type": "markdown",
   "metadata": {},
   "source": [
    "### One-Tailed and Two-Tailed Tests\n",
    "\n",
    "* **One-Tailed Tests**\n",
    "    * A test of statistical hypothesis where the region of rejection is only one side of the sampling distribution is called a **one-tailed test**. For example, suppose $H_0$ states that $\\bar{x} \\leq 10$. $H_1$ ($H_a$) would be $\\bar{x} \\gt 10$. The region of rejection would consist of a range of numbers located on the right side of the sampling distribution, i.e., one-tailed set with numbers greater than $10$.\n",
    "* **Two-Tailed Tests**\n",
    "    * A test of statistical hypothesis where the region of rejection is on both sides of the sampling distribution is called a **two-tailed test**. For example, suppose $H_0$ states $\\bar{x}=10$. $H_1$ would be that $\\bar{x} \\lt 10$ or $\\bar{x} \\gt 10$. The region of rejection would consist of a range of numbers on both sides of the sampling distribution."
   ]
  },
  {
   "cell_type": "markdown",
   "metadata": {},
   "source": [
    "### Final Considerations\n",
    "\n",
    "Remember to ask the following questions, whenever you are conducting hypothesis testing.\n",
    "\n",
    "* Is my sample **representative** of the population?\n",
    "    * Without a representative sample, your results are unreliable.\n",
    "* What is the impact of **sample size** on my results?\n",
    "    * With large sample sizes, everything is statistically significant (you always choose $H_A$) as even minor differences will appear notable.\n",
    "* What if we test more than once?\n",
    "    * Example: Imagine we run 20 hypothesis tests with a significance level (Type I error threshold) of 0.05 where we should fail to reject the null. Well, with 20 tests, we should expect that at least one of our tests will result in rejecting $H_0$. Given many similar experiments are often occurring across the world, how can we be sure that a significant result is not one of these Type I errors? Unfortunately, we can't really know in many cases.\n",
    "    * Bonferroni Correction\n",
    "        * This is a commonly used, very conservative test.\n",
    "        * If $m = \\text{number of tests}$, then our new error rate is $\\frac{\\alpha}{m}$.\n",
    "        * E.g. If we run 10 hypothesis tests with $\\alpha=0.05$, then $\\alpha_{\\text{new}}=0.05/10=0.005$.\n",
    "    * [Tukey Correction](https://www.itl.nist.gov/div898/handbook/prc/section4/prc471.htm)\n",
    "        * Also see [ANOVA](./9.%20ANOVA%20F-Test.ipynb)\n",
    "    * [Q-values](https://www.nonlinear.com/support/progenesis/comet/faq/v2.0/pq-values.aspx)\n",
    "        * Often used in the biomedical field.\n",
    "* What is the relationship between confidence intervals and hypothesis testing?\n",
    "    * A two-sided hypothesis test (that is a test involving $\\neq$ in $H_A$) is the same in terms of the conclusions made as a confidence interval as long as $1-CI=\\alpha$.\n",
    "    * Example: A 95% CI will draw the same conclusions as a two-sided hypothesis test with a Type I error rate of 0.05 in terms of which hypothesis to choose as $1-0.95=0.05$.\n",
    "\n",
    "##### Motivating Machine Learning\n",
    "\n",
    "Given that large sample sizes lead to (nearly) all results being statistically significant, *are hypothesis tests really useful*? In many cases the answer is **no**.\n",
    "\n",
    "Imagine you are testing two kinds of coffee. After testing, you find that, on average, Coffee #1 sells better than Coffee #2. Through hypothesis testing, we would determine that there is a significant difference between the two coffee types. However, there may still be even thousands or millions of customers who prefer Coffee #2. Only discussing (or offering products based on) averages leaves out an entire segment of the population that preferred Coffee #2 or didn't like either option.\n",
    "\n",
    "With large sample sizes, we should be able to individualize our approach to make recommendations. This is the aim of machine learning. *While hypothesis testing provides an aggregate approach to recommending, machine learning will allow us to take an individual approach to recommending.*\n",
    "\n"
   ]
  }
 ],
 "metadata": {
  "kernelspec": {
   "display_name": "Python 3",
   "language": "python",
   "name": "python3"
  },
  "language_info": {
   "codemirror_mode": {
    "name": "ipython",
    "version": 3
   },
   "file_extension": ".py",
   "mimetype": "text/x-python",
   "name": "python",
   "nbconvert_exporter": "python",
   "pygments_lexer": "ipython3",
   "version": "3.11.3"
  }
 },
 "nbformat": 4,
 "nbformat_minor": 2
}
