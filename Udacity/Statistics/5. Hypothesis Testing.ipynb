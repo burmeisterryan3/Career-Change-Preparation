{
 "cells": [
  {
   "cell_type": "markdown",
   "metadata": {},
   "source": [
    "# [Hypothesis Testing](https://stattrek.com/hypothesis-test/hypothesis-testing?tutorial=AP)\n",
    "\n",
    "### What is Hypothesis Testing?\n",
    "\n",
    "A statistical hypothesis is an assumption about a population parameter. This assumption may or may not be true. Hypothesis testing refers to the formal procedures used by statisticians to accept or reject statistical hypotheses.\n",
    "\n",
    "##### Statistical Hypotheses\n",
    "\n",
    "Ideally, we could examine the entire population. As that is often impractical, we typically examine a random sample from the population. If sample data are not consistent with the statistical hypothesis, the hypothesis is rejected. There are two types of statistical hypotheses.\n",
    "\n",
    "* **Null Hypothesis**. The null hypothesis, denoted by $H_0$, i usually the hypothesis that the sample observations result purely from chance.\n",
    "* **Alternative Hypothesis**. The alternative hypothesis, denoted by $H_1$ or $H_A$, is the hypothesis that the sample observations are influenced by some random cause.\n",
    "\n",
    "Note that we use population parameters in hypothesis testing. The samples will indicate how likely our result would be under $H_0$. Statistically significant results (defined later) will lead us to reject the population parameter as defined by $H_0$.\n",
    "\n",
    "When setting up $H_0$ and $H_A$ (or $H_1$), the following are guidelines\n",
    "* $H_0$ is true before you collect any data.\n",
    "* $H_0$ usually states there is no effect or that two groups are equal.\n",
    "* $H_0$ are competing, non-overlapping hypotheses.\n",
    "* $H_A$ is what we would like to prove to be true.\n",
    "* $H_0$ is typically written with an equality statement - either $=$, $\\neq$, or $\\geq$\n",
    "    * e.g., $\\mu_0 = \\mu_1$ or equivalently $\\mu_1 - \\mu_0 = 0$\n",
    "* $H_A$ contains the opposition to the null\n",
    "    * Two-tailed (e.g., $\\mu_0 \\neq \\mu_1$ - either of these will satisfy the condition - $\\mu_0 \\lt \\mu1$ or $\\mu_1 \\gt \\mu_0$)\n",
    "    * One-tailed (e.g., $\\mu_0 \\gt \\mu_1$ or $\\mu_0 \\lt \\mu_1$ - only one of which will satisfy the condition)\n",
    "\n",
    "##### Example\n",
    "\n",
    "Imagine we have two web-pages, one we've recently developed as a replacement for an older web page. We'd like to know if our new web page receives more views than our old web page. In this model, we can define our null and alternative hypotheses as\n",
    "$$\\begin{align}H_0:&\\quad\\mu_{\\text{new}}\\leq\\mu_{\\text{old}}\\\\ H_A:&\\quad\\mu_{\\text{new}}\\gt\\mu_{\\text{old}}\\end{align}$$\n",
    "where $\\mu_{\\text{new}}$ is the population mean return from the new page, while similarly, $\\mu_{\\text{old}}$ is the population mean return from the old page."
   ]
  },
  {
   "cell_type": "markdown",
   "metadata": {},
   "source": [
    "### Statistical Significance\n",
    "\n",
    "Significance has very specific meaning in statistics. Significance would imply we\n",
    "\n",
    "* Reject $H_0$, and\n",
    "* Our results are not likely due to chance\n",
    "    * The result is not likely due to sampling error\n",
    "    * We have confidence that the observed value is sufficiently different from the population parameter to suggest the population parameter is not correct or untrue\n",
    "\n",
    "##### Can We Accept the Null Hypothesis?\n",
    "\n",
    "Acceptance implies that the null hypothesis is true. Failure to reject implies that the data are not sufficiently persuasive for us to prefer the alternative hypothesis over the null hypothesis."
   ]
  },
  {
   "cell_type": "markdown",
   "metadata": {},
   "source": [
    "### Hypothesis Tests\n",
    "\n",
    "Statisticians follow a formal process, consisting of four steps, to determine whether to reject a null hypothesis, based on sample data.\n",
    "\n",
    "1. State the hypothesis.\n",
    "    1. State both $H_0$ and $H_A$ such that they are mutually exclusive. That is, if one is true, the other must be false.\n",
    "1. Formulate an analysis plan.\n",
    "    1. The analysis plan describes how to use sample data to evaluate the null hypothesis. The evaluation often focuses around a single test statistic.\n",
    "    1. Significance Level.\n",
    "        1. Researchers often choose significance levels equal to 0.01, 0.05, or 0.10, but any value between 0 and 1 can be used.\n",
    "    1. Test Method\n",
    "        1. Typically, the test method inolves a test statistic and a sampling distribution.The test statistic might be a mean score, proportion, difference between means, difference between proportions, z-score, t statistic, chi-square, etc.\n",
    "1. Analyze sample data.\n",
    "    1. Find the value of the test statistic (mean, proportion, t statistic, z-score, etc.) described in the analysis plan.\n",
    "    1. Test statistic.\n",
    "        1. When $H_0$ involves a mean or proportion, use either of the following equation to compute the test statistic. \"Parameter\" is the value appearing int he null hypothesis, and \"statistic\" is the estimate of the \"parameter\". $$\\text{Test Statistic} = \\frac{\\text{Statistic - Parameter}}{\\text{Standard deviation of statistic}}$$ $$\\text{Test Statistic} = \\frac{\\text{Statistic - Parameter}}{\\text{Standard error of statistic}}$$\n",
    "1. Interpret results.\n",
    "    1. Apply the decision rule descibed in the analysis plan. If the value of the test statistic is unlikely, based on the null hypothesis, reject the null hypothesis.\n"
   ]
  },
  {
   "cell_type": "markdown",
   "metadata": {},
   "source": [
    "### Decision Errors\n",
    "\n",
    "* **Type 1 error** - False Positive\n",
    "    * A Type 1 error occurs when the research rejects a null hypothesis (alternative is chosen) when the null hypothesis is true.\n",
    "    * The probability of committing a Type 1 error is called the **significance level**. The probability is also called **alpha**, denoted by $\\alpha$.\n",
    "    * Note that $\\alpha$ is represented as a proportion, so an $\\alpha=0.05$ corresponds to a value which creates a region for which only $5$% of the data would reside.\n",
    "    * We call these fall positives as the goal of our study is often to prove $H_A$ is true. Thus, selecting $H_A$ when $H_0$ is true is a false positive result.\n",
    "* **Type II error** - False Negative\n",
    "    * A Type 2 error occurs when the researcher fails to reject a null hypothesis that is false.\n",
    "    * The probability of committing a Type 2 error is called **Beta** and is often denoted by $\\beta$.\n",
    "    * Frequently, people will talk about the **Power** of a statistical test as $1-\\beta$.\n",
    "        * This is the ability to correctly choose the alternative hypothesis, the probability of *not* committing a Type II error.\n",
    "    * We call these fall negatives as the goal of our study is often to prove $H_A$ is true. Thus, selecting $H_0$ when $H_A$ is true is a false negative result.\n",
    "\n",
    "| | Reject $H_0$ | Fail to Reject $H_0$|\n",
    "| ---- | ---- | ---- |\n",
    "| $H_0$ is True | Type 1 Error | |\n",
    "| $H_0$ is False | | Type 2 Error |\n",
    "\n",
    "##### Type I vs Type II Errors - Tradeoff\n",
    "\n",
    "As an example, let's use the US justice system which uses a standard \"innocent until proven guilty\". In this model \n",
    "$$\\begin{align}H_0:&\\quad\\text{innocent person}\\\\ H_A:&\\quad\\text{guilty person}\\end{align}$$\n",
    "In this scenario, a Type I is associated with a guilty verdict for an innocent individual while a Type II error is an innocent verdict for a guilty person.\n",
    "\n",
    "However, we can see that if a jury decides they never want to commit a Type I error by only making \"innocent\" verdicts, they will make many more Type II errors. Alternatively, if the jury only decided everyone was \"guilty\", then they would never commit a Type II error but would commit many more Type I errors.\n",
    "\n",
    "Because of this tradeoff between Type I and Type II errors, researchers tend to just set a threshold for how many Type I errors they are willing to commit while minimizing the number of Type II errors.\n",
    "\n",
    "In medicine, $\\alpha=0.01$ is standard, while $\\alpha=0.05$ is often used in business and other research.\n",
    "\n",
    "##### Another Example\n",
    "\n",
    "Imagine we own a skydiving company. As part of our business, we must check parachutes and decide whether they will work or fail during a skydive.\n",
    "$$\\begin{align}H_0:&\\quad\\text{parachute will open}\\\\ H_A:&\\quad\\text{parachute will not open}\\end{align}$$\n",
    "\n",
    "If we decide a parachute would work, and it in fact does work, we have a true positive. Similarly, if we decide a parachute would have failed, and it would have in fact failed, then we have a true negative. These, are obviously the desired results.\n",
    "\n",
    "However, if we decide the parachute would fail, but in fact it would have worked, we make a Type II error (false negative, and it maybe costs us $30). Alternatively, if we decide the parachute would work, but it in fact fails, we make a Type I error (and the consequence is death).\n",
    "\n",
    "Obviously, making a Type I error is worse in this scenario. Furthermore, setting $\\alpha$ to either $0.01$ or $0.05$ is likely entirely too high. Our $\\alpha$ value should be set according to the nature of our test and our acceptable tolerance."
   ]
  },
  {
   "cell_type": "markdown",
   "metadata": {},
   "source": [
    "### Decision Rules\n",
    "\n",
    "The analysis plan for a hypothesis test must include decision rules for rejecting the null hypothesis. In practice, statisticians describe these decision rules in two ways - with reference to a P-value or a region of acceptance.\n",
    "\n",
    "* **P-value**\n",
    "    * The strength of evidence in support of a null hypothesis is measured by the P-value.\n",
    "    * Suppose the test statistic is equal to $S$. The P-value is the probability of observing a test statistic as extreme as $S$, assuming the null hypothesis is true.\n",
    "    * If the P-value is less than the significance level, meaning the probability of the result is less than the significance level, we reject the null hypothesis.\n",
    "* **Region of Acceptance**\n",
    "    * If the test statistic falls within the region of acceptance, the null hypothesis is not rejected. The region of acceptance is defined so that the chance of making a Type I error is equal to the significance level.\n",
    "    * The values outside the region of acceptance is called the **region of rejection**.\n",
    "    * If the test statistic falls within the region of rejection, the null hypothesis is rejected. In such cases, we say that $H_0$ has been rejected at the $\\alpha$ level of significance.\n",
    "\n",
    "Example using z-scores:  We reject $H_0$ when: 1) our sample mean falls within the critical region, 2) the z-score of our sample mean is greater than a positive z-critical value, or 3) the probability of obtaining the sample mean is less than the alpha level."
   ]
  },
  {
   "cell_type": "markdown",
   "metadata": {},
   "source": [
    "### One-Tailed and Two-Tailed Tests\n",
    "\n",
    "* **One-Tailed Tests**\n",
    "    * A test of statistical hypothesis where the region of rejection is only one side of the sampling distribution is called a **one-tailed test**. For example, suppose $H_0$ states that $\\bar{x} \\leq 10$. $H_1$ ($H_a$) would be $\\bar{x} \\gt 10$. The region of rejection would consist of a range of numbers located on the right side of the sampling distribution, i.e., one-tailed set with numbers greater than $10$.\n",
    "* **Two-Tailed Tests**\n",
    "    * A test of statistical hypothesis where the region of rejection is on both sides of the sampling distribution is called a **two-tailed test**. For example, suppose $H_0$ states $\\bar{x}=10$. $H_1$ would be that $\\bar{x} \\lt 10$ or $\\bar{x} \\gt 10$. The region of rejection would consist of a range of numbers on both sides of the sampling distribution."
   ]
  }
 ],
 "metadata": {
  "kernelspec": {
   "display_name": "Python 3",
   "language": "python",
   "name": "python3"
  },
  "language_info": {
   "name": "python",
   "version": "3.10.13"
  }
 },
 "nbformat": 4,
 "nbformat_minor": 2
}
