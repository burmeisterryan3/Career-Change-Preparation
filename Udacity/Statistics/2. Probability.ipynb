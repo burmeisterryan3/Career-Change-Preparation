{
 "cells": [
  {
   "cell_type": "markdown",
   "metadata": {},
   "source": [
    "# Probability Theory\n",
    "\n",
    "### Probability vs Statistics\n",
    "\n",
    "**Probability** - predictions about future events based on models or causes that we assume; ***predicting data***  \n",
    "**Statistics** - analyze data and past events to infer what those models or causes could be; ***using data to predict***\n",
    "\n",
    "##### Basic Probability\n",
    "\n",
    "* Probability of Event = $P$\n",
    "* Probability of a Complimentary Event = $1-P$\n",
    "* Probability of Composite Independent Events = $\\prod{P}$\n",
    "* The probability of any event must be between $[0, 1]$.\n",
    "\n",
    "##### Example - Coin Flips\n",
    "\n",
    "$P(\\text{H}) = 0.5$  \n",
    "$P(\\text{T}) = 1 - P(\\text{H}) = P(\\text{not H}) = 0.5$\n",
    "\n",
    "Across $n$ coin flips, the probability of seeing $n$ heads is $P(\\text{H})^n$."
   ]
  },
  {
   "cell_type": "markdown",
   "metadata": {},
   "source": [
    "* Probability of Event = $P$\n",
    "* Probability of a Complimentary Event = $1-P$\n",
    "* Probability of Composite Independent Events = $\\prod{P}$\n",
    "* The probability of any event must be between $[0, 1]$.\n",
    "\n",
    "##### Example - Coin Flips\n",
    "\n",
    "$P(\\text{H}) = 0.5$  \n",
    "$P(\\text{T}) = 1 - P(\\text{H}) = P(\\text{not H}) = 0.5$\n",
    "\n",
    "Across $n$ coin flips, the probability of seeing $n$ heads is $P(\\text{H})^n$."
   ]
  },
  {
   "cell_type": "code",
   "execution_count": 30,
   "metadata": {},
   "outputs": [],
   "source": [
    "import math\n",
    "import numpy as np\n",
    "import pandas as pd\n",
    "import matplotlib.pyplot as plt\n",
    "from timeit import default_timer as timer\n",
    "%matplotlib inline"
   ]
  },
  {
   "cell_type": "markdown",
   "metadata": {},
   "source": [
    "##### Flipping a Coin"
   ]
  },
  {
   "cell_type": "code",
   "execution_count": 31,
   "metadata": {},
   "outputs": [
    {
     "data": {
      "text/plain": [
       "0.5043"
      ]
     },
     "execution_count": 31,
     "metadata": {},
     "output_type": "execute_result"
    }
   ],
   "source": [
    "np.random.randint(2, size=10000).mean()"
   ]
  },
  {
   "cell_type": "code",
   "execution_count": 32,
   "metadata": {},
   "outputs": [
    {
     "data": {
      "text/plain": [
       "0.2062"
      ]
     },
     "execution_count": 32,
     "metadata": {},
     "output_type": "execute_result"
    }
   ],
   "source": [
    "np.random.choice([0, 1], size=10000, p=[0.8, 0.2]).mean()"
   ]
  },
  {
   "cell_type": "markdown",
   "metadata": {},
   "source": [
    "##### Two Fair Coin Flips - Percentage of Two Heads?"
   ]
  },
  {
   "cell_type": "code",
   "execution_count": 33,
   "metadata": {},
   "outputs": [
    {
     "name": "stdout",
     "output_type": "stream",
     "text": [
      "[[1 1]\n",
      " [1 0]\n",
      " [0 0]\n",
      " [0 0]\n",
      " [1 1]\n",
      " [1 1]\n",
      " [1 0]\n",
      " [1 1]\n",
      " [1 0]\n",
      " [1 0]]\n"
     ]
    },
    {
     "data": {
      "text/plain": [
       "0.24984"
      ]
     },
     "execution_count": 33,
     "metadata": {},
     "output_type": "execute_result"
    }
   ],
   "source": [
    "# 0 is Heads, 1 is Tails\n",
    "tests = np.random.randint(2, size=(int(1e6), 2))\n",
    "print(tests[:10])\n",
    "(tests.sum(axis=1) == 0).mean()"
   ]
  },
  {
   "cell_type": "markdown",
   "metadata": {},
   "source": [
    "##### Three Fair Coin Flips - Probability Exactly One Head?"
   ]
  },
  {
   "cell_type": "code",
   "execution_count": 34,
   "metadata": {},
   "outputs": [
    {
     "data": {
      "text/plain": [
       "0.374764"
      ]
     },
     "execution_count": 34,
     "metadata": {},
     "output_type": "execute_result"
    }
   ],
   "source": [
    "tests = np.random.randint(2, size=(int(1e6), 3))\n",
    "(tests.sum(axis=1) == 2).mean()"
   ]
  },
  {
   "cell_type": "markdown",
   "metadata": {},
   "source": [
    "##### Three Biased Coin Flips - $P(\\text{H}) = 0.6 $ - Probability Exactly One Head?"
   ]
  },
  {
   "cell_type": "code",
   "execution_count": 35,
   "metadata": {},
   "outputs": [
    {
     "data": {
      "text/plain": [
       "0.288142"
      ]
     },
     "execution_count": 35,
     "metadata": {},
     "output_type": "execute_result"
    }
   ],
   "source": [
    "tests = np.random.choice([0,1], size=(int(1e6), 3), p=[0.6, 0.4])\n",
    "(tests.sum(axis=1) == 2).mean()"
   ]
  },
  {
   "cell_type": "markdown",
   "metadata": {},
   "source": [
    "##### Die Roll - Probability of an Even Number?"
   ]
  },
  {
   "cell_type": "code",
   "execution_count": 36,
   "metadata": {},
   "outputs": [
    {
     "data": {
      "text/plain": [
       "0.499699"
      ]
     },
     "execution_count": 36,
     "metadata": {},
     "output_type": "execute_result"
    }
   ],
   "source": [
    "tests = np.random.randint(6, size=int(1e6))\n",
    "(tests%2 == 0).mean()"
   ]
  },
  {
   "cell_type": "markdown",
   "metadata": {},
   "source": [
    "##### Two Dice Rolls - Probability of a Double?"
   ]
  },
  {
   "cell_type": "code",
   "execution_count": 37,
   "metadata": {},
   "outputs": [
    {
     "name": "stdout",
     "output_type": "stream",
     "text": [
      "0.166822\n"
     ]
    },
    {
     "data": {
      "text/plain": [
       "5.5248169240003335"
      ]
     },
     "execution_count": 37,
     "metadata": {},
     "output_type": "execute_result"
    }
   ],
   "source": [
    "start = timer()\n",
    "\n",
    "tests = np.random.randint(6, size=(int(1e6), 2))\n",
    "print([np.all(row == row[0]) for row in tests].count(True) / len(tests))\n",
    "timer() - start"
   ]
  },
  {
   "cell_type": "code",
   "execution_count": 38,
   "metadata": {},
   "outputs": [
    {
     "data": {
      "text/plain": [
       "0.019433597999523045"
      ]
     },
     "execution_count": 38,
     "metadata": {},
     "output_type": "execute_result"
    }
   ],
   "source": [
    "start = timer()\n",
    "\n",
    "tests1 = np.random.randint(6, size=int(1e6))\n",
    "tests2 = np.random.randint(6, size=int(1e6))\n",
    "\n",
    "(tests1 == tests2).mean()\n",
    "\n",
    "timer() - start"
   ]
  },
  {
   "cell_type": "markdown",
   "metadata": {},
   "source": [
    "### Counting\n",
    "\n",
    "If the order of selection of $n$ items being counted $k$ at a time matters, then the method for counting possible **permutations** is $$^nP_k = n*(n-1)*\\dots*(n-k+1)=\\frac{n!}{(n-k)!}$$\n",
    "\n",
    "If the order of selection does *not* matter, then the method for counting possible **combinations** is $${n \\choose k} = \\frac{n!}{k!(n-k)!}$$\n",
    "\n",
    "##### Permutation Examples\n",
    "\n",
    "1. How many words can be formed using the letters of the word \"TRIANGLES\"?\n",
    "\n",
    "With 9 distinct letters, the number of different permutations is $^9P_9 = 9!$\n",
    "\n",
    "2. What if we fix T at the beginning and S at the end?\n",
    "\n",
    "We then have 7 letters we can permute. This can be done in $^7P_7$ ways.\n",
    "\n",
    "3. How many different 5-letter words can be formed using the letters from A to J (10 letters) such that each word has at least one letter repeated.\n",
    "\n",
    "First, we compute the number of possible 5-letter words (with or without replacement) using 10 distinct letters, which is $10^5 = 10*10*10*10*10$ as we can always choose 10 letters for a slot.  \n",
    "Next we compute the number of possible 5-letter words without repetition. This is $^{10}P_5$.  \n",
    "Thus, the the answer is the difference between the set of all possible 5-letter words minus the 5-letter words without repetition. This leaves only the 5-letter words with at least one repetition. $10^5- ^{10}P_5$\n",
    "\n",
    "4. There are 10 students in a class. Two of these students, Jack and Daniel, are not permitted to sit together. How many ways can the teacher arrange the students?\n",
    "\n",
    "The total number of arrangement of students is $^{10}P_{10} = 10!$.  \n",
    "The number of arrangements where Jack and Daniel are together can be computed by treating them as a single unit. Thus, these 9 entities can be arranged in $^9P_9=9!$ ways. However, we must also consider the ways Jack and Daniel themselves can be permuted, which is $2!$ or 2 ways. Thus, the total number of ways in which Jack and Daniel are together is $2*9!$.  \n",
    "We can conclude that the number of permutations in which Jack and Daniel are not together is $10!-(2*9!)$.\n",
    "\n",
    "##### Combination Example\n",
    "\n",
    "1. How many ways can you flip a fair coin 10 times and obtain 4 heads?\n",
    "\n",
    "${10 \\choose 4} = \\frac{10!}{4!6!} = 210$"
   ]
  },
  {
   "cell_type": "code",
   "execution_count": 39,
   "metadata": {},
   "outputs": [
    {
     "data": {
      "text/plain": [
       "210.0"
      ]
     },
     "execution_count": 39,
     "metadata": {},
     "output_type": "execute_result"
    }
   ],
   "source": [
    "math.factorial(10)/(math.factorial(6)*math.factorial(4))"
   ]
  },
  {
   "cell_type": "markdown",
   "metadata": {},
   "source": [
    "### Random Variables\n",
    "\n",
    "A random variable, $X$ is a quantity with an associated probability distribution. It can either be discrete (i.e., have a countable range) or continuous (i.e., have an uncountable range).\n",
    "\n",
    "The probability distribution associated with a discrete random variable is a probability mass function (PMF), and that associated with a continuous random variable is a probability density function (PDF). Both can be represented as $f_X(x)$.\n",
    "\n",
    "Probabilities of both discrete and continuous random variables must be non-negative and sum or integrate to 1.\n",
    "\n",
    "$$\\text{Discrete: }\\sum\\limits_{x\\in X}f_X(x)=1$$\n",
    "$$\\text{Continous: }\\int\\limits_{-\\infty}^{\\infty}f_X(x)dx=1$$\n",
    "\n",
    "The cumulative distribution function (CDF) is often used in practice rather than a variable's PMF or PDF and is defined as $F_X(x) = p(X \\leq x)$.\n",
    "$$\\text{Discrete: }F_X(x) = \\sum\\limits_{k \\leq x}p(k)$$\n",
    "$$\\text{Continuous: }F_X(x) = \\int\\limits_{-\\infty}^{x}p(y)dy$$\n",
    "\n",
    "Thus, the CDR, which is non-negative and monotonically increasing, can be obtained by taking the sum of PDFs in the discrete case or integral of PDFs in the continuous case."
   ]
  },
  {
   "cell_type": "markdown",
   "metadata": {},
   "source": [
    "### Conditional Probability\n",
    "\n",
    "When the outcome of one event depends on an earlier event, we must use conditional probabilities.\n",
    "\n",
    "$P(A|B) = \\frac{P(A \\cap B)}{P(B)} = \\frac{P(B|A)P(A)}{P(B)}$\n",
    "\n",
    "where $|$ is read as *given* and $\\cap$ represents *and*. So the above would read, \"The probability of $A$ given $B$ is the probability of $A$ and $B$ divided by the probability of $B$.\"\n",
    "\n",
    "$\\text{posterior} = \\frac{\\text{joint}}{\\text{normalization-factor}} = \\frac{\\text{likelihood}*\\text{prior}}{\\text{normalization-factor}}$\n",
    "\n",
    "Likelihood - $P(B|A)$  \n",
    "Prior - $P(A)$  \n",
    "Posterior - $P(A|B)$\n",
    "\n",
    "In the OneNote examples, we rearranged the above to compute\n",
    "\n",
    "$P(\\text{positive} | \\text{disease}) = \\frac{P(\\text{positive} \\cap \\text{disease})}{P(\\text{disease})}$\n",
    "\n",
    "$P(\\text{positive} \\cap \\text{disease}) = P(\\text{positive} | \\text{disease})P(\\text{disease})$\n"
   ]
  },
  {
   "cell_type": "markdown",
   "metadata": {},
   "source": [
    "### Law of Total Probability\n",
    "\n",
    "For a set of $n$ disjoint events within $B$ having occurred, the $P(A)$ also having occurred can be computed as follows: $P(A) = P(A|b_1)P(b_1)+\\dots+P(A|b_n)P(b_n) = P(A, b_1)+\\dots+P(A, b_n)=\\sum\\limits_{b\\in B}P_{A,B}(a,b)$.\n",
    "\n",
    "Thus, by conditioning $A$ on all possible values of $B$, we obtain an intersection that sums to the total area of $P(A)$."
   ]
  },
  {
   "cell_type": "markdown",
   "metadata": {},
   "source": [
    "### Independence\n",
    "\n",
    "If the outcome of $A$ does not depend on $B$, then $P(A|B) = P(A)$.\n",
    "\n",
    "Similarly, it is possible for $A$ and $B$ to be conditionally independent. For instance, given that $C$ has occurred, knowing that $B$ also occurred tells us nothing about the probability of $A$ having occurred. $P\\left(A \\cap B|C\\right) = P(A|C)P(B|C)$."
   ]
  },
  {
   "cell_type": "markdown",
   "metadata": {},
   "source": [
    "### Join, Marginal, and Conditional Probability Distributions\n",
    "\n",
    "Random variables are often analyzed with respect to other random variables, giving rise to *joint PMFs* in the discrete case and *joint PDFs* in the continuous case.\n",
    "$$\\int\\limits_{-\\infty}^{\\infty}\\int\\limits_{-\\infty}^{\\infty}f_{X,Y}(x,y)dxdy=1$$\n",
    "\n",
    "From a joint PDF or PMF, a marginal PDF or PMF can be derived using the law of total probability. In the case of marginal PDF for $x$, which can be obtained by integrating with respect to $y$.\n",
    "$$\\text{Discrete: }f_X(x)=\\sum\\limits_{y\\in Y}f_{X,Y}(x,y)=\\sum\\limits_{y\\in Y}f_{X|Y}(x|y)f_Y(y)$$\n",
    "$$\\text{Continuous: }f_X(x)=\\int\\limits_{-\\infty}^{\\infty}f_{X,Y}(x,y)dy=\\int\\limits_{-\\infty}^{\\infty}f_{X|Y}(x|y)f_Y(y)dy$$\n",
    "\n",
    "Similarly, we can define a joint CDF where $F_{X,Y}(x,y) = P(X\\leq x, Y\\leq y)$ is equivalent to\n",
    "$$F_{X,Y}(x,y)=\\int\\limits_{-\\infty}^{x}\\int\\limits_{-\\infty}^{y}f_{X,Y}(u,v)dvdu$$"
   ]
  },
  {
   "cell_type": "markdown",
   "metadata": {},
   "source": [
    "### Bayes Rule\n",
    "\n",
    "Imagine we have a variable we care about that is hidden, meaning it cannot be measured directly, but that we do have a test. Let's use the example of cancer and test that tests either positive or negative.\n",
    "\n",
    "The knowledge we come to the problem with is known as our **prior**. In this case, our prior is the prevalence of cancer, where $C$ is our random variable for cancer.\n",
    "\n",
    "**Prior**:  $P(\\text{C})$\n",
    "\n",
    "Once we begin testing, we begin to obtain evidence that add information to our prior. In this case, positive ($\\text{T}_\\text{p}$) and negative ($\\text{T}_\\text{n}$) test results.\n",
    "\n",
    "**Sensitivity**: $P(\\text{T}_\\text{p} | \\text{C})$ - true positive rate  \n",
    "**Specificity**: $P(\\text{T}_\\text{n} | \\lnot\\text{C})$ - true negative rate\n",
    "\n",
    "Using our prior and our evidence, we can compute joint distributions. We will first compute the joint distribution for positive test cases.\n",
    "\n",
    "$P(\\text{C}, \\text{T}_\\text{p}) = P(\\text{T}_\\text{p} | \\text{C})P(\\text{C})$  \n",
    "$P(\\lnot\\text{C}, \\text{T}_\\text{p}) = P(\\text{T}_\\text{p} | \\lnot\\text{C})P(\\lnot\\text{C}) = (1 - P(\\text{T}_\\text{n}|\\lnot\\text{C}))(1 - P(\\text{C}))$\n",
    "\n",
    "Once we have our joint distributions, we can compute $P(\\text{T}_\\text{p})$. Note that the joint distributions are required as the conditional probabilities, $P(\\text{T}_\\text{p} | \\text{C})$ and $P(\\text{T}_\\text{p} | \\lnot\\text{C})$ do not consider the prevelance of $C$.\n",
    "\n",
    "$P(\\text{T}_\\text{p}) = P(\\text{C}, \\text{T}_\\text{p}) + P(\\lnot\\text{C}, \\text{T}_\\text{p}) = P(\\text{T}_\\text{p} | \\text{C})P(\\text{C}) + P(\\text{T}_\\text{p} | \\lnot\\text{C})P(\\lnot\\text{C})$\n",
    "\n",
    "This is known as the **Law of Total Probability** which will be defined below.\n",
    "\n",
    "We will use $P(\\text{T}_\\text{p})$ to normalize our joint distributions and compute our posterior probability distributions. We can think of the joint distributions as portions of a total area defined by $P({\\text{T}_\\text{p}})$. (See OneNote for example drawing.)\n",
    "\n",
    "$P(\\text{C} | \\text{T}_\\text{p}) = \\frac{P(\\text{C}, \\text{T}_\\text{p})}{P(\\text{T}_\\text{p})}$  \n",
    "$P(\\lnot\\text{C} | \\text{T}_\\text{p}) = \\frac{P(\\lnot\\text{C}, \\text{T}_\\text{p})}{P(\\text{T}_\\text{p})}$\n",
    "\n",
    "To compute the posterior probabilities given negative test results, $P(\\text{C}|\\text{T}_\\text{n})$ and $P(\\lnot\\text{C}|\\text{T}_\\text{n})$, we can swap $\\text{T}_\\text{p}$ and $\\text{T}_\\text{n}$ in the above algorithm."
   ]
  },
  {
   "cell_type": "markdown",
   "metadata": {},
   "source": [
    "### Python Practice\n",
    "\n",
    "This exercise will use a simulated dataset on cancer test results for patients and whether they really have cancer.\n",
    "\n",
    "* How many patients are there in total?\n",
    "* How many patients have cancer?\n",
    "* How many patients do not have cancer?\n",
    "* What proportion of patients have cancer?\n",
    "* What proportion of patients don't have cancer?\n",
    "* What proportion of patients with cancer test positive?\n",
    "* What proportion of patients with cancer test negative?\n",
    "* What proportion of patients without cancer test positive?\n",
    "* What proportion of patients without cancer test negative?"
   ]
  },
  {
   "cell_type": "code",
   "execution_count": 40,
   "metadata": {},
   "outputs": [
    {
     "data": {
      "text/html": [
       "<div>\n",
       "<style scoped>\n",
       "    .dataframe tbody tr th:only-of-type {\n",
       "        vertical-align: middle;\n",
       "    }\n",
       "\n",
       "    .dataframe tbody tr th {\n",
       "        vertical-align: top;\n",
       "    }\n",
       "\n",
       "    .dataframe thead th {\n",
       "        text-align: right;\n",
       "    }\n",
       "</style>\n",
       "<table border=\"1\" class=\"dataframe\">\n",
       "  <thead>\n",
       "    <tr style=\"text-align: right;\">\n",
       "      <th></th>\n",
       "      <th>patient_id</th>\n",
       "      <th>test_result</th>\n",
       "      <th>has_cancer</th>\n",
       "    </tr>\n",
       "  </thead>\n",
       "  <tbody>\n",
       "    <tr>\n",
       "      <th>0</th>\n",
       "      <td>79452</td>\n",
       "      <td>Negative</td>\n",
       "      <td>False</td>\n",
       "    </tr>\n",
       "    <tr>\n",
       "      <th>1</th>\n",
       "      <td>81667</td>\n",
       "      <td>Positive</td>\n",
       "      <td>True</td>\n",
       "    </tr>\n",
       "    <tr>\n",
       "      <th>2</th>\n",
       "      <td>76297</td>\n",
       "      <td>Negative</td>\n",
       "      <td>False</td>\n",
       "    </tr>\n",
       "    <tr>\n",
       "      <th>3</th>\n",
       "      <td>36593</td>\n",
       "      <td>Negative</td>\n",
       "      <td>False</td>\n",
       "    </tr>\n",
       "    <tr>\n",
       "      <th>4</th>\n",
       "      <td>53717</td>\n",
       "      <td>Negative</td>\n",
       "      <td>False</td>\n",
       "    </tr>\n",
       "  </tbody>\n",
       "</table>\n",
       "</div>"
      ],
      "text/plain": [
       "   patient_id test_result  has_cancer\n",
       "0       79452    Negative       False\n",
       "1       81667    Positive        True\n",
       "2       76297    Negative       False\n",
       "3       36593    Negative       False\n",
       "4       53717    Negative       False"
      ]
     },
     "execution_count": 40,
     "metadata": {},
     "output_type": "execute_result"
    }
   ],
   "source": [
    "# Load dataset\n",
    "df = pd.read_csv('Data/cancer_test_data.csv')\n",
    "df.head()"
   ]
  },
  {
   "cell_type": "code",
   "execution_count": 41,
   "metadata": {},
   "outputs": [
    {
     "data": {
      "text/plain": [
       "2914"
      ]
     },
     "execution_count": 41,
     "metadata": {},
     "output_type": "execute_result"
    }
   ],
   "source": [
    "# Number of Patients\n",
    "df.shape[0]"
   ]
  },
  {
   "cell_type": "code",
   "execution_count": 42,
   "metadata": {},
   "outputs": [
    {
     "data": {
      "text/plain": [
       "306"
      ]
     },
     "execution_count": 42,
     "metadata": {},
     "output_type": "execute_result"
    }
   ],
   "source": [
    "# Number of Patients with Cancer\n",
    "df.has_cancer.sum()"
   ]
  },
  {
   "cell_type": "code",
   "execution_count": 43,
   "metadata": {},
   "outputs": [
    {
     "data": {
      "text/plain": [
       "2608"
      ]
     },
     "execution_count": 43,
     "metadata": {},
     "output_type": "execute_result"
    }
   ],
   "source": [
    "# Number of Patients without Cancer\n",
    "df.shape[0] - df.has_cancer.sum()"
   ]
  },
  {
   "cell_type": "code",
   "execution_count": 44,
   "metadata": {},
   "outputs": [
    {
     "data": {
      "text/plain": [
       "0.10501029512697323"
      ]
     },
     "execution_count": 44,
     "metadata": {},
     "output_type": "execute_result"
    }
   ],
   "source": [
    "# Proportion of Patients with Cancer, P(C)\n",
    "df.has_cancer.mean()"
   ]
  },
  {
   "cell_type": "code",
   "execution_count": 45,
   "metadata": {},
   "outputs": [
    {
     "data": {
      "text/plain": [
       "0.8949897048730268"
      ]
     },
     "execution_count": 45,
     "metadata": {},
     "output_type": "execute_result"
    }
   ],
   "source": [
    "# Proportion of Patients without Cancer, P(~C)\n",
    "1 - df.has_cancer.mean()"
   ]
  },
  {
   "cell_type": "code",
   "execution_count": 46,
   "metadata": {},
   "outputs": [
    {
     "data": {
      "text/plain": [
       "0.9052287581699346"
      ]
     },
     "execution_count": 46,
     "metadata": {},
     "output_type": "execute_result"
    }
   ],
   "source": [
    "# Proportion of Patients with Cancer who tested Positive, P(Pos|C)\n",
    "(df[df.has_cancer]['test_result'] == \"Positive\").mean()"
   ]
  },
  {
   "cell_type": "code",
   "execution_count": 47,
   "metadata": {},
   "outputs": [
    {
     "data": {
      "text/plain": [
       "0.09477124183006536"
      ]
     },
     "execution_count": 47,
     "metadata": {},
     "output_type": "execute_result"
    }
   ],
   "source": [
    "# Proportion of Patients with Cancer who tested Negative, P(Neg|C)\n",
    "(df[df.has_cancer]['test_result'] == \"Negative\").mean()"
   ]
  },
  {
   "cell_type": "code",
   "execution_count": 48,
   "metadata": {},
   "outputs": [
    {
     "data": {
      "text/plain": [
       "0.2036042944785276"
      ]
     },
     "execution_count": 48,
     "metadata": {},
     "output_type": "execute_result"
    }
   ],
   "source": [
    "# Proportion of Patients without Cancer who tested Positive, P(Pos|~C)\n",
    "(df[df.has_cancer == False]['test_result'] == \"Positive\").mean()"
   ]
  },
  {
   "cell_type": "code",
   "execution_count": 49,
   "metadata": {},
   "outputs": [
    {
     "data": {
      "text/plain": [
       "0.7963957055214724"
      ]
     },
     "execution_count": 49,
     "metadata": {},
     "output_type": "execute_result"
    }
   ],
   "source": [
    "# Proportion of Patients without Cancer who tested Negative, P(Neg|~C)\n",
    "(df[df.has_cancer == False]['test_result'] == \"Negative\").mean()"
   ]
  },
  {
   "cell_type": "markdown",
   "metadata": {},
   "source": [
    "##### Results\n",
    "\n",
    "$P(\\text{C}) = 0.105$  \n",
    "$P(\\lnot\\text{C}) = 0.895$  \n",
    "$P(\\text{pos}|\\text{C}) = 0.905$  \n",
    "$P(\\text{neg}|\\text{C}) = 0.095$  \n",
    "$P(\\text{pos}|\\lnot\\text{C}) = 0.204$  \n",
    "$P(\\text{neg}|\\lnot\\text{C}) = 0.796$  \n",
    "\n",
    "Find the following probabilities, the probability of having cancer or not given a positive or negative test result.  \n",
    "$P(\\text{C}|\\text{pos})$  \n",
    "$P(\\lnot\\text{C}|\\text{pos})$  \n",
    "$P(\\text{C}|\\text{neg})$  \n",
    "$P(\\lnot\\text{C}|\\text{neg})$  \n",
    "\n",
    "1. $P(\\text{pos}) = P(\\text{C}, \\text{pos}) + P(\\lnot\\text{C}, \\text{pos}) = P(\\text{pos}|\\text{C})P(\\text{C}) + P(\\text{pos}|\\lnot\\text{C})P(\\lnot\\text{C})$ \n",
    "1. $P(\\text{neg}) = P(\\text{C}, \\text{neg}) + P(\\lnot\\text{C}, \\text{neg}) = P(\\text{neg}|\\text{C})P(\\text{C}) + P(\\text{neg}|\\lnot\\text{C})P(\\lnot\\text{C})$ \n",
    "1. $P(\\text{C}|\\text{pos}) = \\frac{P(\\text{C}, \\text{pos})}{P(\\text{pos})}$\n",
    "1. $P(\\lnot\\text{C}|\\text{pos}) = \\frac{P(\\lnot\\text{C}, \\text{pos})}{P(\\text{pos})} = 1 - P(\\text{C}|\\text{pos})$\n",
    "1. $P(\\text{C}|\\text{neg}) = \\frac{P(\\text{C}, \\text{neg})}{P(\\text{neg})}$\n",
    "1. $P(\\lnot\\text{C}|\\text{neg}) = \\frac{P(\\lnot\\text{C}, \\text{neg})}{P(\\text{neg})} = 1 - P(\\text{C}|\\text{neg})$"
   ]
  },
  {
   "cell_type": "code",
   "execution_count": 50,
   "metadata": {},
   "outputs": [
    {
     "name": "stdout",
     "output_type": "stream",
     "text": [
      "P(pos) using the dataframe directly: 0.2772820864790666\n",
      "P(pos) using Bayes rule (and rounded results): 0.277605\n"
     ]
    }
   ],
   "source": [
    "print('P(pos) using the dataframe directly:', (df['test_result'] == \"Positive\").mean())\n",
    "print('P(pos) using Bayes rule (and rounded results):', .905*.105 + .204*.895)"
   ]
  },
  {
   "cell_type": "code",
   "execution_count": 51,
   "metadata": {},
   "outputs": [
    {
     "name": "stdout",
     "output_type": "stream",
     "text": [
      "P(neg) using the dataframe directly: 0.7227179135209334\n",
      "P(neg) using Bayes rule (and rounded results): 0.722395\n"
     ]
    }
   ],
   "source": [
    "print('P(neg) using the dataframe directly:', (df['test_result'] == \"Negative\").mean())\n",
    "print('P(neg) using Bayes rule (and rounded results):', .095*.105 + .796*.895)"
   ]
  },
  {
   "cell_type": "code",
   "execution_count": 52,
   "metadata": {},
   "outputs": [
    {
     "name": "stdout",
     "output_type": "stream",
     "text": [
      "P(C|pos) using the dataframe directly: 0.34282178217821785\n",
      "P(C|pos) using Bayes rule (and rounded results): 0.34230291241151994\n"
     ]
    }
   ],
   "source": [
    "print('P(C|pos) using the dataframe directly:', df[df['test_result'] == \"Positive\"]['has_cancer'].mean())\n",
    "print('P(C|pos) using Bayes rule (and rounded results):', .905*.105 / (.905*.105 + .204*.895))"
   ]
  },
  {
   "cell_type": "code",
   "execution_count": 53,
   "metadata": {},
   "outputs": [
    {
     "name": "stdout",
     "output_type": "stream",
     "text": [
      "P(~C|pos) using the dataframe directly: 0.6571782178217822\n",
      "P(~C|pos) using Bayes rule (and rounded results): 0.65769708758848\n"
     ]
    }
   ],
   "source": [
    "print('P(~C|pos) using the dataframe directly:', (df[df['test_result'] == \"Positive\"]['has_cancer'] == False).mean())\n",
    "print('P(~C|pos) using Bayes rule (and rounded results):', .204*.895 / (.905*.105 + .204*.895))"
   ]
  },
  {
   "cell_type": "code",
   "execution_count": 54,
   "metadata": {},
   "outputs": [
    {
     "name": "stdout",
     "output_type": "stream",
     "text": [
      "P(C|neg) using the dataframe directly: 0.013770180436847104\n",
      "P(C|neg) using Bayes rule (and rounded results): 0.013808235106832134\n"
     ]
    }
   ],
   "source": [
    "print('P(C|neg) using the dataframe directly:', df[df['test_result'] == \"Negative\"]['has_cancer'].mean())\n",
    "print('P(C|neg) using Bayes rule (and rounded results):', .095*.105 / (.095*.105 + .796*.895))"
   ]
  },
  {
   "cell_type": "code",
   "execution_count": 55,
   "metadata": {},
   "outputs": [
    {
     "name": "stdout",
     "output_type": "stream",
     "text": [
      "P(~C|neg) using the dataframe directly: 0.9862298195631529\n",
      "P(~C|neg) using Bayes rule (and rounded results): 0.986191764893168\n"
     ]
    }
   ],
   "source": [
    "print('P(~C|neg) using the dataframe directly:', (df[df['test_result'] == \"Negative\"]['has_cancer'] == False).mean())\n",
    "print('P(~C|neg) using Bayes rule (and rounded results):',  .796*.895 / (.095*.105 + .796*.895))"
   ]
  },
  {
   "cell_type": "markdown",
   "metadata": {},
   "source": [
    "## Distributions Worth Knowing\n",
    "\n",
    "### Discrete Distributions\n",
    "\n",
    "##### [Binomial Distribution](https://en.wikipedia.org/wiki/Binomial_distribution)\n",
    "\n",
    "The binomial distribution gives the probability of $k$ number of successes in $n$ independent trials, where each trial has a probability $p$ of success. Its PMF is\n",
    "$$P(X=k) = {n\\choose k}p^k(1-p)^{n-k}$$\n",
    "\n",
    "Its mean is $\\mu=np$ and variance is $\\sigma^2=np(1-p)$.\n",
    "\n",
    "The most common applications for a binomial distribution are coin flips, user sign-ups, and any scenario involving counting the number of successful events and the outcome is binary.\n",
    "\n",
    "##### [Poisson Distribution](https://en.wikipedia.org/wiki/Poisson_distribution)\n",
    "\n",
    "The Poisson distribution gives the probability of the number of events occurring within a particular fixed interval where the known, constant rate of each event's occurrence is $\\lambda$. Its PMF is\n",
    "$$P(X=k)=\\frac{e^{-\\lambda}\\lambda^k}{k!}$$\n",
    "\n",
    "Its mean is $\\mu=\\lambda$ and variance is $\\sigma^2=\\lambda$.\n",
    "\n",
    "The most common applications of a Poisson distribution are in assessing counts over a continuous interval, such as the number of visits to a website in a certain period of time or the number of defects in a square foot of fabric. Thus, applications of the Poisson will involve a process $X$ occurring at a rate $\\lambda$.\n",
    "\n",
    "### Continuous Distributions\n",
    "\n",
    "##### [Uniform Distribution](https://en.wikipedia.org/wiki/Continuous_uniform_distribution)\n",
    "\n",
    "The uniform distribution assumes a constant probability of an $X$ falling between values on the interval $a$ to $b$. Its PDF is\n",
    "$$f(x)=\\frac{1}{b-a}$$\n",
    "\n",
    "Its mean is $\\mu=\\frac{a+b}{2}$ and variance is $\\sigma^2=\\frac{(b-a)^2}{12}$.\n",
    "\n",
    "The most common applications for a uniform distribution are in sampling and hypothesis testing cases.\n",
    "\n",
    "##### [Exponential Distribution](https://en.wikipedia.org/wiki/Exponential_distribution)\n",
    "\n",
    "The exponential distribution gives the probability of the interval length between events of a Poisson process having a set rate parameter $\\lambda$. Its PDF is\n",
    "$$f(x)=\\lambda e^{-\\lambda x}$$\n",
    "\n",
    "Its mean is $\\mu=\\frac{1}{\\lambda}$ and variance is $\\sigma^2=\\frac{1}{\\lambda^2}$.\n",
    "\n",
    "The most common applications for an exponential distribution are in wait times, such as the time until a customer makes a purchase or the time until a default in credit occurs. One of the distribution's most useful properties is the property of [memorylessness](https://en.wikipedia.org/wiki/Memorylessness).\n",
    "\n",
    "##### [Normal Distribution](https://en.wikipedia.org/wiki/Normal_distribution)\n",
    "\n",
    "See [Distributions/Normal Distribution.ipynb](./Distributions/Normal%20Distribution.ipynb) for details on the normal distribution.\n",
    "\n",
    "$$f(x)=\\frac{1}{\\sqrt{2\\pi \\sigma^2}}e^{-\\frac{(x-\\mu)^2}{2\\sigma^2}}$$\n",
    "\n",
    "Its mean is $\\mu=\\mu$ and variance is $\\sigma^2=\\sigma^2$."
   ]
  },
  {
   "cell_type": "markdown",
   "metadata": {},
   "source": [
    "## [Markov Chains](https://en.wikipedia.org/wiki/Markov_chain)\n",
    "\n",
    "A Markov chain (or Markov process) is a stochastic model describing a sequence of possible events in which the probability of each event depends only on the state attained in the previous event. Informally, this may be thought of as, \"What happens next depends only on the state of affairs ***now***.\n",
    "\n",
    "A Markov process is a stochastic process that satisfies the [Markov Property](https://en.wikipedia.org/wiki/Markov_property) (sometimes characterized as [memorylessness](https://en.wikipedia.org/wiki/Memorylessness)). Predictions can be made regarding future outcomes based solely on its present state and, such predictions, are just as good as the ones that could be made knowing the process's full history. Stated another way, the Markov property is such that, conditioned on the current state, the past and future states it will occupy are conditionally independent.\n",
    "\n",
    "The probability of transitioning from state $i$ to state $j$ at any given time is given my a transition matrix, denoted by $P$.\n",
    "$$P = \n",
    "\\begin{pmatrix}\n",
    "p_{11} & \\dots & p_{1n} \\\\\n",
    "\\dots & & \\dots \\\\\n",
    "p_{m1} & \\dots & p_{mn} \\\\\n",
    "\\end{pmatrix}\n",
    "$$\n",
    "\n",
    "A *recurrent state* is one where if entering the state, one will always transition back into that state eventually. In contrast, a *transient state* is one in which, if entered, there is a positive probability that upon leaving, one will never enter that state again.\n",
    "\n",
    "A [stationary distribution](https://en.wikipedia.org/wiki/Stationary_process) for a Markov chain satisfies the following characteristic: $\\pi=\\pi P$, where a $P$ is a transition matrix and remains fixed following any transitions using $P$. Thus, $P$ contains the long-run proportions of the time that a process will spend in any particular state over time."
   ]
  }
 ],
 "metadata": {
  "kernelspec": {
   "display_name": "Python 3",
   "language": "python",
   "name": "python3"
  },
  "language_info": {
   "codemirror_mode": {
    "name": "ipython",
    "version": 3
   },
   "file_extension": ".py",
   "mimetype": "text/x-python",
   "name": "python",
   "nbconvert_exporter": "python",
   "pygments_lexer": "ipython3",
   "version": "3.10.13"
  }
 },
 "nbformat": 4,
 "nbformat_minor": 2
}
