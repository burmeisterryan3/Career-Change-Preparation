{
 "cells": [
  {
   "cell_type": "markdown",
   "metadata": {},
   "source": [
    "# Probability Theory\n",
    "\n",
    "### Probability vs Statistics\n",
    "\n",
    "**Probability** - predictions about future events based on models or causes that we assume; ***predicting data***\n",
    "\n",
    "**Statistics** - analyze data and past events to infer what those models or causes could be; ***using data to predict***\n",
    "\n",
    "##### Basic Probability\n",
    "\n",
    "* Probability of Event = $P$\n",
    "* Probability of a Complimentary Event = $1-P$\n",
    "* Probability of Composite Independent Events = $\\prod{P}$\n",
    "* The probability of any event must be between $[0, 1]$.\n",
    "\n",
    "##### Example - Coin Flips\n",
    "\n",
    "$P(\\text{H}) = 0.5$\n",
    "\n",
    "$P(\\text{T}) = 1 - P(\\text{H}) = P(\\text{not H}) = 0.5$\n",
    "\n",
    "Across $n$ coin flips, the probability of seeing $n$ heads is $P(\\text{H})^n$."
   ]
  },
  {
   "cell_type": "markdown",
   "metadata": {},
   "source": [
    "\n",
    "* Probability of Event = $P$\n",
    "* Probability of a Complimentary Event = $1-P$\n",
    "* Probability of Composite Independent Events = $\\prod{P}$\n",
    "* The probability of any event must be between $[0, 1]$.\n",
    "\n",
    "##### Example - Coin Flips\n",
    "\n",
    "$P(\\text{H}) = 0.5$\n",
    "\n",
    "$P(\\text{T}) = 1 - P(\\text{H}) = P(\\text{not H}) = 0.5$\n",
    "\n",
    "Across $n$ coin flips, the probability of seeing $n$ heads is $P(\\text{H})^n$."
   ]
  },
  {
   "cell_type": "markdown",
   "metadata": {},
   "source": [
    "### Binomial Distribution\n",
    "\n",
    "(See OneNote notes for further examples as to how we derive the binomial distribution formula.)\n",
    "\n",
    "The binomial distribution can be used when there are two possible independent outcomes for an event. Examples include coin flips where the outcome is heads or tails, whether a customer buys a produt or not, or whether or not a transaction is fraudulent.\n",
    "\n",
    "Let $p$ be the probability of a particular outcome, e.g., probability of landing on heads. Let $k$ be the number of times a particular outcome occurs, e.g., number of heads. Then the binomial  distribution is defined as:\n",
    "\n",
    "$\\frac{n!}{k!(n-k)!}p^k(1-p)^{n-k}$\n",
    "\n",
    "The first half keeps track of the total number of ways the particular outcome can occur. For instance, if we flip a coin five times, then the number of possible ways there can be three heads is:\n",
    "\n",
    "$\\frac{5!}{3!2!} = 10$\n",
    "\n",
    "The second half keeps track of the probability of each of the outcomes. If we continue with the example with a biased coin where $p = 0.8$, then we have:\n",
    "\n",
    "$(0.8)^3(0.2)^2 = .02048$\n",
    "\n",
    "Using the binomial distribution formula, the total probability is then $10 * .02048 = 0.2048$."
   ]
  },
  {
   "cell_type": "markdown",
   "metadata": {},
   "source": [
    "### Conditional Probability\n",
    "\n",
    "When the outcome of one event depends on an earlier event, we must use conditional probabilities.\n",
    "\n",
    "$P(A|B) = \\frac{P(A \\cap B)}{P(B)}$\n",
    "\n",
    "where $|$ is read as *given* and $\\cap$ represents *and*. So the above would read, \"The probability of $A$ given $B$ is the probability of $A$ and $B$ divided by the probability of $B$.\"\n",
    "\n",
    "$P(\\text{positive} | \\text{disease}) = \\frac{P(\\text{positive} \\cap \\text{disease})}{P(\\text{disease})}$\n",
    "\n",
    "$\\text{posterior} = \\frac{\\text{joint}}{\\text{prior}}$\n",
    "\n",
    "In the OneNote examples, we rearranged the above to compute\n",
    "\n",
    "$P(\\text{positive} \\cap \\text{disease}) = P(\\text{positive} | \\text{disease})P(\\text{disease})$\n"
   ]
  },
  {
   "cell_type": "markdown",
   "metadata": {},
   "source": [
    "### Bayes Rule\n",
    "\n",
    "Imagine we have a variable we care about that is hidden, meaning it cannot be meausred directly, but that we do have a test. Let's use the example of cancer and test that tests either positive or negative.\n",
    "\n",
    "The knowledge we come to the problem with is known as our **prior**. In this case, our prior is the prevelance of cancer, where $C$ is our random variable for cancer.\n",
    "\n",
    "**Prior**:  $P(\\text{C})$\n",
    "\n",
    "Once we begin testing, we begin to obtain evidence that add information to our prior. In this case, positive ($\\text{T}_\\text{p}$) and negative ($\\text{T}_\\text{n}$) test results.\n",
    "\n",
    "**Sensitivity**: $P(\\text{T}_\\text{p} | \\text{C})$ - true positive rate\n",
    "\n",
    "**Specificity**: $P(\\text{T}_\\text{n} | \\lnot\\text{C})$ - true negative rate\n",
    "\n",
    "Using our prior and our evidence, we can compute joint distributions. We will first compute the joint distribution for positive test cases.\n",
    "\n",
    "$P(\\text{C}, \\text{T}_\\text{p}) = P(\\text{T}_\\text{p} | \\text{C})P(\\text{C})$\n",
    "\n",
    "$P(\\lnot\\text{C}, \\text{T}_\\text{p}) = P(\\text{T}_\\text{p} | \\lnot\\text{C})P(\\lnot\\text{C}) = (1 - P(\\text{T}_\\text{n}|\\lnot\\text{C}))(1 - P(\\text{C}))$\n",
    "\n",
    "Once we have our joint distributions, we can compute $P(\\text{T}_\\text{p})$. Note that the joint distributions are required as the conditional probabilities, $P(\\text{T}_\\text{p} | \\text{C})$ and $P(\\text{T}_\\text{p} | \\lnot\\text{C})$ do not consider the prevelance of $C$.\n",
    "\n",
    "$P(\\text{T}_\\text{p}) = P(\\text{C}, \\text{T}_\\text{p}) + P(\\lnot\\text{C}, \\text{T}_\\text{p})$\n",
    "\n",
    "We will use this value to normalize our joint distributions and compute our posterior probability distributions. We can think of the joint distributions as portions of a total area defined by $P({\\text{T}_\\text{p}})$. (See OneNote for example drawing.)\n",
    "\n",
    "$P(\\text{C} | \\text{T}_\\text{p}) = \\frac{P(\\text{C}, \\text{T}_\\text{p})}{P(\\text{T}_\\text{p})}$\n",
    "\n",
    "$P(\\lnot\\text{C} | \\text{T}_\\text{p}) = \\frac{P(\\lnot\\text{C}, \\text{T}_\\text{p})}{P(\\text{T}_\\text{p})}$\n",
    "\n",
    "To compute the posterior probabilities given negative test results, $P(\\text{C}|\\text{T}_\\text{n})$ and $P(\\lnot\\text{C}|\\text{T}_\\text{n})$, we can swap $\\text{T}_\\text{p}$ and $\\text{T}_\\text{n}$ in the above algorithm."
   ]
  },
  {
   "cell_type": "markdown",
   "metadata": {},
   "source": [
    "### Simulating Events in Python\n",
    "\n",
    "##### Flipping a Coin"
   ]
  },
  {
   "cell_type": "code",
   "execution_count": 18,
   "metadata": {},
   "outputs": [],
   "source": [
    "import numpy as np\n",
    "import matplotlib.pyplot as plt\n",
    "from timeit import default_timer as timer\n",
    "%matplotlib inline"
   ]
  },
  {
   "cell_type": "code",
   "execution_count": 3,
   "metadata": {},
   "outputs": [
    {
     "data": {
      "text/plain": [
       "0.4993"
      ]
     },
     "execution_count": 3,
     "metadata": {},
     "output_type": "execute_result"
    }
   ],
   "source": [
    "np.random.randint(2, size=10000).mean()"
   ]
  },
  {
   "cell_type": "code",
   "execution_count": 4,
   "metadata": {},
   "outputs": [
    {
     "data": {
      "text/plain": [
       "0.2059"
      ]
     },
     "execution_count": 4,
     "metadata": {},
     "output_type": "execute_result"
    }
   ],
   "source": [
    "np.random.choice([0, 1], size=10000, p=[0.8, 0.2]).mean()"
   ]
  },
  {
   "cell_type": "markdown",
   "metadata": {},
   "source": [
    "##### Two Fair Coin Flips - Percentage of Two Heads?"
   ]
  },
  {
   "cell_type": "code",
   "execution_count": 5,
   "metadata": {},
   "outputs": [
    {
     "name": "stdout",
     "output_type": "stream",
     "text": [
      "[[1 0]\n",
      " [1 1]\n",
      " [0 0]\n",
      " [0 1]\n",
      " [1 1]\n",
      " [1 1]\n",
      " [1 0]\n",
      " [0 0]\n",
      " [0 0]\n",
      " [1 1]]\n"
     ]
    },
    {
     "data": {
      "text/plain": [
       "0.250035"
      ]
     },
     "execution_count": 5,
     "metadata": {},
     "output_type": "execute_result"
    }
   ],
   "source": [
    "# 0 is Heads, 1 is Tails\n",
    "tests = np.random.randint(2, size=(int(1e6), 2))\n",
    "print(tests[:10])\n",
    "(tests.sum(axis=1) == 0).mean()"
   ]
  },
  {
   "cell_type": "markdown",
   "metadata": {},
   "source": [
    "##### Three Fair Coin Flips - Probality Exactly One Head?"
   ]
  },
  {
   "cell_type": "code",
   "execution_count": 6,
   "metadata": {},
   "outputs": [
    {
     "data": {
      "text/plain": [
       "0.374306"
      ]
     },
     "execution_count": 6,
     "metadata": {},
     "output_type": "execute_result"
    }
   ],
   "source": [
    "tests = np.random.randint(2, size=(int(1e6), 3))\n",
    "(tests.sum(axis=1) == 2).mean()"
   ]
  },
  {
   "cell_type": "markdown",
   "metadata": {},
   "source": [
    "##### Three Biased Coin Flips - $P(\\text{H}) = 0.6 $ - Probability Cxactly One Head?"
   ]
  },
  {
   "cell_type": "code",
   "execution_count": 7,
   "metadata": {},
   "outputs": [
    {
     "data": {
      "text/plain": [
       "0.287924"
      ]
     },
     "execution_count": 7,
     "metadata": {},
     "output_type": "execute_result"
    }
   ],
   "source": [
    "tests = np.random.choice([0,1], size=(int(1e6), 3), p=[0.6, 0.4])\n",
    "(tests.sum(axis=1) == 2).mean()"
   ]
  },
  {
   "cell_type": "markdown",
   "metadata": {},
   "source": [
    "##### Die Roll - Probablity of an Even Number?"
   ]
  },
  {
   "cell_type": "code",
   "execution_count": 8,
   "metadata": {},
   "outputs": [
    {
     "data": {
      "text/plain": [
       "0.500229"
      ]
     },
     "execution_count": 8,
     "metadata": {},
     "output_type": "execute_result"
    }
   ],
   "source": [
    "tests = np.random.randint(6, size=int(1e6))\n",
    "(tests%2 == 0).mean()"
   ]
  },
  {
   "cell_type": "markdown",
   "metadata": {},
   "source": [
    "##### Two Dice Rolls - Probability of a Double?"
   ]
  },
  {
   "cell_type": "code",
   "execution_count": 19,
   "metadata": {},
   "outputs": [
    {
     "ename": "AttributeError",
     "evalue": "'builtin_function_or_method' object has no attribute 'time'",
     "output_type": "error",
     "traceback": [
      "\u001b[0;31m---------------------------------------------------------------------------\u001b[0m",
      "\u001b[0;31mAttributeError\u001b[0m                            Traceback (most recent call last)",
      "\u001b[1;32m/workspaces/Career-Change-Preparation/Udacity/Statistics/Probability.ipynb Cell 19\u001b[0m line \u001b[0;36m1\n\u001b[0;32m----> <a href='vscode-notebook-cell://codespaces%2Bsolid-potato-9v9qqr9v66j2xrvr/workspaces/Career-Change-Preparation/Udacity/Statistics/Probability.ipynb#X24sdnNjb2RlLXJlbW90ZQ%3D%3D?line=0'>1</a>\u001b[0m start \u001b[39m=\u001b[39m timer\u001b[39m.\u001b[39;49mtime()\n\u001b[1;32m      <a href='vscode-notebook-cell://codespaces%2Bsolid-potato-9v9qqr9v66j2xrvr/workspaces/Career-Change-Preparation/Udacity/Statistics/Probability.ipynb#X24sdnNjb2RlLXJlbW90ZQ%3D%3D?line=2'>3</a>\u001b[0m tests \u001b[39m=\u001b[39m np\u001b[39m.\u001b[39mrandom\u001b[39m.\u001b[39mrandint(\u001b[39m6\u001b[39m, size\u001b[39m=\u001b[39m(\u001b[39mint\u001b[39m(\u001b[39m1e6\u001b[39m), \u001b[39m2\u001b[39m))\n\u001b[1;32m      <a href='vscode-notebook-cell://codespaces%2Bsolid-potato-9v9qqr9v66j2xrvr/workspaces/Career-Change-Preparation/Udacity/Statistics/Probability.ipynb#X24sdnNjb2RlLXJlbW90ZQ%3D%3D?line=3'>4</a>\u001b[0m \u001b[39mprint\u001b[39m([np\u001b[39m.\u001b[39mall(row \u001b[39m==\u001b[39m row[\u001b[39m0\u001b[39m]) \u001b[39mfor\u001b[39;00m row \u001b[39min\u001b[39;00m tests]\u001b[39m.\u001b[39mcount(\u001b[39mTrue\u001b[39;00m) \u001b[39m/\u001b[39m \u001b[39mlen\u001b[39m(tests))\n",
      "\u001b[0;31mAttributeError\u001b[0m: 'builtin_function_or_method' object has no attribute 'time'"
     ]
    }
   ],
   "source": [
    "\n",
    "\n",
    "tests = np.random.randint(6, size=(int(1e6), 2))\n",
    "print([np.all(row == row[0]) for row in tests].count(True) / len(tests))\n",
    "timer.time() - start"
   ]
  }
 ],
 "metadata": {
  "kernelspec": {
   "display_name": "Python 3",
   "language": "python",
   "name": "python3"
  },
  "language_info": {
   "codemirror_mode": {
    "name": "ipython",
    "version": 3
   },
   "file_extension": ".py",
   "mimetype": "text/x-python",
   "name": "python",
   "nbconvert_exporter": "python",
   "pygments_lexer": "ipython3",
   "version": "3.10.13"
  }
 },
 "nbformat": 4,
 "nbformat_minor": 2
}
