{
 "cells": [
  {
   "cell_type": "markdown",
   "metadata": {},
   "source": [
    "# Probability Theory\n",
    "\n",
    "### Probability vs Statistics\n",
    "\n",
    "**Probability** - predictions about future events based on models or causes that we assume; ***predicting data***\n",
    "\n",
    "**Statistics** - analyze data and past events to infer what those models or causes could be; ***using data to predict***\n",
    "\n",
    "##### Basic Probability\n",
    "\n",
    "* Probability of Event = $P$\n",
    "* Probability of a Complimentary Event = $1-P$\n",
    "* Probability of Composite Independent Events = $\\prod{P}$\n",
    "* The probability of any event must be between $[0, 1]$.\n",
    "\n",
    "##### Example - Coin Flips\n",
    "\n",
    "$P(\\text{H}) = 0.5$\n",
    "\n",
    "$P(\\text{T}) = 1 - P(\\text{H}) = P(\\text{not H}) = 0.5$\n",
    "\n",
    "Across $n$ coin flips, the probability of seeing $n$ heads is $P(\\text{H})^n$."
   ]
  },
  {
   "cell_type": "markdown",
   "metadata": {},
   "source": [
    "\n",
    "* Probability of Event = $P$\n",
    "* Probability of a Complimentary Event = $1-P$\n",
    "* Probability of Composite Independent Events = $\\prod{P}$\n",
    "* The probability of any event must be between $[0, 1]$.\n",
    "\n",
    "##### Example - Coin Flips\n",
    "\n",
    "$P(\\text{H}) = 0.5$\n",
    "\n",
    "$P(\\text{T}) = 1 - P(\\text{H}) = P(\\text{not H}) = 0.5$\n",
    "\n",
    "Across $n$ coin flips, the probability of seeing $n$ heads is $P(\\text{H})^n$."
   ]
  },
  {
   "cell_type": "code",
   "execution_count": 35,
   "metadata": {},
   "outputs": [],
   "source": [
    "import numpy as np\n",
    "import pandas as pd\n",
    "import matplotlib.pyplot as plt\n",
    "from timeit import default_timer as timer\n",
    "%matplotlib inline"
   ]
  },
  {
   "cell_type": "markdown",
   "metadata": {},
   "source": [
    "##### Flipping a Coin"
   ]
  },
  {
   "cell_type": "code",
   "execution_count": 2,
   "metadata": {},
   "outputs": [
    {
     "data": {
      "text/plain": [
       "0.4984"
      ]
     },
     "execution_count": 2,
     "metadata": {},
     "output_type": "execute_result"
    }
   ],
   "source": [
    "np.random.randint(2, size=10000).mean()"
   ]
  },
  {
   "cell_type": "code",
   "execution_count": 3,
   "metadata": {},
   "outputs": [
    {
     "data": {
      "text/plain": [
       "0.1989"
      ]
     },
     "execution_count": 3,
     "metadata": {},
     "output_type": "execute_result"
    }
   ],
   "source": [
    "np.random.choice([0, 1], size=10000, p=[0.8, 0.2]).mean()"
   ]
  },
  {
   "cell_type": "markdown",
   "metadata": {},
   "source": [
    "##### Two Fair Coin Flips - Percentage of Two Heads?"
   ]
  },
  {
   "cell_type": "code",
   "execution_count": 4,
   "metadata": {},
   "outputs": [
    {
     "name": "stdout",
     "output_type": "stream",
     "text": [
      "[[1 0]\n",
      " [1 1]\n",
      " [0 1]\n",
      " [0 0]\n",
      " [0 0]\n",
      " [0 0]\n",
      " [0 0]\n",
      " [1 0]\n",
      " [0 0]\n",
      " [0 0]]\n"
     ]
    },
    {
     "data": {
      "text/plain": [
       "0.249397"
      ]
     },
     "execution_count": 4,
     "metadata": {},
     "output_type": "execute_result"
    }
   ],
   "source": [
    "# 0 is Heads, 1 is Tails\n",
    "tests = np.random.randint(2, size=(int(1e6), 2))\n",
    "print(tests[:10])\n",
    "(tests.sum(axis=1) == 0).mean()"
   ]
  },
  {
   "cell_type": "markdown",
   "metadata": {},
   "source": [
    "##### Three Fair Coin Flips - Probality Exactly One Head?"
   ]
  },
  {
   "cell_type": "code",
   "execution_count": 5,
   "metadata": {},
   "outputs": [
    {
     "data": {
      "text/plain": [
       "0.374748"
      ]
     },
     "execution_count": 5,
     "metadata": {},
     "output_type": "execute_result"
    }
   ],
   "source": [
    "tests = np.random.randint(2, size=(int(1e6), 3))\n",
    "(tests.sum(axis=1) == 2).mean()"
   ]
  },
  {
   "cell_type": "markdown",
   "metadata": {},
   "source": [
    "##### Three Biased Coin Flips - $P(\\text{H}) = 0.6 $ - Probability Cxactly One Head?"
   ]
  },
  {
   "cell_type": "code",
   "execution_count": 6,
   "metadata": {},
   "outputs": [
    {
     "data": {
      "text/plain": [
       "0.288677"
      ]
     },
     "execution_count": 6,
     "metadata": {},
     "output_type": "execute_result"
    }
   ],
   "source": [
    "tests = np.random.choice([0,1], size=(int(1e6), 3), p=[0.6, 0.4])\n",
    "(tests.sum(axis=1) == 2).mean()"
   ]
  },
  {
   "cell_type": "markdown",
   "metadata": {},
   "source": [
    "##### Die Roll - Probablity of an Even Number?"
   ]
  },
  {
   "cell_type": "code",
   "execution_count": 7,
   "metadata": {},
   "outputs": [
    {
     "data": {
      "text/plain": [
       "0.499516"
      ]
     },
     "execution_count": 7,
     "metadata": {},
     "output_type": "execute_result"
    }
   ],
   "source": [
    "tests = np.random.randint(6, size=int(1e6))\n",
    "(tests%2 == 0).mean()"
   ]
  },
  {
   "cell_type": "markdown",
   "metadata": {},
   "source": [
    "##### Two Dice Rolls - Probability of a Double?"
   ]
  },
  {
   "cell_type": "code",
   "execution_count": 9,
   "metadata": {},
   "outputs": [
    {
     "name": "stdout",
     "output_type": "stream",
     "text": [
      "0.166632\n"
     ]
    },
    {
     "data": {
      "text/plain": [
       "4.790470317000654"
      ]
     },
     "execution_count": 9,
     "metadata": {},
     "output_type": "execute_result"
    }
   ],
   "source": [
    "start = timer()\n",
    "\n",
    "tests = np.random.randint(6, size=(int(1e6), 2))\n",
    "print([np.all(row == row[0]) for row in tests].count(True) / len(tests))\n",
    "timer() - start"
   ]
  },
  {
   "cell_type": "code",
   "execution_count": 11,
   "metadata": {},
   "outputs": [
    {
     "data": {
      "text/plain": [
       "0.019622327999968547"
      ]
     },
     "execution_count": 11,
     "metadata": {},
     "output_type": "execute_result"
    }
   ],
   "source": [
    "start = timer()\n",
    "\n",
    "tests1 = np.random.randint(6, size=int(1e6))\n",
    "tests2 = np.random.randint(6, size=int(1e6))\n",
    "\n",
    "(tests1 == tests2).mean()\n",
    "\n",
    "timer() - start"
   ]
  },
  {
   "cell_type": "markdown",
   "metadata": {},
   "source": [
    "### Binomial Distribution\n",
    "\n",
    "(See OneNote notes for further examples as to how we derive the binomial distribution formula.)\n",
    "\n",
    "The binomial distribution can be used when there are two possible independent outcomes for an event. Examples include coin flips where the outcome is heads or tails, whether a customer buys a produt or not, or whether or not a transaction is fraudulent.\n",
    "\n",
    "Let $p$ be the probability of a particular outcome, e.g., probability of landing on heads. Let $k$ be the number of times a particular outcome occurs, e.g., number of heads. Then the binomial  distribution is defined as:\n",
    "\n",
    "$\\frac{n!}{k!(n-k)!}p^k(1-p)^{n-k}$\n",
    "\n",
    "The first half keeps track of the total number of ways the particular outcome can occur. For instance, if we flip a coin five times, then the number of possible ways there can be three heads is:\n",
    "\n",
    "$\\frac{5!}{3!2!} = 10$\n",
    "\n",
    "The second half keeps track of the probability of each of the outcomes. If we continue with the example with a biased coin where $p = 0.8$, then we have:\n",
    "\n",
    "$(0.8)^3(0.2)^2 = .02048$\n",
    "\n",
    "Using the binomial distribution formula, the total probability is then $10 * .02048 = 0.2048$."
   ]
  },
  {
   "cell_type": "markdown",
   "metadata": {},
   "source": [
    "##### Count the Number of Heads/Tails for 10 Flips, 10000 Times"
   ]
  },
  {
   "cell_type": "code",
   "execution_count": 16,
   "metadata": {},
   "outputs": [
    {
     "data": {
      "text/plain": [
       "array([7, 3, 4, 5, 5, 5, 6, 5, 4, 5, 5, 7, 5, 7, 5, 4, 5, 5, 4, 3])"
      ]
     },
     "execution_count": 16,
     "metadata": {},
     "output_type": "execute_result"
    }
   ],
   "source": [
    "np.random.binomial(10, 0.5, size=20)"
   ]
  },
  {
   "cell_type": "code",
   "execution_count": 13,
   "metadata": {},
   "outputs": [
    {
     "data": {
      "text/plain": [
       "5.007"
      ]
     },
     "execution_count": 13,
     "metadata": {},
     "output_type": "execute_result"
    }
   ],
   "source": [
    "np.random.binomial(n=10, p=0.5, size=10000).mean()"
   ]
  },
  {
   "cell_type": "code",
   "execution_count": 14,
   "metadata": {},
   "outputs": [
    {
     "data": {
      "text/plain": [
       "(array([  14.,   98.,  449., 1144., 2066., 2464., 2028., 1169.,  452.,\n",
       "         116.]),\n",
       " array([ 0.,  1.,  2.,  3.,  4.,  5.,  6.,  7.,  8.,  9., 10.]),\n",
       " <BarContainer object of 10 artists>)"
      ]
     },
     "execution_count": 14,
     "metadata": {},
     "output_type": "execute_result"
    },
    {
     "data": {
      "image/png": "[encoded data removed]",
      "text/plain": [
       "<Figure size 640x480 with 1 Axes>"
      ]
     },
     "metadata": {},
     "output_type": "display_data"
    }
   ],
   "source": [
    "plt.hist(np.random.binomial(n=10, p=0.5, size=10000))"
   ]
  },
  {
   "cell_type": "code",
   "execution_count": 15,
   "metadata": {},
   "outputs": [
    {
     "data": {
      "text/plain": [
       "(array([1.00000e+01, 9.03000e+02, 1.67790e+04, 1.18003e+05, 3.24633e+05,\n",
       "        3.56062e+05, 1.55247e+05, 2.66020e+04, 1.71900e+03, 4.20000e+01]),\n",
       " array([25. , 29.9, 34.8, 39.7, 44.6, 49.5, 54.4, 59.3, 64.2, 69.1, 74. ]),\n",
       " <BarContainer object of 10 artists>)"
      ]
     },
     "execution_count": 15,
     "metadata": {},
     "output_type": "execute_result"
    },
    {
     "data": {
      "image/png": "[encoded data removed]",
      "text/plain": [
       "<Figure size 640x480 with 1 Axes>"
      ]
     },
     "metadata": {},
     "output_type": "display_data"
    }
   ],
   "source": [
    "plt.hist(np.random.binomial(n=100, p=0.5, size=int(1e6)))"
   ]
  },
  {
   "cell_type": "markdown",
   "metadata": {},
   "source": [
    "##### Five Fair Coin Flips - One Head"
   ]
  },
  {
   "cell_type": "code",
   "execution_count": 24,
   "metadata": {},
   "outputs": [
    {
     "data": {
      "text/plain": [
       "0.156296"
      ]
     },
     "execution_count": 24,
     "metadata": {},
     "output_type": "execute_result"
    }
   ],
   "source": [
    "(np.random.binomial(n=5, p=0.5, size=int(1e6)) == 1).mean()"
   ]
  },
  {
   "cell_type": "markdown",
   "metadata": {},
   "source": [
    "##### Ten Fair Coin Flips - Four Heads"
   ]
  },
  {
   "cell_type": "code",
   "execution_count": 25,
   "metadata": {},
   "outputs": [
    {
     "data": {
      "text/plain": [
       "0.205291"
      ]
     },
     "execution_count": 25,
     "metadata": {},
     "output_type": "execute_result"
    }
   ],
   "source": [
    "(np.random.binomial(n=10, p=0.5, size=int(1e6)) == 4).mean()"
   ]
  },
  {
   "cell_type": "markdown",
   "metadata": {},
   "source": [
    "##### Five Biased Coin Flips - Five Heads"
   ]
  },
  {
   "cell_type": "code",
   "execution_count": 33,
   "metadata": {},
   "outputs": [
    {
     "data": {
      "text/plain": [
       "0.327156"
      ]
     },
     "execution_count": 33,
     "metadata": {},
     "output_type": "execute_result"
    }
   ],
   "source": [
    "(np.random.binomial(n=5, p=0.8, size=int(1e6)) == 5).mean()"
   ]
  },
  {
   "cell_type": "markdown",
   "metadata": {},
   "source": [
    "##### Ten Biased Coin Flips - At least 3 Heads"
   ]
  },
  {
   "cell_type": "code",
   "execution_count": 34,
   "metadata": {},
   "outputs": [
    {
     "data": {
      "text/plain": [
       "0.180337"
      ]
     },
     "execution_count": 34,
     "metadata": {},
     "output_type": "execute_result"
    }
   ],
   "source": [
    "(np.random.binomial(n=10, p=0.15, size=int(1e6)) >= 3).mean()"
   ]
  },
  {
   "cell_type": "markdown",
   "metadata": {},
   "source": [
    "### Conditional Probability\n",
    "\n",
    "When the outcome of one event depends on an earlier event, we must use conditional probabilities.\n",
    "\n",
    "$P(A|B) = \\frac{P(A \\cap B)}{P(B)}$\n",
    "\n",
    "where $|$ is read as *given* and $\\cap$ represents *and*. So the above would read, \"The probability of $A$ given $B$ is the probability of $A$ and $B$ divided by the probability of $B$.\"\n",
    "\n",
    "$P(\\text{positive} | \\text{disease}) = \\frac{P(\\text{positive} \\cap \\text{disease})}{P(\\text{disease})}$\n",
    "\n",
    "$\\text{posterior} = \\frac{\\text{joint}}{\\text{prior}}$\n",
    "\n",
    "In the OneNote examples, we rearranged the above to compute\n",
    "\n",
    "$P(\\text{positive} \\cap \\text{disease}) = P(\\text{positive} | \\text{disease})P(\\text{disease})$\n"
   ]
  },
  {
   "cell_type": "markdown",
   "metadata": {},
   "source": [
    "### Bayes Rule\n",
    "\n",
    "Imagine we have a variable we care about that is hidden, meaning it cannot be meausred directly, but that we do have a test. Let's use the example of cancer and test that tests either positive or negative.\n",
    "\n",
    "The knowledge we come to the problem with is known as our **prior**. In this case, our prior is the prevelance of cancer, where $C$ is our random variable for cancer.\n",
    "\n",
    "**Prior**:  $P(\\text{C})$\n",
    "\n",
    "Once we begin testing, we begin to obtain evidence that add information to our prior. In this case, positive ($\\text{T}_\\text{p}$) and negative ($\\text{T}_\\text{n}$) test results.\n",
    "\n",
    "**Sensitivity**: $P(\\text{T}_\\text{p} | \\text{C})$ - true positive rate\n",
    "\n",
    "**Specificity**: $P(\\text{T}_\\text{n} | \\lnot\\text{C})$ - true negative rate\n",
    "\n",
    "Using our prior and our evidence, we can compute joint distributions. We will first compute the joint distribution for positive test cases.\n",
    "\n",
    "$P(\\text{C}, \\text{T}_\\text{p}) = P(\\text{T}_\\text{p} | \\text{C})P(\\text{C})$\n",
    "\n",
    "$P(\\lnot\\text{C}, \\text{T}_\\text{p}) = P(\\text{T}_\\text{p} | \\lnot\\text{C})P(\\lnot\\text{C}) = (1 - P(\\text{T}_\\text{n}|\\lnot\\text{C}))(1 - P(\\text{C}))$\n",
    "\n",
    "Once we have our joint distributions, we can compute $P(\\text{T}_\\text{p})$. Note that the joint distributions are required as the conditional probabilities, $P(\\text{T}_\\text{p} | \\text{C})$ and $P(\\text{T}_\\text{p} | \\lnot\\text{C})$ do not consider the prevelance of $C$.\n",
    "\n",
    "$P(\\text{T}_\\text{p}) = P(\\text{C}, \\text{T}_\\text{p}) + P(\\lnot\\text{C}, \\text{T}_\\text{p})$\n",
    "\n",
    "We will use this value to normalize our joint distributions and compute our posterior probability distributions. We can think of the joint distributions as portions of a total area defined by $P({\\text{T}_\\text{p}})$. (See OneNote for example drawing.)\n",
    "\n",
    "$P(\\text{C} | \\text{T}_\\text{p}) = \\frac{P(\\text{C}, \\text{T}_\\text{p})}{P(\\text{T}_\\text{p})}$\n",
    "\n",
    "$P(\\lnot\\text{C} | \\text{T}_\\text{p}) = \\frac{P(\\lnot\\text{C}, \\text{T}_\\text{p})}{P(\\text{T}_\\text{p})}$\n",
    "\n",
    "To compute the posterior probabilities given negative test results, $P(\\text{C}|\\text{T}_\\text{n})$ and $P(\\lnot\\text{C}|\\text{T}_\\text{n})$, we can swap $\\text{T}_\\text{p}$ and $\\text{T}_\\text{n}$ in the above algorithm."
   ]
  },
  {
   "cell_type": "markdown",
   "metadata": {},
   "source": [
    "### Python Practice\n",
    "\n",
    "This exercise will use a simulated dataset on cancer test results for patients and whether they really have cancer.\n",
    "\n",
    "* How many patients are there in total?\n",
    "* How many patients have cancer?\n",
    "* How many patients do not have cancer?\n",
    "* What proportion of patients have cancer?\n",
    "* What proportion of patients don't have cancer?\n",
    "* What proportion of patients with cancer test positive?\n",
    "* What proportion of patients with cancer test negative?\n",
    "* What proportion of patients without cancer test positive?\n",
    "* What proportion of patients without cancer test negative?"
   ]
  },
  {
   "cell_type": "code",
   "execution_count": 37,
   "metadata": {},
   "outputs": [
    {
     "data": {
      "text/html": [
       "<div>\n",
       "<style scoped>\n",
       "    .dataframe tbody tr th:only-of-type {\n",
       "        vertical-align: middle;\n",
       "    }\n",
       "\n",
       "    .dataframe tbody tr th {\n",
       "        vertical-align: top;\n",
       "    }\n",
       "\n",
       "    .dataframe thead th {\n",
       "        text-align: right;\n",
       "    }\n",
       "</style>\n",
       "<table border=\"1\" class=\"dataframe\">\n",
       "  <thead>\n",
       "    <tr style=\"text-align: right;\">\n",
       "      <th></th>\n",
       "      <th>patient_id</th>\n",
       "      <th>test_result</th>\n",
       "      <th>has_cancer</th>\n",
       "    </tr>\n",
       "  </thead>\n",
       "  <tbody>\n",
       "    <tr>\n",
       "      <th>0</th>\n",
       "      <td>79452</td>\n",
       "      <td>Negative</td>\n",
       "      <td>False</td>\n",
       "    </tr>\n",
       "    <tr>\n",
       "      <th>1</th>\n",
       "      <td>81667</td>\n",
       "      <td>Positive</td>\n",
       "      <td>True</td>\n",
       "    </tr>\n",
       "    <tr>\n",
       "      <th>2</th>\n",
       "      <td>76297</td>\n",
       "      <td>Negative</td>\n",
       "      <td>False</td>\n",
       "    </tr>\n",
       "    <tr>\n",
       "      <th>3</th>\n",
       "      <td>36593</td>\n",
       "      <td>Negative</td>\n",
       "      <td>False</td>\n",
       "    </tr>\n",
       "    <tr>\n",
       "      <th>4</th>\n",
       "      <td>53717</td>\n",
       "      <td>Negative</td>\n",
       "      <td>False</td>\n",
       "    </tr>\n",
       "  </tbody>\n",
       "</table>\n",
       "</div>"
      ],
      "text/plain": [
       "   patient_id test_result  has_cancer\n",
       "0       79452    Negative       False\n",
       "1       81667    Positive        True\n",
       "2       76297    Negative       False\n",
       "3       36593    Negative       False\n",
       "4       53717    Negative       False"
      ]
     },
     "execution_count": 37,
     "metadata": {},
     "output_type": "execute_result"
    }
   ],
   "source": [
    "# Load dataset\n",
    "df = pd.read_csv('Data/cancer_test_data.csv')\n",
    "df.head()"
   ]
  },
  {
   "cell_type": "code",
   "execution_count": 38,
   "metadata": {},
   "outputs": [
    {
     "data": {
      "text/plain": [
       "2914"
      ]
     },
     "execution_count": 38,
     "metadata": {},
     "output_type": "execute_result"
    }
   ],
   "source": [
    "# Number of Patients\n",
    "df.shape[0]"
   ]
  },
  {
   "cell_type": "code",
   "execution_count": 39,
   "metadata": {},
   "outputs": [
    {
     "data": {
      "text/plain": [
       "306"
      ]
     },
     "execution_count": 39,
     "metadata": {},
     "output_type": "execute_result"
    }
   ],
   "source": [
    "# Number of Patients with Cancer\n",
    "df.has_cancer.sum()"
   ]
  },
  {
   "cell_type": "code",
   "execution_count": 40,
   "metadata": {},
   "outputs": [
    {
     "data": {
      "text/plain": [
       "2608"
      ]
     },
     "execution_count": 40,
     "metadata": {},
     "output_type": "execute_result"
    }
   ],
   "source": [
    "# Number of Patients without Cancer\n",
    "df.shape[0] - df.has_cancer.sum()"
   ]
  },
  {
   "cell_type": "code",
   "execution_count": 41,
   "metadata": {},
   "outputs": [
    {
     "data": {
      "text/plain": [
       "0.10501029512697323"
      ]
     },
     "execution_count": 41,
     "metadata": {},
     "output_type": "execute_result"
    }
   ],
   "source": [
    "# Proportion of Patients with Cancer, P(C)\n",
    "df.has_cancer.mean()"
   ]
  },
  {
   "cell_type": "code",
   "execution_count": 42,
   "metadata": {},
   "outputs": [
    {
     "data": {
      "text/plain": [
       "0.8949897048730268"
      ]
     },
     "execution_count": 42,
     "metadata": {},
     "output_type": "execute_result"
    }
   ],
   "source": [
    "# Proportion of Patients without Cancer, P(~C)\n",
    "1 - df.has_cancer.mean()"
   ]
  },
  {
   "cell_type": "code",
   "execution_count": 48,
   "metadata": {},
   "outputs": [
    {
     "data": {
      "text/plain": [
       "0.9052287581699346"
      ]
     },
     "execution_count": 48,
     "metadata": {},
     "output_type": "execute_result"
    }
   ],
   "source": [
    "# Proportion of Patients with Cancer who tested Positive, P(Pos|C)\n",
    "(df[df.has_cancer]['test_result'] == \"Positive\").mean()"
   ]
  },
  {
   "cell_type": "code",
   "execution_count": 49,
   "metadata": {},
   "outputs": [
    {
     "data": {
      "text/plain": [
       "0.09477124183006536"
      ]
     },
     "execution_count": 49,
     "metadata": {},
     "output_type": "execute_result"
    }
   ],
   "source": [
    "# Proportion of Patients with Cancer who tested Negative, P(Neg|C)\n",
    "(df[df.has_cancer]['test_result'] == \"Negative\").mean()\n",
    "3"
   ]
  },
  {
   "cell_type": "code",
   "execution_count": 50,
   "metadata": {},
   "outputs": [
    {
     "data": {
      "text/plain": [
       "0.2036042944785276"
      ]
     },
     "execution_count": 50,
     "metadata": {},
     "output_type": "execute_result"
    }
   ],
   "source": [
    "# Proportion of Patients without Cancer who tested Positive, P(Pos|~C)\n",
    "(df[df.has_cancer == False]['test_result'] == \"Positive\").mean()"
   ]
  },
  {
   "cell_type": "code",
   "execution_count": 51,
   "metadata": {},
   "outputs": [
    {
     "data": {
      "text/plain": [
       "0.7963957055214724"
      ]
     },
     "execution_count": 51,
     "metadata": {},
     "output_type": "execute_result"
    }
   ],
   "source": [
    "# Proportion of Patients without Cancer who tested Negative, P(Neg|~C)\n",
    "(df[df.has_cancer == False]['test_result'] == \"Negative\").mean()"
   ]
  },
  {
   "cell_type": "markdown",
   "metadata": {},
   "source": [
    "# Test"
   ]
  },
  {
   "cell_type": "code",
   "execution_count": null,
   "metadata": {},
   "outputs": [],
   "source": []
  }
 ],
 "metadata": {
  "kernelspec": {
   "display_name": "Python 3",
   "language": "python",
   "name": "python3"
  },
  "language_info": {
   "codemirror_mode": {
    "name": "ipython",
    "version": 3
   },
   "file_extension": ".py",
   "mimetype": "text/x-python",
   "name": "python",
   "nbconvert_exporter": "python",
   "pygments_lexer": "ipython3",
   "version": "3.10.13"
  }
 },
 "nbformat": 4,
 "nbformat_minor": 2
}
