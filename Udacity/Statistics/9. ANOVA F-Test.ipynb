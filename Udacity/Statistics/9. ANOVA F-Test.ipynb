{
 "cells": [
  {
   "cell_type": "markdown",
   "metadata": {},
   "source": [
    "# One-way ANOVA (F-Test)\n",
    "\n",
    "With t-tests, we tested for significant differences between two independent samples for a given statistic. But, how many tests would be required for three samples? What about four samples?\n",
    "\n",
    "With three samples, A, B, and C, we have ${3 \\choose 2}=3$ combinations to test.  \n",
    "With four samples, A, B, C, and D, we have ${4 \\choose 2}=6$ combinations to test.\n",
    "\n",
    "Previously, for two independent samples, we had $$t = \\frac{\\bar{x}_1-\\bar{x}_2}{\\sqrt{\\frac{s_p^2}{n_1}+\\frac{s_p^2}{n_2}}}$$ where $s_p$ is the pooled variance. Thus, as we compare samples we have $$\\frac{\\text{distance/variability between means}}{\\text{error}}$$\n",
    "\n",
    "By taking a similar approach as the standard deviation, which measures the average squared deviation of each sample from the sample mean, to compare three or more samples. Thus, three or more samples can be compared by finding the average squared deviation of each sample mean from the total mean (mean of all values in all samples)."
   ]
  },
  {
   "cell_type": "markdown",
   "metadata": {},
   "source": [
    "### Review Questions\n",
    "\n",
    "##### Question 1\n",
    "Will the mean of sample means be the same as the mean of all values in each sample? Let's call the number of samples $k$ and the number of items within each sample $n_i$ for the $i\\text{th}$ sample.  \n",
    "Answer: Sometimes  \n",
    "Example: With $k=4$, $\\frac{\\bar{x}_1+\\bar{x}_2+\\bar{x}_3+\\bar{x}_4}{4}$ is only sometimes equal to $\\frac{1}{k}\\sum\\limits_{i=1}^k(\\frac{1}{n_i}\\sum\\limits_{j=1}^{n_i}x_{ij})$\n",
    "where $x_{ij}$ is the $j\\text{th}$ observation from the $i\\text{th}$ sample. Note that this arises given that $n_i$ is not equal for each sample. The second expression is a weighted average based on the number of observations per sample.\n",
    "\n",
    "##### Grand Mean\n",
    "\n",
    "$\\bar{x}_G$ is known as the *grand mean*. $$\\bar{x}_G = \\frac{1}{N}\\sum\\limits^N_{i=1} x$$ where $N$ is the total number of observations across all samples and $x_i$ is the $i\\text{th}$ observation.\n",
    "\n",
    "##### Question 2\n",
    "What conclusions can we draw from the deviation of each sample mean from the mean of means?  \n",
    "Answer: The smaller the distance between sample means, the less likely population means will differ significantly. The greater the distance between sample means, the more likely population means will differ significantly.\n",
    "\n",
    "##### Question 3\n",
    "In the following [image](./Images/Between-Group%20Variability.png), which set of distributions' means differ significantly?  \n",
    "Answer: The first\n",
    "\n",
    "##### Question 4\n",
    "What does this say about the process of comparing three or more samples?  \n",
    "Answer: The greater the variability of each individual sample, the less likely the population means will differ significantly. The smaller the variability of each individual sample, the more likely population means will differ significantly."
   ]
  },
  {
   "cell_type": "markdown",
   "metadata": {},
   "source": [
    "### Variability\n",
    "\n",
    "##### Between-group (between-sample) Variability\n",
    "The *smaller* the distance between sample means, the *less* likely population means will differ significantly.  \n",
    "The *greater* the distance between sample means, the *more* likely population means will differ significantly.\n",
    "\n",
    "##### Within-group (within-sample) Variability\n",
    "The *greater* the variability of each individual sample, the *less* likely population means will differ significantly.  \n",
    "The *smaller* the variability of each individual sample, the *more* likely population means will differ significantly.\n",
    "\n",
    "### ANOVA - Analysis of Variance\n",
    "ANOVA allows us to compare as many means as we want with just one test. We say *one-way* ANOVA when we have one independent variable, sometimes called a factor.\n",
    "\n",
    "##### ANOVA and Null Hypothesis\n",
    "For ANOVA, $H_0$ can be defined as $$H_0: \\mu_1=\\mu_2=\\mu_3$$ $$H_A: \\text{At least one pair of samples is significantly different}$$"
   ]
  },
  {
   "cell_type": "markdown",
   "metadata": {},
   "source": [
    "### Question\n",
    "\n",
    "##### Question 1\n",
    "If the variance of an individual sample becomes larger with all else held constant, which hypothesis, $H_0$ or $H_A$, becomes more likely?  \n",
    "Answer: $H_0$\n",
    "\n",
    "##### Question 2\n",
    "If between-group variability increases, meaning the means become more spread out, with all else held constant, which hypothesis becomes more likely?  \n",
    "Answer: $H_A$"
   ]
  },
  {
   "cell_type": "markdown",
   "metadata": {},
   "source": [
    "### F-Statistic\n",
    "\n",
    "As we can see, if we want to obtain a single statistic that informs whether the sample distributions are from the same population, then we need some ratio of between-group and within-group variability. $$F = \\frac{\\text{between-group variability}}{\\text{within-group variability}}$$\n",
    "\n",
    "The \"explained variance\" or \"between-group variability\" is $$\\frac{1}{k-1}\\sum\\limits^k_{i=1} n_i(\\bar{x}_i-\\bar{x}_G)^2$$\n",
    "where $k$ is the number of samples, $\\bar{x}_G$ is the grand mean, $n_i$ is the number of observations in the $i\\text{th}$ sample, and $\\bar{x}_i$ is the mean of the $i\\text{th}$ sample. We can think of the multiplication by $n_i$ as providing a weighted average over the $k$ samples.\n",
    "\n",
    "The \"unexplained variance\" or \"within-group variability\" is $$\\frac{1}{N-k}\\sum\\limits^k_{i=1}\\sum\\limits^{n_i}_{j=1}{(x_{ij}-\\bar{x}_i)^2}$$\n",
    "where $N = df = \\sum\\limits^k_i n_i$ and is the overall sample size (i.e., the total number of observations across all samples) and $x_{ij}$ is the $j\\text{th}$ observation of the $i\\text{th}$ sample.\n",
    "\n",
    "$$F = \\frac{\\text{between-group variability}}{\\text{within-group variability}}=\\frac{\\frac{1}{k-1}\\sum\\limits^k_{i=1} n_i(\\bar{x}_i-\\bar{x}_G)^2}{\\frac{1}{N-k}\\sum\\limits^k_{i=1}\\sum\\limits^{n_i}_{j=1}{(x_{ij}-\\bar{x}_i)^2}}=\\frac{\\text{SS}_{\\text{between}}/df_{\\text{between}}}{\\text{SS}_{\\text{within}}/df_{\\text{within}}}=\\frac{\\text{MS}_{\\text{between}}}{\\text{MS}_{\\text{within}}}$$\n",
    "where $\\text{SS}$ is the sum of squares, $\\text{MS}$ is the mean square, and $df$ is the degrees of freedom. Note that $\\text{MS}_{\\text{within}}$ is equivalent to our pooled variance $s_p^2$ as computed in our t-tests. Note that $\\text{SS}_{\\text{within}}$ can also be called $\\text{SS}_{\\text{error}}$.\n",
    "\n",
    "Note that we have $$df_{\\text{between}}+df_{\\text{within}}=df_{\\text{total}}=N-1$$ $$\\text{SS}_{\\text{between}}+\\text{SS}_{\\text{within}}=\\text{SS}_{\\text{total}}=\\sum\\limits_{i=1}^N(x_i-\\bar{x}_G)^2$$\n",
    "\n",
    "From this, we can see that ANOVA partitions the total variation into \"between-group variation\" and \"within-group\" variation. Said another way, differences in the dependent variable (or, in many cases, treatment) are due both to differences between groups (samples) and individual differences within each group (sample).\n",
    "\n",
    "This means that only same of the variation can be explained by knowing which group (or sample) an observation belongs to. The rest is unexplained variance."
   ]
  },
  {
   "cell_type": "markdown",
   "metadata": {},
   "source": [
    "### Review Questions\n",
    "\n",
    "##### Question 1\n",
    "The F-statistic is _________ negative.  \n",
    "Answer: Never"
   ]
  },
  {
   "cell_type": "markdown",
   "metadata": {},
   "source": [
    "### F-Distribution\n",
    "\n",
    "The F-Distribution is a positively (right) skewed plot that has a maximum at $x=1$.\n",
    "\n",
    "The maximum occurs at $x=1$ because if there are no differences in the population means, the between-group variability is expected to be $0$. Furthermore, the expected between-group variability and expected within-group variability will be equal resulting in $F=1$.\n",
    "\n",
    "Unlike how the t- or z-test can be directional or non-directional, the F-Test is always non-directional. The critical region will always exist within the right tail of the plot defined by significance value, $\\alpha$. If the computed F-statistic lies within the critical region, then we know at least two of the populations means are statistically significantly different.\n",
    "\n",
    "[F Table](http://socr.ucla.edu/Applets.dir/F_Table.html)"
   ]
  },
  {
   "cell_type": "code",
   "execution_count": 2,
   "metadata": {},
   "outputs": [],
   "source": [
    "import numpy as np\n",
    "from scipy.stats import f\n",
    "import matplotlib.pyplot as plt\n",
    "%matplotlib inline"
   ]
  },
  {
   "cell_type": "code",
   "execution_count": 3,
   "metadata": {},
   "outputs": [
    {
     "data": {
      "image/png": "[encoded data removed]",
      "text/plain": [
       "<Figure size 640x480 with 1 Axes>"
      ]
     },
     "metadata": {},
     "output_type": "display_data"
    }
   ],
   "source": [
    "fig, ax = plt.subplots(1, 1)\n",
    "\n",
    "# Calculate the first four moments:\n",
    "# dfn = degrees of freedom numerator, dfn = a-1, where a = number of groups\n",
    "# dfd = degrees of freedom denominator, dfd = n-a, where n = total number of observations\n",
    "dfn, dfd = 29, 18 \n",
    "mean, var, skew, kurt = f.stats(dfn, dfd, moments='mvsk')\n",
    "\n",
    "# Display the probability density function (``pdf``):\n",
    "x = np.linspace(f.ppf(0.01, dfn, dfd),\n",
    "                f.ppf(0.99, dfn, dfd), 100)\n",
    "ax.plot(x, f.pdf(x, dfn, dfd),'r-', lw=5, alpha=0.6, label='f pdf')\n",
    "\n",
    "# Alternatively, the distribution object can be called (as a function)\n",
    "# to fix the shape and location. This returns a \"frozen\" RV object holding\n",
    "# the given parameters fixed.\n",
    "# Freeze the distribution and display the frozen ``pdf``:\n",
    "rv = f(dfn, dfd)\n",
    "ax.plot(x, rv.pdf(x), 'k-', lw=2, label='frozen pdf')\n",
    "\n",
    "# Check accuracy of ``cdf`` and ``ppf``:\n",
    "vals = f.ppf([0.001, 0.5, 0.999], dfn, dfd)\n",
    "np.allclose([0.001, 0.5, 0.999], f.cdf(vals, dfn, dfd))\n",
    "\n",
    "# Generate random numbers:\n",
    "r = f.rvs(dfn, dfd, size=1000)\n",
    "\n",
    "# And compare the histogram:\n",
    "ax.hist(r, density=True, bins='auto', histtype='stepfilled', alpha=0.2)\n",
    "ax.set_xlim([x[0], x[-1]])\n",
    "ax.legend(loc='best', frameon=False)\n",
    "plt.show()"
   ]
  },
  {
   "cell_type": "markdown",
   "metadata": {},
   "source": [
    "### Multiple Comparison Tests\n",
    "\n",
    "When we reject $H_0$ using ANOVA, we know at least two sample means differ significantly. However, we do not know which specific means.\n",
    "\n",
    "##### [Tukey's Honestly Significant Difference (HSD)](https://en.wikipedia.org/wiki/Tukey%27s_range_test)\n",
    "\n",
    "John Tukey created a method by which we can perform pair-wise comparison of mean (or other statistical) values. Going back to margin of error for z- and t-tests, we had $$\\begin{align}\\text{margin of error}&= z^*\\frac{\\sigma}{\\sqrt{n}}\\\\&= t^*\\frac{s}{\\sqrt{n}}\\end{align}$$\n",
    "\n",
    "With Tukey's HSD, we have $$\\begin{align}\\text{Tukey's HSD}&= q^*\\sqrt{\\frac{\\text{MS}_{\\text{within}}}{n}}\\\\&=q^*\\frac{s_p}{\\sqrt{n}}\\end{align}$$\n",
    "where $q^*$ is the studentized range statistic and is used to adjust HSD to ensure we don't make a Type I error (reject $H_0$ when it's true). $q^*$ increases as the number of samples increases making it less likely to make a Type I error. Note: $n$ is the sample size of each sample. In other words, it assumes the sample sizes are all equal. \n",
    "\n",
    "Previously, if a sample statistic was outside the margin of error, we considered the result significant as the result was unlikely. Similarly, if two sample means differ by more than Tukey's HSD, then we say that the result is honestly significantly different, e.g., $\\lvert \\mu_1 - \\mu_2 \\rvert > \\text{Tukey's HSD}$.\n",
    "\n",
    "[Q Table](https://www2.stat.duke.edu/courses/Spring98/sta110c/qtable.html) - $q^*$ is computed using another table.\n",
    "\n",
    "##### Cohen's d for Multiple Comparisons\n",
    "\n",
    "Remember that Cohen's d is an effect size measure that measures the standardized difference between means. Previously, $$\\text{d}=\\frac{\\bar{x}_1-\\bar{x}_2}{s_p}$$\n",
    "\n",
    "For multiple comparisons, we have $$\\text{d}=\\frac{\\bar{x}_1-\\bar{x}_2}{s_p}=\\frac{\\bar{x}_1-\\bar{x}_2}{\\sqrt{\\text{MS}_{\\text{within}}}}$$\n",
    "\n",
    "Note that we would need to compute Cohen's d for each pairwise comparison of means. For examples, for three samples, A, B, and C, we would need to compute Cohen's d for A-B, A-C, and B-C.\n",
    "\n",
    "##### Eta Squared, $\\eta^2$\n",
    "\n",
    "Remember that $r^2$ is the proportion (or %) of variation in one variable that is related to or explained by another variable. $\\eta^2$ is analogous in the multiple group scenario. $\\eta^2$ is the proportion (or %) of total variation that is due to the independent variable or between-group differences (explained variation). $$\\eta^2=\\frac{\\text{SS}_{\\text{between}}}{\\text{SS}_{\\text{within}}+\\text{SS}_{\\text{between}}}=\\frac{\\text{SS}_{\\text{between}}}{\\text{SS}_{\\text{total}}}$$\n",
    "\n",
    "Because $\\eta^2$ is a proportion, it will range from [0, 1]."
   ]
  },
  {
   "cell_type": "markdown",
   "metadata": {},
   "source": [
    "### Reporting ANOVA Results\n",
    "\n",
    "If $df_{\\text{between}}=2$, $df_{\\text{within}}=6$, $\\alpha=0.05$, then we would report the results as $$F(2, 6)=27 \\quad p\\lt 0.05 \\quad \\eta^2=0.90$$\n",
    "If $p$ can be computed, then we can replace the above with $p=0.001$ or something similar."
   ]
  },
  {
   "cell_type": "markdown",
   "metadata": {},
   "source": [
    "### Power\n",
    "\n",
    "Type II errors occur when we fail to reject the null hypothesis when we should have. Given that studies are time consuming and expensive, we need to make it more likely that we find statistical significance when we should. We can do this by increasing power.\n",
    "\n",
    "##### Increasing Power\n",
    "\n",
    "If we want to increase the power of a test, we can test *more* people, give the test to *very similar* groups of people, and, in the case of medicine, test a *large* dose of medication.\n",
    "\n",
    "Larger samples result in higher power as standard error $\\text{SE}=\\frac{s}{\\sqrt{n}}$. As $n$ increases, our standard error decreases.\n",
    "\n",
    "Lower within-group variability (unexplained variance) leads to higher power. We can be more sure of significant differences when the distributions aren't overlapping. As variability increases, it can be harder to see if there is a significant difference.  Lower within-group variability increases $F=\\frac{\\text{between-group variability}}{\\text{within-group variability}}$.\n",
    "\n",
    "Choosing treatments with strong effect sizes will increase power. You can do this by making treatment conditions last longer or make them occur more often. Doing this helps drive the means from samples apart if there is in fact a statistical difference as can be measured by one of our effect size measures like Cohen's d."
   ]
  },
  {
   "cell_type": "markdown",
   "metadata": {},
   "source": [
    "### ANOVA Assumptions\n",
    "\n",
    "* Normality\n",
    "    * All populations from which the samples are from are normally distributed.\n",
    "* Homogeneity of Variance\n",
    "    * The data come from populations that have equal amounts of variability.\n",
    "* Independence of Observations\n",
    "    * The results found from one sample will not affect the other samples.\n",
    "\n",
    "\n",
    "We can violate these assumptions if:\n",
    "* Sample size is large -> violate normality\n",
    "* Nearly equal sample sizes and ratio of any two variances does not exceed 4 -> violoate homogeneity of variance\n",
    "\n",
    "### [ANOVA Summary](https://learn.udacity.com/courses/st095/lessons/4b1d2d1a-0372-4a93-865f-5cac58723e44/concepts/aa597ae6-5006-410b-a359-47d6f6aefd6d)"
   ]
  },
  {
   "cell_type": "markdown",
   "metadata": {},
   "source": [
    "### Quiz\n",
    "\n",
    "##### Question 1\n",
    "As the variability within treatment groups increases, the likelihood of rejecting the null hypothesis?  \n",
    "Answer: decreases\n",
    "\n",
    "##### Question 2\n",
    "In ANOVA, the differences between treatment groups (between-group variances) contributes to _____.  \n",
    "Answer: the numerator of the F-ratio\n",
    "\n",
    "##### Question 3\n",
    "Which of the following is *not* a potential source of variation within a treatment group?  \n",
    "Answer: treatment effects\n",
    "\n",
    "##### Question 4\n",
    "As the variability between treatment groups gets larger (assuming the within-group variability remains constant), the likelihood of rejecting the null hypothesis ______.  \n",
    "Answer: increases\n",
    "\n",
    "##### Question 5\n",
    "T/F: If the null hypothesis is true, then on average the F-ratio for ANOVA is expected to have a value near 1.00.  \n",
    "Answer: T (between-group and within-group variability should be roughly equal)\n",
    "\n",
    "##### Question 6\n",
    "T/F: One of the great advantages of ANOVA is that it allows researchers to compare more than two treatment conditions without having to conduct multiple hypothesis tests (for instance, t-tests).  \n",
    "Answer: T\n",
    "\n",
    "##### Question 7\n",
    "Which combinations of factors is most likely to produce a large F value?  \n",
    "Answer: large mean differences and small within-group variability\n",
    "\n",
    "##### Question 8\n",
    "An analysis of variance is used to evaluate the mean differences for a research study comparing four treatments with independent samples of participants of $n=10$ in each treatment group. For this analysis, what are the degrees of freedom between and within?  \n",
    "Answer: 3 (between), 36 (within)\n",
    "\n",
    "##### Question 9\n",
    "If the previously mentioned ANOVA produces an F-ratio of $F=3.96$, then which of the following is the correct statistical decision?  \n",
    "Answer: reject $H_0$ at $\\alpha=0.05$ but not at $\\alpha=0.01$\n",
    "\n",
    "##### Question 10\n",
    "Firstborn children tend to develop language skills faster than their younger siblings. One possible explanation for this phenomenon is that firstborns' have the undivided attention from their parents. If this explanation is correct, then it is reasonable that twins should show slower language development than single children and that triplets should be even slower. The following data were obtained from several families. The dependent variable (data) is a measure of language skills at age three for each child. The higher the score the better then language skill.\n",
    "\n",
    "| Single Child | Twin | Triplet |\n",
    "| ---- | ---- | ---- |\n",
    "| 8 | 4 | 4 |\n",
    "| 7 | 6 | 4 |\n",
    "| 10 | 7 | 7 |\n",
    "| 6 | 4 | 2 |\n",
    "| 9 | 9 | 3 |\n",
    "\n",
    "What is the $H_0$?  \n",
    "Answer: $\\mu_1 = \\mu_2 = \\mu_3$\n",
    "\n",
    "##### Question 11\n",
    "What are the $H_A$?  \n",
    "Answer: Any combination of means where at least one mean is not equal to one of the others\n",
    "\n",
    "##### Question 12\n",
    "Compute the f-statistic."
   ]
  },
  {
   "cell_type": "code",
   "execution_count": 6,
   "metadata": {},
   "outputs": [
    {
     "name": "stdout",
     "output_type": "stream",
     "text": [
      "ss between:  40.0\n",
      "ss within:  42.0\n",
      "df between:  2\n",
      "df within:  12\n",
      "ms between:  20.0\n",
      "ms within:  3.5\n",
      "f:  5.714285714285714\n"
     ]
    }
   ],
   "source": [
    "x_single = np.array([8, 7, 10, 6, 9])\n",
    "x_twin = np.array([4, 6, 7, 4, 9])\n",
    "x_triplet = np.array([4, 4, 7, 2, 3])\n",
    "num_groups = 3\n",
    "num_observations = len(x_single)+len(x_twin)+len(x_triplet)\n",
    "\n",
    "x_single_mean = np.mean(x_single)\n",
    "x_twin_mean = np.mean(x_twin)\n",
    "x_triplet_mean = np.mean(x_triplet)\n",
    "x_g_mean = np.sum(np.concatenate([x_single, x_twin, x_triplet]))/num_observations\n",
    "\n",
    "ss_between = 0\n",
    "for x in ([x_single, x_twin, x_triplet]):\n",
    "    ss_between += len(x)*np.sum((x.mean()-x_g_mean)**2)\n",
    "print('ss between: ', ss_between)\n",
    "\n",
    "ss_within = 0\n",
    "for x in ([x_single, x_twin, x_triplet]):\n",
    "    ss_within += np.sum((x-x.mean())**2)\n",
    "print('ss within: ', ss_within)\n",
    "\n",
    "df_between = num_groups-1\n",
    "df_within = num_observations-num_groups\n",
    "print('df between: ', df_between)\n",
    "print('df within: ', df_within)\n",
    "\n",
    "ms_between = ss_between/df_between\n",
    "ms_within = ss_within/df_within\n",
    "print('ms between: ', ms_between)\n",
    "print('ms within: ', ms_within)\n",
    "\n",
    "f = ms_between/ms_within\n",
    "print('f: ', f)"
   ]
  },
  {
   "cell_type": "markdown",
   "metadata": {},
   "source": [
    "##### Question 13\n",
    "What is the f-critical value for $\\alpha=0.05$?  \n",
    "Answer: 3.8853\n",
    "\n",
    "##### Question 14\n",
    "Do we reject or fail to reject the null hypothesis?  \n",
    "Answer: Reject as $F \\gt F^*$\n",
    "\n",
    "##### Question 15\n",
    "An analysis of variance produces $df_{\\text{between}}=2$ and $df_{\\text{within}}=24$. What is $df_{\\text{total}}$?  \n",
    "Answer: 26\n",
    "\n",
    "##### Question 16\n",
    "A researcher reported $F(3, 24)=5.30$ for a one-way ANOVA. How many individuals participated in the entire experiment?  \n",
    "Answer: 28 ($df_{\\text{total}}=27$ which means $28$ people participated)\n",
    "\n",
    "##### Question 17\n",
    "An analysis of variance produces $\\text{SS}_{\\text{total}}=200$ and $\\text{SS}_{\\text{within}}=50$. For this analysis, what is $\\text{SS}_{\\text{between}}$?  \n",
    "Answer: 150\n",
    "\n",
    "##### Question 18\n",
    "T/F: For the ANOVA F test, the smaller the $\\text{MS}_{\\text{within}}, the greater the likelihood that you will reject $H_0$.  \n",
    "Answer: T\n",
    "\n",
    "##### Question 19\n",
    "If we want to increase the power of a test, we can  \n",
    "Answer: test *more* people, give the test to *very similar* groups of people, and, in the case of medicine, test a *large* dose of medication\n",
    "\n",
    "##### Question 20\n",
    "What proportion of the differences between language skills can be explained by being a single child, a twin, or a triplet? See the chart from Question 10.  \n",
    "Answer: "
   ]
  },
  {
   "cell_type": "code",
   "execution_count": 5,
   "metadata": {},
   "outputs": [
    {
     "name": "stdout",
     "output_type": "stream",
     "text": [
      "eta_squared:  0.4878048780487805\n"
     ]
    }
   ],
   "source": [
    "print('eta_squared: ', ss_between/(ss_between+ss_within))"
   ]
  },
  {
   "cell_type": "markdown",
   "metadata": {},
   "source": [
    "##### Question 21\n",
    "Which child groups have honestly significantly different language skills for a significance level of $\\alpha=0.05$? [Q Table](https://www2.stat.duke.edu/courses/Spring98/sta110c/qtable.html)  "
   ]
  },
  {
   "cell_type": "code",
   "execution_count": 8,
   "metadata": {},
   "outputs": [
    {
     "name": "stdout",
     "output_type": "stream",
     "text": [
      "Tukey HSD:  3.154208300033465\n",
      "x_single_mean - x_twin_mean:  2.0\n",
      "x_single_mean - x_triplet_mean:  4.0\n",
      "x_twin_mean - x_triplet_mean:  2.0\n"
     ]
    }
   ],
   "source": [
    "q_star = 3.77\n",
    "print('Tukey HSD: ', q_star*np.sqrt(ms_within/len(x_single)))\n",
    "\n",
    "print('x_single_mean - x_twin_mean: ', x_single_mean - x_twin_mean)\n",
    "print('x_single_mean - x_triplet_mean: ', x_single_mean - x_triplet_mean)\n",
    "print('x_twin_mean - x_triplet_mean: ', x_twin_mean - x_triplet_mean)"
   ]
  }
 ],
 "metadata": {
  "kernelspec": {
   "display_name": "base",
   "language": "python",
   "name": "python3"
  },
  "language_info": {
   "codemirror_mode": {
    "name": "ipython",
    "version": 3
   },
   "file_extension": ".py",
   "mimetype": "text/x-python",
   "name": "python",
   "nbconvert_exporter": "python",
   "pygments_lexer": "ipython3",
   "version": "3.11.3"
  }
 },
 "nbformat": 4,
 "nbformat_minor": 2
}
