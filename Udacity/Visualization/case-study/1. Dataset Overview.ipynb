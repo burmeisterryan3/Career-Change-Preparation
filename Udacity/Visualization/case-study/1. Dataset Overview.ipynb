{
 "cells": [
  {
   "cell_type": "markdown",
   "metadata": {},
   "source": [
    "# Diamond Dataset\n",
    "\n",
    "$\\approx 54,000$ examples of diamonds consisting of the following 10 features.\n",
    "\n",
    "* **price**: Price in dollars. Data was collected in 2008.\n",
    "* **carat**: Diamond weight. 1 carat is equal to 0.2 grams.\n",
    "* **cut**: Quality of diamond cut, affects its shine. Grades go from (low) Fair, Good, Very Good, Premium, Ideal (best).\n",
    "* **color**: Measure of diamond coloration. Increasing grades go from (some color) J, I, H, G, F, E, D (colorless).\n",
    "* **clarity**: Measure of diamond inclusions. Increasing grades go from (inclusions) I1, SI2, SI1, VS2, VS1, VVS2, VVS1, IF (internally flawless).\n",
    "* **x**, **y**, **z**: Diamond length, width, and depth, respectively, in mm.\n",
    "* **table**: Ratio of width of top face of diamond to its overall width, as a percentage.\n",
    "* **depth**: Proportional depth of diamond, as a percentage. This is computed as 2 * z / (x + y), or the ratio of the depth to the average of length and width."
   ]
  }
 ],
 "metadata": {
  "kernelspec": {
   "display_name": "base",
   "language": "python",
   "name": "python3"
  },
  "language_info": {
   "name": "python",
   "version": "3.11.5"
  }
 },
 "nbformat": 4,
 "nbformat_minor": 2
}
