{
 "cells": [
  {
   "cell_type": "code",
   "execution_count": 2,
   "id": "16a9790e",
   "metadata": {},
   "outputs": [],
   "source": [
    "import pandas as pd\n",
    "import numpy as np\n",
    "df = pd.read_csv(\"./chicago.csv\")\n",
    "# df.read_csv(\"./chicago.csv\", parse_dates=[\"Start Time\", \"End Time\"])"
   ]
  },
  {
   "cell_type": "code",
   "execution_count": 3,
   "id": "6a9026b7",
   "metadata": {},
   "outputs": [
    {
     "data": {
      "text/html": [
       "<div>\n",
       "<style scoped>\n",
       "    .dataframe tbody tr th:only-of-type {\n",
       "        vertical-align: middle;\n",
       "    }\n",
       "\n",
       "    .dataframe tbody tr th {\n",
       "        vertical-align: top;\n",
       "    }\n",
       "\n",
       "    .dataframe thead th {\n",
       "        text-align: right;\n",
       "    }\n",
       "</style>\n",
       "<table border=\"1\" class=\"dataframe\">\n",
       "  <thead>\n",
       "    <tr style=\"text-align: right;\">\n",
       "      <th></th>\n",
       "      <th>Unnamed: 0</th>\n",
       "      <th>Start Time</th>\n",
       "      <th>End Time</th>\n",
       "      <th>Trip Duration</th>\n",
       "      <th>Start Station</th>\n",
       "      <th>End Station</th>\n",
       "      <th>User Type</th>\n",
       "      <th>Gender</th>\n",
       "      <th>Birth Year</th>\n",
       "    </tr>\n",
       "  </thead>\n",
       "  <tbody>\n",
       "    <tr>\n",
       "      <th>0</th>\n",
       "      <td>1423854</td>\n",
       "      <td>2017-06-23 15:09:32</td>\n",
       "      <td>2017-06-23 15:14:53</td>\n",
       "      <td>321</td>\n",
       "      <td>Wood St &amp; Hubbard St</td>\n",
       "      <td>Damen Ave &amp; Chicago Ave</td>\n",
       "      <td>Subscriber</td>\n",
       "      <td>Male</td>\n",
       "      <td>1992.0</td>\n",
       "    </tr>\n",
       "    <tr>\n",
       "      <th>1</th>\n",
       "      <td>955915</td>\n",
       "      <td>2017-05-25 18:19:03</td>\n",
       "      <td>2017-05-25 18:45:53</td>\n",
       "      <td>1610</td>\n",
       "      <td>Theater on the Lake</td>\n",
       "      <td>Sheffield Ave &amp; Waveland Ave</td>\n",
       "      <td>Subscriber</td>\n",
       "      <td>Female</td>\n",
       "      <td>1992.0</td>\n",
       "    </tr>\n",
       "    <tr>\n",
       "      <th>2</th>\n",
       "      <td>9031</td>\n",
       "      <td>2017-01-04 08:27:49</td>\n",
       "      <td>2017-01-04 08:34:45</td>\n",
       "      <td>416</td>\n",
       "      <td>May St &amp; Taylor St</td>\n",
       "      <td>Wood St &amp; Taylor St</td>\n",
       "      <td>Subscriber</td>\n",
       "      <td>Male</td>\n",
       "      <td>1981.0</td>\n",
       "    </tr>\n",
       "    <tr>\n",
       "      <th>3</th>\n",
       "      <td>304487</td>\n",
       "      <td>2017-03-06 13:49:38</td>\n",
       "      <td>2017-03-06 13:55:28</td>\n",
       "      <td>350</td>\n",
       "      <td>Christiana Ave &amp; Lawrence Ave</td>\n",
       "      <td>St. Louis Ave &amp; Balmoral Ave</td>\n",
       "      <td>Subscriber</td>\n",
       "      <td>Male</td>\n",
       "      <td>1986.0</td>\n",
       "    </tr>\n",
       "    <tr>\n",
       "      <th>4</th>\n",
       "      <td>45207</td>\n",
       "      <td>2017-01-17 14:53:07</td>\n",
       "      <td>2017-01-17 15:02:01</td>\n",
       "      <td>534</td>\n",
       "      <td>Clark St &amp; Randolph St</td>\n",
       "      <td>Desplaines St &amp; Jackson Blvd</td>\n",
       "      <td>Subscriber</td>\n",
       "      <td>Male</td>\n",
       "      <td>1975.0</td>\n",
       "    </tr>\n",
       "    <tr>\n",
       "      <th>5</th>\n",
       "      <td>1473887</td>\n",
       "      <td>2017-06-26 09:01:20</td>\n",
       "      <td>2017-06-26 09:11:06</td>\n",
       "      <td>586</td>\n",
       "      <td>Clinton St &amp; Washington Blvd</td>\n",
       "      <td>Canal St &amp; Taylor St</td>\n",
       "      <td>Subscriber</td>\n",
       "      <td>Male</td>\n",
       "      <td>1990.0</td>\n",
       "    </tr>\n",
       "    <tr>\n",
       "      <th>6</th>\n",
       "      <td>961916</td>\n",
       "      <td>2017-05-26 09:41:44</td>\n",
       "      <td>2017-05-26 09:46:25</td>\n",
       "      <td>281</td>\n",
       "      <td>Ashland Ave &amp; Lake St</td>\n",
       "      <td>Wood St &amp; Hubbard St</td>\n",
       "      <td>Subscriber</td>\n",
       "      <td>Female</td>\n",
       "      <td>1983.0</td>\n",
       "    </tr>\n",
       "    <tr>\n",
       "      <th>7</th>\n",
       "      <td>65924</td>\n",
       "      <td>2017-01-21 14:28:38</td>\n",
       "      <td>2017-01-21 14:40:41</td>\n",
       "      <td>723</td>\n",
       "      <td>Larrabee St &amp; Kingsbury St</td>\n",
       "      <td>Larrabee St &amp; Armitage Ave</td>\n",
       "      <td>Customer</td>\n",
       "      <td>NaN</td>\n",
       "      <td>NaN</td>\n",
       "    </tr>\n",
       "    <tr>\n",
       "      <th>8</th>\n",
       "      <td>606841</td>\n",
       "      <td>2017-04-20 16:08:51</td>\n",
       "      <td>2017-04-20 16:20:20</td>\n",
       "      <td>689</td>\n",
       "      <td>Sedgwick St &amp; Huron St</td>\n",
       "      <td>Halsted St &amp; Blackhawk St (*)</td>\n",
       "      <td>Subscriber</td>\n",
       "      <td>Male</td>\n",
       "      <td>1984.0</td>\n",
       "    </tr>\n",
       "    <tr>\n",
       "      <th>9</th>\n",
       "      <td>135470</td>\n",
       "      <td>2017-02-06 18:00:47</td>\n",
       "      <td>2017-02-06 18:09:00</td>\n",
       "      <td>493</td>\n",
       "      <td>Stetson Ave &amp; South Water St</td>\n",
       "      <td>Clinton St &amp; Washington Blvd</td>\n",
       "      <td>Subscriber</td>\n",
       "      <td>Male</td>\n",
       "      <td>1979.0</td>\n",
       "    </tr>\n",
       "  </tbody>\n",
       "</table>\n",
       "</div>"
      ],
      "text/plain": [
       "   Unnamed: 0           Start Time             End Time  Trip Duration  \\\n",
       "0     1423854  2017-06-23 15:09:32  2017-06-23 15:14:53            321   \n",
       "1      955915  2017-05-25 18:19:03  2017-05-25 18:45:53           1610   \n",
       "2        9031  2017-01-04 08:27:49  2017-01-04 08:34:45            416   \n",
       "3      304487  2017-03-06 13:49:38  2017-03-06 13:55:28            350   \n",
       "4       45207  2017-01-17 14:53:07  2017-01-17 15:02:01            534   \n",
       "5     1473887  2017-06-26 09:01:20  2017-06-26 09:11:06            586   \n",
       "6      961916  2017-05-26 09:41:44  2017-05-26 09:46:25            281   \n",
       "7       65924  2017-01-21 14:28:38  2017-01-21 14:40:41            723   \n",
       "8      606841  2017-04-20 16:08:51  2017-04-20 16:20:20            689   \n",
       "9      135470  2017-02-06 18:00:47  2017-02-06 18:09:00            493   \n",
       "\n",
       "                   Start Station                    End Station   User Type  \\\n",
       "0           Wood St & Hubbard St        Damen Ave & Chicago Ave  Subscriber   \n",
       "1            Theater on the Lake   Sheffield Ave & Waveland Ave  Subscriber   \n",
       "2             May St & Taylor St            Wood St & Taylor St  Subscriber   \n",
       "3  Christiana Ave & Lawrence Ave   St. Louis Ave & Balmoral Ave  Subscriber   \n",
       "4         Clark St & Randolph St   Desplaines St & Jackson Blvd  Subscriber   \n",
       "5   Clinton St & Washington Blvd           Canal St & Taylor St  Subscriber   \n",
       "6          Ashland Ave & Lake St           Wood St & Hubbard St  Subscriber   \n",
       "7     Larrabee St & Kingsbury St     Larrabee St & Armitage Ave    Customer   \n",
       "8         Sedgwick St & Huron St  Halsted St & Blackhawk St (*)  Subscriber   \n",
       "9   Stetson Ave & South Water St   Clinton St & Washington Blvd  Subscriber   \n",
       "\n",
       "   Gender  Birth Year  \n",
       "0    Male      1992.0  \n",
       "1  Female      1992.0  \n",
       "2    Male      1981.0  \n",
       "3    Male      1986.0  \n",
       "4    Male      1975.0  \n",
       "5    Male      1990.0  \n",
       "6  Female      1983.0  \n",
       "7     NaN         NaN  \n",
       "8    Male      1984.0  \n",
       "9    Male      1979.0  "
      ]
     },
     "execution_count": 3,
     "metadata": {},
     "output_type": "execute_result"
    }
   ],
   "source": [
    "df.head(10)"
   ]
  },
  {
   "cell_type": "code",
   "execution_count": 20,
   "id": "ed468671",
   "metadata": {},
   "outputs": [
    {
     "data": {
      "text/plain": [
       "('Lake Shore Dr & Monroe St', 'Streeter Dr & Grand Ave')"
      ]
     },
     "execution_count": 20,
     "metadata": {},
     "output_type": "execute_result"
    }
   ],
   "source": [
    "df.groupby(['Start Station', 'End Station']).size().idxmax()"
   ]
  },
  {
   "cell_type": "code",
   "execution_count": 5,
   "id": "faaf06fe",
   "metadata": {},
   "outputs": [
    {
     "data": {
      "text/plain": [
       "Index(['Unnamed: 0', 'Start Time', 'End Time', 'Trip Duration',\n",
       "       'Start Station', 'End Station', 'User Type', 'Gender', 'Birth Year'],\n",
       "      dtype='object')"
      ]
     },
     "execution_count": 5,
     "metadata": {},
     "output_type": "execute_result"
    }
   ],
   "source": [
    "df.columns"
   ]
  },
  {
   "cell_type": "code",
   "execution_count": 7,
   "id": "2b777d99",
   "metadata": {},
   "outputs": [
    {
     "data": {
      "text/html": [
       "<div>\n",
       "<style scoped>\n",
       "    .dataframe tbody tr th:only-of-type {\n",
       "        vertical-align: middle;\n",
       "    }\n",
       "\n",
       "    .dataframe tbody tr th {\n",
       "        vertical-align: top;\n",
       "    }\n",
       "\n",
       "    .dataframe thead th {\n",
       "        text-align: right;\n",
       "    }\n",
       "</style>\n",
       "<table border=\"1\" class=\"dataframe\">\n",
       "  <thead>\n",
       "    <tr style=\"text-align: right;\">\n",
       "      <th></th>\n",
       "      <th>Unnamed: 0</th>\n",
       "      <th>Trip Duration</th>\n",
       "      <th>Birth Year</th>\n",
       "    </tr>\n",
       "  </thead>\n",
       "  <tbody>\n",
       "    <tr>\n",
       "      <th>count</th>\n",
       "      <td>3.000000e+05</td>\n",
       "      <td>300000.000000</td>\n",
       "      <td>238981.000000</td>\n",
       "    </tr>\n",
       "    <tr>\n",
       "      <th>mean</th>\n",
       "      <td>7.763458e+05</td>\n",
       "      <td>936.239290</td>\n",
       "      <td>1980.858223</td>\n",
       "    </tr>\n",
       "    <tr>\n",
       "      <th>std</th>\n",
       "      <td>4.481464e+05</td>\n",
       "      <td>1548.792767</td>\n",
       "      <td>11.003329</td>\n",
       "    </tr>\n",
       "    <tr>\n",
       "      <th>min</th>\n",
       "      <td>4.000000e+00</td>\n",
       "      <td>60.000000</td>\n",
       "      <td>1899.000000</td>\n",
       "    </tr>\n",
       "    <tr>\n",
       "      <th>25%</th>\n",
       "      <td>3.871368e+05</td>\n",
       "      <td>393.000000</td>\n",
       "      <td>1975.000000</td>\n",
       "    </tr>\n",
       "    <tr>\n",
       "      <th>50%</th>\n",
       "      <td>7.771035e+05</td>\n",
       "      <td>670.000000</td>\n",
       "      <td>1984.000000</td>\n",
       "    </tr>\n",
       "    <tr>\n",
       "      <th>75%</th>\n",
       "      <td>1.164065e+06</td>\n",
       "      <td>1125.000000</td>\n",
       "      <td>1989.000000</td>\n",
       "    </tr>\n",
       "    <tr>\n",
       "      <th>max</th>\n",
       "      <td>1.551500e+06</td>\n",
       "      <td>86224.000000</td>\n",
       "      <td>2016.000000</td>\n",
       "    </tr>\n",
       "  </tbody>\n",
       "</table>\n",
       "</div>"
      ],
      "text/plain": [
       "         Unnamed: 0  Trip Duration     Birth Year\n",
       "count  3.000000e+05  300000.000000  238981.000000\n",
       "mean   7.763458e+05     936.239290    1980.858223\n",
       "std    4.481464e+05    1548.792767      11.003329\n",
       "min    4.000000e+00      60.000000    1899.000000\n",
       "25%    3.871368e+05     393.000000    1975.000000\n",
       "50%    7.771035e+05     670.000000    1984.000000\n",
       "75%    1.164065e+06    1125.000000    1989.000000\n",
       "max    1.551500e+06   86224.000000    2016.000000"
      ]
     },
     "execution_count": 7,
     "metadata": {},
     "output_type": "execute_result"
    }
   ],
   "source": [
    "df.describe()"
   ]
  },
  {
   "cell_type": "code",
   "execution_count": 8,
   "id": "d573128e",
   "metadata": {},
   "outputs": [
    {
     "name": "stdout",
     "output_type": "stream",
     "text": [
      "<class 'pandas.core.frame.DataFrame'>\n",
      "RangeIndex: 300000 entries, 0 to 299999\n",
      "Data columns (total 9 columns):\n",
      " #   Column         Non-Null Count   Dtype  \n",
      "---  ------         --------------   -----  \n",
      " 0   Unnamed: 0     300000 non-null  int64  \n",
      " 1   Start Time     300000 non-null  object \n",
      " 2   End Time       300000 non-null  object \n",
      " 3   Trip Duration  300000 non-null  int64  \n",
      " 4   Start Station  300000 non-null  object \n",
      " 5   End Station    300000 non-null  object \n",
      " 6   User Type      300000 non-null  object \n",
      " 7   Gender         238948 non-null  object \n",
      " 8   Birth Year     238981 non-null  float64\n",
      "dtypes: float64(1), int64(2), object(6)\n",
      "memory usage: 20.6+ MB\n"
     ]
    }
   ],
   "source": [
    "df.info()"
   ]
  },
  {
   "cell_type": "code",
   "execution_count": 10,
   "id": "5ea41fd7",
   "metadata": {},
   "outputs": [
    {
     "data": {
      "text/plain": [
       "Male      181190\n",
       "Female     57758\n",
       "Name: Gender, dtype: int64"
      ]
     },
     "execution_count": 10,
     "metadata": {},
     "output_type": "execute_result"
    }
   ],
   "source": [
    "df['Gender'].value_counts()"
   ]
  },
  {
   "cell_type": "code",
   "execution_count": 14,
   "id": "beed54ea",
   "metadata": {},
   "outputs": [
    {
     "name": "stdout",
     "output_type": "stream",
     "text": [
      "Number of start stations: 568\n",
      "Number of end stations: 572\n"
     ]
    }
   ],
   "source": [
    "print(\"Number of start stations:\", df['Start Station'].unique().size)\n",
    "print(\"Number of end stations:\", df['End Station'].unique().size)"
   ]
  },
  {
   "cell_type": "code",
   "execution_count": 28,
   "id": "7f1ab09a",
   "metadata": {},
   "outputs": [
    {
     "name": "stdout",
     "output_type": "stream",
     "text": [
      "17\n"
     ]
    }
   ],
   "source": [
    "df['Start Time'] = pd.to_datetime(df[\"Start Time\"])\n",
    "\n",
    "# extract hour from the Start Time column to create an hour column\n",
    "df['hour'] = df[\"Start Time\"].dt.hour\n",
    "\n",
    "# find the most common hour (from 0 to 23)\n",
    "print(df['hour'].value_counts().index[0])"
   ]
  },
  {
   "cell_type": "code",
   "execution_count": 41,
   "id": "f232ba4e",
   "metadata": {},
   "outputs": [
    {
     "name": "stdout",
     "output_type": "stream",
     "text": [
      "Most Frequent Start Hour: 17\n"
     ]
    }
   ],
   "source": [
    "#########################################################\n",
    "# Practice Problem 1: Compute the Most Popular Start Hour\n",
    "#########################################################\n",
    "# convert the Start Time column to datetime\n",
    "df['Start Time'] = pd.to_datetime(df[\"Start Time\"])\n",
    "\n",
    "# extract hour from the Start Time column to create an hour column\n",
    "df['hour'] = df[\"Start Time\"].dt.hour\n",
    "\n",
    "# find the most common hour (from 0 to 23)\n",
    "popular_hour = df['hour'].mode()[0]\n",
    "# popular_hour = df['hour'].value_counts().index[0]\n",
    "    \n",
    "print('Most Frequent Start Hour:', popular_hour)"
   ]
  },
  {
   "cell_type": "code",
   "execution_count": 39,
   "id": "79a27bbd",
   "metadata": {},
   "outputs": [
    {
     "name": "stdout",
     "output_type": "stream",
     "text": [
      "Subscriber    238889\n",
      "Customer       61110\n",
      "Dependent          1\n",
      "Name: User Type, dtype: int64\n"
     ]
    }
   ],
   "source": [
    "#########################################################\n",
    "# Practice Problem 2: Display a Breakdown of User Types\n",
    "#########################################################\n",
    "# print value counts for each user type\n",
    "user_types = df['User Type'].value_counts()\n",
    "\n",
    "print(user_types)"
   ]
  },
  {
   "cell_type": "code",
   "execution_count": 40,
   "id": "e920e402",
   "metadata": {},
   "outputs": [
    {
     "data": {
      "text/plain": [
       "'\\nThis is a bit of a bigger task, which involves choosing a dataset to load and filtering it based on a specified month and day. In the quiz below, you\\'ll implement the load_data() function, which you can use directly in your project. There are four steps:\\n\\n1. Load the dataset for the specified city. Index the global CITY_DATA dictionary object to get the corresponding filename for the given city name.\\n2. Create month and day_of_week columns. Convert the \"Start Time\" column to datetime and extract the month number and weekday name into separate columns using the datetime module.\\n3. Filter by month. Since the month parameter is given as the name of the month, you\\'ll need to first convert this to the corresponding month number. Then, select rows of the dataframe that have the specified month and reassign this as the new dataframe.\\n4. Filter by day of week. Select rows of the dataframe that have the specified day of week and reassign this as the new dataframe. (Note: Capitalize the day parameter with the title() method to match the title case used in the day_of_week column!)\\n'"
      ]
     },
     "execution_count": 40,
     "metadata": {},
     "output_type": "execute_result"
    }
   ],
   "source": [
    "#########################################################\n",
    "# Practice Problem 3: Load and Filter the Dataset\n",
    "#########################################################\n",
    "\"\"\"\n",
    "This is a bit of a bigger task, which involves choosing a dataset to load and filtering it based on a specified month and day. In the quiz below, you'll implement the load_data() function, which you can use directly in your project. There are four steps:\n",
    "\n",
    "1. Load the dataset for the specified city. Index the global CITY_DATA dictionary object to get the corresponding filename for the given city name.\n",
    "2. Create month and day_of_week columns. Convert the \"Start Time\" column to datetime and extract the month number and weekday name into separate columns using the datetime module.\n",
    "3. Filter by month. Since the month parameter is given as the name of the month, you'll need to first convert this to the corresponding month number. Then, select rows of the dataframe that have the specified month and reassign this as the new dataframe.\n",
    "4. Filter by day of week. Select rows of the dataframe that have the specified day of week and reassign this as the new dataframe. (Note: Capitalize the day parameter with the title() method to match the title case used in the day_of_week column!)\n",
    "\"\"\""
   ]
  },
  {
   "cell_type": "code",
   "execution_count": 121,
   "id": "4323fe45",
   "metadata": {},
   "outputs": [
    {
     "data": {
      "text/plain": [
       "'Streeter Dr & Grand Ave, Streeter Dr & Grand Ave'"
      ]
     },
     "execution_count": 121,
     "metadata": {},
     "output_type": "execute_result"
    }
   ],
   "source": [
    "', '.join(x for x in df.value_counts(subset=['Start Station', 'End Station']).index[0])"
   ]
  },
  {
   "cell_type": "code",
   "execution_count": 124,
   "id": "f94149a8",
   "metadata": {},
   "outputs": [
    {
     "data": {
      "text/plain": [
       "'Streeter Dr & Grand Ave'"
      ]
     },
     "execution_count": 124,
     "metadata": {},
     "output_type": "execute_result"
    }
   ],
   "source": [
    "combo = df.value_counts(subset=['Start Station', 'End Station']).index[0]\n",
    "combo[1]"
   ]
  },
  {
   "cell_type": "code",
   "execution_count": 94,
   "id": "1299fd3d",
   "metadata": {},
   "outputs": [
    {
     "data": {
      "text/html": [
       "<div>\n",
       "<style scoped>\n",
       "    .dataframe tbody tr th:only-of-type {\n",
       "        vertical-align: middle;\n",
       "    }\n",
       "\n",
       "    .dataframe tbody tr th {\n",
       "        vertical-align: top;\n",
       "    }\n",
       "\n",
       "    .dataframe thead th {\n",
       "        text-align: right;\n",
       "    }\n",
       "</style>\n",
       "<table border=\"1\" class=\"dataframe\">\n",
       "  <thead>\n",
       "    <tr style=\"text-align: right;\">\n",
       "      <th></th>\n",
       "      <th>Unnamed: 0</th>\n",
       "      <th>Start Time</th>\n",
       "      <th>End Time</th>\n",
       "      <th>Trip Duration</th>\n",
       "      <th>Start Station</th>\n",
       "      <th>End Station</th>\n",
       "      <th>User Type</th>\n",
       "      <th>Gender</th>\n",
       "      <th>Birth Year</th>\n",
       "      <th>month</th>\n",
       "      <th>day_of_week</th>\n",
       "    </tr>\n",
       "  </thead>\n",
       "  <tbody>\n",
       "    <tr>\n",
       "      <th>37</th>\n",
       "      <td>395803</td>\n",
       "      <td>2017-03-24 15:35:55</td>\n",
       "      <td>2017-03-24 15:46:10</td>\n",
       "      <td>615</td>\n",
       "      <td>Dearborn St &amp; Erie St</td>\n",
       "      <td>State St &amp; Van Buren St</td>\n",
       "      <td>Subscriber</td>\n",
       "      <td>Male</td>\n",
       "      <td>1989.0</td>\n",
       "      <td>3</td>\n",
       "      <td>Friday</td>\n",
       "    </tr>\n",
       "    <tr>\n",
       "      <th>93</th>\n",
       "      <td>395735</td>\n",
       "      <td>2017-03-24 15:32:04</td>\n",
       "      <td>2017-03-24 15:52:53</td>\n",
       "      <td>1249</td>\n",
       "      <td>Sedgwick St &amp; Webster Ave</td>\n",
       "      <td>Western Ave &amp; Winnebago Ave</td>\n",
       "      <td>Subscriber</td>\n",
       "      <td>Female</td>\n",
       "      <td>1964.0</td>\n",
       "      <td>3</td>\n",
       "      <td>Friday</td>\n",
       "    </tr>\n",
       "    <tr>\n",
       "      <th>175</th>\n",
       "      <td>395402</td>\n",
       "      <td>2017-03-24 15:10:29</td>\n",
       "      <td>2017-03-24 15:19:44</td>\n",
       "      <td>555</td>\n",
       "      <td>Franklin St &amp; Monroe St</td>\n",
       "      <td>Aberdeen St &amp; Monroe St</td>\n",
       "      <td>Subscriber</td>\n",
       "      <td>Male</td>\n",
       "      <td>1987.0</td>\n",
       "      <td>3</td>\n",
       "      <td>Friday</td>\n",
       "    </tr>\n",
       "    <tr>\n",
       "      <th>190</th>\n",
       "      <td>393400</td>\n",
       "      <td>2017-03-24 12:29:30</td>\n",
       "      <td>2017-03-24 12:48:56</td>\n",
       "      <td>1166</td>\n",
       "      <td>Southport Ave &amp; Wellington Ave</td>\n",
       "      <td>Lake Shore Dr &amp; North Blvd</td>\n",
       "      <td>Subscriber</td>\n",
       "      <td>Female</td>\n",
       "      <td>1984.0</td>\n",
       "      <td>3</td>\n",
       "      <td>Friday</td>\n",
       "    </tr>\n",
       "    <tr>\n",
       "      <th>198</th>\n",
       "      <td>427496</td>\n",
       "      <td>2017-03-31 08:25:53</td>\n",
       "      <td>2017-03-31 08:39:09</td>\n",
       "      <td>796</td>\n",
       "      <td>Clinton St &amp; Jackson Blvd</td>\n",
       "      <td>Racine Ave (May St) &amp; Fulton St</td>\n",
       "      <td>Subscriber</td>\n",
       "      <td>Male</td>\n",
       "      <td>1983.0</td>\n",
       "      <td>3</td>\n",
       "      <td>Friday</td>\n",
       "    </tr>\n",
       "  </tbody>\n",
       "</table>\n",
       "</div>"
      ],
      "text/plain": [
       "     Unnamed: 0          Start Time             End Time  Trip Duration  \\\n",
       "37       395803 2017-03-24 15:35:55  2017-03-24 15:46:10            615   \n",
       "93       395735 2017-03-24 15:32:04  2017-03-24 15:52:53           1249   \n",
       "175      395402 2017-03-24 15:10:29  2017-03-24 15:19:44            555   \n",
       "190      393400 2017-03-24 12:29:30  2017-03-24 12:48:56           1166   \n",
       "198      427496 2017-03-31 08:25:53  2017-03-31 08:39:09            796   \n",
       "\n",
       "                      Start Station                      End Station  \\\n",
       "37            Dearborn St & Erie St          State St & Van Buren St   \n",
       "93        Sedgwick St & Webster Ave      Western Ave & Winnebago Ave   \n",
       "175         Franklin St & Monroe St          Aberdeen St & Monroe St   \n",
       "190  Southport Ave & Wellington Ave       Lake Shore Dr & North Blvd   \n",
       "198       Clinton St & Jackson Blvd  Racine Ave (May St) & Fulton St   \n",
       "\n",
       "      User Type  Gender  Birth Year  month day_of_week  \n",
       "37   Subscriber    Male      1989.0      3      Friday  \n",
       "93   Subscriber  Female      1964.0      3      Friday  \n",
       "175  Subscriber    Male      1987.0      3      Friday  \n",
       "190  Subscriber  Female      1984.0      3      Friday  \n",
       "198  Subscriber    Male      1983.0      3      Friday  "
      ]
     },
     "execution_count": 94,
     "metadata": {},
     "output_type": "execute_result"
    }
   ],
   "source": [
    "import pandas as pd\n",
    "\n",
    "CITY_DATA = { 'chicago': 'chicago.csv',\n",
    "              'new york city': 'new_york_city.csv',\n",
    "              'washington': 'washington.csv' }\n",
    "\n",
    "def load_data(city, month, day):\n",
    "    \"\"\"\n",
    "    Loads data for the specified city and filters by month and day if applicable.\n",
    "\n",
    "    Args:\n",
    "        (str) city - name of the city to analyze\n",
    "        (str) month - name of the month to filter by, or \"all\" to apply no month filter\n",
    "        (str) day - name of the day of week to filter by, or \"all\" to apply no day filter\n",
    "    Returns:\n",
    "        df - pandas DataFrame containing city data filtered by month and day\n",
    "    \"\"\"\n",
    "    \n",
    "    # load data file into a dataframe\n",
    "    df = pd.read_csv(CITY_DATA[city.lower()])\n",
    "\n",
    "    # convert the Start Time column to datetime\n",
    "    df['Start Time'] = pd.to_datetime(df['Start Time'])\n",
    "\n",
    "    # extract month and day of week from Start Time to create new columns\n",
    "    df['month'] = df['Start Time'].dt.month\n",
    "    df['day_of_week'] = df['Start Time'].dt.day_name() # OR dayofweek for number\n",
    "    # df['day_of_week'] = df['Start Time'].dt.day_of_week\n",
    "\n",
    "\n",
    "    # filter by month if applicable\n",
    "    if month != 'all':\n",
    "        # use the index of the months list to get the corresponding int\n",
    "        months = ['january', 'february', 'march', 'april', 'may', 'june']\n",
    "        month = months.index(month.lower()) + 1\n",
    "    \n",
    "        # filter by month to create the new dataframe\n",
    "        df = df[df['month'] == month]\n",
    "\n",
    "    # filter by day of week if applicable\n",
    "    if day != 'all':\n",
    "        # filter by day of week to create the new dataframe\n",
    "        df = df[df['day_of_week'] == day.title()]\n",
    "        # days_of_week = ['Monday', 'Tuesday', 'Wednesday', 'Thursday', 'Friday', 'Saturday', 'Sunday']\n",
    "        # df = df[df['day_of_week'] == days_of_week.index(day.title())]\n",
    "    \n",
    "    return df\n",
    "    \n",
    "df = load_data('chicago', 'march', 'friday')\n",
    "df.head()"
   ]
  },
  {
   "cell_type": "code",
   "execution_count": 131,
   "id": "0dac6a8a",
   "metadata": {},
   "outputs": [
    {
     "name": "stdout",
     "output_type": "stream",
     "text": [
      "1206 41 39\n"
     ]
    }
   ],
   "source": [
    "total_time = df['Trip Duration'].sum()\n",
    "\n",
    "mm, ss = divmod(total_time, 60)\n",
    "hh, mm = divmod(mm, 60)\n",
    "print(hh, mm, ss)"
   ]
  },
  {
   "cell_type": "code",
   "execution_count": 127,
   "id": "3c853305",
   "metadata": {},
   "outputs": [
    {
     "data": {
      "text/plain": [
       "747.3075864441769"
      ]
     },
     "execution_count": 127,
     "metadata": {},
     "output_type": "execute_result"
    }
   ],
   "source": [
    "df['Trip Duration'].mean()"
   ]
  },
  {
   "cell_type": "code",
   "execution_count": 135,
   "id": "0d74705e",
   "metadata": {},
   "outputs": [
    {
     "name": "stdout",
     "output_type": "stream",
     "text": [
      "Index(['Subscriber', 'Customer'], dtype='object') [5243  570]\n"
     ]
    }
   ],
   "source": [
    "counts = df['User Type'].value_counts()\n",
    "\n",
    "print(counts.index, counts.values)"
   ]
  },
  {
   "cell_type": "code",
   "execution_count": 139,
   "id": "47f04faf",
   "metadata": {},
   "outputs": [
    {
     "name": "stdout",
     "output_type": "stream",
     "text": [
      "Counts by User Gender:\n",
      "     Male: 4145\n",
      "     Female: 1098\n",
      "     Unspecified: 570\n",
      "\n"
     ]
    }
   ],
   "source": [
    "user_gender_counts = df['Gender'].value_counts()\n",
    "user_genders = user_gender_counts.index\n",
    "print(\"Counts by User Gender:\\n\"\n",
    "      + \"     {}: {}\\n     {}: {}\\n\".format(user_genders[0],\n",
    "                                            user_gender_counts[0],\n",
    "                                            user_genders[1],\n",
    "                                            user_gender_counts[1])\n",
    "      + \"     Unspecified: {}\\n\".format(df['Gender'].isna().sum()))"
   ]
  },
  {
   "cell_type": "code",
   "execution_count": 141,
   "id": "70aafb05",
   "metadata": {},
   "outputs": [
    {
     "data": {
      "text/plain": [
       "1918"
      ]
     },
     "execution_count": 141,
     "metadata": {},
     "output_type": "execute_result"
    }
   ],
   "source": [
    "int(df['Birth Year'].min())"
   ]
  },
  {
   "cell_type": "code",
   "execution_count": 142,
   "id": "0379cf06",
   "metadata": {},
   "outputs": [
    {
     "data": {
      "text/plain": [
       "2016"
      ]
     },
     "execution_count": 142,
     "metadata": {},
     "output_type": "execute_result"
    }
   ],
   "source": [
    "int(df['Birth Year'].max())"
   ]
  },
  {
   "cell_type": "code",
   "execution_count": 145,
   "id": "be60dd82",
   "metadata": {},
   "outputs": [
    {
     "data": {
      "text/plain": [
       "1989"
      ]
     },
     "execution_count": 145,
     "metadata": {},
     "output_type": "execute_result"
    }
   ],
   "source": [
    "int(df['Birth Year'].mode()[0])"
   ]
  },
  {
   "cell_type": "code",
   "execution_count": 146,
   "id": "479787e2",
   "metadata": {},
   "outputs": [
    {
     "data": {
      "text/plain": [
       "(5813, 11)"
      ]
     },
     "execution_count": 146,
     "metadata": {},
     "output_type": "execute_result"
    }
   ],
   "source": [
    "df.shape"
   ]
  },
  {
   "cell_type": "code",
   "execution_count": 147,
   "id": "fedaaacf",
   "metadata": {},
   "outputs": [
    {
     "data": {
      "text/plain": [
       "63943"
      ]
     },
     "execution_count": 147,
     "metadata": {},
     "output_type": "execute_result"
    }
   ],
   "source": [
    "df.size"
   ]
  },
  {
   "cell_type": "code",
   "execution_count": 148,
   "id": "81c22819",
   "metadata": {},
   "outputs": [
    {
     "data": {
      "text/plain": [
       "5813"
      ]
     },
     "execution_count": 148,
     "metadata": {},
     "output_type": "execute_result"
    }
   ],
   "source": [
    "df.shape[0]"
   ]
  },
  {
   "cell_type": "code",
   "execution_count": 149,
   "id": "471ee993",
   "metadata": {},
   "outputs": [
    {
     "data": {
      "text/plain": [
       "11"
      ]
     },
     "execution_count": 149,
     "metadata": {},
     "output_type": "execute_result"
    }
   ],
   "source": [
    "df.columns.size"
   ]
  },
  {
   "cell_type": "code",
   "execution_count": null,
   "id": "c623b93b",
   "metadata": {},
   "outputs": [],
   "source": []
  }
 ],
 "metadata": {
  "kernelspec": {
   "display_name": "Python 3 (ipykernel)",
   "language": "python",
   "name": "python3"
  },
  "language_info": {
   "codemirror_mode": {
    "name": "ipython",
    "version": 3
   },
   "file_extension": ".py",
   "mimetype": "text/x-python",
   "name": "python",
   "nbconvert_exporter": "python",
   "pygments_lexer": "ipython3",
   "version": "3.9.15"
  }
 },
 "nbformat": 4,
 "nbformat_minor": 5
}
