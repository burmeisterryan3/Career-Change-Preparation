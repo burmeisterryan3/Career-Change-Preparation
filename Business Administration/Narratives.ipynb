{
 "cells": [
  {
   "cell_type": "markdown",
   "metadata": {},
   "source": [
    "## Narratives\n",
    "\n",
    "These are useful stories to consider regarding my resume to use as anecdotal evidence for questions asked during interviews.\n",
    "\n",
    "* Regional Operations Manager\n",
    "    * Morale Improvement\n",
    "    * IT Network Transition\n",
    "    * Budget Analysis\n",
    "    * JECC Move\n",
    "* CPR-6\n",
    "    * LNO to Finland\n",
    "    * Deployment Work-ups and Certifications - USMC vs Navy emissions differences\n",
    "    * Investigating Officer\n",
    "* NIOC GA\n",
    "    * DSO briefings and awareness\n",
    "    * COVID - Cybersecurity Requirements\n",
    "* IHS Software Developer\n",
    "    * Azure & DICOM analysis"
   ]
  }
 ],
 "metadata": {
  "kernelspec": {
   "display_name": "ds-learning",
   "language": "python",
   "name": "python3"
  },
  "language_info": {
   "name": "python",
   "version": "3.11.7"
  }
 },
 "nbformat": 4,
 "nbformat_minor": 2
}
