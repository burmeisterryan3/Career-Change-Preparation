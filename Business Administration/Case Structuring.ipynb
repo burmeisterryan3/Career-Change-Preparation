{
 "cells": [
  {
   "cell_type": "markdown",
   "metadata": {},
   "source": [
    "## Structuring\n",
    "\n",
    "Structuring concerns how one breaks a complex problem into smaller, more manageable components."
   ]
  },
  {
   "cell_type": "markdown",
   "metadata": {},
   "source": [
    "### AIM Test\n",
    "\n",
    "* **A**nswer-Focused\n",
    "    * Answers the right question\n",
    "        * Requires you to define the problem\n",
    "        * You must clarify three things\n",
    "            * What is the goal of the client? Not just what the client wants to do but why they want to do it\n",
    "                * For M&A, do they want to diversify their product? Enter a new market? Accelerate their growth?\n",
    "            * What is the scope of the question?\n",
    "                * For M&A, are we targeting a single company or a broad scope of options?\n",
    "            * Anything that seemed important but was not clear or could have been misunderstood and anything that needs additional details\n",
    "                * For example, you may want to confirm the primary client segments for each of the companies\n",
    "    * Uses the right approach to the question\n",
    "* **I**nsightful\n",
    "    * If my approach could be applied to similar types of problems, e.g., M&A, then it means I'm on the right track.\n",
    "    * However, if it is interchangeable with any of those problems it is *not* insightful as it doesn't address the *particular* problem at hand.\n",
    "* **M**ECE\n",
    "    * MECE = Mutually Exclusive and Collectively Exhaustive\n",
    "    * Mutually Exclusive\n",
    "        * Sub-components to your solution are independent, i.e, non-overlapping\n",
    "    * Collectively Exhaustive\n",
    "        * Do my sub-components provide a complete solution? Does it consider all aspects of the problem?"
   ]
  },
  {
   "cell_type": "markdown",
   "metadata": {},
   "source": [
    "### How to Build your Structure\n",
    "\n",
    "Note that in most interviews you will have 60-90 seconds to think through your structure. This typically provides time to get through the first level of the structure while possibly starting on the second level.\n",
    "\n",
    "M&A First-Level Example:\n",
    "* Stand-alone value of the company\n",
    "* Synergies between the companies\n",
    "* Capabilities/skillsets within each company to execute\n",
    "\n",
    "##### Steps\n",
    "\n",
    "1. Break down the problem into 1st level drivers\n",
    "2. Prioritize the drivers\n",
    "3. Add depth and insights"
   ]
  }
 ],
 "metadata": {
  "language_info": {
   "name": "python"
  }
 },
 "nbformat": 4,
 "nbformat_minor": 2
}
